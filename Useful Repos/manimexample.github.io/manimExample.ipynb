{
 "cells": [
  {
   "cell_type": "code",
   "execution_count": 8,
   "metadata": {},
   "outputs": [
    {
     "data": {
      "text/html": [
       "<pre style=\"white-space:pre;overflow-x:auto;line-height:normal;font-family:Menlo,'DejaVu Sans Mono',consolas,'Courier New',monospace\">Manim Community <span style=\"color: #008000; text-decoration-color: #008000\">v0.18.1</span>\n",
       "\n",
       "</pre>\n"
      ],
      "text/plain": [
       "Manim Community \u001b[32mv0.\u001b[0m\u001b[32m18.1\u001b[0m\n",
       "\n"
      ]
     },
     "metadata": {},
     "output_type": "display_data"
    },
    {
     "name": "stderr",
     "output_type": "stream",
     "text": [
      "                                                                                                 \r"
     ]
    },
    {
     "data": {
      "text/html": [
       "<video src=\"media/jupyter/BarCharExam@2024-09-13@20-46-05.mp4\" controls autoplay loop style=\"max-width: 60%;\"  >\n",
       "      Your browser does not support the <code>video</code> element.\n",
       "    </video>"
      ],
      "text/plain": [
       "<IPython.core.display.Video object>"
      ]
     },
     "metadata": {},
     "output_type": "display_data"
    }
   ],
   "source": [
    "from manim import *\n",
    "class BarCharExam(Scene):\n",
    "    def construct(self):\n",
    "        colors = [RED, GREEN, BLUE, YELLOW, ORANGE]\n",
    "        values = [0.5, 0.6, 0.9, 0.45, 0.96, 0.73, 0.2, 0.4, 0.49, 0.75, 0.9]\n",
    "        bar_chart = BarChart(values, bar_colors = colors)\n",
    "        self.play(DrawBorderThenFill(bar_chart, run_time = 1))\n",
    "        self.wait(3)\n",
    "%manim -ql -v CRITICAL BarCharExam"
   ]
  },
  {
   "cell_type": "code",
   "execution_count": 12,
   "metadata": {},
   "outputs": [
    {
     "data": {
      "text/html": [
       "<pre style=\"white-space:pre;overflow-x:auto;line-height:normal;font-family:Menlo,'DejaVu Sans Mono',consolas,'Courier New',monospace\">Manim Community <span style=\"color: #008000; text-decoration-color: #008000\">v0.18.1</span>\n",
       "\n",
       "</pre>\n"
      ],
      "text/plain": [
       "Manim Community \u001b[32mv0.\u001b[0m\u001b[32m18.1\u001b[0m\n",
       "\n"
      ]
     },
     "metadata": {},
     "output_type": "display_data"
    },
    {
     "ename": "TypeError",
     "evalue": "Mobject.__init__() got an unexpected keyword argument 'v_min'",
     "output_type": "error",
     "traceback": [
      "\u001b[0;31m---------------------------------------------------------------------------\u001b[0m",
      "\u001b[0;31mTypeError\u001b[0m                                 Traceback (most recent call last)",
      "Cell \u001b[0;32mIn[12], line 60\u001b[0m\n\u001b[1;32m     57\u001b[0m         \u001b[38;5;28mself\u001b[39m\u001b[38;5;241m.\u001b[39mwait(\u001b[38;5;241m10\u001b[39m)\n\u001b[1;32m     58\u001b[0m         \u001b[38;5;28mself\u001b[39m\u001b[38;5;241m.\u001b[39mstop_ambient_camera_rotation()\n\u001b[0;32m---> 60\u001b[0m \u001b[43mget_ipython\u001b[49m\u001b[43m(\u001b[49m\u001b[43m)\u001b[49m\u001b[38;5;241;43m.\u001b[39;49m\u001b[43mrun_line_magic\u001b[49m\u001b[43m(\u001b[49m\u001b[38;5;124;43m'\u001b[39;49m\u001b[38;5;124;43mmanim\u001b[39;49m\u001b[38;5;124;43m'\u001b[39;49m\u001b[43m,\u001b[49m\u001b[43m \u001b[49m\u001b[38;5;124;43m'\u001b[39;49m\u001b[38;5;124;43m-ql -v CRITICAL TwistedCurve\u001b[39;49m\u001b[38;5;124;43m'\u001b[39;49m\u001b[43m)\u001b[49m\n",
      "File \u001b[0;32m~/DevTools/Manim/manDE/lib/python3.12/site-packages/IPython/core/interactiveshell.py:2480\u001b[0m, in \u001b[0;36mInteractiveShell.run_line_magic\u001b[0;34m(self, magic_name, line, _stack_depth)\u001b[0m\n\u001b[1;32m   2478\u001b[0m     kwargs[\u001b[38;5;124m'\u001b[39m\u001b[38;5;124mlocal_ns\u001b[39m\u001b[38;5;124m'\u001b[39m] \u001b[38;5;241m=\u001b[39m \u001b[38;5;28mself\u001b[39m\u001b[38;5;241m.\u001b[39mget_local_scope(stack_depth)\n\u001b[1;32m   2479\u001b[0m \u001b[38;5;28;01mwith\u001b[39;00m \u001b[38;5;28mself\u001b[39m\u001b[38;5;241m.\u001b[39mbuiltin_trap:\n\u001b[0;32m-> 2480\u001b[0m     result \u001b[38;5;241m=\u001b[39m \u001b[43mfn\u001b[49m\u001b[43m(\u001b[49m\u001b[38;5;241;43m*\u001b[39;49m\u001b[43margs\u001b[49m\u001b[43m,\u001b[49m\u001b[43m \u001b[49m\u001b[38;5;241;43m*\u001b[39;49m\u001b[38;5;241;43m*\u001b[39;49m\u001b[43mkwargs\u001b[49m\u001b[43m)\u001b[49m\n\u001b[1;32m   2482\u001b[0m \u001b[38;5;66;03m# The code below prevents the output from being displayed\u001b[39;00m\n\u001b[1;32m   2483\u001b[0m \u001b[38;5;66;03m# when using magics with decorator @output_can_be_silenced\u001b[39;00m\n\u001b[1;32m   2484\u001b[0m \u001b[38;5;66;03m# when the last Python token in the expression is a ';'.\u001b[39;00m\n\u001b[1;32m   2485\u001b[0m \u001b[38;5;28;01mif\u001b[39;00m \u001b[38;5;28mgetattr\u001b[39m(fn, magic\u001b[38;5;241m.\u001b[39mMAGIC_OUTPUT_CAN_BE_SILENCED, \u001b[38;5;28;01mFalse\u001b[39;00m):\n",
      "File \u001b[0;32m~/DevTools/Manim/manDE/lib/python3.12/site-packages/manim/utils/ipython_magic.py:143\u001b[0m, in \u001b[0;36mManimMagic.manim\u001b[0;34m(self, line, cell, local_ns)\u001b[0m\n\u001b[1;32m    141\u001b[0m     SceneClass \u001b[38;5;241m=\u001b[39m local_ns[config[\u001b[38;5;124m\"\u001b[39m\u001b[38;5;124mscene_names\u001b[39m\u001b[38;5;124m\"\u001b[39m][\u001b[38;5;241m0\u001b[39m]]\n\u001b[1;32m    142\u001b[0m     scene \u001b[38;5;241m=\u001b[39m SceneClass(renderer\u001b[38;5;241m=\u001b[39mrenderer)\n\u001b[0;32m--> 143\u001b[0m     \u001b[43mscene\u001b[49m\u001b[38;5;241;43m.\u001b[39;49m\u001b[43mrender\u001b[49m\u001b[43m(\u001b[49m\u001b[43m)\u001b[49m\n\u001b[1;32m    144\u001b[0m \u001b[38;5;28;01mfinally\u001b[39;00m:\n\u001b[1;32m    145\u001b[0m     \u001b[38;5;66;03m# Shader cache becomes invalid as the context is destroyed\u001b[39;00m\n\u001b[1;32m    146\u001b[0m     shader_program_cache\u001b[38;5;241m.\u001b[39mclear()\n",
      "File \u001b[0;32m~/DevTools/Manim/manDE/lib/python3.12/site-packages/manim/scene/scene.py:229\u001b[0m, in \u001b[0;36mScene.render\u001b[0;34m(self, preview)\u001b[0m\n\u001b[1;32m    227\u001b[0m \u001b[38;5;28mself\u001b[39m\u001b[38;5;241m.\u001b[39msetup()\n\u001b[1;32m    228\u001b[0m \u001b[38;5;28;01mtry\u001b[39;00m:\n\u001b[0;32m--> 229\u001b[0m     \u001b[38;5;28;43mself\u001b[39;49m\u001b[38;5;241;43m.\u001b[39;49m\u001b[43mconstruct\u001b[49m\u001b[43m(\u001b[49m\u001b[43m)\u001b[49m\n\u001b[1;32m    230\u001b[0m \u001b[38;5;28;01mexcept\u001b[39;00m EndSceneEarlyException:\n\u001b[1;32m    231\u001b[0m     \u001b[38;5;28;01mpass\u001b[39;00m\n",
      "Cell \u001b[0;32mIn[12], line 21\u001b[0m, in \u001b[0;36mTwistedCurve.construct\u001b[0;34m(self)\u001b[0m\n\u001b[1;32m     18\u001b[0m resolution_curve \u001b[38;5;241m=\u001b[39m \u001b[38;5;241m150\u001b[39m      \u001b[38;5;66;03m# Resolution of curve\u001b[39;00m\n\u001b[1;32m     19\u001b[0m resolution_sphere \u001b[38;5;241m=\u001b[39m \u001b[38;5;241m80\u001b[39m    \u001b[38;5;66;03m#Resolution of Sphere\u001b[39;00m\n\u001b[0;32m---> 21\u001b[0m sphere \u001b[38;5;241m=\u001b[39m \u001b[43mSurface\u001b[49m\u001b[43m(\u001b[49m\n\u001b[1;32m     22\u001b[0m \u001b[43m    \u001b[49m\u001b[38;5;28;43;01mlambda\u001b[39;49;00m\u001b[43m \u001b[49m\u001b[43mu\u001b[49m\u001b[43m,\u001b[49m\u001b[43m \u001b[49m\u001b[43mv\u001b[49m\u001b[43m:\u001b[49m\u001b[43m \u001b[49m\u001b[43mnp\u001b[49m\u001b[38;5;241;43m.\u001b[39;49m\u001b[43marray\u001b[49m\u001b[43m(\u001b[49m\u001b[43m[\u001b[49m\n\u001b[1;32m     23\u001b[0m \u001b[43m        \u001b[49m\u001b[38;5;241;43m1.5\u001b[39;49m\u001b[43m \u001b[49m\u001b[38;5;241;43m*\u001b[39;49m\u001b[43m \u001b[49m\u001b[43mnp\u001b[49m\u001b[38;5;241;43m.\u001b[39;49m\u001b[43mcos\u001b[49m\u001b[43m(\u001b[49m\u001b[43mu\u001b[49m\u001b[43m)\u001b[49m\u001b[43m \u001b[49m\u001b[38;5;241;43m*\u001b[39;49m\u001b[43m \u001b[49m\u001b[43mnp\u001b[49m\u001b[38;5;241;43m.\u001b[39;49m\u001b[43mcos\u001b[49m\u001b[43m(\u001b[49m\u001b[43mv\u001b[49m\u001b[43m)\u001b[49m\u001b[43m,\u001b[49m\n\u001b[1;32m     24\u001b[0m \u001b[43m        \u001b[49m\u001b[38;5;241;43m1.5\u001b[39;49m\u001b[43m \u001b[49m\u001b[38;5;241;43m*\u001b[39;49m\u001b[43m \u001b[49m\u001b[43mnp\u001b[49m\u001b[38;5;241;43m.\u001b[39;49m\u001b[43mcos\u001b[49m\u001b[43m(\u001b[49m\u001b[43mu\u001b[49m\u001b[43m)\u001b[49m\u001b[43m \u001b[49m\u001b[38;5;241;43m*\u001b[39;49m\u001b[43m \u001b[49m\u001b[43mnp\u001b[49m\u001b[38;5;241;43m.\u001b[39;49m\u001b[43msin\u001b[49m\u001b[43m(\u001b[49m\u001b[43mv\u001b[49m\u001b[43m)\u001b[49m\u001b[43m,\u001b[49m\n\u001b[1;32m     25\u001b[0m \u001b[43m        \u001b[49m\u001b[38;5;241;43m1.5\u001b[39;49m\u001b[43m \u001b[49m\u001b[38;5;241;43m*\u001b[39;49m\u001b[43m \u001b[49m\u001b[43mnp\u001b[49m\u001b[38;5;241;43m.\u001b[39;49m\u001b[43msin\u001b[49m\u001b[43m(\u001b[49m\u001b[43mu\u001b[49m\u001b[43m)\u001b[49m\n\u001b[1;32m     26\u001b[0m \u001b[43m    \u001b[49m\u001b[43m]\u001b[49m\u001b[43m)\u001b[49m\u001b[43m,\u001b[49m\u001b[43m \u001b[49m\u001b[43mv_min\u001b[49m\u001b[38;5;241;43m=\u001b[39;49m\u001b[38;5;241;43m0\u001b[39;49m\u001b[43m,\u001b[49m\u001b[43m \u001b[49m\u001b[43mv_max\u001b[49m\u001b[38;5;241;43m=\u001b[39;49m\u001b[43mTAU\u001b[49m\u001b[43m,\u001b[49m\u001b[43m \u001b[49m\u001b[43mu_min\u001b[49m\u001b[38;5;241;43m=\u001b[39;49m\u001b[38;5;241;43m-\u001b[39;49m\u001b[43mPI\u001b[49m\u001b[43m \u001b[49m\u001b[38;5;241;43m/\u001b[39;49m\u001b[43m \u001b[49m\u001b[38;5;241;43m2\u001b[39;49m\u001b[43m,\u001b[49m\u001b[43m \u001b[49m\u001b[43mu_max\u001b[49m\u001b[38;5;241;43m=\u001b[39;49m\u001b[43mPI\u001b[49m\u001b[43m \u001b[49m\u001b[38;5;241;43m/\u001b[39;49m\u001b[43m \u001b[49m\u001b[38;5;241;43m2\u001b[39;49m\u001b[43m,\u001b[49m\n\u001b[1;32m     27\u001b[0m \u001b[43m    \u001b[49m\u001b[43mcheckerboard_colors\u001b[49m\u001b[38;5;241;43m=\u001b[39;49m\u001b[43m[\u001b[49m\u001b[43mRED_D\u001b[49m\u001b[43m,\u001b[49m\u001b[43m \u001b[49m\u001b[43mRED_E\u001b[49m\u001b[43m]\u001b[49m\u001b[43m,\u001b[49m\u001b[43m \u001b[49m\u001b[43mresolution\u001b[49m\u001b[38;5;241;43m=\u001b[39;49m\u001b[43m(\u001b[49m\u001b[43mresolution_sphere\u001b[49m\u001b[43m,\u001b[49m\u001b[43mresolution_sphere\u001b[49m\u001b[43m)\u001b[49m\n\u001b[1;32m     28\u001b[0m \u001b[43m\u001b[49m\u001b[43m)\u001b[49m                                                                                                       \u001b[38;5;66;03m# Sphere Function \u001b[39;00m\n\u001b[1;32m     29\u001b[0m sphere\u001b[38;5;241m.\u001b[39mscale_about_point(\u001b[38;5;241m1.5\u001b[39m, ORIGIN)\n\u001b[1;32m     31\u001b[0m \u001b[38;5;28;01mdef\u001b[39;00m \u001b[38;5;21mparam_gauss\u001b[39m(u, v):                                                                                     \u001b[38;5;66;03m# Curve Function \u001b[39;00m\n",
      "File \u001b[0;32m~/DevTools/Manim/manDE/lib/python3.12/site-packages/manim/mobject/three_d/three_dimensions.py:124\u001b[0m, in \u001b[0;36mSurface.__init__\u001b[0;34m(self, func, u_range, v_range, resolution, surface_piece_config, fill_color, fill_opacity, checkerboard_colors, stroke_color, stroke_width, should_make_jagged, pre_function_handle_to_anchor_scale_factor, **kwargs)\u001b[0m\n\u001b[1;32m    122\u001b[0m \u001b[38;5;28mself\u001b[39m\u001b[38;5;241m.\u001b[39mu_range \u001b[38;5;241m=\u001b[39m u_range\n\u001b[1;32m    123\u001b[0m \u001b[38;5;28mself\u001b[39m\u001b[38;5;241m.\u001b[39mv_range \u001b[38;5;241m=\u001b[39m v_range\n\u001b[0;32m--> 124\u001b[0m \u001b[38;5;28;43msuper\u001b[39;49m\u001b[43m(\u001b[49m\u001b[43m)\u001b[49m\u001b[38;5;241;43m.\u001b[39;49m\u001b[38;5;21;43m__init__\u001b[39;49m\u001b[43m(\u001b[49m\u001b[38;5;241;43m*\u001b[39;49m\u001b[38;5;241;43m*\u001b[39;49m\u001b[43mkwargs\u001b[49m\u001b[43m)\u001b[49m\n\u001b[1;32m    125\u001b[0m \u001b[38;5;28mself\u001b[39m\u001b[38;5;241m.\u001b[39mresolution \u001b[38;5;241m=\u001b[39m resolution\n\u001b[1;32m    126\u001b[0m \u001b[38;5;28mself\u001b[39m\u001b[38;5;241m.\u001b[39msurface_piece_config \u001b[38;5;241m=\u001b[39m surface_piece_config\n",
      "File \u001b[0;32m~/DevTools/Manim/manDE/lib/python3.12/site-packages/manim/mobject/types/vectorized_mobject.py:1995\u001b[0m, in \u001b[0;36mVGroup.__init__\u001b[0;34m(self, *vmobjects, **kwargs)\u001b[0m\n\u001b[1;32m   1994\u001b[0m \u001b[38;5;28;01mdef\u001b[39;00m \u001b[38;5;21m__init__\u001b[39m(\u001b[38;5;28mself\u001b[39m, \u001b[38;5;241m*\u001b[39mvmobjects, \u001b[38;5;241m*\u001b[39m\u001b[38;5;241m*\u001b[39mkwargs):\n\u001b[0;32m-> 1995\u001b[0m     \u001b[38;5;28;43msuper\u001b[39;49m\u001b[43m(\u001b[49m\u001b[43m)\u001b[49m\u001b[38;5;241;43m.\u001b[39;49m\u001b[38;5;21;43m__init__\u001b[39;49m\u001b[43m(\u001b[49m\u001b[38;5;241;43m*\u001b[39;49m\u001b[38;5;241;43m*\u001b[39;49m\u001b[43mkwargs\u001b[49m\u001b[43m)\u001b[49m\n\u001b[1;32m   1996\u001b[0m     \u001b[38;5;28mself\u001b[39m\u001b[38;5;241m.\u001b[39madd(\u001b[38;5;241m*\u001b[39mvmobjects)\n",
      "File \u001b[0;32m~/DevTools/Manim/manDE/lib/python3.12/site-packages/manim/mobject/types/vectorized_mobject.py:170\u001b[0m, in \u001b[0;36mVMobject.__init__\u001b[0;34m(self, fill_color, fill_opacity, stroke_color, stroke_opacity, stroke_width, background_stroke_color, background_stroke_opacity, background_stroke_width, sheen_factor, joint_type, sheen_direction, close_new_points, pre_function_handle_to_anchor_scale_factor, make_smooth_after_applying_functions, background_image, shade_in_3d, tolerance_for_point_equality, n_points_per_cubic_curve, cap_style, **kwargs)\u001b[0m\n\u001b[1;32m    168\u001b[0m \u001b[38;5;28mself\u001b[39m\u001b[38;5;241m.\u001b[39mn_points_per_cubic_curve: \u001b[38;5;28mint\u001b[39m \u001b[38;5;241m=\u001b[39m n_points_per_cubic_curve\n\u001b[1;32m    169\u001b[0m \u001b[38;5;28mself\u001b[39m\u001b[38;5;241m.\u001b[39mcap_style: CapStyleType \u001b[38;5;241m=\u001b[39m cap_style\n\u001b[0;32m--> 170\u001b[0m \u001b[38;5;28;43msuper\u001b[39;49m\u001b[43m(\u001b[49m\u001b[43m)\u001b[49m\u001b[38;5;241;43m.\u001b[39;49m\u001b[38;5;21;43m__init__\u001b[39;49m\u001b[43m(\u001b[49m\u001b[38;5;241;43m*\u001b[39;49m\u001b[38;5;241;43m*\u001b[39;49m\u001b[43mkwargs\u001b[49m\u001b[43m)\u001b[49m\n\u001b[1;32m    171\u001b[0m \u001b[38;5;28mself\u001b[39m\u001b[38;5;241m.\u001b[39msubmobjects: \u001b[38;5;28mlist\u001b[39m[VMobject]\n\u001b[1;32m    173\u001b[0m \u001b[38;5;66;03m# TODO: Find where color overwrites are happening and remove the color doubling\u001b[39;00m\n\u001b[1;32m    174\u001b[0m \u001b[38;5;66;03m# if \"color\" in kwargs:\u001b[39;00m\n\u001b[1;32m    175\u001b[0m \u001b[38;5;66;03m#     fill_color = kwargs[\"color\"]\u001b[39;00m\n\u001b[1;32m    176\u001b[0m \u001b[38;5;66;03m#     stroke_color = kwargs[\"color\"]\u001b[39;00m\n",
      "\u001b[0;31mTypeError\u001b[0m: Mobject.__init__() got an unexpected keyword argument 'v_min'"
     ]
    }
   ],
   "source": [
    "# Written By MD Awlad Hossain\n",
    "# Youtube Cahnnel Funtional Value\n",
    "# Channel Link : http://youtube.com/FunctionalValue\n",
    "# FaceBook Page : http://facebook.com/FunctionalValue\n",
    "# My Profile : http://facebook.com/aawladd\n",
    "# CopyRight @ Functional Value\n",
    "\n",
    "\n",
    "# This Code Will run in Manim CE (Community v0.7.0)\n",
    "\n",
    "from manim import *\n",
    "import numpy as np\n",
    "\n",
    "class TwistedCurve(ThreeDScene):\n",
    "    def construct(self):\n",
    "        self.set_camera_orientation(phi=75 * DEGREES, theta=-30 * DEGREES)  # Set Camera Orientation\n",
    "        axes = ThreeDAxes()   # 3D Axes\n",
    "        resolution_curve = 150      # Resolution of curve\n",
    "        resolution_sphere = 80    #Resolution of Sphere\n",
    "\n",
    "        sphere = Surface(\n",
    "            lambda u, v: np.array([\n",
    "                1.5 * np.cos(u) * np.cos(v),\n",
    "                1.5 * np.cos(u) * np.sin(v),\n",
    "                1.5 * np.sin(u)\n",
    "            ]), v_min=0, v_max=TAU, u_min=-PI / 2, u_max=PI / 2,\n",
    "            checkerboard_colors=[RED_D, RED_E], resolution=(resolution_sphere,resolution_sphere)\n",
    "        )                                                                                                       # Sphere Function \n",
    "        sphere.scale_about_point(1.5, ORIGIN)\n",
    "\n",
    "        def param_gauss(u, v):                                                                                     # Curve Function \n",
    "            x = np.cos(v) * (10 - (5/4 + np.sin(3*u))* np.sin(u-3*v))\n",
    "            y = (10 - (5/4 + np.sin(3*u))* np.sin(u-3*v))*np.sin(v)\n",
    "            z = -np.cos(u - 3*v) * (5/4 + np.sin(3*u))\n",
    "            return np.array([x, y, z])\n",
    "\n",
    "        gauss_plane = Surface(\n",
    "            param_gauss,\n",
    "            u_range=[-6, 6],\n",
    "            v_range=[-6, 6],\n",
    "            resolution=(100, 100),\n",
    "            checkerboard_colors=[RED_D, RED_E],\n",
    "            fill_color=WHITE,\n",
    "            fill_opacity=0.5,\n",
    "            stroke_color=BLACK,\n",
    "            stroke_width=0.5\n",
    "        )\n",
    "        gauss_plane.scale_about_point(0.2, ORIGIN)\n",
    "\n",
    "        self.play(DrawBorderThenFill(axes), run_time = 1.5)\n",
    "        self.play(Write(sphere), run_time = 5)\n",
    "        self.play(ReplacementTransform(sphere, gauss_plane), run_time = 15)\n",
    "        self.play(gauss_plane.animate.set_style(fill_opacity=1),gauss_plane.animate.set_style(stroke_color=GREEN),gauss_plane.animate.set_fill_by_checkerboard(GREEN, BLUE, opacity=0.1), run_time = 5)\n",
    "        self.play(gauss_plane.animate.scale_about_point(1.5, ORIGIN), run_time = 3)\n",
    "        self.begin_ambient_camera_rotation(rate=0.05)\n",
    "        self.play(gauss_plane.animate.set_fill_by_checkerboard(ORANGE, YELLOW, opacity=0.5), run_time = 2)\n",
    "        self.wait(10)\n",
    "        self.stop_ambient_camera_rotation()\n",
    "\n",
    "%manim -ql -v CRITICAL TwistedCurve\n"
   ]
  },
  {
   "cell_type": "code",
   "execution_count": 13,
   "metadata": {},
   "outputs": [
    {
     "data": {
      "text/html": [
       "<pre style=\"white-space:pre;overflow-x:auto;line-height:normal;font-family:Menlo,'DejaVu Sans Mono',consolas,'Courier New',monospace\">Manim Community <span style=\"color: #008000; text-decoration-color: #008000\">v0.18.1</span>\n",
       "\n",
       "</pre>\n"
      ],
      "text/plain": [
       "Manim Community \u001b[32mv0.\u001b[0m\u001b[32m18.1\u001b[0m\n",
       "\n"
      ]
     },
     "metadata": {},
     "output_type": "display_data"
    },
    {
     "ename": "TypeError",
     "evalue": "Mobject.__init__() got an unexpected keyword argument 'v_min'",
     "output_type": "error",
     "traceback": [
      "\u001b[0;31m---------------------------------------------------------------------------\u001b[0m",
      "\u001b[0;31mTypeError\u001b[0m                                 Traceback (most recent call last)",
      "Cell \u001b[0;32mIn[13], line 55\u001b[0m\n\u001b[1;32m     52\u001b[0m         \u001b[38;5;28mself\u001b[39m\u001b[38;5;241m.\u001b[39mwait(\u001b[38;5;241m10\u001b[39m)\n\u001b[1;32m     53\u001b[0m         \u001b[38;5;28mself\u001b[39m\u001b[38;5;241m.\u001b[39mstop_ambient_camera_rotation()\n\u001b[0;32m---> 55\u001b[0m \u001b[43mget_ipython\u001b[49m\u001b[43m(\u001b[49m\u001b[43m)\u001b[49m\u001b[38;5;241;43m.\u001b[39;49m\u001b[43mrun_line_magic\u001b[49m\u001b[43m(\u001b[49m\u001b[38;5;124;43m'\u001b[39;49m\u001b[38;5;124;43mmanim\u001b[39;49m\u001b[38;5;124;43m'\u001b[39;49m\u001b[43m,\u001b[49m\u001b[43m \u001b[49m\u001b[38;5;124;43m'\u001b[39;49m\u001b[38;5;124;43m-ql -v CRITICAL ParametricCurve1\u001b[39;49m\u001b[38;5;124;43m'\u001b[39;49m\u001b[43m)\u001b[49m\n",
      "File \u001b[0;32m~/DevTools/Manim/manDE/lib/python3.12/site-packages/IPython/core/interactiveshell.py:2480\u001b[0m, in \u001b[0;36mInteractiveShell.run_line_magic\u001b[0;34m(self, magic_name, line, _stack_depth)\u001b[0m\n\u001b[1;32m   2478\u001b[0m     kwargs[\u001b[38;5;124m'\u001b[39m\u001b[38;5;124mlocal_ns\u001b[39m\u001b[38;5;124m'\u001b[39m] \u001b[38;5;241m=\u001b[39m \u001b[38;5;28mself\u001b[39m\u001b[38;5;241m.\u001b[39mget_local_scope(stack_depth)\n\u001b[1;32m   2479\u001b[0m \u001b[38;5;28;01mwith\u001b[39;00m \u001b[38;5;28mself\u001b[39m\u001b[38;5;241m.\u001b[39mbuiltin_trap:\n\u001b[0;32m-> 2480\u001b[0m     result \u001b[38;5;241m=\u001b[39m \u001b[43mfn\u001b[49m\u001b[43m(\u001b[49m\u001b[38;5;241;43m*\u001b[39;49m\u001b[43margs\u001b[49m\u001b[43m,\u001b[49m\u001b[43m \u001b[49m\u001b[38;5;241;43m*\u001b[39;49m\u001b[38;5;241;43m*\u001b[39;49m\u001b[43mkwargs\u001b[49m\u001b[43m)\u001b[49m\n\u001b[1;32m   2482\u001b[0m \u001b[38;5;66;03m# The code below prevents the output from being displayed\u001b[39;00m\n\u001b[1;32m   2483\u001b[0m \u001b[38;5;66;03m# when using magics with decorator @output_can_be_silenced\u001b[39;00m\n\u001b[1;32m   2484\u001b[0m \u001b[38;5;66;03m# when the last Python token in the expression is a ';'.\u001b[39;00m\n\u001b[1;32m   2485\u001b[0m \u001b[38;5;28;01mif\u001b[39;00m \u001b[38;5;28mgetattr\u001b[39m(fn, magic\u001b[38;5;241m.\u001b[39mMAGIC_OUTPUT_CAN_BE_SILENCED, \u001b[38;5;28;01mFalse\u001b[39;00m):\n",
      "File \u001b[0;32m~/DevTools/Manim/manDE/lib/python3.12/site-packages/manim/utils/ipython_magic.py:143\u001b[0m, in \u001b[0;36mManimMagic.manim\u001b[0;34m(self, line, cell, local_ns)\u001b[0m\n\u001b[1;32m    141\u001b[0m     SceneClass \u001b[38;5;241m=\u001b[39m local_ns[config[\u001b[38;5;124m\"\u001b[39m\u001b[38;5;124mscene_names\u001b[39m\u001b[38;5;124m\"\u001b[39m][\u001b[38;5;241m0\u001b[39m]]\n\u001b[1;32m    142\u001b[0m     scene \u001b[38;5;241m=\u001b[39m SceneClass(renderer\u001b[38;5;241m=\u001b[39mrenderer)\n\u001b[0;32m--> 143\u001b[0m     \u001b[43mscene\u001b[49m\u001b[38;5;241;43m.\u001b[39;49m\u001b[43mrender\u001b[49m\u001b[43m(\u001b[49m\u001b[43m)\u001b[49m\n\u001b[1;32m    144\u001b[0m \u001b[38;5;28;01mfinally\u001b[39;00m:\n\u001b[1;32m    145\u001b[0m     \u001b[38;5;66;03m# Shader cache becomes invalid as the context is destroyed\u001b[39;00m\n\u001b[1;32m    146\u001b[0m     shader_program_cache\u001b[38;5;241m.\u001b[39mclear()\n",
      "File \u001b[0;32m~/DevTools/Manim/manDE/lib/python3.12/site-packages/manim/scene/scene.py:229\u001b[0m, in \u001b[0;36mScene.render\u001b[0;34m(self, preview)\u001b[0m\n\u001b[1;32m    227\u001b[0m \u001b[38;5;28mself\u001b[39m\u001b[38;5;241m.\u001b[39msetup()\n\u001b[1;32m    228\u001b[0m \u001b[38;5;28;01mtry\u001b[39;00m:\n\u001b[0;32m--> 229\u001b[0m     \u001b[38;5;28;43mself\u001b[39;49m\u001b[38;5;241;43m.\u001b[39;49m\u001b[43mconstruct\u001b[49m\u001b[43m(\u001b[49m\u001b[43m)\u001b[49m\n\u001b[1;32m    230\u001b[0m \u001b[38;5;28;01mexcept\u001b[39;00m EndSceneEarlyException:\n\u001b[1;32m    231\u001b[0m     \u001b[38;5;28;01mpass\u001b[39;00m\n",
      "Cell \u001b[0;32mIn[13], line 20\u001b[0m, in \u001b[0;36mParametricCurve1.construct\u001b[0;34m(self)\u001b[0m\n\u001b[1;32m     17\u001b[0m resolution_curve \u001b[38;5;241m=\u001b[39m \u001b[38;5;241m80\u001b[39m    \u001b[38;5;66;03m# Resolution of curve\u001b[39;00m\n\u001b[1;32m     18\u001b[0m resolution_sphere \u001b[38;5;241m=\u001b[39m \u001b[38;5;241m80\u001b[39m    \u001b[38;5;66;03m#Resolution of Sphere\u001b[39;00m\n\u001b[0;32m---> 20\u001b[0m sphere \u001b[38;5;241m=\u001b[39m \u001b[43mSurface\u001b[49m\u001b[43m(\u001b[49m\n\u001b[1;32m     21\u001b[0m \u001b[43m    \u001b[49m\u001b[38;5;28;43;01mlambda\u001b[39;49;00m\u001b[43m \u001b[49m\u001b[43mu\u001b[49m\u001b[43m,\u001b[49m\u001b[43m \u001b[49m\u001b[43mv\u001b[49m\u001b[43m:\u001b[49m\u001b[43m \u001b[49m\u001b[43mnp\u001b[49m\u001b[38;5;241;43m.\u001b[39;49m\u001b[43marray\u001b[49m\u001b[43m(\u001b[49m\u001b[43m[\u001b[49m\n\u001b[1;32m     22\u001b[0m \u001b[43m        \u001b[49m\u001b[38;5;241;43m1.5\u001b[39;49m\u001b[43m \u001b[49m\u001b[38;5;241;43m*\u001b[39;49m\u001b[43m \u001b[49m\u001b[43mnp\u001b[49m\u001b[38;5;241;43m.\u001b[39;49m\u001b[43mcos\u001b[49m\u001b[43m(\u001b[49m\u001b[43mu\u001b[49m\u001b[43m)\u001b[49m\u001b[43m \u001b[49m\u001b[38;5;241;43m*\u001b[39;49m\u001b[43m \u001b[49m\u001b[43mnp\u001b[49m\u001b[38;5;241;43m.\u001b[39;49m\u001b[43mcos\u001b[49m\u001b[43m(\u001b[49m\u001b[43mv\u001b[49m\u001b[43m)\u001b[49m\u001b[43m,\u001b[49m\n\u001b[1;32m     23\u001b[0m \u001b[43m        \u001b[49m\u001b[38;5;241;43m1.5\u001b[39;49m\u001b[43m \u001b[49m\u001b[38;5;241;43m*\u001b[39;49m\u001b[43m \u001b[49m\u001b[43mnp\u001b[49m\u001b[38;5;241;43m.\u001b[39;49m\u001b[43mcos\u001b[49m\u001b[43m(\u001b[49m\u001b[43mu\u001b[49m\u001b[43m)\u001b[49m\u001b[43m \u001b[49m\u001b[38;5;241;43m*\u001b[39;49m\u001b[43m \u001b[49m\u001b[43mnp\u001b[49m\u001b[38;5;241;43m.\u001b[39;49m\u001b[43msin\u001b[49m\u001b[43m(\u001b[49m\u001b[43mv\u001b[49m\u001b[43m)\u001b[49m\u001b[43m,\u001b[49m\n\u001b[1;32m     24\u001b[0m \u001b[43m        \u001b[49m\u001b[38;5;241;43m1.5\u001b[39;49m\u001b[43m \u001b[49m\u001b[38;5;241;43m*\u001b[39;49m\u001b[43m \u001b[49m\u001b[43mnp\u001b[49m\u001b[38;5;241;43m.\u001b[39;49m\u001b[43msin\u001b[49m\u001b[43m(\u001b[49m\u001b[43mu\u001b[49m\u001b[43m)\u001b[49m\n\u001b[1;32m     25\u001b[0m \u001b[43m    \u001b[49m\u001b[43m]\u001b[49m\u001b[43m)\u001b[49m\u001b[43m,\u001b[49m\u001b[43m \u001b[49m\u001b[43mv_min\u001b[49m\u001b[38;5;241;43m=\u001b[39;49m\u001b[38;5;241;43m0\u001b[39;49m\u001b[43m,\u001b[49m\u001b[43m \u001b[49m\u001b[43mv_max\u001b[49m\u001b[38;5;241;43m=\u001b[39;49m\u001b[43mTAU\u001b[49m\u001b[43m,\u001b[49m\u001b[43m \u001b[49m\u001b[43mu_min\u001b[49m\u001b[38;5;241;43m=\u001b[39;49m\u001b[38;5;241;43m-\u001b[39;49m\u001b[43mPI\u001b[49m\u001b[43m \u001b[49m\u001b[38;5;241;43m/\u001b[39;49m\u001b[43m \u001b[49m\u001b[38;5;241;43m2\u001b[39;49m\u001b[43m,\u001b[49m\u001b[43m \u001b[49m\u001b[43mu_max\u001b[49m\u001b[38;5;241;43m=\u001b[39;49m\u001b[43mPI\u001b[49m\u001b[43m \u001b[49m\u001b[38;5;241;43m/\u001b[39;49m\u001b[43m \u001b[49m\u001b[38;5;241;43m2\u001b[39;49m\u001b[43m,\u001b[49m\n\u001b[1;32m     26\u001b[0m \u001b[43m    \u001b[49m\u001b[43mcheckerboard_colors\u001b[49m\u001b[38;5;241;43m=\u001b[39;49m\u001b[43m[\u001b[49m\u001b[43mRED_D\u001b[49m\u001b[43m,\u001b[49m\u001b[43m \u001b[49m\u001b[43mRED_E\u001b[49m\u001b[43m]\u001b[49m\u001b[43m,\u001b[49m\u001b[43m \u001b[49m\u001b[43mresolution\u001b[49m\u001b[38;5;241;43m=\u001b[39;49m\u001b[43m(\u001b[49m\u001b[43mresolution_sphere\u001b[49m\u001b[43m,\u001b[49m\u001b[43mresolution_sphere\u001b[49m\u001b[43m)\u001b[49m\n\u001b[1;32m     27\u001b[0m \u001b[43m\u001b[49m\u001b[43m)\u001b[49m                                                                                                       \u001b[38;5;66;03m# Sphere Function \u001b[39;00m\n\u001b[1;32m     28\u001b[0m sphere\u001b[38;5;241m.\u001b[39mscale_about_point(\u001b[38;5;241m1.5\u001b[39m, ORIGIN)\n\u001b[1;32m     29\u001b[0m \u001b[38;5;28;01mdef\u001b[39;00m \u001b[38;5;21mparam_gauss\u001b[39m(u, v):                                                                                     \u001b[38;5;66;03m# Curve Function \u001b[39;00m\n",
      "File \u001b[0;32m~/DevTools/Manim/manDE/lib/python3.12/site-packages/manim/mobject/three_d/three_dimensions.py:124\u001b[0m, in \u001b[0;36mSurface.__init__\u001b[0;34m(self, func, u_range, v_range, resolution, surface_piece_config, fill_color, fill_opacity, checkerboard_colors, stroke_color, stroke_width, should_make_jagged, pre_function_handle_to_anchor_scale_factor, **kwargs)\u001b[0m\n\u001b[1;32m    122\u001b[0m \u001b[38;5;28mself\u001b[39m\u001b[38;5;241m.\u001b[39mu_range \u001b[38;5;241m=\u001b[39m u_range\n\u001b[1;32m    123\u001b[0m \u001b[38;5;28mself\u001b[39m\u001b[38;5;241m.\u001b[39mv_range \u001b[38;5;241m=\u001b[39m v_range\n\u001b[0;32m--> 124\u001b[0m \u001b[38;5;28;43msuper\u001b[39;49m\u001b[43m(\u001b[49m\u001b[43m)\u001b[49m\u001b[38;5;241;43m.\u001b[39;49m\u001b[38;5;21;43m__init__\u001b[39;49m\u001b[43m(\u001b[49m\u001b[38;5;241;43m*\u001b[39;49m\u001b[38;5;241;43m*\u001b[39;49m\u001b[43mkwargs\u001b[49m\u001b[43m)\u001b[49m\n\u001b[1;32m    125\u001b[0m \u001b[38;5;28mself\u001b[39m\u001b[38;5;241m.\u001b[39mresolution \u001b[38;5;241m=\u001b[39m resolution\n\u001b[1;32m    126\u001b[0m \u001b[38;5;28mself\u001b[39m\u001b[38;5;241m.\u001b[39msurface_piece_config \u001b[38;5;241m=\u001b[39m surface_piece_config\n",
      "File \u001b[0;32m~/DevTools/Manim/manDE/lib/python3.12/site-packages/manim/mobject/types/vectorized_mobject.py:1995\u001b[0m, in \u001b[0;36mVGroup.__init__\u001b[0;34m(self, *vmobjects, **kwargs)\u001b[0m\n\u001b[1;32m   1994\u001b[0m \u001b[38;5;28;01mdef\u001b[39;00m \u001b[38;5;21m__init__\u001b[39m(\u001b[38;5;28mself\u001b[39m, \u001b[38;5;241m*\u001b[39mvmobjects, \u001b[38;5;241m*\u001b[39m\u001b[38;5;241m*\u001b[39mkwargs):\n\u001b[0;32m-> 1995\u001b[0m     \u001b[38;5;28;43msuper\u001b[39;49m\u001b[43m(\u001b[49m\u001b[43m)\u001b[49m\u001b[38;5;241;43m.\u001b[39;49m\u001b[38;5;21;43m__init__\u001b[39;49m\u001b[43m(\u001b[49m\u001b[38;5;241;43m*\u001b[39;49m\u001b[38;5;241;43m*\u001b[39;49m\u001b[43mkwargs\u001b[49m\u001b[43m)\u001b[49m\n\u001b[1;32m   1996\u001b[0m     \u001b[38;5;28mself\u001b[39m\u001b[38;5;241m.\u001b[39madd(\u001b[38;5;241m*\u001b[39mvmobjects)\n",
      "File \u001b[0;32m~/DevTools/Manim/manDE/lib/python3.12/site-packages/manim/mobject/types/vectorized_mobject.py:170\u001b[0m, in \u001b[0;36mVMobject.__init__\u001b[0;34m(self, fill_color, fill_opacity, stroke_color, stroke_opacity, stroke_width, background_stroke_color, background_stroke_opacity, background_stroke_width, sheen_factor, joint_type, sheen_direction, close_new_points, pre_function_handle_to_anchor_scale_factor, make_smooth_after_applying_functions, background_image, shade_in_3d, tolerance_for_point_equality, n_points_per_cubic_curve, cap_style, **kwargs)\u001b[0m\n\u001b[1;32m    168\u001b[0m \u001b[38;5;28mself\u001b[39m\u001b[38;5;241m.\u001b[39mn_points_per_cubic_curve: \u001b[38;5;28mint\u001b[39m \u001b[38;5;241m=\u001b[39m n_points_per_cubic_curve\n\u001b[1;32m    169\u001b[0m \u001b[38;5;28mself\u001b[39m\u001b[38;5;241m.\u001b[39mcap_style: CapStyleType \u001b[38;5;241m=\u001b[39m cap_style\n\u001b[0;32m--> 170\u001b[0m \u001b[38;5;28;43msuper\u001b[39;49m\u001b[43m(\u001b[49m\u001b[43m)\u001b[49m\u001b[38;5;241;43m.\u001b[39;49m\u001b[38;5;21;43m__init__\u001b[39;49m\u001b[43m(\u001b[49m\u001b[38;5;241;43m*\u001b[39;49m\u001b[38;5;241;43m*\u001b[39;49m\u001b[43mkwargs\u001b[49m\u001b[43m)\u001b[49m\n\u001b[1;32m    171\u001b[0m \u001b[38;5;28mself\u001b[39m\u001b[38;5;241m.\u001b[39msubmobjects: \u001b[38;5;28mlist\u001b[39m[VMobject]\n\u001b[1;32m    173\u001b[0m \u001b[38;5;66;03m# TODO: Find where color overwrites are happening and remove the color doubling\u001b[39;00m\n\u001b[1;32m    174\u001b[0m \u001b[38;5;66;03m# if \"color\" in kwargs:\u001b[39;00m\n\u001b[1;32m    175\u001b[0m \u001b[38;5;66;03m#     fill_color = kwargs[\"color\"]\u001b[39;00m\n\u001b[1;32m    176\u001b[0m \u001b[38;5;66;03m#     stroke_color = kwargs[\"color\"]\u001b[39;00m\n",
      "\u001b[0;31mTypeError\u001b[0m: Mobject.__init__() got an unexpected keyword argument 'v_min'"
     ]
    }
   ],
   "source": [
    "# Written By MD Awlad Hossain\n",
    "# Youtube Cahnnel Funtional Value\n",
    "# Channel Link : http://youtube.com/FunctionalValue\n",
    "# FaceBook Page : http://facebook.com/FunctionalValue\n",
    "# My Profile : http://facebook.com/aawladd\n",
    "# CopyRight @ Functional Value\n",
    "\n",
    "\n",
    "# This Code Will run in Manim CE (Community v0.7.0)\n",
    "\n",
    "from manim import *\n",
    "\n",
    "class ParametricCurve1(ThreeDScene):\n",
    "    def construct(self):\n",
    "        self.set_camera_orientation(phi=75 * DEGREES, theta=-30 * DEGREES)  # Set Camera Orientation\n",
    "        axes = ThreeDAxes()   # 3D Axes\n",
    "        resolution_curve = 80    # Resolution of curve\n",
    "        resolution_sphere = 80    #Resolution of Sphere\n",
    "\n",
    "        sphere = Surface(\n",
    "            lambda u, v: np.array([\n",
    "                1.5 * np.cos(u) * np.cos(v),\n",
    "                1.5 * np.cos(u) * np.sin(v),\n",
    "                1.5 * np.sin(u)\n",
    "            ]), v_min=0, v_max=TAU, u_min=-PI / 2, u_max=PI / 2,\n",
    "            checkerboard_colors=[RED_D, RED_E], resolution=(resolution_sphere,resolution_sphere)\n",
    "        )                                                                                                       # Sphere Function \n",
    "        sphere.scale_about_point(1.5, ORIGIN)\n",
    "        def param_gauss(u, v):                                                                                     # Curve Function \n",
    "            x = np.cos(u)\n",
    "            y = np.sin(u)+ np.cos(v)\n",
    "            z = np.sin(v)\n",
    "            return np.array([x, y, z])\n",
    "\n",
    "        gauss_plane = Surface(\n",
    "            param_gauss,\n",
    "            resolution=(resolution_curve, resolution_curve),\n",
    "            v_min=-PI,\n",
    "            v_max= PI,\n",
    "            u_min=-0,\n",
    "            u_max=TAU,\n",
    "        )\n",
    "        gauss_plane.scale_about_point(0.5, ORIGIN)\n",
    "\n",
    "        self.play(DrawBorderThenFill(axes), run_time = 1.5)\n",
    "        self.play(Write(sphere), run_time = 5)\n",
    "        self.play(ReplacementTransform(sphere, gauss_plane), run_time = 15)\n",
    "        self.play(gauss_plane.animate.set_style(fill_opacity=1),gauss_plane.animate.set_style(stroke_color=GREEN),gauss_plane.animate.set_fill_by_checkerboard(GREEN, BLUE, opacity=0.1), run_time = 5)\n",
    "        self.play(gauss_plane.animate.scale_about_point(2.5, ORIGIN), run_time = 3)\n",
    "        self.begin_ambient_camera_rotation(rate=0.05)\n",
    "        self.play(gauss_plane.animate.set_fill_by_checkerboard(ORANGE, YELLOW, opacity=0.5), run_time = 2)\n",
    "        self.wait(10)\n",
    "        self.stop_ambient_camera_rotation()\n",
    "        \n",
    "%manim -ql -v CRITICAL ParametricCurve1"
   ]
  },
  {
   "cell_type": "code",
   "execution_count": 14,
   "metadata": {},
   "outputs": [
    {
     "data": {
      "text/html": [
       "<pre style=\"white-space:pre;overflow-x:auto;line-height:normal;font-family:Menlo,'DejaVu Sans Mono',consolas,'Courier New',monospace\">Manim Community <span style=\"color: #008000; text-decoration-color: #008000\">v0.18.1</span>\n",
       "\n",
       "</pre>\n"
      ],
      "text/plain": [
       "Manim Community \u001b[32mv0.\u001b[0m\u001b[32m18.1\u001b[0m\n",
       "\n"
      ]
     },
     "metadata": {},
     "output_type": "display_data"
    },
    {
     "ename": "TypeError",
     "evalue": "Mobject.__init__() got an unexpected keyword argument 'v_min'",
     "output_type": "error",
     "traceback": [
      "\u001b[0;31m---------------------------------------------------------------------------\u001b[0m",
      "\u001b[0;31mTypeError\u001b[0m                                 Traceback (most recent call last)",
      "Cell \u001b[0;32mIn[14], line 56\u001b[0m\n\u001b[1;32m     53\u001b[0m         \u001b[38;5;28mself\u001b[39m\u001b[38;5;241m.\u001b[39mwait(\u001b[38;5;241m10\u001b[39m)\n\u001b[1;32m     54\u001b[0m         \u001b[38;5;28mself\u001b[39m\u001b[38;5;241m.\u001b[39mstop_ambient_camera_rotation()\n\u001b[0;32m---> 56\u001b[0m \u001b[43mget_ipython\u001b[49m\u001b[43m(\u001b[49m\u001b[43m)\u001b[49m\u001b[38;5;241;43m.\u001b[39;49m\u001b[43mrun_line_magic\u001b[49m\u001b[43m(\u001b[49m\u001b[38;5;124;43m'\u001b[39;49m\u001b[38;5;124;43mmanim\u001b[39;49m\u001b[38;5;124;43m'\u001b[39;49m\u001b[43m,\u001b[49m\u001b[43m \u001b[49m\u001b[38;5;124;43m'\u001b[39;49m\u001b[38;5;124;43m-ql -v CRITICAL ParametricCurve2\u001b[39;49m\u001b[38;5;124;43m'\u001b[39;49m\u001b[43m)\u001b[49m\n",
      "File \u001b[0;32m~/DevTools/Manim/manDE/lib/python3.12/site-packages/IPython/core/interactiveshell.py:2480\u001b[0m, in \u001b[0;36mInteractiveShell.run_line_magic\u001b[0;34m(self, magic_name, line, _stack_depth)\u001b[0m\n\u001b[1;32m   2478\u001b[0m     kwargs[\u001b[38;5;124m'\u001b[39m\u001b[38;5;124mlocal_ns\u001b[39m\u001b[38;5;124m'\u001b[39m] \u001b[38;5;241m=\u001b[39m \u001b[38;5;28mself\u001b[39m\u001b[38;5;241m.\u001b[39mget_local_scope(stack_depth)\n\u001b[1;32m   2479\u001b[0m \u001b[38;5;28;01mwith\u001b[39;00m \u001b[38;5;28mself\u001b[39m\u001b[38;5;241m.\u001b[39mbuiltin_trap:\n\u001b[0;32m-> 2480\u001b[0m     result \u001b[38;5;241m=\u001b[39m \u001b[43mfn\u001b[49m\u001b[43m(\u001b[49m\u001b[38;5;241;43m*\u001b[39;49m\u001b[43margs\u001b[49m\u001b[43m,\u001b[49m\u001b[43m \u001b[49m\u001b[38;5;241;43m*\u001b[39;49m\u001b[38;5;241;43m*\u001b[39;49m\u001b[43mkwargs\u001b[49m\u001b[43m)\u001b[49m\n\u001b[1;32m   2482\u001b[0m \u001b[38;5;66;03m# The code below prevents the output from being displayed\u001b[39;00m\n\u001b[1;32m   2483\u001b[0m \u001b[38;5;66;03m# when using magics with decorator @output_can_be_silenced\u001b[39;00m\n\u001b[1;32m   2484\u001b[0m \u001b[38;5;66;03m# when the last Python token in the expression is a ';'.\u001b[39;00m\n\u001b[1;32m   2485\u001b[0m \u001b[38;5;28;01mif\u001b[39;00m \u001b[38;5;28mgetattr\u001b[39m(fn, magic\u001b[38;5;241m.\u001b[39mMAGIC_OUTPUT_CAN_BE_SILENCED, \u001b[38;5;28;01mFalse\u001b[39;00m):\n",
      "File \u001b[0;32m~/DevTools/Manim/manDE/lib/python3.12/site-packages/manim/utils/ipython_magic.py:143\u001b[0m, in \u001b[0;36mManimMagic.manim\u001b[0;34m(self, line, cell, local_ns)\u001b[0m\n\u001b[1;32m    141\u001b[0m     SceneClass \u001b[38;5;241m=\u001b[39m local_ns[config[\u001b[38;5;124m\"\u001b[39m\u001b[38;5;124mscene_names\u001b[39m\u001b[38;5;124m\"\u001b[39m][\u001b[38;5;241m0\u001b[39m]]\n\u001b[1;32m    142\u001b[0m     scene \u001b[38;5;241m=\u001b[39m SceneClass(renderer\u001b[38;5;241m=\u001b[39mrenderer)\n\u001b[0;32m--> 143\u001b[0m     \u001b[43mscene\u001b[49m\u001b[38;5;241;43m.\u001b[39;49m\u001b[43mrender\u001b[49m\u001b[43m(\u001b[49m\u001b[43m)\u001b[49m\n\u001b[1;32m    144\u001b[0m \u001b[38;5;28;01mfinally\u001b[39;00m:\n\u001b[1;32m    145\u001b[0m     \u001b[38;5;66;03m# Shader cache becomes invalid as the context is destroyed\u001b[39;00m\n\u001b[1;32m    146\u001b[0m     shader_program_cache\u001b[38;5;241m.\u001b[39mclear()\n",
      "File \u001b[0;32m~/DevTools/Manim/manDE/lib/python3.12/site-packages/manim/scene/scene.py:229\u001b[0m, in \u001b[0;36mScene.render\u001b[0;34m(self, preview)\u001b[0m\n\u001b[1;32m    227\u001b[0m \u001b[38;5;28mself\u001b[39m\u001b[38;5;241m.\u001b[39msetup()\n\u001b[1;32m    228\u001b[0m \u001b[38;5;28;01mtry\u001b[39;00m:\n\u001b[0;32m--> 229\u001b[0m     \u001b[38;5;28;43mself\u001b[39;49m\u001b[38;5;241;43m.\u001b[39;49m\u001b[43mconstruct\u001b[49m\u001b[43m(\u001b[49m\u001b[43m)\u001b[49m\n\u001b[1;32m    230\u001b[0m \u001b[38;5;28;01mexcept\u001b[39;00m EndSceneEarlyException:\n\u001b[1;32m    231\u001b[0m     \u001b[38;5;28;01mpass\u001b[39;00m\n",
      "Cell \u001b[0;32mIn[14], line 20\u001b[0m, in \u001b[0;36mParametricCurve2.construct\u001b[0;34m(self)\u001b[0m\n\u001b[1;32m     17\u001b[0m resolution_curve \u001b[38;5;241m=\u001b[39m \u001b[38;5;241m80\u001b[39m    \u001b[38;5;66;03m# Resolution of curve\u001b[39;00m\n\u001b[1;32m     18\u001b[0m resolution_sphere \u001b[38;5;241m=\u001b[39m \u001b[38;5;241m80\u001b[39m    \u001b[38;5;66;03m#Resolution of Sphere\u001b[39;00m\n\u001b[0;32m---> 20\u001b[0m sphere \u001b[38;5;241m=\u001b[39m \u001b[43mSurface\u001b[49m\u001b[43m(\u001b[49m\n\u001b[1;32m     21\u001b[0m \u001b[43m    \u001b[49m\u001b[38;5;28;43;01mlambda\u001b[39;49;00m\u001b[43m \u001b[49m\u001b[43mu\u001b[49m\u001b[43m,\u001b[49m\u001b[43m \u001b[49m\u001b[43mv\u001b[49m\u001b[43m:\u001b[49m\u001b[43m \u001b[49m\u001b[43mnp\u001b[49m\u001b[38;5;241;43m.\u001b[39;49m\u001b[43marray\u001b[49m\u001b[43m(\u001b[49m\u001b[43m[\u001b[49m\n\u001b[1;32m     22\u001b[0m \u001b[43m        \u001b[49m\u001b[38;5;241;43m1.5\u001b[39;49m\u001b[43m \u001b[49m\u001b[38;5;241;43m*\u001b[39;49m\u001b[43m \u001b[49m\u001b[43mnp\u001b[49m\u001b[38;5;241;43m.\u001b[39;49m\u001b[43mcos\u001b[49m\u001b[43m(\u001b[49m\u001b[43mu\u001b[49m\u001b[43m)\u001b[49m\u001b[43m \u001b[49m\u001b[38;5;241;43m*\u001b[39;49m\u001b[43m \u001b[49m\u001b[43mnp\u001b[49m\u001b[38;5;241;43m.\u001b[39;49m\u001b[43mcos\u001b[49m\u001b[43m(\u001b[49m\u001b[43mv\u001b[49m\u001b[43m)\u001b[49m\u001b[43m,\u001b[49m\n\u001b[1;32m     23\u001b[0m \u001b[43m        \u001b[49m\u001b[38;5;241;43m1.5\u001b[39;49m\u001b[43m \u001b[49m\u001b[38;5;241;43m*\u001b[39;49m\u001b[43m \u001b[49m\u001b[43mnp\u001b[49m\u001b[38;5;241;43m.\u001b[39;49m\u001b[43mcos\u001b[49m\u001b[43m(\u001b[49m\u001b[43mu\u001b[49m\u001b[43m)\u001b[49m\u001b[43m \u001b[49m\u001b[38;5;241;43m*\u001b[39;49m\u001b[43m \u001b[49m\u001b[43mnp\u001b[49m\u001b[38;5;241;43m.\u001b[39;49m\u001b[43msin\u001b[49m\u001b[43m(\u001b[49m\u001b[43mv\u001b[49m\u001b[43m)\u001b[49m\u001b[43m,\u001b[49m\n\u001b[1;32m     24\u001b[0m \u001b[43m        \u001b[49m\u001b[38;5;241;43m1.5\u001b[39;49m\u001b[43m \u001b[49m\u001b[38;5;241;43m*\u001b[39;49m\u001b[43m \u001b[49m\u001b[43mnp\u001b[49m\u001b[38;5;241;43m.\u001b[39;49m\u001b[43msin\u001b[49m\u001b[43m(\u001b[49m\u001b[43mu\u001b[49m\u001b[43m)\u001b[49m\n\u001b[1;32m     25\u001b[0m \u001b[43m    \u001b[49m\u001b[43m]\u001b[49m\u001b[43m)\u001b[49m\u001b[43m,\u001b[49m\u001b[43m \u001b[49m\u001b[43mv_min\u001b[49m\u001b[38;5;241;43m=\u001b[39;49m\u001b[38;5;241;43m0\u001b[39;49m\u001b[43m,\u001b[49m\u001b[43m \u001b[49m\u001b[43mv_max\u001b[49m\u001b[38;5;241;43m=\u001b[39;49m\u001b[43mTAU\u001b[49m\u001b[43m,\u001b[49m\u001b[43m \u001b[49m\u001b[43mu_min\u001b[49m\u001b[38;5;241;43m=\u001b[39;49m\u001b[38;5;241;43m-\u001b[39;49m\u001b[43mPI\u001b[49m\u001b[43m \u001b[49m\u001b[38;5;241;43m/\u001b[39;49m\u001b[43m \u001b[49m\u001b[38;5;241;43m2\u001b[39;49m\u001b[43m,\u001b[49m\u001b[43m \u001b[49m\u001b[43mu_max\u001b[49m\u001b[38;5;241;43m=\u001b[39;49m\u001b[43mPI\u001b[49m\u001b[43m \u001b[49m\u001b[38;5;241;43m/\u001b[39;49m\u001b[43m \u001b[49m\u001b[38;5;241;43m2\u001b[39;49m\u001b[43m,\u001b[49m\n\u001b[1;32m     26\u001b[0m \u001b[43m    \u001b[49m\u001b[43mcheckerboard_colors\u001b[49m\u001b[38;5;241;43m=\u001b[39;49m\u001b[43m[\u001b[49m\u001b[43mRED_D\u001b[49m\u001b[43m,\u001b[49m\u001b[43m \u001b[49m\u001b[43mRED_E\u001b[49m\u001b[43m]\u001b[49m\u001b[43m,\u001b[49m\u001b[43m \u001b[49m\u001b[43mresolution\u001b[49m\u001b[38;5;241;43m=\u001b[39;49m\u001b[43m(\u001b[49m\u001b[43mresolution_sphere\u001b[49m\u001b[43m,\u001b[49m\u001b[43mresolution_sphere\u001b[49m\u001b[43m)\u001b[49m\n\u001b[1;32m     27\u001b[0m \u001b[43m\u001b[49m\u001b[43m)\u001b[49m                                                                                                       \u001b[38;5;66;03m# Sphere Function \u001b[39;00m\n\u001b[1;32m     28\u001b[0m sphere\u001b[38;5;241m.\u001b[39mscale_about_point(\u001b[38;5;241m1.5\u001b[39m, ORIGIN)\n\u001b[1;32m     29\u001b[0m \u001b[38;5;28;01mdef\u001b[39;00m \u001b[38;5;21mparam_gauss\u001b[39m(u, v):                                                                                     \u001b[38;5;66;03m# Curve Function \u001b[39;00m\n",
      "File \u001b[0;32m~/DevTools/Manim/manDE/lib/python3.12/site-packages/manim/mobject/three_d/three_dimensions.py:124\u001b[0m, in \u001b[0;36mSurface.__init__\u001b[0;34m(self, func, u_range, v_range, resolution, surface_piece_config, fill_color, fill_opacity, checkerboard_colors, stroke_color, stroke_width, should_make_jagged, pre_function_handle_to_anchor_scale_factor, **kwargs)\u001b[0m\n\u001b[1;32m    122\u001b[0m \u001b[38;5;28mself\u001b[39m\u001b[38;5;241m.\u001b[39mu_range \u001b[38;5;241m=\u001b[39m u_range\n\u001b[1;32m    123\u001b[0m \u001b[38;5;28mself\u001b[39m\u001b[38;5;241m.\u001b[39mv_range \u001b[38;5;241m=\u001b[39m v_range\n\u001b[0;32m--> 124\u001b[0m \u001b[38;5;28;43msuper\u001b[39;49m\u001b[43m(\u001b[49m\u001b[43m)\u001b[49m\u001b[38;5;241;43m.\u001b[39;49m\u001b[38;5;21;43m__init__\u001b[39;49m\u001b[43m(\u001b[49m\u001b[38;5;241;43m*\u001b[39;49m\u001b[38;5;241;43m*\u001b[39;49m\u001b[43mkwargs\u001b[49m\u001b[43m)\u001b[49m\n\u001b[1;32m    125\u001b[0m \u001b[38;5;28mself\u001b[39m\u001b[38;5;241m.\u001b[39mresolution \u001b[38;5;241m=\u001b[39m resolution\n\u001b[1;32m    126\u001b[0m \u001b[38;5;28mself\u001b[39m\u001b[38;5;241m.\u001b[39msurface_piece_config \u001b[38;5;241m=\u001b[39m surface_piece_config\n",
      "File \u001b[0;32m~/DevTools/Manim/manDE/lib/python3.12/site-packages/manim/mobject/types/vectorized_mobject.py:1995\u001b[0m, in \u001b[0;36mVGroup.__init__\u001b[0;34m(self, *vmobjects, **kwargs)\u001b[0m\n\u001b[1;32m   1994\u001b[0m \u001b[38;5;28;01mdef\u001b[39;00m \u001b[38;5;21m__init__\u001b[39m(\u001b[38;5;28mself\u001b[39m, \u001b[38;5;241m*\u001b[39mvmobjects, \u001b[38;5;241m*\u001b[39m\u001b[38;5;241m*\u001b[39mkwargs):\n\u001b[0;32m-> 1995\u001b[0m     \u001b[38;5;28;43msuper\u001b[39;49m\u001b[43m(\u001b[49m\u001b[43m)\u001b[49m\u001b[38;5;241;43m.\u001b[39;49m\u001b[38;5;21;43m__init__\u001b[39;49m\u001b[43m(\u001b[49m\u001b[38;5;241;43m*\u001b[39;49m\u001b[38;5;241;43m*\u001b[39;49m\u001b[43mkwargs\u001b[49m\u001b[43m)\u001b[49m\n\u001b[1;32m   1996\u001b[0m     \u001b[38;5;28mself\u001b[39m\u001b[38;5;241m.\u001b[39madd(\u001b[38;5;241m*\u001b[39mvmobjects)\n",
      "File \u001b[0;32m~/DevTools/Manim/manDE/lib/python3.12/site-packages/manim/mobject/types/vectorized_mobject.py:170\u001b[0m, in \u001b[0;36mVMobject.__init__\u001b[0;34m(self, fill_color, fill_opacity, stroke_color, stroke_opacity, stroke_width, background_stroke_color, background_stroke_opacity, background_stroke_width, sheen_factor, joint_type, sheen_direction, close_new_points, pre_function_handle_to_anchor_scale_factor, make_smooth_after_applying_functions, background_image, shade_in_3d, tolerance_for_point_equality, n_points_per_cubic_curve, cap_style, **kwargs)\u001b[0m\n\u001b[1;32m    168\u001b[0m \u001b[38;5;28mself\u001b[39m\u001b[38;5;241m.\u001b[39mn_points_per_cubic_curve: \u001b[38;5;28mint\u001b[39m \u001b[38;5;241m=\u001b[39m n_points_per_cubic_curve\n\u001b[1;32m    169\u001b[0m \u001b[38;5;28mself\u001b[39m\u001b[38;5;241m.\u001b[39mcap_style: CapStyleType \u001b[38;5;241m=\u001b[39m cap_style\n\u001b[0;32m--> 170\u001b[0m \u001b[38;5;28;43msuper\u001b[39;49m\u001b[43m(\u001b[49m\u001b[43m)\u001b[49m\u001b[38;5;241;43m.\u001b[39;49m\u001b[38;5;21;43m__init__\u001b[39;49m\u001b[43m(\u001b[49m\u001b[38;5;241;43m*\u001b[39;49m\u001b[38;5;241;43m*\u001b[39;49m\u001b[43mkwargs\u001b[49m\u001b[43m)\u001b[49m\n\u001b[1;32m    171\u001b[0m \u001b[38;5;28mself\u001b[39m\u001b[38;5;241m.\u001b[39msubmobjects: \u001b[38;5;28mlist\u001b[39m[VMobject]\n\u001b[1;32m    173\u001b[0m \u001b[38;5;66;03m# TODO: Find where color overwrites are happening and remove the color doubling\u001b[39;00m\n\u001b[1;32m    174\u001b[0m \u001b[38;5;66;03m# if \"color\" in kwargs:\u001b[39;00m\n\u001b[1;32m    175\u001b[0m \u001b[38;5;66;03m#     fill_color = kwargs[\"color\"]\u001b[39;00m\n\u001b[1;32m    176\u001b[0m \u001b[38;5;66;03m#     stroke_color = kwargs[\"color\"]\u001b[39;00m\n",
      "\u001b[0;31mTypeError\u001b[0m: Mobject.__init__() got an unexpected keyword argument 'v_min'"
     ]
    }
   ],
   "source": [
    "# Written By MD Awlad Hossain\n",
    "# Youtube Cahnnel Funtional Value\n",
    "# Channel Link : http://youtube.com/FunctionalValue\n",
    "# FaceBook Page : http://facebook.com/FunctionalValue\n",
    "# My Profile : http://facebook.com/aawladd\n",
    "# CopyRight @ Functional Value\n",
    "\n",
    "\n",
    "# This Code Will run in Manim CE (Community v0.7.0)\n",
    "\n",
    "from manim import *\n",
    "\n",
    "class ParametricCurve2(ThreeDScene):\n",
    "    def construct(self):\n",
    "        self.set_camera_orientation(phi=75 * DEGREES, theta=-30 * DEGREES)  # Set Camera Orientation\n",
    "        axes = ThreeDAxes()   # 3D Axes\n",
    "        resolution_curve = 80    # Resolution of curve\n",
    "        resolution_sphere = 80    #Resolution of Sphere\n",
    "\n",
    "        sphere = Surface(\n",
    "            lambda u, v: np.array([\n",
    "                1.5 * np.cos(u) * np.cos(v),\n",
    "                1.5 * np.cos(u) * np.sin(v),\n",
    "                1.5 * np.sin(u)\n",
    "            ]), v_min=0, v_max=TAU, u_min=-PI / 2, u_max=PI / 2,\n",
    "            checkerboard_colors=[RED_D, RED_E], resolution=(resolution_sphere,resolution_sphere)\n",
    "        )                                                                                                       # Sphere Function \n",
    "        sphere.scale_about_point(1.5, ORIGIN)\n",
    "        def param_gauss(u, v):                                                                                     # Curve Function \n",
    "            x = np.cos(u) * (3 + np.cos(u/3)*np.sin(v) - np.sin(u/3)*np.sin(3*v))\n",
    "            y =  np.sin(u) * (3 + np.cos(u/3)*np.sin(v) - np.sin(u/3)*np.sin(3*v))\n",
    "            z = np.sin(u/2)*np.sin(v) + np.cos(u/2)*np.sin(2*v)\n",
    "            return np.array([x, y, z])\n",
    "\n",
    "        gauss_plane = Surface(\n",
    "            param_gauss,\n",
    "            resolution=(resolution_curve, resolution_curve),\n",
    "            v_min=0,\n",
    "            v_max= TAU,\n",
    "            u_min=0,\n",
    "            u_max=TAU,\n",
    "        )\n",
    "        gauss_plane.scale_about_point(0.5, ORIGIN)\n",
    "\n",
    "        self.play(DrawBorderThenFill(axes), run_time = 1.5)\n",
    "        self.play(Write(sphere), run_time = 8)\n",
    "        self.play(sphere.animate.set_style(fill_opacity=1),sphere.animate.set_style(stroke_color=GREEN),sphere.animate.set_fill_by_checkerboard(GREEN, BLUE, opacity=0.3), run_time = 5)\n",
    "        self.play(ReplacementTransform(sphere, gauss_plane), run_time = 20)\n",
    "        self.play(gauss_plane.animate.set_style(fill_opacity=1),gauss_plane.animate.set_style(stroke_color=GREEN),gauss_plane.animate.set_fill_by_checkerboard(GREEN, BLUE, opacity=0.4), run_time = 6)\n",
    "        self.begin_ambient_camera_rotation(rate=0.05)\n",
    "        self.play(gauss_plane.animate.scale_about_point(2.5, ORIGIN), run_time = 4)\n",
    "        self.play(gauss_plane.animate.set_fill_by_checkerboard(ORANGE, YELLOW, opacity=0.5), run_time = 5)\n",
    "        self.wait(10)\n",
    "        self.stop_ambient_camera_rotation()\n",
    "\n",
    "%manim -ql -v CRITICAL ParametricCurve2\n",
    "        "
   ]
  },
  {
   "cell_type": "code",
   "execution_count": 15,
   "metadata": {},
   "outputs": [
    {
     "data": {
      "text/html": [
       "<pre style=\"white-space:pre;overflow-x:auto;line-height:normal;font-family:Menlo,'DejaVu Sans Mono',consolas,'Courier New',monospace\">Manim Community <span style=\"color: #008000; text-decoration-color: #008000\">v0.18.1</span>\n",
       "\n",
       "</pre>\n"
      ],
      "text/plain": [
       "Manim Community \u001b[32mv0.\u001b[0m\u001b[32m18.1\u001b[0m\n",
       "\n"
      ]
     },
     "metadata": {},
     "output_type": "display_data"
    },
    {
     "ename": "TypeError",
     "evalue": "Mobject.__init__() got an unexpected keyword argument 'v_min'",
     "output_type": "error",
     "traceback": [
      "\u001b[0;31m---------------------------------------------------------------------------\u001b[0m",
      "\u001b[0;31mTypeError\u001b[0m                                 Traceback (most recent call last)",
      "Cell \u001b[0;32mIn[15], line 54\u001b[0m\n\u001b[1;32m     51\u001b[0m         \u001b[38;5;28mself\u001b[39m\u001b[38;5;241m.\u001b[39mplay(gauss_plane\u001b[38;5;241m.\u001b[39manimate\u001b[38;5;241m.\u001b[39mscale_about_point(\u001b[38;5;241m2\u001b[39m\u001b[38;5;241m/\u001b[39m\u001b[38;5;241m5\u001b[39m, ORIGIN))\n\u001b[1;32m     52\u001b[0m         \u001b[38;5;28mself\u001b[39m\u001b[38;5;241m.\u001b[39mplay(gauss_plane\u001b[38;5;241m.\u001b[39manimate\u001b[38;5;241m.\u001b[39mset_fill_by_checkerboard(ORANGE, YELLOW, opacity\u001b[38;5;241m=\u001b[39m\u001b[38;5;241m1\u001b[39m))\n\u001b[0;32m---> 54\u001b[0m \u001b[43mget_ipython\u001b[49m\u001b[43m(\u001b[49m\u001b[43m)\u001b[49m\u001b[38;5;241;43m.\u001b[39;49m\u001b[43mrun_line_magic\u001b[49m\u001b[43m(\u001b[49m\u001b[38;5;124;43m'\u001b[39;49m\u001b[38;5;124;43mmanim\u001b[39;49m\u001b[38;5;124;43m'\u001b[39;49m\u001b[43m,\u001b[49m\u001b[43m \u001b[49m\u001b[38;5;124;43m'\u001b[39;49m\u001b[38;5;124;43m-ql -v CRITICAL ParametricCurve3\u001b[39;49m\u001b[38;5;124;43m'\u001b[39;49m\u001b[43m)\u001b[49m\n",
      "File \u001b[0;32m~/DevTools/Manim/manDE/lib/python3.12/site-packages/IPython/core/interactiveshell.py:2480\u001b[0m, in \u001b[0;36mInteractiveShell.run_line_magic\u001b[0;34m(self, magic_name, line, _stack_depth)\u001b[0m\n\u001b[1;32m   2478\u001b[0m     kwargs[\u001b[38;5;124m'\u001b[39m\u001b[38;5;124mlocal_ns\u001b[39m\u001b[38;5;124m'\u001b[39m] \u001b[38;5;241m=\u001b[39m \u001b[38;5;28mself\u001b[39m\u001b[38;5;241m.\u001b[39mget_local_scope(stack_depth)\n\u001b[1;32m   2479\u001b[0m \u001b[38;5;28;01mwith\u001b[39;00m \u001b[38;5;28mself\u001b[39m\u001b[38;5;241m.\u001b[39mbuiltin_trap:\n\u001b[0;32m-> 2480\u001b[0m     result \u001b[38;5;241m=\u001b[39m \u001b[43mfn\u001b[49m\u001b[43m(\u001b[49m\u001b[38;5;241;43m*\u001b[39;49m\u001b[43margs\u001b[49m\u001b[43m,\u001b[49m\u001b[43m \u001b[49m\u001b[38;5;241;43m*\u001b[39;49m\u001b[38;5;241;43m*\u001b[39;49m\u001b[43mkwargs\u001b[49m\u001b[43m)\u001b[49m\n\u001b[1;32m   2482\u001b[0m \u001b[38;5;66;03m# The code below prevents the output from being displayed\u001b[39;00m\n\u001b[1;32m   2483\u001b[0m \u001b[38;5;66;03m# when using magics with decorator @output_can_be_silenced\u001b[39;00m\n\u001b[1;32m   2484\u001b[0m \u001b[38;5;66;03m# when the last Python token in the expression is a ';'.\u001b[39;00m\n\u001b[1;32m   2485\u001b[0m \u001b[38;5;28;01mif\u001b[39;00m \u001b[38;5;28mgetattr\u001b[39m(fn, magic\u001b[38;5;241m.\u001b[39mMAGIC_OUTPUT_CAN_BE_SILENCED, \u001b[38;5;28;01mFalse\u001b[39;00m):\n",
      "File \u001b[0;32m~/DevTools/Manim/manDE/lib/python3.12/site-packages/manim/utils/ipython_magic.py:143\u001b[0m, in \u001b[0;36mManimMagic.manim\u001b[0;34m(self, line, cell, local_ns)\u001b[0m\n\u001b[1;32m    141\u001b[0m     SceneClass \u001b[38;5;241m=\u001b[39m local_ns[config[\u001b[38;5;124m\"\u001b[39m\u001b[38;5;124mscene_names\u001b[39m\u001b[38;5;124m\"\u001b[39m][\u001b[38;5;241m0\u001b[39m]]\n\u001b[1;32m    142\u001b[0m     scene \u001b[38;5;241m=\u001b[39m SceneClass(renderer\u001b[38;5;241m=\u001b[39mrenderer)\n\u001b[0;32m--> 143\u001b[0m     \u001b[43mscene\u001b[49m\u001b[38;5;241;43m.\u001b[39;49m\u001b[43mrender\u001b[49m\u001b[43m(\u001b[49m\u001b[43m)\u001b[49m\n\u001b[1;32m    144\u001b[0m \u001b[38;5;28;01mfinally\u001b[39;00m:\n\u001b[1;32m    145\u001b[0m     \u001b[38;5;66;03m# Shader cache becomes invalid as the context is destroyed\u001b[39;00m\n\u001b[1;32m    146\u001b[0m     shader_program_cache\u001b[38;5;241m.\u001b[39mclear()\n",
      "File \u001b[0;32m~/DevTools/Manim/manDE/lib/python3.12/site-packages/manim/scene/scene.py:229\u001b[0m, in \u001b[0;36mScene.render\u001b[0;34m(self, preview)\u001b[0m\n\u001b[1;32m    227\u001b[0m \u001b[38;5;28mself\u001b[39m\u001b[38;5;241m.\u001b[39msetup()\n\u001b[1;32m    228\u001b[0m \u001b[38;5;28;01mtry\u001b[39;00m:\n\u001b[0;32m--> 229\u001b[0m     \u001b[38;5;28;43mself\u001b[39;49m\u001b[38;5;241;43m.\u001b[39;49m\u001b[43mconstruct\u001b[49m\u001b[43m(\u001b[49m\u001b[43m)\u001b[49m\n\u001b[1;32m    230\u001b[0m \u001b[38;5;28;01mexcept\u001b[39;00m EndSceneEarlyException:\n\u001b[1;32m    231\u001b[0m     \u001b[38;5;28;01mpass\u001b[39;00m\n",
      "Cell \u001b[0;32mIn[15], line 21\u001b[0m, in \u001b[0;36mParametricCurve3.construct\u001b[0;34m(self)\u001b[0m\n\u001b[1;32m     18\u001b[0m resolution_curve \u001b[38;5;241m=\u001b[39m \u001b[38;5;241m30\u001b[39m    \u001b[38;5;66;03m# Resolution of curve\u001b[39;00m\n\u001b[1;32m     19\u001b[0m resolution_sphere \u001b[38;5;241m=\u001b[39m \u001b[38;5;241m30\u001b[39m    \u001b[38;5;66;03m#Resolution of Sphere\u001b[39;00m\n\u001b[0;32m---> 21\u001b[0m sphere \u001b[38;5;241m=\u001b[39m \u001b[43mSurface\u001b[49m\u001b[43m(\u001b[49m\n\u001b[1;32m     22\u001b[0m \u001b[43m    \u001b[49m\u001b[38;5;28;43;01mlambda\u001b[39;49;00m\u001b[43m \u001b[49m\u001b[43mu\u001b[49m\u001b[43m,\u001b[49m\u001b[43m \u001b[49m\u001b[43mv\u001b[49m\u001b[43m:\u001b[49m\u001b[43m \u001b[49m\u001b[43mnp\u001b[49m\u001b[38;5;241;43m.\u001b[39;49m\u001b[43marray\u001b[49m\u001b[43m(\u001b[49m\u001b[43m[\u001b[49m\n\u001b[1;32m     23\u001b[0m \u001b[43m        \u001b[49m\u001b[38;5;241;43m1.5\u001b[39;49m\u001b[43m \u001b[49m\u001b[38;5;241;43m*\u001b[39;49m\u001b[43m \u001b[49m\u001b[43mnp\u001b[49m\u001b[38;5;241;43m.\u001b[39;49m\u001b[43mcos\u001b[49m\u001b[43m(\u001b[49m\u001b[43mu\u001b[49m\u001b[43m)\u001b[49m\u001b[43m \u001b[49m\u001b[38;5;241;43m*\u001b[39;49m\u001b[43m \u001b[49m\u001b[43mnp\u001b[49m\u001b[38;5;241;43m.\u001b[39;49m\u001b[43mcos\u001b[49m\u001b[43m(\u001b[49m\u001b[43mv\u001b[49m\u001b[43m)\u001b[49m\u001b[43m,\u001b[49m\n\u001b[1;32m     24\u001b[0m \u001b[43m        \u001b[49m\u001b[38;5;241;43m1.5\u001b[39;49m\u001b[43m \u001b[49m\u001b[38;5;241;43m*\u001b[39;49m\u001b[43m \u001b[49m\u001b[43mnp\u001b[49m\u001b[38;5;241;43m.\u001b[39;49m\u001b[43mcos\u001b[49m\u001b[43m(\u001b[49m\u001b[43mu\u001b[49m\u001b[43m)\u001b[49m\u001b[43m \u001b[49m\u001b[38;5;241;43m*\u001b[39;49m\u001b[43m \u001b[49m\u001b[43mnp\u001b[49m\u001b[38;5;241;43m.\u001b[39;49m\u001b[43msin\u001b[49m\u001b[43m(\u001b[49m\u001b[43mv\u001b[49m\u001b[43m)\u001b[49m\u001b[43m,\u001b[49m\n\u001b[1;32m     25\u001b[0m \u001b[43m        \u001b[49m\u001b[38;5;241;43m1.5\u001b[39;49m\u001b[43m \u001b[49m\u001b[38;5;241;43m*\u001b[39;49m\u001b[43m \u001b[49m\u001b[43mnp\u001b[49m\u001b[38;5;241;43m.\u001b[39;49m\u001b[43msin\u001b[49m\u001b[43m(\u001b[49m\u001b[43mu\u001b[49m\u001b[43m)\u001b[49m\n\u001b[1;32m     26\u001b[0m \u001b[43m    \u001b[49m\u001b[43m]\u001b[49m\u001b[43m)\u001b[49m\u001b[43m,\u001b[49m\u001b[43m \u001b[49m\u001b[43mv_min\u001b[49m\u001b[38;5;241;43m=\u001b[39;49m\u001b[38;5;241;43m0\u001b[39;49m\u001b[43m,\u001b[49m\u001b[43m \u001b[49m\u001b[43mv_max\u001b[49m\u001b[38;5;241;43m=\u001b[39;49m\u001b[43mTAU\u001b[49m\u001b[43m,\u001b[49m\u001b[43m \u001b[49m\u001b[43mu_min\u001b[49m\u001b[38;5;241;43m=\u001b[39;49m\u001b[38;5;241;43m-\u001b[39;49m\u001b[43mPI\u001b[49m\u001b[43m \u001b[49m\u001b[38;5;241;43m/\u001b[39;49m\u001b[43m \u001b[49m\u001b[38;5;241;43m2\u001b[39;49m\u001b[43m,\u001b[49m\u001b[43m \u001b[49m\u001b[43mu_max\u001b[49m\u001b[38;5;241;43m=\u001b[39;49m\u001b[43mPI\u001b[49m\u001b[43m \u001b[49m\u001b[38;5;241;43m/\u001b[39;49m\u001b[43m \u001b[49m\u001b[38;5;241;43m2\u001b[39;49m\u001b[43m,\u001b[49m\n\u001b[1;32m     27\u001b[0m \u001b[43m    \u001b[49m\u001b[43mcheckerboard_colors\u001b[49m\u001b[38;5;241;43m=\u001b[39;49m\u001b[43m[\u001b[49m\u001b[43mRED_D\u001b[49m\u001b[43m,\u001b[49m\u001b[43m \u001b[49m\u001b[43mRED_E\u001b[49m\u001b[43m]\u001b[49m\u001b[43m,\u001b[49m\u001b[43m \u001b[49m\u001b[43mresolution\u001b[49m\u001b[38;5;241;43m=\u001b[39;49m\u001b[43m(\u001b[49m\u001b[43mresolution_sphere\u001b[49m\u001b[43m,\u001b[49m\u001b[43mresolution_sphere\u001b[49m\u001b[43m)\u001b[49m\n\u001b[1;32m     28\u001b[0m \u001b[43m\u001b[49m\u001b[43m)\u001b[49m                                                                                                       \u001b[38;5;66;03m# Sphere Function \u001b[39;00m\n\u001b[1;32m     29\u001b[0m sphere\u001b[38;5;241m.\u001b[39mscale_about_point(\u001b[38;5;241m1.5\u001b[39m, ORIGIN)\n\u001b[1;32m     30\u001b[0m \u001b[38;5;28;01mdef\u001b[39;00m \u001b[38;5;21mparam_gauss\u001b[39m(u, v):                                                                                     \u001b[38;5;66;03m# Curve Function \u001b[39;00m\n",
      "File \u001b[0;32m~/DevTools/Manim/manDE/lib/python3.12/site-packages/manim/mobject/three_d/three_dimensions.py:124\u001b[0m, in \u001b[0;36mSurface.__init__\u001b[0;34m(self, func, u_range, v_range, resolution, surface_piece_config, fill_color, fill_opacity, checkerboard_colors, stroke_color, stroke_width, should_make_jagged, pre_function_handle_to_anchor_scale_factor, **kwargs)\u001b[0m\n\u001b[1;32m    122\u001b[0m \u001b[38;5;28mself\u001b[39m\u001b[38;5;241m.\u001b[39mu_range \u001b[38;5;241m=\u001b[39m u_range\n\u001b[1;32m    123\u001b[0m \u001b[38;5;28mself\u001b[39m\u001b[38;5;241m.\u001b[39mv_range \u001b[38;5;241m=\u001b[39m v_range\n\u001b[0;32m--> 124\u001b[0m \u001b[38;5;28;43msuper\u001b[39;49m\u001b[43m(\u001b[49m\u001b[43m)\u001b[49m\u001b[38;5;241;43m.\u001b[39;49m\u001b[38;5;21;43m__init__\u001b[39;49m\u001b[43m(\u001b[49m\u001b[38;5;241;43m*\u001b[39;49m\u001b[38;5;241;43m*\u001b[39;49m\u001b[43mkwargs\u001b[49m\u001b[43m)\u001b[49m\n\u001b[1;32m    125\u001b[0m \u001b[38;5;28mself\u001b[39m\u001b[38;5;241m.\u001b[39mresolution \u001b[38;5;241m=\u001b[39m resolution\n\u001b[1;32m    126\u001b[0m \u001b[38;5;28mself\u001b[39m\u001b[38;5;241m.\u001b[39msurface_piece_config \u001b[38;5;241m=\u001b[39m surface_piece_config\n",
      "File \u001b[0;32m~/DevTools/Manim/manDE/lib/python3.12/site-packages/manim/mobject/types/vectorized_mobject.py:1995\u001b[0m, in \u001b[0;36mVGroup.__init__\u001b[0;34m(self, *vmobjects, **kwargs)\u001b[0m\n\u001b[1;32m   1994\u001b[0m \u001b[38;5;28;01mdef\u001b[39;00m \u001b[38;5;21m__init__\u001b[39m(\u001b[38;5;28mself\u001b[39m, \u001b[38;5;241m*\u001b[39mvmobjects, \u001b[38;5;241m*\u001b[39m\u001b[38;5;241m*\u001b[39mkwargs):\n\u001b[0;32m-> 1995\u001b[0m     \u001b[38;5;28;43msuper\u001b[39;49m\u001b[43m(\u001b[49m\u001b[43m)\u001b[49m\u001b[38;5;241;43m.\u001b[39;49m\u001b[38;5;21;43m__init__\u001b[39;49m\u001b[43m(\u001b[49m\u001b[38;5;241;43m*\u001b[39;49m\u001b[38;5;241;43m*\u001b[39;49m\u001b[43mkwargs\u001b[49m\u001b[43m)\u001b[49m\n\u001b[1;32m   1996\u001b[0m     \u001b[38;5;28mself\u001b[39m\u001b[38;5;241m.\u001b[39madd(\u001b[38;5;241m*\u001b[39mvmobjects)\n",
      "File \u001b[0;32m~/DevTools/Manim/manDE/lib/python3.12/site-packages/manim/mobject/types/vectorized_mobject.py:170\u001b[0m, in \u001b[0;36mVMobject.__init__\u001b[0;34m(self, fill_color, fill_opacity, stroke_color, stroke_opacity, stroke_width, background_stroke_color, background_stroke_opacity, background_stroke_width, sheen_factor, joint_type, sheen_direction, close_new_points, pre_function_handle_to_anchor_scale_factor, make_smooth_after_applying_functions, background_image, shade_in_3d, tolerance_for_point_equality, n_points_per_cubic_curve, cap_style, **kwargs)\u001b[0m\n\u001b[1;32m    168\u001b[0m \u001b[38;5;28mself\u001b[39m\u001b[38;5;241m.\u001b[39mn_points_per_cubic_curve: \u001b[38;5;28mint\u001b[39m \u001b[38;5;241m=\u001b[39m n_points_per_cubic_curve\n\u001b[1;32m    169\u001b[0m \u001b[38;5;28mself\u001b[39m\u001b[38;5;241m.\u001b[39mcap_style: CapStyleType \u001b[38;5;241m=\u001b[39m cap_style\n\u001b[0;32m--> 170\u001b[0m \u001b[38;5;28;43msuper\u001b[39;49m\u001b[43m(\u001b[49m\u001b[43m)\u001b[49m\u001b[38;5;241;43m.\u001b[39;49m\u001b[38;5;21;43m__init__\u001b[39;49m\u001b[43m(\u001b[49m\u001b[38;5;241;43m*\u001b[39;49m\u001b[38;5;241;43m*\u001b[39;49m\u001b[43mkwargs\u001b[49m\u001b[43m)\u001b[49m\n\u001b[1;32m    171\u001b[0m \u001b[38;5;28mself\u001b[39m\u001b[38;5;241m.\u001b[39msubmobjects: \u001b[38;5;28mlist\u001b[39m[VMobject]\n\u001b[1;32m    173\u001b[0m \u001b[38;5;66;03m# TODO: Find where color overwrites are happening and remove the color doubling\u001b[39;00m\n\u001b[1;32m    174\u001b[0m \u001b[38;5;66;03m# if \"color\" in kwargs:\u001b[39;00m\n\u001b[1;32m    175\u001b[0m \u001b[38;5;66;03m#     fill_color = kwargs[\"color\"]\u001b[39;00m\n\u001b[1;32m    176\u001b[0m \u001b[38;5;66;03m#     stroke_color = kwargs[\"color\"]\u001b[39;00m\n",
      "\u001b[0;31mTypeError\u001b[0m: Mobject.__init__() got an unexpected keyword argument 'v_min'"
     ]
    }
   ],
   "source": [
    "# Written By MD Awlad Hossain\n",
    "# Youtube Cahnnel Funtional Value\n",
    "# Channel Link : http://youtube.com/FunctionalValue\n",
    "# FaceBook Page : http://facebook.com/FunctionalValue\n",
    "# My Profile : http://facebook.com/aawladd\n",
    "# CopyRight @ Functional Value\n",
    "\n",
    "\n",
    "# This Code Will run in Manim CE (Community v0.8.0)\n",
    "# To run this code type in Terminal  manim -pql 05ParametricCurve03.py\n",
    "\n",
    "from manim import *\n",
    "\n",
    "class ParametricCurve3(ThreeDScene):\n",
    "    def construct(self):\n",
    "        self.set_camera_orientation(phi=75 * DEGREES, theta=-30 * DEGREES)  # Set Camera Orientation\n",
    "        axes = ThreeDAxes()   # 3D Axes\n",
    "        resolution_curve = 30    # Resolution of curve\n",
    "        resolution_sphere = 30    #Resolution of Sphere\n",
    "\n",
    "        sphere = Surface(\n",
    "            lambda u, v: np.array([\n",
    "                1.5 * np.cos(u) * np.cos(v),\n",
    "                1.5 * np.cos(u) * np.sin(v),\n",
    "                1.5 * np.sin(u)\n",
    "            ]), v_min=0, v_max=TAU, u_min=-PI / 2, u_max=PI / 2,\n",
    "            checkerboard_colors=[RED_D, RED_E], resolution=(resolution_sphere,resolution_sphere)\n",
    "        )                                                                                                       # Sphere Function \n",
    "        sphere.scale_about_point(1.5, ORIGIN)\n",
    "        def param_gauss(u, v):                                                                                     # Curve Function \n",
    "            x = (1.6**v)*np.cos(v)*(1+np.cos(u)) \n",
    "            y =  (-1.6**v)*np.sin(v)*(1+np.cos(u))\n",
    "            z = (-2*1.6**v)*(1+np.sin(u))\n",
    "            return np.array([x, y, z])\n",
    "\n",
    "        gauss_plane = Surface(\n",
    "            param_gauss,\n",
    "            resolution=(resolution_curve, resolution_curve),\n",
    "            v_min=-10,\n",
    "            v_max= 10,\n",
    "            u_min=0,\n",
    "            u_max=TAU,\n",
    "        )\n",
    "        gauss_plane.scale_about_point(0.01, ORIGIN)\n",
    "        self.play(DrawBorderThenFill(axes))\n",
    "        self.play(Write(sphere))\n",
    "        self.play(sphere.animate.set_style(fill_opacity=1),sphere.animate.set_style(stroke_color=GREEN),sphere.animate.set_fill_by_checkerboard(GREEN, BLUE, opacity=0.3))\n",
    "        self.play(ReplacementTransform(sphere, gauss_plane))\n",
    "        self.play(gauss_plane.animate.set_style(fill_opacity=1),gauss_plane.animate.set_style(stroke_color=GREEN),gauss_plane.animate.set_fill_by_checkerboard(GREEN, BLUE, opacity=0.4))\n",
    "        self.play(gauss_plane.animate.scale_about_point(2.5, ORIGIN))\n",
    "        self.play(gauss_plane.animate.scale_about_point(2/5, ORIGIN))\n",
    "        self.play(gauss_plane.animate.set_fill_by_checkerboard(ORANGE, YELLOW, opacity=1))\n",
    "\n",
    "%manim -ql -v CRITICAL ParametricCurve3\n"
   ]
  },
  {
   "cell_type": "code",
   "execution_count": 16,
   "metadata": {},
   "outputs": [
    {
     "data": {
      "text/html": [
       "<pre style=\"white-space:pre;overflow-x:auto;line-height:normal;font-family:Menlo,'DejaVu Sans Mono',consolas,'Courier New',monospace\">Manim Community <span style=\"color: #008000; text-decoration-color: #008000\">v0.18.1</span>\n",
       "\n",
       "</pre>\n"
      ],
      "text/plain": [
       "Manim Community \u001b[32mv0.\u001b[0m\u001b[32m18.1\u001b[0m\n",
       "\n"
      ]
     },
     "metadata": {},
     "output_type": "display_data"
    },
    {
     "name": "stderr",
     "output_type": "stream",
     "text": [
      "                                                                                                                \r"
     ]
    },
    {
     "data": {
      "text/html": [
       "<video src=\"media/jupyter/DrawMatrix@2024-09-13@20-49-06.mp4\" controls autoplay loop style=\"max-width: 60%;\"  >\n",
       "      Your browser does not support the <code>video</code> element.\n",
       "    </video>"
      ],
      "text/plain": [
       "<IPython.core.display.Video object>"
      ]
     },
     "metadata": {},
     "output_type": "display_data"
    }
   ],
   "source": [
    "\n",
    "# Written By MD Awlad Hossain\n",
    "# Youtube Cahnnel Funtional Value\n",
    "# Channel Link : http://youtube.com/FunctionalValue\n",
    "# FaceBook Page : http://facebook.com/FunctionalValue\n",
    "# My Profile : http://facebook.com/aawladd\n",
    "# CopyRight @ Functional Value\n",
    "\n",
    "\n",
    "# This Code Will run in Manim CE (Community v0.10.0)\n",
    "\n",
    "\n",
    "from manim import *\n",
    "\n",
    "class DrawMatrix(ThreeDScene):\n",
    "    def construct(self):\n",
    "\n",
    "        self.set_camera_orientation(phi=75 * DEGREES, theta=30 * DEGREES)\n",
    "\n",
    "        # First Cube\n",
    "        s1 = Cube(fill_opacity=0.1, stroke_width=4)\n",
    "        s1.set_color(YELLOW)\n",
    "        s1.set_stroke(WHITE)\n",
    "        s1.scale(0.5)\n",
    "        self.play(DrawBorderThenFill(s1), run_time = 3)\n",
    "        self.wait()\n",
    "\n",
    "\n",
    "\n",
    "        # Second Cube\n",
    "        s2 = s1.copy()\n",
    "        s2.shift(UP, s1.get_arc_length())\n",
    "        s2.set_color(BLUE)\n",
    "        s2.set_stroke(WHITE)\n",
    "        self.play(ReplacementTransform(s1.copy(), s2), s1.animate.set_opacity(0.5), run_time = 3)\n",
    "        self.wait()\n",
    "        \n",
    "        # Third Cube\n",
    "        s3 = s1.copy()\n",
    "        s3.shift(DOWN, s1.get_arc_length())\n",
    "        s3.set_color(RED)\n",
    "        s3.set_stroke(WHITE)\n",
    "        self.play(ReplacementTransform(s1.copy(), s3), s2.animate.set_opacity(0.5), run_time = 3)\n",
    "        self.play(s3.animate.set_opacity(0.5))\n",
    "        self.wait()\n",
    "        \n",
    "        \n",
    "        \n",
    "        # Row 1\n",
    "        row1 = VGroup(s1, s2, s3)\n",
    "        self.play(Rotate(row1, 2*PI), run_time = 5)\n",
    "        self.wait()\n",
    "\n",
    "        # Row 2\n",
    "        row2 = row1.copy()\n",
    "        row2.set_opacity(0.1)\n",
    "        row2.shift(IN, s2.get_arc_length())\n",
    "        self.play(ReplacementTransform(row1.copy(), row2), run_time = 3)\n",
    "        self.play(row2.animate.set_opacity(0.5))\n",
    "\n",
    "        # Row 3\n",
    "        row3 = row1.copy()\n",
    "        row3.set_opacity(0.1)\n",
    "        row3.shift(OUT, s2.get_arc_length())\n",
    "        self.play(ReplacementTransform(row1.copy(), row3), run_time = 3)\n",
    "        self.play(row3.animate.set_opacity(0.5))\n",
    "        self.wait()\n",
    "        \n",
    "        \n",
    "        # Matri1\n",
    "        mat1 = VGroup(row1, row2, row3)\n",
    "        self.play(Rotate(mat1, 2*PI), run_time = 5)\n",
    "        self.wait()\n",
    "\n",
    "\n",
    "\n",
    "        # Matrix 2\n",
    "        mat2 = mat1.copy()\n",
    "        mat2.set_opacity(0.1)\n",
    "        mat2.shift(RIGHT,s2.get_arc_length())\n",
    "        self.play(ReplacementTransform(mat1.copy(), mat2), run_time = 3)\n",
    "        self.play(mat2.animate.set_opacity(0.5))\n",
    "        self.wait()\n",
    "\n",
    "\n",
    "        # Matrix 3\n",
    "        mat3 = mat1.copy()\n",
    "        mat3.set_opacity(0.1)\n",
    "        mat3.shift(LEFT,s2.get_arc_length())\n",
    "        self.play(ReplacementTransform(mat1.copy(), mat3), run_time = 3)\n",
    "        self.play(mat3.animate.set_opacity(0.5))\n",
    "        self.wait()\n",
    "\n",
    "        # Tensor 1\n",
    "        ten1 = VGroup(mat1, mat2, mat3)\n",
    "        self.play(Rotate(ten1, 2*PI), run_time = 15)\n",
    "\n",
    "# from manim import *\n",
    "\n",
    "# class DrawMatrix(ThreeDScene):\n",
    "#     def construct(self):\n",
    "\n",
    "#         self.set_camera_orientation(phi=75 * DEGREES, theta=30 * DEGREES)\n",
    "\n",
    "#         # First Cube\n",
    "#         s1 = Cube(fill_opacity=0.1, stroke_width=4)\n",
    "#         s1.set_color(YELLOW)\n",
    "#         s1.set_stroke(WHITE)\n",
    "#         s1.scale(0.5)\n",
    "#         self.play(DrawBorderThenFill(s1), run_time = 3)\n",
    "#         self.wait()\n",
    "\n",
    "\n",
    "\n",
    "#         # Second Cube\n",
    "#         s2 = s1.copy()\n",
    "#         s2.shift(UP, s1.get_arc_length())\n",
    "#         s2.set_color(BLUE)\n",
    "#         s2.set_stroke(WHITE)\n",
    "#         self.play(ReplacementTransform(s1.copy(), s2), s1.animate.set_opacity(0.5), run_time = 3)\n",
    "#         self.wait()\n",
    "        \n",
    "#         # Third Cube\n",
    "#         s3 = s1.copy()\n",
    "#         s3.shift(DOWN, s1.get_arc_length())\n",
    "#         s3.set_color(RED)\n",
    "#         s3.set_stroke(WHITE)\n",
    "#         self.play(ReplacementTransform(s1.copy(), s3), s2.animate.set_opacity(0.5), run_time = 3)\n",
    "#         self.play(s3.animate.set_opacity(0.5))\n",
    "#         self.wait()\n",
    "        \n",
    "        \n",
    "        \n",
    "#         # Row 1\n",
    "#         row1 = VGroup(s1, s2, s3)\n",
    "#         self.play(Rotate(row1, 2*PI), run_time = 5)\n",
    "#         self.wait()\n",
    "\n",
    "#         # Row 2\n",
    "#         row2 = row1.copy()\n",
    "#         row2.set_opacity(0.1)\n",
    "#         row2.shift(IN, s2.get_arc_length())\n",
    "#         self.play(ReplacementTransform(row1.copy(), row2), run_time = 3)\n",
    "#         self.play(row2.animate.set_opacity(0.5))\n",
    "\n",
    "#         # Row 3\n",
    "#         row3 = row1.copy()\n",
    "#         row3.set_opacity(0.1)\n",
    "#         row3.shift(OUT, s2.get_arc_length())\n",
    "#         self.play(ReplacementTransform(row1.copy(), row3), run_time = 3)\n",
    "#         self.play(row3.animate.set_opacity(0.5))\n",
    "#         self.wait()\n",
    "        \n",
    "        \n",
    "#         # Matri1\n",
    "#         mat1 = VGroup(row1, row2, row3)\n",
    "#         self.play(Rotate(mat1, 2*PI), run_time = 5)\n",
    "#         self.wait()\n",
    "\n",
    "\n",
    "\n",
    "#         # Matrix 2\n",
    "#         mat2 = mat1.copy()\n",
    "#         mat2.set_opacity(0.1)\n",
    "#         mat2.shift(RIGHT,s2.get_arc_length())\n",
    "#         self.play(ReplacementTransform(mat1.copy(), mat2), run_time = 3)\n",
    "#         self.play(mat2.animate.set_opacity(0.5))\n",
    "#         self.wait()\n",
    "\n",
    "\n",
    "#         # Matrix 3\n",
    "#         mat3 = mat1.copy()\n",
    "#         mat3.set_opacity(0.1)\n",
    "#         mat3.shift(LEFT,s2.get_arc_length())\n",
    "#         self.play(ReplacementTransform(mat1.copy(), mat3), run_time = 3)\n",
    "#         self.play(mat3.animate.set_opacity(0.5))\n",
    "#         self.wait()\n",
    "\n",
    "#         # Tensor 1\n",
    "#         ten1 = VGroup(mat1, mat2, mat3)\n",
    "#         self.play(Rotate(ten1, 2*PI), run_time = 15)\n",
    "\n",
    "\n",
    "%manim -ql -v CRITICAL DrawMatrix"
   ]
  },
  {
   "cell_type": "code",
   "execution_count": 18,
   "metadata": {},
   "outputs": [
    {
     "data": {
      "text/html": [
       "<pre style=\"white-space:pre;overflow-x:auto;line-height:normal;font-family:Menlo,'DejaVu Sans Mono',consolas,'Courier New',monospace\">Manim Community <span style=\"color: #008000; text-decoration-color: #008000\">v0.18.1</span>\n",
       "\n",
       "</pre>\n"
      ],
      "text/plain": [
       "Manim Community \u001b[32mv0.\u001b[0m\u001b[32m18.1\u001b[0m\n",
       "\n"
      ]
     },
     "metadata": {},
     "output_type": "display_data"
    },
    {
     "name": "stderr",
     "output_type": "stream",
     "text": [
      "                                                                                                                 \r"
     ]
    },
    {
     "data": {
      "text/html": [
       "<video src=\"media/jupyter/Toruss@2024-09-13@23-37-44.mp4\" controls autoplay loop style=\"max-width: 60%;\"  >\n",
       "      Your browser does not support the <code>video</code> element.\n",
       "    </video>"
      ],
      "text/plain": [
       "<IPython.core.display.Video object>"
      ]
     },
     "metadata": {},
     "output_type": "display_data"
    }
   ],
   "source": [
    "# Written By MD Awlad Hossain\n",
    "# Youtube Cahnnel Funtional Value\n",
    "# Channel Link : http://youtube.com/FunctionalValue\n",
    "# FaceBook Page : http://facebook.com/FunctionalValue\n",
    "# My Profile : http://facebook.com/aawladd\n",
    "# CopyRight @ Functional Value\n",
    "\n",
    "\n",
    "# This Code Will run in Manim CE (Community v0.11.0)\n",
    "\n",
    "from manim import *\n",
    "\n",
    "class Toruss(ThreeDScene):\n",
    "    def construct(self):\n",
    "        self.set_camera_orientation(phi=75 * DEGREES, theta=-30 * DEGREES)  # Set Camera Orientation\n",
    "        axes = ThreeDAxes()   # 3D Axes\n",
    "        resolution_curve = 80      # Resolution of curve\n",
    "        resolution_sphere = 80    #Resolution of Sphere\n",
    "\n",
    "        sphere = Surface(\n",
    "            lambda u, v: np.array([\n",
    "                1.5 * np.cos(u) * np.cos(v),\n",
    "                1.5 * np.cos(u) * np.sin(v),\n",
    "                1.5 * np.sin(u)\n",
    "            ]),\n",
    "            u_range=[-PI/2, PI/2],\n",
    "            v_range=[0, TAU],\n",
    "            checkerboard_colors=[RED_D, RED_E], resolution=(resolution_sphere,resolution_sphere)\n",
    "        )                                                                                                       # Sphere Function \n",
    "        sphere.scale(1.5)\n",
    "\n",
    "        def param_gauss(u, v):                                                                                     # Curve Function \n",
    "            x = (4 + np.sin(u))*np.cos(v)\n",
    "            y = (4 + np.sin(u))*np.sin(v)\n",
    "            z = np.cos(u)\n",
    "            return np.array([x, y, z])\n",
    "\n",
    "        gauss_plane = Surface(\n",
    "            param_gauss,\n",
    "            resolution=(resolution_curve, resolution_curve),\n",
    "            u_range=[0, TAU],\n",
    "            v_range=[0,TAU]\n",
    "        )\n",
    "        gauss_plane.scale(0.5)\n",
    "\n",
    "        self.play(DrawBorderThenFill(axes), run_time = 1.5)\n",
    "        self.play(Write(sphere), run_time = 5)\n",
    "        self.play(ReplacementTransform(sphere, gauss_plane), run_time = 15)\n",
    "        self.play(gauss_plane.animate.set_style(fill_opacity=1),gauss_plane.animate.set_style(stroke_color=GREEN),gauss_plane.animate.set_fill_by_checkerboard(GREEN, BLUE, opacity=0.1), run_time = 5)\n",
    "        self.play(gauss_plane.animate.scale(2), run_time = 3)\n",
    "        self.begin_ambient_camera_rotation(rate=0.05)\n",
    "        self.play(gauss_plane.animate.set_fill_by_checkerboard(ORANGE, YELLOW, opacity=0.5), run_time = 2)\n",
    "        self.wait(10)\n",
    "        self.stop_ambient_camera_rotation()\n",
    "\n",
    "%manim -ql -v CRITICAL Toruss"
   ]
  }
 ],
 "metadata": {
  "kernelspec": {
   "display_name": "manDE",
   "language": "python",
   "name": "python3"
  },
  "language_info": {
   "codemirror_mode": {
    "name": "ipython",
    "version": 3
   },
   "file_extension": ".py",
   "mimetype": "text/x-python",
   "name": "python",
   "nbconvert_exporter": "python",
   "pygments_lexer": "ipython3",
   "version": "3.12.4"
  }
 },
 "nbformat": 4,
 "nbformat_minor": 2
}
