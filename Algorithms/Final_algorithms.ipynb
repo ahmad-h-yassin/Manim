{
 "cells": [
  {
   "cell_type": "code",
   "execution_count": 1,
   "metadata": {},
   "outputs": [
    {
     "data": {
      "text/html": [
       "<pre style=\"white-space:pre;overflow-x:auto;line-height:normal;font-family:Menlo,'DejaVu Sans Mono',consolas,'Courier New',monospace\">Manim Community <span style=\"color: #008000; text-decoration-color: #008000\">v0.18.0</span>\n",
       "\n",
       "</pre>\n"
      ],
      "text/plain": [
       "Manim Community \u001b[32mv0.\u001b[0m\u001b[32m18.0\u001b[0m\n",
       "\n"
      ]
     },
     "metadata": {},
     "output_type": "display_data"
    }
   ],
   "source": [
    "from manim import *\n",
    "\n",
    "config.verbosity = \"WARNING\""
   ]
  },
  {
   "cell_type": "code",
   "execution_count": 2,
   "metadata": {},
   "outputs": [
    {
     "name": "stderr",
     "output_type": "stream",
     "text": [
      "                                                                                              \r"
     ]
    },
    {
     "data": {
      "text/html": [
       "<video src=\"media/jupyter/BubbleSortVisualization@2024-03-20@16-55-30.mp4\" controls autoplay loop style=\"max-width: 60%;\"  >\n",
       "      Your browser does not support the <code>video</code> element.\n",
       "    </video>"
      ],
      "text/plain": [
       "<IPython.core.display.Video object>"
      ]
     },
     "metadata": {},
     "output_type": "display_data"
    }
   ],
   "source": [
    "%%manim -ql BubbleSortVisualization\n",
    "\n",
    "import random\n",
    "class BubbleSortVisualization(Scene):\n",
    "    def construct(self):\n",
    "        # Define the array to be sorted\n",
    "        # Create an empty list to store random numbers\n",
    "        random_numbers = []\n",
    "\n",
    "        # Generate 10 random whole numbers between 0 (inclusive) and 100 (exclusive)\n",
    "        for _ in range(10):\n",
    "            random_numbers.append(random.randint(1, 20))\n",
    "\n",
    "        # array = [4, 3, 2, 1, 5]\n",
    "        array = random_numbers\n",
    "\n",
    "        num_elements = len(array)\n",
    "\n",
    "        # Create a list of rectangles for each element in the array\n",
    "        rects = [Rectangle(height=num/2, width=0.5, fill_color=BLUE, fill_opacity=1) for num in array]\n",
    "\n",
    "        # Position the rectangles\n",
    "        for i, rect in enumerate(rects):\n",
    "            rect.move_to(LEFT * (i - (num_elements - 1) / 2))\n",
    "\n",
    "        # Add the rectangles to the scene\n",
    "        self.play(*[Create(rect) for rect in rects])\n",
    "\n",
    "        # Bubble sort logic with movement animation\n",
    "        def bubble_sort(arr, elements):\n",
    "            n = len(arr)\n",
    "            for i in range(n):\n",
    "                for j in range(0, n-i-1):\n",
    "                    # Highlight the element being replaced by changing its color to red\n",
    "                    elements[j].set_fill(RED)\n",
    "                    # Swap arr[j] and arr[j+1] if arr[j] > arr[j+1]\n",
    "                    if arr[j] > arr[j+1]:\n",
    "                        arr[j], arr[j+1] = arr[j+1], arr[j]\n",
    "                        # Swap the rectangles\n",
    "                        elements[j], elements[j+1] = elements[j+1], elements[j]\n",
    "                        # Animate the swapping of elements\n",
    "                        self.play(elements[j].animate.move_to(elements[j+1].get_center()),\n",
    "                                 elements[j+1].animate.move_to(elements[j].get_center()),\n",
    "                                 run_time=0.5)\n",
    "                    # Revert the color back to blue after the swap is completed\n",
    "                    elements[j].set_fill(BLUE)\n",
    "                # Highlight the last element after it's no longer being moved or swapped\n",
    "                elements[n-i-1].set_fill(GREEN)\n",
    "\n",
    "        # Perform the bubble sort animation\n",
    "        bubble_sort(array, rects)\n",
    "\n",
    "        # Wait before ending the scene\n",
    "        self.wait()\n"
   ]
  }
 ],
 "metadata": {
  "kernelspec": {
   "display_name": "manDE",
   "language": "python",
   "name": "python3"
  },
  "language_info": {
   "codemirror_mode": {
    "name": "ipython",
    "version": 3
   },
   "file_extension": ".py",
   "mimetype": "text/x-python",
   "name": "python",
   "nbconvert_exporter": "python",
   "pygments_lexer": "ipython3",
   "version": "3.11.8"
  }
 },
 "nbformat": 4,
 "nbformat_minor": 2
}
