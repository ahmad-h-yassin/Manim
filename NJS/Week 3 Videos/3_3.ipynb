{
 "cells": [
  {
   "cell_type": "code",
   "execution_count": 1,
   "metadata": {},
   "outputs": [
    {
     "data": {
      "text/html": [
       "<pre style=\"white-space:pre;overflow-x:auto;line-height:normal;font-family:Menlo,'DejaVu Sans Mono',consolas,'Courier New',monospace\">Manim Community <span style=\"color: #008000; text-decoration-color: #008000\">v0.18.1</span>\n",
       "\n",
       "</pre>\n"
      ],
      "text/plain": [
       "Manim Community \u001b[32mv0.\u001b[0m\u001b[32m18.1\u001b[0m\n",
       "\n"
      ]
     },
     "metadata": {},
     "output_type": "display_data"
    },
    {
     "name": "stderr",
     "output_type": "stream",
     "text": [
      "                                                                                                                                                                                                                                            \r"
     ]
    },
    {
     "data": {
      "text/html": [
       "<video src=\"media/jupyter/ServerComponents@2024-07-11@01-52-48.mp4\" controls autoplay loop style=\"max-width: 60%;\"  >\n",
       "      Your browser does not support the <code>video</code> element.\n",
       "    </video>"
      ],
      "text/plain": [
       "<IPython.core.display.Video object>"
      ]
     },
     "metadata": {},
     "output_type": "display_data"
    }
   ],
   "source": [
    "from manim import *\n",
    "\n",
    "class ServerComponents(Scene):\n",
    "    def construct(self):\n",
    "        # Title\n",
    "        title = Text(\"Server in Backend Development\", font_size=48)\n",
    "        self.play(Write(title))\n",
    "        self.wait(2)\n",
    "        self.play(title.animate.to_edge(UP))\n",
    "\n",
    "        # Definition\n",
    "        definition = Text(\"A server is a computer that stores, shares data, and provides services like websites,\\n\"\n",
    "                          \"applications, databases, and email over the internet or local network.\", \n",
    "                          font_size=24, color=BLUE).next_to(title, DOWN, buff=0.5)\n",
    "        self.play(Write(definition))\n",
    "        self.wait(3)\n",
    "\n",
    "        # Server Components\n",
    "        self.play(FadeOut(definition))\n",
    "        components_title = Text(\"Server Components:\", font_size=36, color=YELLOW).next_to(title, DOWN, buff=0.5).to_edge(LEFT)\n",
    "        components = VGroup(\n",
    "            Text(\"1. Hardware\", font_size=28),\n",
    "            Text(\"2. Software\", font_size=28),\n",
    "            Text(\"3. Operating System\", font_size=28),\n",
    "            Text(\"4. Networking Equipment\", font_size=28),\n",
    "            Text(\"5. Security Measures\", font_size=28)\n",
    "        ).arrange(DOWN, aligned_edge=LEFT, buff=0.3).next_to(components_title, DOWN, buff=0.3)\n",
    "\n",
    "        self.play(Write(components_title))\n",
    "        for component in components:\n",
    "            self.play(Write(component))\n",
    "            self.wait(0.5)\n",
    "        self.wait(2)\n",
    "\n",
    "        # Detailed explanations\n",
    "        explanations = {\n",
    "            \"Hardware\": \"Processors, RAM, Hard Drives\",\n",
    "            \"Software\": \"Web servers (Apache, Nginx), Database servers (MySQL, PostgreSQL)\",\n",
    "            \"Operating System\": \"Linux (Ubuntu, CentOS), Windows Server\",\n",
    "            \"Networking Equipment\": \"Routers, Switches for network connectivity\",\n",
    "            \"Security Measures\": \"Firewalls, Data encryption\"\n",
    "        }\n",
    "        \n",
    "        for component, explanation in zip(components, explanations.values()):\n",
    "            detail = Text(explanation, font_size=20, color=GREEN)\n",
    "            detail.next_to(component, RIGHT, buff=0.5)\n",
    "            self.play(Write(detail))\n",
    "            self.wait(2)\n",
    "            self.play(FadeOut(detail))\n",
    "\n",
    "        # Backend deployment\n",
    "        deploy_text = Text(\"Backend code is deployed to the server as the final step in creating a backend system.\", \n",
    "                           font_size=24, color=RED).next_to(components,DOWN, buff=1)\n",
    "        deploy_text.move_to([0,deploy_text.get_y(),0])\n",
    "        self.play(Write(deploy_text))\n",
    "\n",
    "# %manim -ql -v WARNING --save_last_frame ServerComponents\n",
    "%manim -qh -v WARNING ServerComponents\n",
    "\n",
    "\n"
   ]
  }
 ],
 "metadata": {
  "kernelspec": {
   "display_name": "manDE",
   "language": "python",
   "name": "python3"
  },
  "language_info": {
   "codemirror_mode": {
    "name": "ipython",
    "version": 3
   },
   "file_extension": ".py",
   "mimetype": "text/x-python",
   "name": "python",
   "nbconvert_exporter": "python",
   "pygments_lexer": "ipython3",
   "version": "3.12.4"
  }
 },
 "nbformat": 4,
 "nbformat_minor": 2
}
