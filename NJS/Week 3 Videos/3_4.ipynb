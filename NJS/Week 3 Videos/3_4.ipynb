{
 "cells": [
  {
   "cell_type": "code",
   "execution_count": 1,
   "metadata": {},
   "outputs": [
    {
     "data": {
      "text/html": [
       "<pre style=\"white-space:pre;overflow-x:auto;line-height:normal;font-family:Menlo,'DejaVu Sans Mono',consolas,'Courier New',monospace\">Manim Community <span style=\"color: #008000; text-decoration-color: #008000\">v0.18.1</span>\n",
       "\n",
       "</pre>\n"
      ],
      "text/plain": [
       "Manim Community \u001b[32mv0.\u001b[0m\u001b[32m18.1\u001b[0m\n",
       "\n"
      ]
     },
     "metadata": {},
     "output_type": "display_data"
    },
    {
     "name": "stderr",
     "output_type": "stream",
     "text": [
      "                                                                                                                                                                  \r"
     ]
    },
    {
     "data": {
      "text/html": [
       "<video src=\"media/jupyter/APIConcepts@2024-07-11@01-51-57.mp4\" controls autoplay loop style=\"max-width: 60%;\"  >\n",
       "      Your browser does not support the <code>video</code> element.\n",
       "    </video>"
      ],
      "text/plain": [
       "<IPython.core.display.Video object>"
      ]
     },
     "metadata": {},
     "output_type": "display_data"
    }
   ],
   "source": [
    "from manim import *\n",
    "\n",
    "class APIConcepts(Scene):\n",
    "    def construct(self):\n",
    "        # Title\n",
    "        title = Text(\"API (Application Programming Interface)\", font_size=48)\n",
    "        self.play(Write(title))\n",
    "        self.wait(2)\n",
    "        self.play(title.animate.to_edge(UP))\n",
    "\n",
    "        # Definition\n",
    "        definition = Text(\"A set of rules and protocols for communication between different computer programs.\", \n",
    "                          font_size=24, color=BLUE)\n",
    "        definition.next_to(title, DOWN, buff=0.5)\n",
    "        self.play(Write(definition))\n",
    "        self.wait(2)\n",
    "\n",
    "        # API Types\n",
    "        self.play(FadeOut(definition))\n",
    "        types_title = Text(\"Types of APIs\", font_size=36)\n",
    "        types_title.next_to(title, DOWN, buff=0.5)\n",
    "        self.play(Write(types_title))\n",
    "\n",
    "        api_types = VGroup(\n",
    "            Text(\"• RESTful API (Most common)\", font_size=24),\n",
    "            Text(\"• SOAP API\", font_size=24),\n",
    "            Text(\"• GraphQL API\", font_size=24)\n",
    "        ).arrange(DOWN, aligned_edge=LEFT)\n",
    "        api_types.next_to(types_title, DOWN, buff=0.5)\n",
    "\n",
    "        for api_type in api_types:\n",
    "            self.play(Write(api_type))\n",
    "            self.wait(1)\n",
    "\n",
    "        self.wait(2)\n",
    "\n",
    "        # RESTful Concepts\n",
    "        self.play(FadeOut(types_title), FadeOut(api_types))\n",
    "        restful_title = Text(\"RESTful API Concepts\", font_size=36)\n",
    "        restful_title.next_to(title, DOWN, buff=0.5)\n",
    "        self.play(Write(restful_title))\n",
    "\n",
    "        concepts = [\n",
    "            (\"Resources\", \"Data treated as resources with unique URLs\"),\n",
    "            (\"HTTP Methods\", \"GET, POST, PUT, DELETE\"),\n",
    "            (\"Stateless\", \"Each request is independent\"),\n",
    "            (\"Separation of Concerns\", \"Operations on separate resources\"),\n",
    "            (\"Data Format\", \"JSON or XML\")\n",
    "        ]\n",
    "\n",
    "        concept_group = VGroup()\n",
    "        for concept, description in concepts:\n",
    "            concept_text = Text(f\"• {concept}:\", font_size=24, color=YELLOW)\n",
    "            description_text = Text(description, font_size=20, color=WHITE)\n",
    "            group = VGroup(concept_text, description_text).arrange(RIGHT, buff=0.3)\n",
    "            concept_group.add(group)\n",
    "\n",
    "        concept_group.arrange(DOWN, aligned_edge=LEFT, buff=0.5)\n",
    "        concept_group.next_to(restful_title, DOWN, buff=0.5)\n",
    "\n",
    "        for concept in concept_group:\n",
    "            self.play(Write(concept))\n",
    "            self.wait(1.5)\n",
    "\n",
    "        self.wait(2)\n",
    "\n",
    "\n",
    "\n",
    "%manim -qh -v Warning APIConcepts"
   ]
  },
  {
   "cell_type": "code",
   "execution_count": null,
   "metadata": {},
   "outputs": [],
   "source": []
  }
 ],
 "metadata": {
  "kernelspec": {
   "display_name": "manDE",
   "language": "python",
   "name": "python3"
  },
  "language_info": {
   "codemirror_mode": {
    "name": "ipython",
    "version": 3
   },
   "file_extension": ".py",
   "mimetype": "text/x-python",
   "name": "python",
   "nbconvert_exporter": "python",
   "pygments_lexer": "ipython3",
   "version": "3.12.4"
  }
 },
 "nbformat": 4,
 "nbformat_minor": 2
}
