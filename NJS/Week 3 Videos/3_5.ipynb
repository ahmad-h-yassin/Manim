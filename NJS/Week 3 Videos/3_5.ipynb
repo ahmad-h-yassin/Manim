{
 "cells": [
  {
   "cell_type": "code",
   "execution_count": 1,
   "metadata": {},
   "outputs": [
    {
     "data": {
      "text/html": [
       "<pre style=\"white-space:pre;overflow-x:auto;line-height:normal;font-family:Menlo,'DejaVu Sans Mono',consolas,'Courier New',monospace\">Manim Community <span style=\"color: #008000; text-decoration-color: #008000\">v0.18.1</span>\n",
       "\n",
       "</pre>\n"
      ],
      "text/plain": [
       "Manim Community \u001b[32mv0.\u001b[0m\u001b[32m18.1\u001b[0m\n",
       "\n"
      ]
     },
     "metadata": {},
     "output_type": "display_data"
    },
    {
     "name": "stderr",
     "output_type": "stream",
     "text": [
      "                                                                                                                                                                                        \r"
     ]
    },
    {
     "data": {
      "text/html": [
       "<video src=\"media/jupyter/FrameworkAndExpress@2024-07-11@01-52-10.mp4\" controls autoplay loop style=\"max-width: 60%;\"  >\n",
       "      Your browser does not support the <code>video</code> element.\n",
       "    </video>"
      ],
      "text/plain": [
       "<IPython.core.display.Video object>"
      ]
     },
     "metadata": {},
     "output_type": "display_data"
    }
   ],
   "source": [
    "from manim import *\n",
    "\n",
    "class FrameworkAndExpress(Scene):\n",
    "    def construct(self):\n",
    "        # Title\n",
    "        title = Text(\"Backend Frameworks\", font_size=48)\n",
    "        self.play(Write(title))\n",
    "        self.wait(2)\n",
    "        self.play(title.animate.to_edge(UP))\n",
    "\n",
    "        # Definition\n",
    "        definition = Text(\"A set of tools, libraries, and conventions\\nfor building web applications quickly and efficiently.\", \n",
    "                          font_size=24, color=BLUE).next_to(title, DOWN, buff=0.5)\n",
    "        self.play(Write(definition))\n",
    "        self.wait(2)\n",
    "\n",
    "        # Framework benefits\n",
    "        benefits_title = Text(\"Framework Benefits:\", font_size=36, color=YELLOW).next_to(definition, DOWN, buff=0.5)\n",
    "        benefits = VGroup(\n",
    "            Text(\"• Structured development approach\", font_size=24),\n",
    "            Text(\"• Reusable components\", font_size=24),\n",
    "            Text(\"• Best practices and patterns\", font_size=24),\n",
    "            Text(\"• More stable applications\", font_size=24),\n",
    "            Text(\"• Faster development\", font_size=24),\n",
    "            Text(\"• Easier work transfer between developers\", font_size=24),\n",
    "            Text(\"• Better Communication\", font_size=24)\n",
    "\n",
    "        ).arrange(DOWN, aligned_edge=LEFT, buff=0.3).next_to(benefits_title, DOWN, buff=0.3)\n",
    "\n",
    "        self.play(Write(benefits_title))\n",
    "        for benefit in benefits:\n",
    "            self.play(Write(benefit))\n",
    "            self.wait(0.5)\n",
    "        self.wait(2)\n",
    "\n",
    "        # Node.js Frameworks\n",
    "        self.play(FadeOut(definition), FadeOut(benefits_title), FadeOut(benefits))\n",
    "        nodejs_title = Text(\"Popular Node.js Frameworks:\", font_size=36, color=GREEN).next_to(title, DOWN, buff=0.5)\n",
    "        nodejs_frameworks = VGroup(\n",
    "            Text(\"• Express.js\", font_size=28),\n",
    "            Text(\"• Koa.js\", font_size=28),\n",
    "            Text(\"• NestJS\", font_size=28)\n",
    "        ).arrange(DOWN, aligned_edge=LEFT, buff=0.3).next_to(nodejs_title, DOWN, buff=0.3)\n",
    "\n",
    "        self.play(Write(nodejs_title))\n",
    "        for framework in nodejs_frameworks:\n",
    "            self.play(Write(framework))\n",
    "            self.wait(0.5)\n",
    "        self.wait(2)\n",
    "\n",
    "        # Focus on Express.js\n",
    "        self.play(FadeOut(nodejs_title), FadeOut(nodejs_frameworks))\n",
    "        express_title = Text(\"Focus on Express.js\", font_size=36, color=RED).next_to(title, DOWN, buff=0.5)\n",
    "        express_info = Text(\"We'll learn how to use the Express Framework in this course.\", \n",
    "                            font_size=24).next_to(express_title, DOWN, buff=0.5)\n",
    "\n",
    "        self.play(Write(express_title))\n",
    "        self.play(Write(express_info))\n",
    "        self.wait(2)\n",
    "\n",
    "        # # Conclusion\n",
    "        # self.play(FadeOut(express_title), FadeOut(express_info))\n",
    "        # conclusion = Text(\"Let's dive into Express.js and start building!\", \n",
    "        #                   font_size=32, color=GREEN).next_to(title, DOWN, buff=1)\n",
    "        # self.play(Write(conclusion))\n",
    "        # self.wait(3)\n",
    "\n",
    "        # # Fade out everything\n",
    "        # self.play(FadeOut(title), FadeOut(conclusion))\n",
    "        # self.wait(1)\n",
    "%manim -qh -v Warning FrameworkAndExpress"
   ]
  },
  {
   "cell_type": "code",
   "execution_count": null,
   "metadata": {},
   "outputs": [],
   "source": []
  }
 ],
 "metadata": {
  "kernelspec": {
   "display_name": "manDE",
   "language": "python",
   "name": "python3"
  },
  "language_info": {
   "codemirror_mode": {
    "name": "ipython",
    "version": 3
   },
   "file_extension": ".py",
   "mimetype": "text/x-python",
   "name": "python",
   "nbconvert_exporter": "python",
   "pygments_lexer": "ipython3",
   "version": "3.12.4"
  }
 },
 "nbformat": 4,
 "nbformat_minor": 2
}
