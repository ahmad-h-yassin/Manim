{
 "cells": [
  {
   "cell_type": "code",
   "execution_count": 1,
   "metadata": {},
   "outputs": [
    {
     "data": {
      "text/html": [
       "<pre style=\"white-space:pre;overflow-x:auto;line-height:normal;font-family:Menlo,'DejaVu Sans Mono',consolas,'Courier New',monospace\">Manim Community <span style=\"color: #008000; text-decoration-color: #008000\">v0.18.1</span>\n",
       "\n",
       "</pre>\n"
      ],
      "text/plain": [
       "Manim Community \u001b[32mv0.\u001b[0m\u001b[32m18.1\u001b[0m\n",
       "\n"
      ]
     },
     "metadata": {},
     "output_type": "display_data"
    },
    {
     "name": "stderr",
     "output_type": "stream",
     "text": [
      "                                                                                                                                                                                    \r"
     ]
    },
    {
     "data": {
      "text/html": [
       "<video src=\"media/jupyter/LoggingConcept@2024-07-11@01-51-09.mp4\" controls autoplay loop style=\"max-width: 60%;\"  >\n",
       "      Your browser does not support the <code>video</code> element.\n",
       "    </video>"
      ],
      "text/plain": [
       "<IPython.core.display.Video object>"
      ]
     },
     "metadata": {},
     "output_type": "display_data"
    }
   ],
   "source": [
    "from manim import *\n",
    "\n",
    "class LoggingConcept(Scene):\n",
    "    def construct(self):\n",
    "        # Title\n",
    "        title = Text(\"Logging in Backend Development\", font_size=48)\n",
    "        self.play(Write(title))\n",
    "        self.wait(2)\n",
    "        self.play(title.animate.to_edge(UP))\n",
    "\n",
    "        # Definition\n",
    "        definition = Text(\"Logging is the process of recording important activities\\n\"\n",
    "                          \"within an application or on a server.\", \n",
    "                          font_size=24, color=BLUE).next_to(title, DOWN, buff=0.5)\n",
    "        self.play(Write(definition))\n",
    "        self.wait(3)\n",
    "\n",
    "        # What is logged\n",
    "        logged_info = Text(\"Logs typically include errors, warnings, and unauthorized activities.\", \n",
    "                           font_size=22, color=GREEN).next_to(definition, DOWN, buff=0.3)\n",
    "        self.play(Write(logged_info))\n",
    "        self.wait(2)\n",
    "\n",
    "        # Importance of Logging\n",
    "        self.play(FadeOut(definition), FadeOut(logged_info))\n",
    "        importance_title = Text(\"Importance of Logging:\", font_size=36, color=YELLOW).next_to(title, DOWN, buff=0.5)\n",
    "        importance_points = VGroup(\n",
    "            Text(\"• Problem analysis\", font_size=24),\n",
    "            Text(\"• Performance monitoring\", font_size=24),\n",
    "            Text(\"• Security and compliance\", font_size=24)\n",
    "        ).arrange(DOWN, aligned_edge=LEFT, buff=0.3).next_to(importance_title, DOWN, buff=0.3)\n",
    "\n",
    "        self.play(Write(importance_title))\n",
    "        for point in importance_points:\n",
    "            self.play(Write(point))\n",
    "            self.wait(0.5)\n",
    "        self.wait(2)\n",
    "\n",
    "        # Examples\n",
    "        self.play(FadeOut(importance_title), FadeOut(importance_points))\n",
    "        \n",
    "        # Example 1\n",
    "        example1_title = Text(\"Example 1: User Login\", font_size=28).next_to(title, DOWN, buff=0.5)\n",
    "        example1_points = VGroup(\n",
    "            Text(\"• Log successful login attempts\", font_size=24),\n",
    "            Text(\"• Record timestamp and IP address\", font_size=24)\n",
    "        ).arrange(DOWN, aligned_edge=LEFT, buff=0.2).next_to(example1_title, DOWN, buff=0.3)\n",
    "        \n",
    "        log_entry1 = Code(\n",
    "            code=\"\"\"\n",
    "            2023-07-05 14:30:15 [INFO] User login successful\n",
    "            Username: john_doe\n",
    "            IP Address: 192.168.1.100\n",
    "            \"\"\",\n",
    "            language=\"text\",\n",
    "            font_size=20,\n",
    "            background=\"rectangle\",\n",
    "            background_stroke_width=1,\n",
    "            background_stroke_color=WHITE,\n",
    "        ).next_to(example1_points, DOWN, buff=0.3)\n",
    "\n",
    "        # self.play(Write(example1_title))\n",
    "        # for point in example1_points:\n",
    "        #     self.play(Write(point))\n",
    "        #     self.wait(0.5)\n",
    "        # self.play(Create(log_entry1))\n",
    "        # self.wait(2)\n",
    "        self.play(FadeIn(example1_title), FadeIn(example1_points), FadeIn(log_entry1))\n",
    "        \n",
    "        self.wait(2)\n",
    "        self.play(FadeOut(example1_title), FadeOut(example1_points), FadeOut(log_entry1))\n",
    "        \n",
    "        # Example 2\n",
    "        example2_title = Text(\"Example 2: Data Processing Error\", font_size=28).next_to(title, DOWN, buff=0.5)\n",
    "        example2_points = VGroup(\n",
    "            Text(\"• Log error information\", font_size=24),\n",
    "            Text(\"• Record error type and timestamp\", font_size=24)\n",
    "        ).arrange(DOWN, aligned_edge=LEFT, buff=0.2).next_to(example2_title, DOWN, buff=0.3)\n",
    "        \n",
    "        log_entry2 = Code(\n",
    "            code=\"\"\"\n",
    "            2023-07-05 14:32:20 [ERROR] Data processing failed\n",
    "            Error: NullPointerException\n",
    "            \"\"\",\n",
    "            language=\"text\",\n",
    "            font_size=20,\n",
    "            background=\"rectangle\",\n",
    "            background_stroke_width=1,\n",
    "            background_stroke_color=WHITE,\n",
    "        ).next_to(example2_points, DOWN, buff=0.3)\n",
    "\n",
    "        # self.play(Write(example2_title))\n",
    "        # for point in example2_points:\n",
    "        #     self.play(Write(point))\n",
    "        #     self.wait(0.5)\n",
    "        # self.play(Create(log_entry2))\n",
    "        # self.wait(2)\n",
    "        self.play(FadeIn(example2_title), FadeIn(example2_points), FadeIn(log_entry2))\n",
    "        self.wait(2)\n",
    "        self.play(FadeOut(example2_title), FadeOut(example2_points), FadeOut(log_entry2))\n",
    "\n",
    "\n",
    "%manim -qh -v WARNING LoggingConcept\n"
   ]
  },
  {
   "cell_type": "code",
   "execution_count": null,
   "metadata": {},
   "outputs": [],
   "source": []
  }
 ],
 "metadata": {
  "kernelspec": {
   "display_name": "manDE",
   "language": "python",
   "name": "python3"
  },
  "language_info": {
   "codemirror_mode": {
    "name": "ipython",
    "version": 3
   },
   "file_extension": ".py",
   "mimetype": "text/x-python",
   "name": "python",
   "nbconvert_exporter": "python",
   "pygments_lexer": "ipython3",
   "version": "3.12.4"
  }
 },
 "nbformat": 4,
 "nbformat_minor": 2
}
