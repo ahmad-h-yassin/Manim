{
 "cells": [
  {
   "cell_type": "code",
   "execution_count": 1,
   "metadata": {},
   "outputs": [
    {
     "data": {
      "text/html": [
       "<pre style=\"white-space:pre;overflow-x:auto;line-height:normal;font-family:Menlo,'DejaVu Sans Mono',consolas,'Courier New',monospace\">Manim Community <span style=\"color: #008000; text-decoration-color: #008000\">v0.18.1</span>\n",
       "\n",
       "</pre>\n"
      ],
      "text/plain": [
       "Manim Community \u001b[32mv0.\u001b[0m\u001b[32m18.1\u001b[0m\n",
       "\n"
      ]
     },
     "metadata": {},
     "output_type": "display_data"
    },
    {
     "name": "stderr",
     "output_type": "stream",
     "text": [
      "                                                                                                                                                                                                    \r"
     ]
    },
    {
     "data": {
      "text/html": [
       "<video src=\"media/jupyter/AuthorizationConcepts@2024-07-11@01-52-54.mp4\" controls autoplay loop style=\"max-width: 60%;\"  >\n",
       "      Your browser does not support the <code>video</code> element.\n",
       "    </video>"
      ],
      "text/plain": [
       "<IPython.core.display.Video object>"
      ]
     },
     "metadata": {},
     "output_type": "display_data"
    }
   ],
   "source": [
    "from manim import *\n",
    "\n",
    "class AuthorizationConcepts(Scene):\n",
    "    def construct(self):\n",
    "        # Title\n",
    "        title = Text(\"Authorization in Backend Development\", font_size=48)\n",
    "        self.play(Write(title))\n",
    "        self.wait(2)\n",
    "        self.play(title.animate.to_edge(UP))\n",
    "\n",
    "        # Definition\n",
    "        definition = Text(\"Authorization is the process of determining what actions\\n\"\n",
    "                          \"a user is allowed to perform within a system (permissions).\", \n",
    "                          font_size=24, color=BLUE).next_to(title, DOWN, buff=0.5)\n",
    "        self.play(Write(definition))\n",
    "        self.wait(3)\n",
    "\n",
    "        # Examples\n",
    "        self.play(FadeOut(definition))\n",
    "        examples_title = Text(\"Examples:\", font_size=36, color=YELLOW).next_to(title, DOWN, buff=0.5)\n",
    "        examples = VGroup(\n",
    "            Text(\"1. Flight Booking System:\", font_size=28),\n",
    "            Text(\"   • Admins can add/edit flights\", font_size=24),\n",
    "            Text(\"   • Regular users can only view flights\", font_size=24),\n",
    "            Text(\"2. Social Media:\", font_size=28),\n",
    "            Text(\"   • Registered users can post and comment\", font_size=24),\n",
    "            Text(\"   • Visitors cannot post or comment\", font_size=24)\n",
    "        ).arrange(DOWN, aligned_edge=LEFT, buff=0.2).next_to(examples_title, DOWN, buff=0.3)\n",
    "\n",
    "        self.play(Write(examples_title))\n",
    "        for example in examples:\n",
    "            self.play(Write(example))\n",
    "            self.wait(0.5)\n",
    "        self.wait(2)\n",
    "\n",
    "        # Testing Authorization\n",
    "        self.play(FadeOut(examples_title), FadeOut(examples))\n",
    "        testing_title = Text(\"Testing Authorization:\", font_size=36, color=GREEN).next_to(title, DOWN, buff=0.5)\n",
    "        testing_steps = VGroup(\n",
    "            Text(\"1. Create a simple app with login functionality\", font_size=24),\n",
    "            Text(\"2. Include pages with different access levels\", font_size=24),\n",
    "            Text(\"3. Log in with different accounts\", font_size=24),\n",
    "            Text(\"4. Test access to various resources\", font_size=24)\n",
    "        ).arrange(DOWN, aligned_edge=LEFT, buff=0.3).next_to(testing_title, DOWN, buff=0.3)\n",
    "\n",
    "        self.play(Write(testing_title))\n",
    "        for step in testing_steps:\n",
    "            self.play(Write(step))\n",
    "            self.wait(0.5)\n",
    "        self.wait(2)\n",
    "\n",
    "        # Token in Request Header\n",
    "        self.play(FadeOut(testing_title), FadeOut(testing_steps))\n",
    "        token_title = Text(\"Using Tokens in Request Headers:\", font_size=36, color=RED).next_to(title, DOWN, buff=0.5)\n",
    "        token_info = VGroup(\n",
    "            Text(\"• Use 'Bearer' keyword followed by the token\", font_size=24),\n",
    "            Text(\"• App checks user permissions for each request\", font_size=24),\n",
    "            Text(\"• Access granted if authorized, denied if not\", font_size=24)\n",
    "        ).arrange(DOWN, aligned_edge=LEFT, buff=0.3).next_to(token_title, DOWN, buff=0.3)\n",
    "\n",
    "        self.play(Write(token_title))\n",
    "        for info in token_info:\n",
    "            self.play(Write(info))\n",
    "            self.wait(0.5)\n",
    "        self.wait(2)\n",
    "\n",
    "        # Conclusion\n",
    "        self.play(FadeOut(token_title), FadeOut(token_info))\n",
    "        conclusion = Text(\"Proper Authorization is crucial for\\nsecure and functional backend systems!\", \n",
    "                          font_size=32, color=YELLOW).next_to(title, DOWN, buff=1)\n",
    "        self.play(Write(conclusion))\n",
    "        self.wait(3)\n",
    "\n",
    "        # Fade out everything\n",
    "        self.play(FadeOut(title), FadeOut(conclusion))\n",
    "        self.wait(1)\n",
    "\n",
    "%manim -qh -v Warning AuthorizationConcepts"
   ]
  }
 ],
 "metadata": {
  "kernelspec": {
   "display_name": "manDE",
   "language": "python",
   "name": "python3"
  },
  "language_info": {
   "codemirror_mode": {
    "name": "ipython",
    "version": 3
   },
   "file_extension": ".py",
   "mimetype": "text/x-python",
   "name": "python",
   "nbconvert_exporter": "python",
   "pygments_lexer": "ipython3",
   "version": "3.12.4"
  }
 },
 "nbformat": 4,
 "nbformat_minor": 2
}
