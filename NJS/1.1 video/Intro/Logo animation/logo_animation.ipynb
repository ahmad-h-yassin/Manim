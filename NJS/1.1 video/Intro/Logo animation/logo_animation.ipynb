{
 "cells": [
  {
   "cell_type": "code",
   "execution_count": 1,
   "metadata": {},
   "outputs": [
    {
     "data": {
      "text/html": [
       "<pre style=\"white-space:pre;overflow-x:auto;line-height:normal;font-family:Menlo,'DejaVu Sans Mono',consolas,'Courier New',monospace\">Manim Community <span style=\"color: #008000; text-decoration-color: #008000\">v0.18.0</span>\n",
       "\n",
       "</pre>\n"
      ],
      "text/plain": [
       "Manim Community \u001b[32mv0.\u001b[0m\u001b[32m18.0\u001b[0m\n",
       "\n"
      ]
     },
     "metadata": {},
     "output_type": "display_data"
    },
    {
     "data": {
      "text/html": [
       "<pre style=\"white-space:pre;overflow-x:auto;line-height:normal;font-family:Menlo,'DejaVu Sans Mono',consolas,'Courier New',monospace\"><span style=\"color: #7fbfbf; text-decoration-color: #7fbfbf\">[04/15/24 13:03:56] </span><span style=\"color: #008000; text-decoration-color: #008000\">INFO    </span>                                                               <span style=\"color: #7f7f7f; text-decoration-color: #7f7f7f\">scene_file_writer.py:735</span>\n",
       "<span style=\"color: #7fbfbf; text-decoration-color: #7fbfbf\">                    </span>         <span style=\"color: #808000; text-decoration-color: #808000; font-weight: bold\">File</span> ready at <span style=\"color: #008000; text-decoration-color: #008000\">'/home/ah/Dev Tools/Manim/NJS/Intro/Logo </span>       <span style=\"color: #7f7f7f; text-decoration-color: #7f7f7f\">                        </span>\n",
       "<span style=\"color: #7fbfbf; text-decoration-color: #7fbfbf\">                    </span>         <span style=\"color: #008000; text-decoration-color: #008000\">animation/media/images/Logo </span>                                  <span style=\"color: #7f7f7f; text-decoration-color: #7f7f7f\">                        </span>\n",
       "<span style=\"color: #7fbfbf; text-decoration-color: #7fbfbf\">                    </span>         <span style=\"color: #008000; text-decoration-color: #008000\">animation/DrawSVG_ManimCE_v0.18.0.png'</span>                        <span style=\"color: #7f7f7f; text-decoration-color: #7f7f7f\">                        </span>\n",
       "<span style=\"color: #7fbfbf; text-decoration-color: #7fbfbf\">                    </span>                                                                       <span style=\"color: #7f7f7f; text-decoration-color: #7f7f7f\">                        </span>\n",
       "</pre>\n"
      ],
      "text/plain": [
       "\u001b[2;36m[04/15/24 13:03:56]\u001b[0m\u001b[2;36m \u001b[0m\u001b[32mINFO    \u001b[0m                                                               \u001b[2mscene_file_writer.py\u001b[0m\u001b[2m:\u001b[0m\u001b[2m735\u001b[0m\n",
       "\u001b[2;36m                    \u001b[0m         \u001b[1;33mFile\u001b[0m ready at \u001b[32m'/home/ah/Dev Tools/Manim/NJS/Intro/Logo \u001b[0m       \u001b[2m                        \u001b[0m\n",
       "\u001b[2;36m                    \u001b[0m         \u001b[32manimation/media/images/Logo \u001b[0m                                  \u001b[2m                        \u001b[0m\n",
       "\u001b[2;36m                    \u001b[0m         \u001b[32manimation/DrawSVG_ManimCE_v0.18.0.png'\u001b[0m                        \u001b[2m                        \u001b[0m\n",
       "\u001b[2;36m                    \u001b[0m                                                                       \u001b[2m                        \u001b[0m\n"
      ]
     },
     "metadata": {},
     "output_type": "display_data"
    },
    {
     "data": {
      "text/html": [
       "<pre style=\"white-space:pre;overflow-x:auto;line-height:normal;font-family:Menlo,'DejaVu Sans Mono',consolas,'Courier New',monospace\"><span style=\"color: #7fbfbf; text-decoration-color: #7fbfbf\">                    </span><span style=\"color: #008000; text-decoration-color: #008000\">INFO    </span> <span style=\"color: #808000; text-decoration-color: #808000; font-weight: bold\">Rendered</span> DrawSVG                                                          <span style=\"color: #7f7f7f; text-decoration-color: #7f7f7f\">scene.py:241</span>\n",
       "<span style=\"color: #7fbfbf; text-decoration-color: #7fbfbf\">                    </span>         <span style=\"color: #808000; text-decoration-color: #808000; font-weight: bold\">Played</span> <span style=\"color: #008000; text-decoration-color: #008000\">0</span> <span style=\"color: #808000; text-decoration-color: #808000; font-weight: bold\">animations</span>                                                       <span style=\"color: #7f7f7f; text-decoration-color: #7f7f7f\">            </span>\n",
       "</pre>\n"
      ],
      "text/plain": [
       "\u001b[2;36m                   \u001b[0m\u001b[2;36m \u001b[0m\u001b[32mINFO    \u001b[0m \u001b[1;33mRendered\u001b[0m DrawSVG                                                          \u001b[2mscene.py\u001b[0m\u001b[2m:\u001b[0m\u001b[2m241\u001b[0m\n",
       "\u001b[2;36m                    \u001b[0m         \u001b[1;33mPlayed\u001b[0m \u001b[32m0\u001b[0m \u001b[1;33manimations\u001b[0m                                                       \u001b[2m            \u001b[0m\n"
      ]
     },
     "metadata": {},
     "output_type": "display_data"
    },
    {
     "data": {
      "image/png": "[encoded data removed]",
      "text/plain": [
       "<IPython.core.display.Image object>"
      ]
     },
     "metadata": {},
     "output_type": "display_data"
    }
   ],
   "source": [
    "from manim import *\n",
    "\n",
    "class DrawSVG(Scene):\n",
    "    def construct(self):\n",
    "        # Load the SVG image\n",
    "        svg_path = \"js_hex.svg\"\n",
    "        svg_image = SVGMobject(svg_path)\n",
    "\n",
    "        # Create a rectangle border around the SVG image\n",
    "        border = SurroundingRectangle(svg_image, color=WHITE, buff=SMALL_BUFF)\n",
    "\n",
    "        # Create a filled version of the SVG image\n",
    "        filled_svg_image = svg_image.copy().set_fill(GREEN, opacity=1)\n",
    "\n",
    "        # Add the SVG image and its border to the scene\n",
    "        self.add(filled_svg_image, border)\n",
    "\n",
    "%manim -ql -v WARNING  DrawSVG"
   ]
  },
  {
   "cell_type": "code",
   "execution_count": 3,
   "metadata": {},
   "outputs": [
    {
     "data": {
      "text/html": [
       "<pre style=\"white-space:pre;overflow-x:auto;line-height:normal;font-family:Menlo,'DejaVu Sans Mono',consolas,'Courier New',monospace\"><span style=\"color: #7fbfbf; text-decoration-color: #7fbfbf\">[04/16/24 20:05:48] </span><span style=\"color: #008000; text-decoration-color: #008000\">INFO    </span> Animation <span style=\"color: #008000; text-decoration-color: #008000\">0</span> : Using cached data <span style=\"font-weight: bold\">(</span>hash :                           <span style=\"color: #7f7f7f; text-decoration-color: #7f7f7f\">cairo_renderer.py:78</span>\n",
       "<span style=\"color: #7fbfbf; text-decoration-color: #7fbfbf\">                    </span>         1185818338_980266106_223132457<span style=\"font-weight: bold\">)</span>                                   <span style=\"color: #7f7f7f; text-decoration-color: #7f7f7f\">                    </span>\n",
       "</pre>\n"
      ],
      "text/plain": [
       "\u001b[2;36m[04/16/24 20:05:48]\u001b[0m\u001b[2;36m \u001b[0m\u001b[32mINFO    \u001b[0m Animation \u001b[32m0\u001b[0m : Using cached data \u001b[1m(\u001b[0mhash :                           \u001b[2mcairo_renderer.py\u001b[0m\u001b[2m:\u001b[0m\u001b[2m78\u001b[0m\n",
       "\u001b[2;36m                    \u001b[0m         1185818338_980266106_223132457\u001b[1m)\u001b[0m                                   \u001b[2m                    \u001b[0m\n"
      ]
     },
     "metadata": {},
     "output_type": "display_data"
    },
    {
     "name": "stderr",
     "output_type": "stream",
     "text": [
      "                                                                                   \r"
     ]
    },
    {
     "data": {
      "text/html": [
       "<pre style=\"white-space:pre;overflow-x:auto;line-height:normal;font-family:Menlo,'DejaVu Sans Mono',consolas,'Courier New',monospace\"><span style=\"color: #7fbfbf; text-decoration-color: #7fbfbf\">[04/16/24 20:05:50] </span><span style=\"color: #008000; text-decoration-color: #008000\">INFO    </span> Animation <span style=\"color: #008000; text-decoration-color: #008000\">1</span> : Partial movie file written in <span style=\"color: #008000; text-decoration-color: #008000\">'/home/ah/Dev </span>    <span style=\"color: #7f7f7f; text-decoration-color: #7f7f7f\">scene_file_writer.py:527</span>\n",
       "<span style=\"color: #7fbfbf; text-decoration-color: #7fbfbf\">                    </span>         <span style=\"color: #008000; text-decoration-color: #008000\">Tools/Manim/NJS/Intro/Logo animation/media/videos/Logo </span>       <span style=\"color: #7f7f7f; text-decoration-color: #7f7f7f\">                        </span>\n",
       "<span style=\"color: #7fbfbf; text-decoration-color: #7fbfbf\">                    </span>         <span style=\"color: #008000; text-decoration-color: #008000\">animation/480p15/partial_movie_files/DrawSVG/624642324_353564</span> <span style=\"color: #7f7f7f; text-decoration-color: #7f7f7f\">                        </span>\n",
       "<span style=\"color: #7fbfbf; text-decoration-color: #7fbfbf\">                    </span>         <span style=\"color: #008000; text-decoration-color: #008000\">865_4153691720.mp4'</span>                                           <span style=\"color: #7f7f7f; text-decoration-color: #7f7f7f\">                        </span>\n",
       "</pre>\n"
      ],
      "text/plain": [
       "\u001b[2;36m[04/16/24 20:05:50]\u001b[0m\u001b[2;36m \u001b[0m\u001b[32mINFO    \u001b[0m Animation \u001b[32m1\u001b[0m : Partial movie file written in \u001b[32m'/home/ah/Dev \u001b[0m    \u001b[2mscene_file_writer.py\u001b[0m\u001b[2m:\u001b[0m\u001b[2m527\u001b[0m\n",
       "\u001b[2;36m                    \u001b[0m         \u001b[32mTools/Manim/NJS/Intro/Logo animation/media/videos/Logo \u001b[0m       \u001b[2m                        \u001b[0m\n",
       "\u001b[2;36m                    \u001b[0m         \u001b[32manimation/480p15/partial_movie_files/DrawSVG/624642324_353564\u001b[0m \u001b[2m                        \u001b[0m\n",
       "\u001b[2;36m                    \u001b[0m         \u001b[32m865_4153691720.mp4'\u001b[0m                                           \u001b[2m                        \u001b[0m\n"
      ]
     },
     "metadata": {},
     "output_type": "display_data"
    },
    {
     "data": {
      "text/html": [
       "<pre style=\"white-space:pre;overflow-x:auto;line-height:normal;font-family:Menlo,'DejaVu Sans Mono',consolas,'Courier New',monospace\"><span style=\"color: #7fbfbf; text-decoration-color: #7fbfbf\">                    </span><span style=\"color: #008000; text-decoration-color: #008000\">INFO    </span> Combining to Movie file.                                      <span style=\"color: #7f7f7f; text-decoration-color: #7f7f7f\">scene_file_writer.py:617</span>\n",
       "</pre>\n"
      ],
      "text/plain": [
       "\u001b[2;36m                   \u001b[0m\u001b[2;36m \u001b[0m\u001b[32mINFO    \u001b[0m Combining to Movie file.                                      \u001b[2mscene_file_writer.py\u001b[0m\u001b[2m:\u001b[0m\u001b[2m617\u001b[0m\n"
      ]
     },
     "metadata": {},
     "output_type": "display_data"
    },
    {
     "data": {
      "text/html": [
       "<pre style=\"white-space:pre;overflow-x:auto;line-height:normal;font-family:Menlo,'DejaVu Sans Mono',consolas,'Courier New',monospace\"><span style=\"color: #7fbfbf; text-decoration-color: #7fbfbf\">                    </span><span style=\"color: #008000; text-decoration-color: #008000\">INFO    </span>                                                               <span style=\"color: #7f7f7f; text-decoration-color: #7f7f7f\">scene_file_writer.py:735</span>\n",
       "<span style=\"color: #7fbfbf; text-decoration-color: #7fbfbf\">                    </span>         <span style=\"color: #808000; text-decoration-color: #808000; font-weight: bold\">File</span> ready at <span style=\"color: #008000; text-decoration-color: #008000\">'/home/ah/Dev Tools/Manim/NJS/Intro/Logo </span>       <span style=\"color: #7f7f7f; text-decoration-color: #7f7f7f\">                        </span>\n",
       "<span style=\"color: #7fbfbf; text-decoration-color: #7fbfbf\">                    </span>         <span style=\"color: #008000; text-decoration-color: #008000\">animation/media/videos/Logo animation/480p15/DrawSVG.mp4'</span>     <span style=\"color: #7f7f7f; text-decoration-color: #7f7f7f\">                        </span>\n",
       "<span style=\"color: #7fbfbf; text-decoration-color: #7fbfbf\">                    </span>                                                                       <span style=\"color: #7f7f7f; text-decoration-color: #7f7f7f\">                        </span>\n",
       "</pre>\n"
      ],
      "text/plain": [
       "\u001b[2;36m                   \u001b[0m\u001b[2;36m \u001b[0m\u001b[32mINFO    \u001b[0m                                                               \u001b[2mscene_file_writer.py\u001b[0m\u001b[2m:\u001b[0m\u001b[2m735\u001b[0m\n",
       "\u001b[2;36m                    \u001b[0m         \u001b[1;33mFile\u001b[0m ready at \u001b[32m'/home/ah/Dev Tools/Manim/NJS/Intro/Logo \u001b[0m       \u001b[2m                        \u001b[0m\n",
       "\u001b[2;36m                    \u001b[0m         \u001b[32manimation/media/videos/Logo animation/480p15/DrawSVG.mp4'\u001b[0m     \u001b[2m                        \u001b[0m\n",
       "\u001b[2;36m                    \u001b[0m                                                                       \u001b[2m                        \u001b[0m\n"
      ]
     },
     "metadata": {},
     "output_type": "display_data"
    },
    {
     "data": {
      "text/html": [
       "<pre style=\"white-space:pre;overflow-x:auto;line-height:normal;font-family:Menlo,'DejaVu Sans Mono',consolas,'Courier New',monospace\"><span style=\"color: #7fbfbf; text-decoration-color: #7fbfbf\">                    </span><span style=\"color: #008000; text-decoration-color: #008000\">INFO    </span> <span style=\"color: #808000; text-decoration-color: #808000; font-weight: bold\">Rendered</span> DrawSVG                                                          <span style=\"color: #7f7f7f; text-decoration-color: #7f7f7f\">scene.py:241</span>\n",
       "<span style=\"color: #7fbfbf; text-decoration-color: #7fbfbf\">                    </span>         <span style=\"color: #808000; text-decoration-color: #808000; font-weight: bold\">Played</span> <span style=\"color: #008000; text-decoration-color: #008000\">2</span> <span style=\"color: #808000; text-decoration-color: #808000; font-weight: bold\">animations</span>                                                       <span style=\"color: #7f7f7f; text-decoration-color: #7f7f7f\">            </span>\n",
       "</pre>\n"
      ],
      "text/plain": [
       "\u001b[2;36m                   \u001b[0m\u001b[2;36m \u001b[0m\u001b[32mINFO    \u001b[0m \u001b[1;33mRendered\u001b[0m DrawSVG                                                          \u001b[2mscene.py\u001b[0m\u001b[2m:\u001b[0m\u001b[2m241\u001b[0m\n",
       "\u001b[2;36m                    \u001b[0m         \u001b[1;33mPlayed\u001b[0m \u001b[32m2\u001b[0m \u001b[1;33manimations\u001b[0m                                                       \u001b[2m            \u001b[0m\n"
      ]
     },
     "metadata": {},
     "output_type": "display_data"
    },
    {
     "data": {
      "text/html": [
       "<video src=\"media/jupyter/DrawSVG@2024-04-16@20-05-50.mp4\" controls autoplay loop style=\"max-width: 60%;\"  >\n",
       "      Your browser does not support the <code>video</code> element.\n",
       "    </video>"
      ],
      "text/plain": [
       "<IPython.core.display.Video object>"
      ]
     },
     "metadata": {},
     "output_type": "display_data"
    }
   ],
   "source": [
    "from manim import *\n",
    "\n",
    "\n",
    "class DrawSVG(Scene):\n",
    "    def construct(self):\n",
    "        # Load the SVG image\n",
    "        svg_path = \"js_hex.svg\"\n",
    "        svg_image = SVGMobject(svg_path)\n",
    "\n",
    "        # Create a rectangle border around the SVG image\n",
    "        border = SurroundingRectangle(svg_image, color=WHITE, buff=SMALL_BUFF)\n",
    "\n",
    "        # Create a filled version of the SVG image\n",
    "        filled_svg_image = svg_image.copy().set_fill(YELLOW, opacity=1)\n",
    "\n",
    "        # Create animations\n",
    "        draw_border = Create(border)\n",
    "        fill_svg = Transform(svg_image, filled_svg_image)\n",
    "\n",
    "        # Add the SVG image and its border to the scene\n",
    "        self.play(draw_border)\n",
    "        self.play(fill_svg)\n",
    "\n",
    "%manim -ql  DrawSVG"
   ]
  },
  {
   "cell_type": "code",
   "execution_count": 19,
   "metadata": {},
   "outputs": [
    {
     "name": "stderr",
     "output_type": "stream",
     "text": [
      "                                                                                "
     ]
    },
    {
     "name": "stderr",
     "output_type": "stream",
     "text": [
      "                                                                                           \r"
     ]
    },
    {
     "data": {
      "text/html": [
       "<video src=\"media/jupyter/DrawSVG@2024-04-15@13-19-32.mp4\" controls autoplay loop style=\"max-width: 60%;\"  >\n",
       "      Your browser does not support the <code>video</code> element.\n",
       "    </video>"
      ],
      "text/plain": [
       "<IPython.core.display.Video object>"
      ]
     },
     "metadata": {},
     "output_type": "display_data"
    }
   ],
   "source": [
    "class DrawSVG(Scene):\n",
    "    def construct(self):\n",
    "        # Load the SVG image\n",
    "        svg_path = \"js_hex.svg\"\n",
    "        svg_image = SVGMobject(svg_path)\n",
    "\n",
    "        # Create a rectangle border around the SVG image\n",
    "        border = SurroundingRectangle(svg_image, color=WHITE, buff=SMALL_BUFF)\n",
    "\n",
    "        # Create animations\n",
    "        draw_border = Create(border)\n",
    "\n",
    "        # Extract lines from SVG image\n",
    "        lines = VGroup(*[line for line in svg_image])\n",
    "\n",
    "        # Create animations for drawing lines\n",
    "        draw_lines = [GrowFromEdge(line, LEFT) for line in lines]\n",
    "\n",
    "        # Add the SVG image and its border to the scene\n",
    "        self.play(draw_border)\n",
    "\n",
    "        # Animate drawing lines\n",
    "        self.play(*draw_lines)\n",
    "\n",
    "%manim -ql -v WARNING  DrawSVG"
   ]
  },
  {
   "cell_type": "code",
   "execution_count": 3,
   "metadata": {},
   "outputs": [
    {
     "name": "stderr",
     "output_type": "stream",
     "text": [
      "                                                                                              \r"
     ]
    },
    {
     "data": {
      "text/html": [
       "<pre style=\"white-space:pre;overflow-x:auto;line-height:normal;font-family:Menlo,'DejaVu Sans Mono',consolas,'Courier New',monospace\"><span style=\"color: #7fbfbf; text-decoration-color: #7fbfbf\">[04/15/24 13:04:59] </span><span style=\"color: #008000; text-decoration-color: #008000\">INFO    </span> Animation <span style=\"color: #008000; text-decoration-color: #008000\">0</span> : Partial movie file written in <span style=\"color: #008000; text-decoration-color: #008000\">'/home/ah/Dev </span>    <span style=\"color: #7f7f7f; text-decoration-color: #7f7f7f\">scene_file_writer.py:527</span>\n",
       "<span style=\"color: #7fbfbf; text-decoration-color: #7fbfbf\">                    </span>         <span style=\"color: #008000; text-decoration-color: #008000\">Tools/Manim/NJS/Intro/Logo animation/media/videos/Logo </span>       <span style=\"color: #7f7f7f; text-decoration-color: #7f7f7f\">                        </span>\n",
       "<span style=\"color: #7fbfbf; text-decoration-color: #7fbfbf\">                    </span>         <span style=\"color: #008000; text-decoration-color: #008000\">animation/1080p60/partial_movie_files/DrawSVG/3529212410_1335</span> <span style=\"color: #7f7f7f; text-decoration-color: #7f7f7f\">                        </span>\n",
       "<span style=\"color: #7fbfbf; text-decoration-color: #7fbfbf\">                    </span>         <span style=\"color: #008000; text-decoration-color: #008000\">87676_223132457.mp4'</span>                                          <span style=\"color: #7f7f7f; text-decoration-color: #7f7f7f\">                        </span>\n",
       "</pre>\n"
      ],
      "text/plain": [
       "\u001b[2;36m[04/15/24 13:04:59]\u001b[0m\u001b[2;36m \u001b[0m\u001b[32mINFO    \u001b[0m Animation \u001b[32m0\u001b[0m : Partial movie file written in \u001b[32m'/home/ah/Dev \u001b[0m    \u001b[2mscene_file_writer.py\u001b[0m\u001b[2m:\u001b[0m\u001b[2m527\u001b[0m\n",
       "\u001b[2;36m                    \u001b[0m         \u001b[32mTools/Manim/NJS/Intro/Logo animation/media/videos/Logo \u001b[0m       \u001b[2m                        \u001b[0m\n",
       "\u001b[2;36m                    \u001b[0m         \u001b[32manimation/1080p60/partial_movie_files/DrawSVG/3529212410_1335\u001b[0m \u001b[2m                        \u001b[0m\n",
       "\u001b[2;36m                    \u001b[0m         \u001b[32m87676_223132457.mp4'\u001b[0m                                          \u001b[2m                        \u001b[0m\n"
      ]
     },
     "metadata": {},
     "output_type": "display_data"
    },
    {
     "data": {
      "text/html": [
       "<pre style=\"white-space:pre;overflow-x:auto;line-height:normal;font-family:Menlo,'DejaVu Sans Mono',consolas,'Courier New',monospace\"><span style=\"color: #7fbfbf; text-decoration-color: #7fbfbf\">                    </span><span style=\"color: #008000; text-decoration-color: #008000\">INFO    </span> Combining to Movie file.                                      <span style=\"color: #7f7f7f; text-decoration-color: #7f7f7f\">scene_file_writer.py:617</span>\n",
       "</pre>\n"
      ],
      "text/plain": [
       "\u001b[2;36m                   \u001b[0m\u001b[2;36m \u001b[0m\u001b[32mINFO    \u001b[0m Combining to Movie file.                                      \u001b[2mscene_file_writer.py\u001b[0m\u001b[2m:\u001b[0m\u001b[2m617\u001b[0m\n"
      ]
     },
     "metadata": {},
     "output_type": "display_data"
    },
    {
     "data": {
      "text/html": [
       "<pre style=\"white-space:pre;overflow-x:auto;line-height:normal;font-family:Menlo,'DejaVu Sans Mono',consolas,'Courier New',monospace\"><span style=\"color: #7fbfbf; text-decoration-color: #7fbfbf\">                    </span><span style=\"color: #008000; text-decoration-color: #008000\">INFO    </span>                                                               <span style=\"color: #7f7f7f; text-decoration-color: #7f7f7f\">scene_file_writer.py:735</span>\n",
       "<span style=\"color: #7fbfbf; text-decoration-color: #7fbfbf\">                    </span>         <span style=\"color: #808000; text-decoration-color: #808000; font-weight: bold\">File</span> ready at <span style=\"color: #008000; text-decoration-color: #008000\">'/home/ah/Dev Tools/Manim/NJS/Intro/Logo </span>       <span style=\"color: #7f7f7f; text-decoration-color: #7f7f7f\">                        </span>\n",
       "<span style=\"color: #7fbfbf; text-decoration-color: #7fbfbf\">                    </span>         <span style=\"color: #008000; text-decoration-color: #008000\">animation/media/videos/Logo animation/1080p60/DrawSVG.mp4'</span>    <span style=\"color: #7f7f7f; text-decoration-color: #7f7f7f\">                        </span>\n",
       "<span style=\"color: #7fbfbf; text-decoration-color: #7fbfbf\">                    </span>                                                                       <span style=\"color: #7f7f7f; text-decoration-color: #7f7f7f\">                        </span>\n",
       "</pre>\n"
      ],
      "text/plain": [
       "\u001b[2;36m                   \u001b[0m\u001b[2;36m \u001b[0m\u001b[32mINFO    \u001b[0m                                                               \u001b[2mscene_file_writer.py\u001b[0m\u001b[2m:\u001b[0m\u001b[2m735\u001b[0m\n",
       "\u001b[2;36m                    \u001b[0m         \u001b[1;33mFile\u001b[0m ready at \u001b[32m'/home/ah/Dev Tools/Manim/NJS/Intro/Logo \u001b[0m       \u001b[2m                        \u001b[0m\n",
       "\u001b[2;36m                    \u001b[0m         \u001b[32manimation/media/videos/Logo animation/1080p60/DrawSVG.mp4'\u001b[0m    \u001b[2m                        \u001b[0m\n",
       "\u001b[2;36m                    \u001b[0m                                                                       \u001b[2m                        \u001b[0m\n"
      ]
     },
     "metadata": {},
     "output_type": "display_data"
    },
    {
     "data": {
      "text/html": [
       "<pre style=\"white-space:pre;overflow-x:auto;line-height:normal;font-family:Menlo,'DejaVu Sans Mono',consolas,'Courier New',monospace\"><span style=\"color: #7fbfbf; text-decoration-color: #7fbfbf\">                    </span><span style=\"color: #008000; text-decoration-color: #008000\">INFO    </span> <span style=\"color: #808000; text-decoration-color: #808000; font-weight: bold\">Rendered</span> DrawSVG                                                          <span style=\"color: #7f7f7f; text-decoration-color: #7f7f7f\">scene.py:241</span>\n",
       "<span style=\"color: #7fbfbf; text-decoration-color: #7fbfbf\">                    </span>         <span style=\"color: #808000; text-decoration-color: #808000; font-weight: bold\">Played</span> <span style=\"color: #008000; text-decoration-color: #008000\">1</span> <span style=\"color: #808000; text-decoration-color: #808000; font-weight: bold\">animations</span>                                                       <span style=\"color: #7f7f7f; text-decoration-color: #7f7f7f\">            </span>\n",
       "</pre>\n"
      ],
      "text/plain": [
       "\u001b[2;36m                   \u001b[0m\u001b[2;36m \u001b[0m\u001b[32mINFO    \u001b[0m \u001b[1;33mRendered\u001b[0m DrawSVG                                                          \u001b[2mscene.py\u001b[0m\u001b[2m:\u001b[0m\u001b[2m241\u001b[0m\n",
       "\u001b[2;36m                    \u001b[0m         \u001b[1;33mPlayed\u001b[0m \u001b[32m1\u001b[0m \u001b[1;33manimations\u001b[0m                                                       \u001b[2m            \u001b[0m\n"
      ]
     },
     "metadata": {},
     "output_type": "display_data"
    },
    {
     "data": {
      "text/html": [
       "<video src=\"media/jupyter/DrawSVG@2024-04-15@13-04-59.mp4\" controls autoplay loop style=\"max-width: 60%;\"  >\n",
       "      Your browser does not support the <code>video</code> element.\n",
       "    </video>"
      ],
      "text/plain": [
       "<IPython.core.display.Video object>"
      ]
     },
     "metadata": {},
     "output_type": "display_data"
    }
   ],
   "source": [
    "from manim import *\n",
    "\n",
    "class DrawSVG(Scene):\n",
    "    def construct(self):\n",
    "        # Load the SVG image\n",
    "        svg_path = \"js_hex.svg\"\n",
    "        svg_image = SVGMobject(svg_path)\n",
    "\n",
    "        self.play(DrawBorderThenFill(svg_image))\n",
    "%manim -qh DrawSVG\n"
   ]
  },
  {
   "cell_type": "code",
   "execution_count": 2,
   "metadata": {},
   "outputs": [
    {
     "data": {
      "text/html": [
       "<pre style=\"white-space:pre;overflow-x:auto;line-height:normal;font-family:Menlo,'DejaVu Sans Mono',consolas,'Courier New',monospace\"><span style=\"color: #7fbfbf; text-decoration-color: #7fbfbf\">[04/18/24 10:51:57] </span><span style=\"color: #800000; text-decoration-color: #800000\">WARNING </span> Font DigiGroteskBoldCondensedRegular not in <span style=\"font-weight: bold\">[</span><span style=\"color: #008000; text-decoration-color: #008000\">'Akaash'</span>,             <span style=\"color: #7f7f7f; text-decoration-color: #7f7f7f\">text_mobject.py:440</span>\n",
       "<span style=\"color: #7fbfbf; text-decoration-color: #7fbfbf\">                    </span>         <span style=\"color: #008000; text-decoration-color: #008000\">'AkrutiMal1'</span>, <span style=\"color: #008000; text-decoration-color: #008000\">'AkrutiMal2'</span>, <span style=\"color: #008000; text-decoration-color: #008000\">'AkrutiTml1'</span>, <span style=\"color: #008000; text-decoration-color: #008000\">'AkrutiTml2'</span>, <span style=\"color: #008000; text-decoration-color: #008000\">'C059'</span>,    <span style=\"color: #7f7f7f; text-decoration-color: #7f7f7f\">                   </span>\n",
       "<span style=\"color: #7fbfbf; text-decoration-color: #7fbfbf\">                    </span>         <span style=\"color: #008000; text-decoration-color: #008000\">'Cantarell'</span>, <span style=\"color: #008000; text-decoration-color: #008000\">'D050000L'</span>, <span style=\"color: #008000; text-decoration-color: #008000\">'DejaVu Math TeX Gyre'</span>, <span style=\"color: #008000; text-decoration-color: #008000\">'DejaVu Sans'</span>,    <span style=\"color: #7f7f7f; text-decoration-color: #7f7f7f\">                   </span>\n",
       "<span style=\"color: #7fbfbf; text-decoration-color: #7fbfbf\">                    </span>         <span style=\"color: #008000; text-decoration-color: #008000\">'DejaVu Sans Mono'</span>, <span style=\"color: #008000; text-decoration-color: #008000\">'DejaVu Serif'</span>, <span style=\"color: #008000; text-decoration-color: #008000\">'Digi Grotesk Bold Condensed'</span>, <span style=\"color: #7f7f7f; text-decoration-color: #7f7f7f\">                   </span>\n",
       "<span style=\"color: #7fbfbf; text-decoration-color: #7fbfbf\">                    </span>         <span style=\"color: #008000; text-decoration-color: #008000\">'Droid Arabic Kufi'</span>, <span style=\"color: #008000; text-decoration-color: #008000\">'Droid Naskh Shift Alt'</span>, <span style=\"color: #008000; text-decoration-color: #008000\">'Droid Sans'</span>, <span style=\"color: #008000; text-decoration-color: #008000\">'Droid</span> <span style=\"color: #7f7f7f; text-decoration-color: #7f7f7f\">                   </span>\n",
       "<span style=\"color: #7fbfbf; text-decoration-color: #7fbfbf\">                    </span>         <span style=\"color: #008000; text-decoration-color: #008000\">Sans Mono'</span>, <span style=\"color: #008000; text-decoration-color: #008000\">'Droid Serif'</span>, <span style=\"color: #008000; text-decoration-color: #008000\">'Gargi-1.2b'</span>, <span style=\"color: #008000; text-decoration-color: #008000\">'GurbaniBoliLite'</span>,        <span style=\"color: #7f7f7f; text-decoration-color: #7f7f7f\">                   </span>\n",
       "<span style=\"color: #7fbfbf; text-decoration-color: #7fbfbf\">                    </span>         <span style=\"color: #008000; text-decoration-color: #008000\">'Hack'</span>, <span style=\"color: #008000; text-decoration-color: #008000\">'Inconsolata'</span>, <span style=\"color: #008000; text-decoration-color: #008000\">'Liberation Mono'</span>, <span style=\"color: #008000; text-decoration-color: #008000\">'Liberation Sans'</span>,       <span style=\"color: #7f7f7f; text-decoration-color: #7f7f7f\">                   </span>\n",
       "<span style=\"color: #7fbfbf; text-decoration-color: #7fbfbf\">                    </span>         <span style=\"color: #008000; text-decoration-color: #008000\">'Liberation Serif'</span>, <span style=\"color: #008000; text-decoration-color: #008000\">'Ligconsolata'</span>, <span style=\"color: #008000; text-decoration-color: #008000\">'Likhan'</span>, <span style=\"color: #008000; text-decoration-color: #008000\">'MalOtf'</span>, <span style=\"color: #008000; text-decoration-color: #008000\">'MesloLGS </span> <span style=\"color: #7f7f7f; text-decoration-color: #7f7f7f\">                   </span>\n",
       "<span style=\"color: #7fbfbf; text-decoration-color: #7fbfbf\">                    </span>         <span style=\"color: #008000; text-decoration-color: #008000\">NF'</span>, <span style=\"color: #008000; text-decoration-color: #008000\">'Monospace'</span>, <span style=\"color: #008000; text-decoration-color: #008000\">'Mukti Narrow'</span>, <span style=\"color: #008000; text-decoration-color: #008000\">'Nimbus Mono PS'</span>, <span style=\"color: #008000; text-decoration-color: #008000\">'Nimbus </span>       <span style=\"color: #7f7f7f; text-decoration-color: #7f7f7f\">                   </span>\n",
       "<span style=\"color: #7fbfbf; text-decoration-color: #7fbfbf\">                    </span>         <span style=\"color: #008000; text-decoration-color: #008000\">Roman'</span>, <span style=\"color: #008000; text-decoration-color: #008000\">'Nimbus Sans'</span>, <span style=\"color: #008000; text-decoration-color: #008000\">'Nimbus Sans Narrow'</span>, <span style=\"color: #008000; text-decoration-color: #008000\">'Noto Color Emoji'</span>,   <span style=\"color: #7f7f7f; text-decoration-color: #7f7f7f\">                   </span>\n",
       "<span style=\"color: #7fbfbf; text-decoration-color: #7fbfbf\">                    </span>         <span style=\"color: #008000; text-decoration-color: #008000\">'Noto Fangsong KSS Rotated'</span>, <span style=\"color: #008000; text-decoration-color: #008000\">'Noto Fangsong KSS Vertical'</span>, <span style=\"color: #008000; text-decoration-color: #008000\">'Noto </span>  <span style=\"color: #7f7f7f; text-decoration-color: #7f7f7f\">                   </span>\n",
       "<span style=\"color: #7fbfbf; text-decoration-color: #7fbfbf\">                    </span>         <span style=\"color: #008000; text-decoration-color: #008000\">Kufi Arabic'</span>, <span style=\"color: #008000; text-decoration-color: #008000\">'Noto Music'</span>, <span style=\"color: #008000; text-decoration-color: #008000\">'Noto Naskh Arabic'</span>, <span style=\"color: #008000; text-decoration-color: #008000\">'Noto Naskh </span>      <span style=\"color: #7f7f7f; text-decoration-color: #7f7f7f\">                   </span>\n",
       "<span style=\"color: #7fbfbf; text-decoration-color: #7fbfbf\">                    </span>         <span style=\"color: #008000; text-decoration-color: #008000\">Arabic UI'</span>, <span style=\"color: #008000; text-decoration-color: #008000\">'Noto Nastaliq Urdu'</span>, <span style=\"color: #008000; text-decoration-color: #008000\">'Noto Rashi Hebrew'</span>, <span style=\"color: #008000; text-decoration-color: #008000\">'Noto </span>      <span style=\"color: #7f7f7f; text-decoration-color: #7f7f7f\">                   </span>\n",
       "<span style=\"color: #7fbfbf; text-decoration-color: #7fbfbf\">                    </span>         <span style=\"color: #008000; text-decoration-color: #008000\">Sans'</span>, <span style=\"color: #008000; text-decoration-color: #008000\">'Noto Sans Adlam'</span>, <span style=\"color: #008000; text-decoration-color: #008000\">'Noto Sans Adlam Unjoined'</span>, <span style=\"color: #008000; text-decoration-color: #008000\">'Noto Sans </span>  <span style=\"color: #7f7f7f; text-decoration-color: #7f7f7f\">                   </span>\n",
       "<span style=\"color: #7fbfbf; text-decoration-color: #7fbfbf\">                    </span>         <span style=\"color: #008000; text-decoration-color: #008000\">Anatolian Hieroglyphs'</span>, <span style=\"color: #008000; text-decoration-color: #008000\">'Noto Sans Arabic'</span>, <span style=\"color: #008000; text-decoration-color: #008000\">'Noto Sans Armenian'</span>,  <span style=\"color: #7f7f7f; text-decoration-color: #7f7f7f\">                   </span>\n",
       "<span style=\"color: #7fbfbf; text-decoration-color: #7fbfbf\">                    </span>         <span style=\"color: #008000; text-decoration-color: #008000\">'Noto Sans Avestan'</span>, <span style=\"color: #008000; text-decoration-color: #008000\">'Noto Sans Balinese'</span>, <span style=\"color: #008000; text-decoration-color: #008000\">'Noto Sans Bamum'</span>,      <span style=\"color: #7f7f7f; text-decoration-color: #7f7f7f\">                   </span>\n",
       "<span style=\"color: #7fbfbf; text-decoration-color: #7fbfbf\">                    </span>         <span style=\"color: #008000; text-decoration-color: #008000\">'Noto Sans Bassa Vah'</span>, <span style=\"color: #008000; text-decoration-color: #008000\">'Noto Sans Batak'</span>, <span style=\"color: #008000; text-decoration-color: #008000\">'Noto Sans Bengali'</span>,     <span style=\"color: #7f7f7f; text-decoration-color: #7f7f7f\">                   </span>\n",
       "<span style=\"color: #7fbfbf; text-decoration-color: #7fbfbf\">                    </span>         <span style=\"color: #008000; text-decoration-color: #008000\">'Noto Sans Bengali UI'</span>, <span style=\"color: #008000; text-decoration-color: #008000\">'Noto Sans Bhaiksuki'</span>, <span style=\"color: #008000; text-decoration-color: #008000\">'Noto Sans Brahmi'</span>, <span style=\"color: #7f7f7f; text-decoration-color: #7f7f7f\">                   </span>\n",
       "<span style=\"color: #7fbfbf; text-decoration-color: #7fbfbf\">                    </span>         <span style=\"color: #008000; text-decoration-color: #008000\">'Noto Sans Buginese'</span>, <span style=\"color: #008000; text-decoration-color: #008000\">'Noto Sans Buhid'</span>, <span style=\"color: #008000; text-decoration-color: #008000\">'Noto Sans Canadian </span>      <span style=\"color: #7f7f7f; text-decoration-color: #7f7f7f\">                   </span>\n",
       "<span style=\"color: #7fbfbf; text-decoration-color: #7fbfbf\">                    </span>         <span style=\"color: #008000; text-decoration-color: #008000\">Aboriginal'</span>, <span style=\"color: #008000; text-decoration-color: #008000\">'Noto Sans Carian'</span>, <span style=\"color: #008000; text-decoration-color: #008000\">'Noto Sans Caucasian Albanian'</span>,   <span style=\"color: #7f7f7f; text-decoration-color: #7f7f7f\">                   </span>\n",
       "<span style=\"color: #7fbfbf; text-decoration-color: #7fbfbf\">                    </span>         <span style=\"color: #008000; text-decoration-color: #008000\">'Noto Sans Chakma'</span>, <span style=\"color: #008000; text-decoration-color: #008000\">'Noto Sans Cham'</span>, <span style=\"color: #008000; text-decoration-color: #008000\">'Noto Sans Cherokee'</span>, <span style=\"color: #008000; text-decoration-color: #008000\">'Noto </span> <span style=\"color: #7f7f7f; text-decoration-color: #7f7f7f\">                   </span>\n",
       "<span style=\"color: #7fbfbf; text-decoration-color: #7fbfbf\">                    </span>         <span style=\"color: #008000; text-decoration-color: #008000\">Sans Chorasmian'</span>, <span style=\"color: #008000; text-decoration-color: #008000\">'Noto Sans Coptic'</span>, <span style=\"color: #008000; text-decoration-color: #008000\">'Noto Sans Cuneiform'</span>, <span style=\"color: #008000; text-decoration-color: #008000\">'Noto</span> <span style=\"color: #7f7f7f; text-decoration-color: #7f7f7f\">                   </span>\n",
       "<span style=\"color: #7fbfbf; text-decoration-color: #7fbfbf\">                    </span>         <span style=\"color: #008000; text-decoration-color: #008000\">Sans Cypriot'</span>, <span style=\"color: #008000; text-decoration-color: #008000\">'Noto Sans Cypro Minoan'</span>, <span style=\"color: #008000; text-decoration-color: #008000\">'Noto Sans Deseret'</span>,      <span style=\"color: #7f7f7f; text-decoration-color: #7f7f7f\">                   </span>\n",
       "<span style=\"color: #7fbfbf; text-decoration-color: #7fbfbf\">                    </span>         <span style=\"color: #008000; text-decoration-color: #008000\">'Noto Sans Devanagari'</span>, <span style=\"color: #008000; text-decoration-color: #008000\">'Noto Sans Devanagari UI'</span>, <span style=\"color: #008000; text-decoration-color: #008000\">'Noto Sans </span>     <span style=\"color: #7f7f7f; text-decoration-color: #7f7f7f\">                   </span>\n",
       "<span style=\"color: #7fbfbf; text-decoration-color: #7fbfbf\">                    </span>         <span style=\"color: #008000; text-decoration-color: #008000\">Duployan'</span>, <span style=\"color: #008000; text-decoration-color: #008000\">'Noto Sans Egyptian Hieroglyphs'</span>, <span style=\"color: #008000; text-decoration-color: #008000\">'Noto Sans Elbasan'</span>,  <span style=\"color: #7f7f7f; text-decoration-color: #7f7f7f\">                   </span>\n",
       "<span style=\"color: #7fbfbf; text-decoration-color: #7fbfbf\">                    </span>         <span style=\"color: #008000; text-decoration-color: #008000\">'Noto Sans Elymaic'</span>, <span style=\"color: #008000; text-decoration-color: #008000\">'Noto Sans Ethiopic'</span>, <span style=\"color: #008000; text-decoration-color: #008000\">'Noto Sans Georgian'</span>,   <span style=\"color: #7f7f7f; text-decoration-color: #7f7f7f\">                   </span>\n",
       "<span style=\"color: #7fbfbf; text-decoration-color: #7fbfbf\">                    </span>         <span style=\"color: #008000; text-decoration-color: #008000\">'Noto Sans Glagolitic'</span>, <span style=\"color: #008000; text-decoration-color: #008000\">'Noto Sans Gothic'</span>, <span style=\"color: #008000; text-decoration-color: #008000\">'Noto Sans Grantha'</span>,   <span style=\"color: #7f7f7f; text-decoration-color: #7f7f7f\">                   </span>\n",
       "<span style=\"color: #7fbfbf; text-decoration-color: #7fbfbf\">                    </span>         <span style=\"color: #008000; text-decoration-color: #008000\">'Noto Sans Gujarati'</span>, <span style=\"color: #008000; text-decoration-color: #008000\">'Noto Sans Gujarati UI'</span>, <span style=\"color: #008000; text-decoration-color: #008000\">'Noto Sans Gunjala </span> <span style=\"color: #7f7f7f; text-decoration-color: #7f7f7f\">                   </span>\n",
       "<span style=\"color: #7fbfbf; text-decoration-color: #7fbfbf\">                    </span>         <span style=\"color: #008000; text-decoration-color: #008000\">Gondi'</span>, <span style=\"color: #008000; text-decoration-color: #008000\">'Noto Sans Gurmukhi'</span>, <span style=\"color: #008000; text-decoration-color: #008000\">'Noto Sans Gurmukhi UI'</span>, <span style=\"color: #008000; text-decoration-color: #008000\">'Noto Sans </span> <span style=\"color: #7f7f7f; text-decoration-color: #7f7f7f\">                   </span>\n",
       "<span style=\"color: #7fbfbf; text-decoration-color: #7fbfbf\">                    </span>         <span style=\"color: #008000; text-decoration-color: #008000\">Hanifi Rohingya'</span>, <span style=\"color: #008000; text-decoration-color: #008000\">'Noto Sans Hanunoo'</span>, <span style=\"color: #008000; text-decoration-color: #008000\">'Noto Sans Hatran'</span>, <span style=\"color: #008000; text-decoration-color: #008000\">'Noto </span>  <span style=\"color: #7f7f7f; text-decoration-color: #7f7f7f\">                   </span>\n",
       "<span style=\"color: #7fbfbf; text-decoration-color: #7fbfbf\">                    </span>         <span style=\"color: #008000; text-decoration-color: #008000\">Sans Hebrew'</span>, <span style=\"color: #008000; text-decoration-color: #008000\">'Noto Sans Imperial Aramaic'</span>, <span style=\"color: #008000; text-decoration-color: #008000\">'Noto Sans Indic Siyaq</span> <span style=\"color: #7f7f7f; text-decoration-color: #7f7f7f\">                   </span>\n",
       "<span style=\"color: #7fbfbf; text-decoration-color: #7fbfbf\">                    </span>         <span style=\"color: #008000; text-decoration-color: #008000\">Numbers'</span>, <span style=\"color: #008000; text-decoration-color: #008000\">'Noto Sans In</span><span style=\"color: #808000; text-decoration-color: #808000; font-weight: bold\">script</span><span style=\"color: #008000; text-decoration-color: #008000\">ional Pahlavi'</span>, <span style=\"color: #008000; text-decoration-color: #008000\">'Noto Sans </span>           <span style=\"color: #7f7f7f; text-decoration-color: #7f7f7f\">                   </span>\n",
       "<span style=\"color: #7fbfbf; text-decoration-color: #7fbfbf\">                    </span>         <span style=\"color: #008000; text-decoration-color: #008000\">In</span><span style=\"color: #808000; text-decoration-color: #808000; font-weight: bold\">script</span><span style=\"color: #008000; text-decoration-color: #008000\">ional Parthian'</span>, <span style=\"color: #008000; text-decoration-color: #008000\">'Noto Sans Javanese'</span>, <span style=\"color: #008000; text-decoration-color: #008000\">'Noto Sans Kaithi'</span>, <span style=\"color: #7f7f7f; text-decoration-color: #7f7f7f\">                   </span>\n",
       "<span style=\"color: #7fbfbf; text-decoration-color: #7fbfbf\">                    </span>         <span style=\"color: #008000; text-decoration-color: #008000\">'Noto Sans Kannada'</span>, <span style=\"color: #008000; text-decoration-color: #008000\">'Noto Sans Kannada UI'</span>, <span style=\"color: #008000; text-decoration-color: #008000\">'Noto Sans Kawi'</span>,     <span style=\"color: #7f7f7f; text-decoration-color: #7f7f7f\">                   </span>\n",
       "<span style=\"color: #7fbfbf; text-decoration-color: #7fbfbf\">                    </span>         <span style=\"color: #008000; text-decoration-color: #008000\">'Noto Sans Kayah Li'</span>, <span style=\"color: #008000; text-decoration-color: #008000\">'Noto Sans Kharoshthi'</span>, <span style=\"color: #008000; text-decoration-color: #008000\">'Noto Sans Khmer'</span>,   <span style=\"color: #7f7f7f; text-decoration-color: #7f7f7f\">                   </span>\n",
       "<span style=\"color: #7fbfbf; text-decoration-color: #7fbfbf\">                    </span>         <span style=\"color: #008000; text-decoration-color: #008000\">'Noto Sans Khojki'</span>, <span style=\"color: #008000; text-decoration-color: #008000\">'Noto Sans Khudawadi'</span>, <span style=\"color: #008000; text-decoration-color: #008000\">'Noto Sans Lao'</span>, <span style=\"color: #008000; text-decoration-color: #008000\">'Noto </span> <span style=\"color: #7f7f7f; text-decoration-color: #7f7f7f\">                   </span>\n",
       "<span style=\"color: #7fbfbf; text-decoration-color: #7fbfbf\">                    </span>         <span style=\"color: #008000; text-decoration-color: #008000\">Sans Lao Looped'</span>, <span style=\"color: #008000; text-decoration-color: #008000\">'Noto Sans Lepcha'</span>, <span style=\"color: #008000; text-decoration-color: #008000\">'Noto Sans Limbu'</span>, <span style=\"color: #008000; text-decoration-color: #008000\">'Noto </span>    <span style=\"color: #7f7f7f; text-decoration-color: #7f7f7f\">                   </span>\n",
       "<span style=\"color: #7fbfbf; text-decoration-color: #7fbfbf\">                    </span>         <span style=\"color: #008000; text-decoration-color: #008000\">Sans Linear A'</span>, <span style=\"color: #008000; text-decoration-color: #008000\">'Noto Sans Linear B'</span>, <span style=\"color: #008000; text-decoration-color: #008000\">'Noto Sans Lisu'</span>, <span style=\"color: #008000; text-decoration-color: #008000\">'Noto Sans</span> <span style=\"color: #7f7f7f; text-decoration-color: #7f7f7f\">                   </span>\n",
       "<span style=\"color: #7fbfbf; text-decoration-color: #7fbfbf\">                    </span>         <span style=\"color: #008000; text-decoration-color: #008000\">Lycian'</span>, <span style=\"color: #008000; text-decoration-color: #008000\">'Noto Sans Lydian'</span>, <span style=\"color: #008000; text-decoration-color: #008000\">'Noto Sans Mahajani'</span>, <span style=\"color: #008000; text-decoration-color: #008000\">'Noto Sans </span>     <span style=\"color: #7f7f7f; text-decoration-color: #7f7f7f\">                   </span>\n",
       "<span style=\"color: #7fbfbf; text-decoration-color: #7fbfbf\">                    </span>         <span style=\"color: #008000; text-decoration-color: #008000\">Malayalam'</span>, <span style=\"color: #008000; text-decoration-color: #008000\">'Noto Sans Malayalam UI'</span>, <span style=\"color: #008000; text-decoration-color: #008000\">'Noto Sans Mandaic'</span>, <span style=\"color: #008000; text-decoration-color: #008000\">'Noto </span>  <span style=\"color: #7f7f7f; text-decoration-color: #7f7f7f\">                   </span>\n",
       "<span style=\"color: #7fbfbf; text-decoration-color: #7fbfbf\">                    </span>         <span style=\"color: #008000; text-decoration-color: #008000\">Sans Manichaean'</span>, <span style=\"color: #008000; text-decoration-color: #008000\">'Noto Sans Marchen'</span>, <span style=\"color: #008000; text-decoration-color: #008000\">'Noto Sans Masaram Gondi'</span>,  <span style=\"color: #7f7f7f; text-decoration-color: #7f7f7f\">                   </span>\n",
       "<span style=\"color: #7fbfbf; text-decoration-color: #7fbfbf\">                    </span>         <span style=\"color: #008000; text-decoration-color: #008000\">'Noto Sans Math'</span>, <span style=\"color: #008000; text-decoration-color: #008000\">'Noto Sans Mayan Numerals'</span>, <span style=\"color: #008000; text-decoration-color: #008000\">'Noto Sans </span>          <span style=\"color: #7f7f7f; text-decoration-color: #7f7f7f\">                   </span>\n",
       "<span style=\"color: #7fbfbf; text-decoration-color: #7fbfbf\">                    </span>         <span style=\"color: #008000; text-decoration-color: #008000\">Medefaidrin'</span>, <span style=\"color: #008000; text-decoration-color: #008000\">'Noto Sans Meetei Mayek'</span>, <span style=\"color: #008000; text-decoration-color: #008000\">'Noto Sans Mende Kikakui'</span>, <span style=\"color: #7f7f7f; text-decoration-color: #7f7f7f\">                   </span>\n",
       "<span style=\"color: #7fbfbf; text-decoration-color: #7fbfbf\">                    </span>         <span style=\"color: #008000; text-decoration-color: #008000\">'Noto Sans Meroitic'</span>, <span style=\"color: #008000; text-decoration-color: #008000\">'Noto Sans Miao'</span>, <span style=\"color: #008000; text-decoration-color: #008000\">'Noto Sans Modi'</span>, <span style=\"color: #008000; text-decoration-color: #008000\">'Noto </span>   <span style=\"color: #7f7f7f; text-decoration-color: #7f7f7f\">                   </span>\n",
       "<span style=\"color: #7fbfbf; text-decoration-color: #7fbfbf\">                    </span>         <span style=\"color: #008000; text-decoration-color: #008000\">Sans Mongolian'</span>, <span style=\"color: #008000; text-decoration-color: #008000\">'Noto Sans Mono'</span>, <span style=\"color: #008000; text-decoration-color: #008000\">'Noto Sans Mro'</span>, <span style=\"color: #008000; text-decoration-color: #008000\">'Noto Sans </span>    <span style=\"color: #7f7f7f; text-decoration-color: #7f7f7f\">                   </span>\n",
       "<span style=\"color: #7fbfbf; text-decoration-color: #7fbfbf\">                    </span>         <span style=\"color: #008000; text-decoration-color: #008000\">Multani'</span>, <span style=\"color: #008000; text-decoration-color: #008000\">'Noto Sans Myanmar'</span>, <span style=\"color: #008000; text-decoration-color: #008000\">'Noto Sans NKo'</span>, <span style=\"color: #008000; text-decoration-color: #008000\">'Noto Sans NKo </span>    <span style=\"color: #7f7f7f; text-decoration-color: #7f7f7f\">                   </span>\n",
       "<span style=\"color: #7fbfbf; text-decoration-color: #7fbfbf\">                    </span>         <span style=\"color: #008000; text-decoration-color: #008000\">Unjoined'</span>, <span style=\"color: #008000; text-decoration-color: #008000\">'Noto Sans Nabataean'</span>, <span style=\"color: #008000; text-decoration-color: #008000\">'Noto Sans Nag Mundari'</span>, <span style=\"color: #008000; text-decoration-color: #008000\">'Noto </span>  <span style=\"color: #7f7f7f; text-decoration-color: #7f7f7f\">                   </span>\n",
       "<span style=\"color: #7fbfbf; text-decoration-color: #7fbfbf\">                    </span>         <span style=\"color: #008000; text-decoration-color: #008000\">Sans Nandinagari'</span>, <span style=\"color: #008000; text-decoration-color: #008000\">'Noto Sans New Tai Lue'</span>, <span style=\"color: #008000; text-decoration-color: #008000\">'Noto Sans Newa'</span>,      <span style=\"color: #7f7f7f; text-decoration-color: #7f7f7f\">                   </span>\n",
       "<span style=\"color: #7fbfbf; text-decoration-color: #7fbfbf\">                    </span>         <span style=\"color: #008000; text-decoration-color: #008000\">'Noto Sans Nushu'</span>, <span style=\"color: #008000; text-decoration-color: #008000\">'Noto Sans Ogham'</span>, <span style=\"color: #008000; text-decoration-color: #008000\">'Noto Sans Ol Chiki'</span>, <span style=\"color: #008000; text-decoration-color: #008000\">'Noto </span> <span style=\"color: #7f7f7f; text-decoration-color: #7f7f7f\">                   </span>\n",
       "<span style=\"color: #7fbfbf; text-decoration-color: #7fbfbf\">                    </span>         <span style=\"color: #008000; text-decoration-color: #008000\">Sans Old Hungarian'</span>, <span style=\"color: #008000; text-decoration-color: #008000\">'Noto Sans Old Italic'</span>, <span style=\"color: #008000; text-decoration-color: #008000\">'Noto Sans Old North </span> <span style=\"color: #7f7f7f; text-decoration-color: #7f7f7f\">                   </span>\n",
       "<span style=\"color: #7fbfbf; text-decoration-color: #7fbfbf\">                    </span>         <span style=\"color: #008000; text-decoration-color: #008000\">Arabian'</span>, <span style=\"color: #008000; text-decoration-color: #008000\">'Noto Sans Old Permic'</span>, <span style=\"color: #008000; text-decoration-color: #008000\">'Noto Sans Old Persian'</span>, <span style=\"color: #008000; text-decoration-color: #008000\">'Noto </span>  <span style=\"color: #7f7f7f; text-decoration-color: #7f7f7f\">                   </span>\n",
       "<span style=\"color: #7fbfbf; text-decoration-color: #7fbfbf\">                    </span>         <span style=\"color: #008000; text-decoration-color: #008000\">Sans Old Sogdian'</span>, <span style=\"color: #008000; text-decoration-color: #008000\">'Noto Sans Old South Arabian'</span>, <span style=\"color: #008000; text-decoration-color: #008000\">'Noto Sans Old </span>  <span style=\"color: #7f7f7f; text-decoration-color: #7f7f7f\">                   </span>\n",
       "<span style=\"color: #7fbfbf; text-decoration-color: #7fbfbf\">                    </span>         <span style=\"color: #008000; text-decoration-color: #008000\">Turkic'</span>, <span style=\"color: #008000; text-decoration-color: #008000\">'Noto Sans Oriya'</span>, <span style=\"color: #008000; text-decoration-color: #008000\">'Noto Sans Osage'</span>, <span style=\"color: #008000; text-decoration-color: #008000\">'Noto Sans </span>         <span style=\"color: #7f7f7f; text-decoration-color: #7f7f7f\">                   </span>\n",
       "<span style=\"color: #7fbfbf; text-decoration-color: #7fbfbf\">                    </span>         <span style=\"color: #008000; text-decoration-color: #008000\">Osmanya'</span>, <span style=\"color: #008000; text-decoration-color: #008000\">'Noto Sans Pahawh Hmong'</span>, <span style=\"color: #008000; text-decoration-color: #008000\">'Noto Sans Palmyrene'</span>, <span style=\"color: #008000; text-decoration-color: #008000\">'Noto </span>  <span style=\"color: #7f7f7f; text-decoration-color: #7f7f7f\">                   </span>\n",
       "<span style=\"color: #7fbfbf; text-decoration-color: #7fbfbf\">                    </span>         <span style=\"color: #008000; text-decoration-color: #008000\">Sans Pau Cin Hau'</span>, <span style=\"color: #008000; text-decoration-color: #008000\">'Noto Sans Phags-Pa'</span>, <span style=\"color: #008000; text-decoration-color: #008000\">'Noto Sans PhagsPa'</span>,      <span style=\"color: #7f7f7f; text-decoration-color: #7f7f7f\">                   </span>\n",
       "<span style=\"color: #7fbfbf; text-decoration-color: #7fbfbf\">                    </span>         <span style=\"color: #008000; text-decoration-color: #008000\">'Noto Sans Phoenician'</span>, <span style=\"color: #008000; text-decoration-color: #008000\">'Noto Sans Psalter Pahlavi'</span>, <span style=\"color: #008000; text-decoration-color: #008000\">'Noto Sans </span>   <span style=\"color: #7f7f7f; text-decoration-color: #7f7f7f\">                   </span>\n",
       "<span style=\"color: #7fbfbf; text-decoration-color: #7fbfbf\">                    </span>         <span style=\"color: #008000; text-decoration-color: #008000\">Rejang'</span>, <span style=\"color: #008000; text-decoration-color: #008000\">'Noto Sans Runic'</span>, <span style=\"color: #008000; text-decoration-color: #008000\">'Noto Sans Samaritan'</span>, <span style=\"color: #008000; text-decoration-color: #008000\">'Noto Sans </span>     <span style=\"color: #7f7f7f; text-decoration-color: #7f7f7f\">                   </span>\n",
       "<span style=\"color: #7fbfbf; text-decoration-color: #7fbfbf\">                    </span>         <span style=\"color: #008000; text-decoration-color: #008000\">Saurashtra'</span>, <span style=\"color: #008000; text-decoration-color: #008000\">'Noto Sans Sharada'</span>, <span style=\"color: #008000; text-decoration-color: #008000\">'Noto Sans Shavian'</span>, <span style=\"color: #008000; text-decoration-color: #008000\">'Noto Sans </span> <span style=\"color: #7f7f7f; text-decoration-color: #7f7f7f\">                   </span>\n",
       "<span style=\"color: #7fbfbf; text-decoration-color: #7fbfbf\">                    </span>         <span style=\"color: #008000; text-decoration-color: #008000\">Siddham'</span>, <span style=\"color: #008000; text-decoration-color: #008000\">'Noto Sans Sign</span><span style=\"color: #808000; text-decoration-color: #808000; font-weight: bold\">Writing</span><span style=\"color: #008000; text-decoration-color: #008000\">'</span>, <span style=\"color: #008000; text-decoration-color: #008000\">'Noto Sans Sinhala'</span>, <span style=\"color: #008000; text-decoration-color: #008000\">'Noto Sans</span> <span style=\"color: #7f7f7f; text-decoration-color: #7f7f7f\">                   </span>\n",
       "<span style=\"color: #7fbfbf; text-decoration-color: #7fbfbf\">                    </span>         <span style=\"color: #008000; text-decoration-color: #008000\">Sinhala UI'</span>, <span style=\"color: #008000; text-decoration-color: #008000\">'Noto Sans Sogdian'</span>, <span style=\"color: #008000; text-decoration-color: #008000\">'Noto Sans Sora Sompeng'</span>, <span style=\"color: #008000; text-decoration-color: #008000\">'Noto </span> <span style=\"color: #7f7f7f; text-decoration-color: #7f7f7f\">                   </span>\n",
       "<span style=\"color: #7fbfbf; text-decoration-color: #7fbfbf\">                    </span>         <span style=\"color: #008000; text-decoration-color: #008000\">Sans Soyombo'</span>, <span style=\"color: #008000; text-decoration-color: #008000\">'Noto Sans Sundanese'</span>, <span style=\"color: #008000; text-decoration-color: #008000\">'Noto Sans Syloti Nagri'</span>,    <span style=\"color: #7f7f7f; text-decoration-color: #7f7f7f\">                   </span>\n",
       "<span style=\"color: #7fbfbf; text-decoration-color: #7fbfbf\">                    </span>         <span style=\"color: #008000; text-decoration-color: #008000\">'Noto Sans Symbols'</span>, <span style=\"color: #008000; text-decoration-color: #008000\">'Noto Sans Symbols 2'</span>, <span style=\"color: #008000; text-decoration-color: #008000\">'Noto Sans Syriac'</span>,    <span style=\"color: #7f7f7f; text-decoration-color: #7f7f7f\">                   </span>\n",
       "<span style=\"color: #7fbfbf; text-decoration-color: #7fbfbf\">                    </span>         <span style=\"color: #008000; text-decoration-color: #008000\">'Noto Sans Syriac Eastern'</span>, <span style=\"color: #008000; text-decoration-color: #008000\">'Noto Sans Syriac Western'</span>, <span style=\"color: #008000; text-decoration-color: #008000\">'Noto Sans</span> <span style=\"color: #7f7f7f; text-decoration-color: #7f7f7f\">                   </span>\n",
       "<span style=\"color: #7fbfbf; text-decoration-color: #7fbfbf\">                    </span>         <span style=\"color: #008000; text-decoration-color: #008000\">Tagalog'</span>, <span style=\"color: #008000; text-decoration-color: #008000\">'Noto Sans Tagbanwa'</span>, <span style=\"color: #008000; text-decoration-color: #008000\">'Noto Sans Tai Le'</span>, <span style=\"color: #008000; text-decoration-color: #008000\">'Noto Sans Tai</span> <span style=\"color: #7f7f7f; text-decoration-color: #7f7f7f\">                   </span>\n",
       "<span style=\"color: #7fbfbf; text-decoration-color: #7fbfbf\">                    </span>         <span style=\"color: #008000; text-decoration-color: #008000\">Tham'</span>, <span style=\"color: #008000; text-decoration-color: #008000\">'Noto Sans Tai Viet'</span>, <span style=\"color: #008000; text-decoration-color: #008000\">'Noto Sans Takri'</span>, <span style=\"color: #008000; text-decoration-color: #008000\">'Noto Sans Tamil'</span>, <span style=\"color: #7f7f7f; text-decoration-color: #7f7f7f\">                   </span>\n",
       "<span style=\"color: #7fbfbf; text-decoration-color: #7fbfbf\">                    </span>         <span style=\"color: #008000; text-decoration-color: #008000\">'Noto Sans Tamil Supplement'</span>, <span style=\"color: #008000; text-decoration-color: #008000\">'Noto Sans Tamil UI'</span>, <span style=\"color: #008000; text-decoration-color: #008000\">'Noto Sans </span>    <span style=\"color: #7f7f7f; text-decoration-color: #7f7f7f\">                   </span>\n",
       "<span style=\"color: #7fbfbf; text-decoration-color: #7fbfbf\">                    </span>         <span style=\"color: #008000; text-decoration-color: #008000\">Tangsa'</span>, <span style=\"color: #008000; text-decoration-color: #008000\">'Noto Sans Telugu'</span>, <span style=\"color: #008000; text-decoration-color: #008000\">'Noto Sans Telugu UI'</span>, <span style=\"color: #008000; text-decoration-color: #008000\">'Noto Sans </span>    <span style=\"color: #7f7f7f; text-decoration-color: #7f7f7f\">                   </span>\n",
       "<span style=\"color: #7fbfbf; text-decoration-color: #7fbfbf\">                    </span>         <span style=\"color: #008000; text-decoration-color: #008000\">Test'</span>, <span style=\"color: #008000; text-decoration-color: #008000\">'Noto Sans Thaana'</span>, <span style=\"color: #008000; text-decoration-color: #008000\">'Noto Sans Thai'</span>, <span style=\"color: #008000; text-decoration-color: #008000\">'Noto Sans Thai </span>      <span style=\"color: #7f7f7f; text-decoration-color: #7f7f7f\">                   </span>\n",
       "<span style=\"color: #7fbfbf; text-decoration-color: #7fbfbf\">                    </span>         <span style=\"color: #008000; text-decoration-color: #008000\">Looped'</span>, <span style=\"color: #008000; text-decoration-color: #008000\">'Noto Sans Tifinagh'</span>, <span style=\"color: #008000; text-decoration-color: #008000\">'Noto Sans Tifinagh APT'</span>, <span style=\"color: #008000; text-decoration-color: #008000\">'Noto </span>    <span style=\"color: #7f7f7f; text-decoration-color: #7f7f7f\">                   </span>\n",
       "<span style=\"color: #7fbfbf; text-decoration-color: #7fbfbf\">                    </span>         <span style=\"color: #008000; text-decoration-color: #008000\">Sans Tifinagh Adrar'</span>, <span style=\"color: #008000; text-decoration-color: #008000\">'Noto Sans Tifinagh Agraw Imazighen'</span>, <span style=\"color: #008000; text-decoration-color: #008000\">'Noto </span> <span style=\"color: #7f7f7f; text-decoration-color: #7f7f7f\">                   </span>\n",
       "<span style=\"color: #7fbfbf; text-decoration-color: #7fbfbf\">                    </span>         <span style=\"color: #008000; text-decoration-color: #008000\">Sans Tifinagh Ahaggar'</span>, <span style=\"color: #008000; text-decoration-color: #008000\">'Noto Sans Tifinagh Air'</span>, <span style=\"color: #008000; text-decoration-color: #008000\">'Noto Sans </span>      <span style=\"color: #7f7f7f; text-decoration-color: #7f7f7f\">                   </span>\n",
       "<span style=\"color: #7fbfbf; text-decoration-color: #7fbfbf\">                    </span>         <span style=\"color: #008000; text-decoration-color: #008000\">Tifinagh Azawagh'</span>, <span style=\"color: #008000; text-decoration-color: #008000\">'Noto Sans Tifinagh Ghat'</span>, <span style=\"color: #008000; text-decoration-color: #008000\">'Noto Sans Tifinagh </span> <span style=\"color: #7f7f7f; text-decoration-color: #7f7f7f\">                   </span>\n",
       "<span style=\"color: #7fbfbf; text-decoration-color: #7fbfbf\">                    </span>         <span style=\"color: #008000; text-decoration-color: #008000\">Hawad'</span>, <span style=\"color: #008000; text-decoration-color: #008000\">'Noto Sans Tifinagh Rhissa Ixa'</span>, <span style=\"color: #008000; text-decoration-color: #008000\">'Noto Sans Tifinagh SIL'</span>, <span style=\"color: #7f7f7f; text-decoration-color: #7f7f7f\">                   </span>\n",
       "<span style=\"color: #7fbfbf; text-decoration-color: #7fbfbf\">                    </span>         <span style=\"color: #008000; text-decoration-color: #008000\">'Noto Sans Tifinagh Tawellemmet'</span>, <span style=\"color: #008000; text-decoration-color: #008000\">'Noto Sans Tirhuta'</span>, <span style=\"color: #008000; text-decoration-color: #008000\">'Noto Sans </span> <span style=\"color: #7f7f7f; text-decoration-color: #7f7f7f\">                   </span>\n",
       "<span style=\"color: #7fbfbf; text-decoration-color: #7fbfbf\">                    </span>         <span style=\"color: #008000; text-decoration-color: #008000\">Ugaritic'</span>, <span style=\"color: #008000; text-decoration-color: #008000\">'Noto Sans Vai'</span>, <span style=\"color: #008000; text-decoration-color: #008000\">'Noto Sans Vithkuqi'</span>, <span style=\"color: #008000; text-decoration-color: #008000\">'Noto Sans </span>      <span style=\"color: #7f7f7f; text-decoration-color: #7f7f7f\">                   </span>\n",
       "<span style=\"color: #7fbfbf; text-decoration-color: #7fbfbf\">                    </span>         <span style=\"color: #008000; text-decoration-color: #008000\">Wancho'</span>, <span style=\"color: #008000; text-decoration-color: #008000\">'Noto Sans Warang Citi'</span>, <span style=\"color: #008000; text-decoration-color: #008000\">'Noto Sans Yi'</span>, <span style=\"color: #008000; text-decoration-color: #008000\">'Noto Sans </span>      <span style=\"color: #7f7f7f; text-decoration-color: #7f7f7f\">                   </span>\n",
       "<span style=\"color: #7fbfbf; text-decoration-color: #7fbfbf\">                    </span>         <span style=\"color: #008000; text-decoration-color: #008000\">Zanabazar Square'</span>, <span style=\"color: #008000; text-decoration-color: #008000\">'Noto Serif'</span>, <span style=\"color: #008000; text-decoration-color: #008000\">'Noto Serif Ahom'</span>, <span style=\"color: #008000; text-decoration-color: #008000\">'Noto Serif </span>   <span style=\"color: #7f7f7f; text-decoration-color: #7f7f7f\">                   </span>\n",
       "<span style=\"color: #7fbfbf; text-decoration-color: #7fbfbf\">                    </span>         <span style=\"color: #008000; text-decoration-color: #008000\">Armenian'</span>, <span style=\"color: #008000; text-decoration-color: #008000\">'Noto Serif Balinese'</span>, <span style=\"color: #008000; text-decoration-color: #008000\">'Noto Serif Bengali'</span>, <span style=\"color: #008000; text-decoration-color: #008000\">'Noto </span>     <span style=\"color: #7f7f7f; text-decoration-color: #7f7f7f\">                   </span>\n",
       "<span style=\"color: #7fbfbf; text-decoration-color: #7fbfbf\">                    </span>         <span style=\"color: #008000; text-decoration-color: #008000\">Serif Devanagari'</span>, <span style=\"color: #008000; text-decoration-color: #008000\">'Noto Serif Display'</span>, <span style=\"color: #008000; text-decoration-color: #008000\">'Noto Serif Dives Akuru'</span>, <span style=\"color: #7f7f7f; text-decoration-color: #7f7f7f\">                   </span>\n",
       "<span style=\"color: #7fbfbf; text-decoration-color: #7fbfbf\">                    </span>         <span style=\"color: #008000; text-decoration-color: #008000\">'Noto Serif Dogra'</span>, <span style=\"color: #008000; text-decoration-color: #008000\">'Noto Serif Ethiopic'</span>, <span style=\"color: #008000; text-decoration-color: #008000\">'Noto Serif Georgian'</span>,  <span style=\"color: #7f7f7f; text-decoration-color: #7f7f7f\">                   </span>\n",
       "<span style=\"color: #7fbfbf; text-decoration-color: #7fbfbf\">                    </span>         <span style=\"color: #008000; text-decoration-color: #008000\">'Noto Serif Grantha'</span>, <span style=\"color: #008000; text-decoration-color: #008000\">'Noto Serif Gujarati'</span>, <span style=\"color: #008000; text-decoration-color: #008000\">'Noto Serif </span>          <span style=\"color: #7f7f7f; text-decoration-color: #7f7f7f\">                   </span>\n",
       "<span style=\"color: #7fbfbf; text-decoration-color: #7fbfbf\">                    </span>         <span style=\"color: #008000; text-decoration-color: #008000\">Gurmukhi'</span>, <span style=\"color: #008000; text-decoration-color: #008000\">'Noto Serif Hebrew'</span>, <span style=\"color: #008000; text-decoration-color: #008000\">'Noto Serif Kannada'</span>, <span style=\"color: #008000; text-decoration-color: #008000\">'Noto Serif </span> <span style=\"color: #7f7f7f; text-decoration-color: #7f7f7f\">                   </span>\n",
       "<span style=\"color: #7fbfbf; text-decoration-color: #7fbfbf\">                    </span>         <span style=\"color: #008000; text-decoration-color: #008000\">Khitan Small Script'</span>, <span style=\"color: #008000; text-decoration-color: #008000\">'Noto Serif Khmer'</span>, <span style=\"color: #008000; text-decoration-color: #008000\">'Noto Serif Khojki'</span>,     <span style=\"color: #7f7f7f; text-decoration-color: #7f7f7f\">                   </span>\n",
       "<span style=\"color: #7fbfbf; text-decoration-color: #7fbfbf\">                    </span>         <span style=\"color: #008000; text-decoration-color: #008000\">'Noto Serif Lao'</span>, <span style=\"color: #008000; text-decoration-color: #008000\">'Noto Serif Makasar'</span>, <span style=\"color: #008000; text-decoration-color: #008000\">'Noto Serif Malayalam'</span>,    <span style=\"color: #7f7f7f; text-decoration-color: #7f7f7f\">                   </span>\n",
       "<span style=\"color: #7fbfbf; text-decoration-color: #7fbfbf\">                    </span>         <span style=\"color: #008000; text-decoration-color: #008000\">'Noto Serif Myanmar'</span>, <span style=\"color: #008000; text-decoration-color: #008000\">'Noto Serif NP Hmong'</span>, <span style=\"color: #008000; text-decoration-color: #008000\">'Noto Serif Old </span>      <span style=\"color: #7f7f7f; text-decoration-color: #7f7f7f\">                   </span>\n",
       "<span style=\"color: #7fbfbf; text-decoration-color: #7fbfbf\">                    </span>         <span style=\"color: #008000; text-decoration-color: #008000\">Uyghur'</span>, <span style=\"color: #008000; text-decoration-color: #008000\">'Noto Serif Oriya'</span>, <span style=\"color: #008000; text-decoration-color: #008000\">'Noto Serif Ottoman Siyaq'</span>, <span style=\"color: #008000; text-decoration-color: #008000\">'Noto </span>    <span style=\"color: #7f7f7f; text-decoration-color: #7f7f7f\">                   </span>\n",
       "<span style=\"color: #7fbfbf; text-decoration-color: #7fbfbf\">                    </span>         <span style=\"color: #008000; text-decoration-color: #008000\">Serif Sinhala'</span>, <span style=\"color: #008000; text-decoration-color: #008000\">'Noto Serif Tamil'</span>, <span style=\"color: #008000; text-decoration-color: #008000\">'Noto Serif Tangut'</span>, <span style=\"color: #008000; text-decoration-color: #008000\">'Noto </span>    <span style=\"color: #7f7f7f; text-decoration-color: #7f7f7f\">                   </span>\n",
       "<span style=\"color: #7fbfbf; text-decoration-color: #7fbfbf\">                    </span>         <span style=\"color: #008000; text-decoration-color: #008000\">Serif Telugu'</span>, <span style=\"color: #008000; text-decoration-color: #008000\">'Noto Serif Test'</span>, <span style=\"color: #008000; text-decoration-color: #008000\">'Noto Serif Thai'</span>, <span style=\"color: #008000; text-decoration-color: #008000\">'Noto Serif </span>  <span style=\"color: #7f7f7f; text-decoration-color: #7f7f7f\">                   </span>\n",
       "<span style=\"color: #7fbfbf; text-decoration-color: #7fbfbf\">                    </span>         <span style=\"color: #008000; text-decoration-color: #008000\">Tibetan'</span>, <span style=\"color: #008000; text-decoration-color: #008000\">'Noto Serif Toto'</span>, <span style=\"color: #008000; text-decoration-color: #008000\">'Noto Serif Vithkuqi'</span>, <span style=\"color: #008000; text-decoration-color: #008000\">'Noto Serif </span>   <span style=\"color: #7f7f7f; text-decoration-color: #7f7f7f\">                   </span>\n",
       "<span style=\"color: #7fbfbf; text-decoration-color: #7fbfbf\">                    </span>         <span style=\"color: #008000; text-decoration-color: #008000\">Yezidi'</span>, <span style=\"color: #008000; text-decoration-color: #008000\">'Noto Traditional Nushu'</span>, <span style=\"color: #008000; text-decoration-color: #008000\">'P052'</span>, <span style=\"color: #008000; text-decoration-color: #008000\">'Pothana2000'</span>, <span style=\"color: #008000; text-decoration-color: #008000\">'Sagar'</span>, <span style=\"color: #7f7f7f; text-decoration-color: #7f7f7f\">                   </span>\n",
       "<span style=\"color: #7fbfbf; text-decoration-color: #7fbfbf\">                    </span>         <span style=\"color: #008000; text-decoration-color: #008000\">'Sampige'</span>, <span style=\"color: #008000; text-decoration-color: #008000\">'Sans'</span>, <span style=\"color: #008000; text-decoration-color: #008000\">'Serif'</span>, <span style=\"color: #008000; text-decoration-color: #008000\">'Source Code Pro'</span>, <span style=\"color: #008000; text-decoration-color: #008000\">'Source Han Sans </span>   <span style=\"color: #7f7f7f; text-decoration-color: #7f7f7f\">                   </span>\n",
       "<span style=\"color: #7fbfbf; text-decoration-color: #7fbfbf\">                    </span>         <span style=\"color: #008000; text-decoration-color: #008000\">CN'</span>, <span style=\"color: #008000; text-decoration-color: #008000\">'Source Han Sans JP'</span>, <span style=\"color: #008000; text-decoration-color: #008000\">'Source Han Sans KR'</span>, <span style=\"color: #008000; text-decoration-color: #008000\">'Source Sans 3'</span>,  <span style=\"color: #7f7f7f; text-decoration-color: #7f7f7f\">                   </span>\n",
       "<span style=\"color: #7fbfbf; text-decoration-color: #7fbfbf\">                    </span>         <span style=\"color: #008000; text-decoration-color: #008000\">'Source Sans Pro'</span>, <span style=\"color: #008000; text-decoration-color: #008000\">'Source Sans Variable'</span>, <span style=\"color: #008000; text-decoration-color: #008000\">'SourceCodeVF'</span>,         <span style=\"color: #7f7f7f; text-decoration-color: #7f7f7f\">                   </span>\n",
       "<span style=\"color: #7fbfbf; text-decoration-color: #7fbfbf\">                    </span>         <span style=\"color: #008000; text-decoration-color: #008000\">'SourceSans3VF'</span>, <span style=\"color: #008000; text-decoration-color: #008000\">'Standard Symbols PS'</span>, <span style=\"color: #008000; text-decoration-color: #008000\">'System-ui'</span>,               <span style=\"color: #7f7f7f; text-decoration-color: #7f7f7f\">                   </span>\n",
       "<span style=\"color: #7fbfbf; text-decoration-color: #7fbfbf\">                    </span>         <span style=\"color: #008000; text-decoration-color: #008000\">'TAMu_Kadambri'</span>, <span style=\"color: #008000; text-decoration-color: #008000\">'TAMu_Kalyani'</span>, <span style=\"color: #008000; text-decoration-color: #008000\">'TAMu_Maduram'</span>, <span style=\"color: #008000; text-decoration-color: #008000\">'TSCu_Comic'</span>,     <span style=\"color: #7f7f7f; text-decoration-color: #7f7f7f\">                   </span>\n",
       "<span style=\"color: #7fbfbf; text-decoration-color: #7fbfbf\">                    </span>         <span style=\"color: #008000; text-decoration-color: #008000\">'TSCu_Paranar'</span>, <span style=\"color: #008000; text-decoration-color: #008000\">'TSCu_Times'</span>, <span style=\"color: #008000; text-decoration-color: #008000\">'Terminus'</span>, <span style=\"color: #008000; text-decoration-color: #008000\">'URW Bookman'</span>, <span style=\"color: #008000; text-decoration-color: #008000\">'URW </span>     <span style=\"color: #7f7f7f; text-decoration-color: #7f7f7f\">                   </span>\n",
       "<span style=\"color: #7fbfbf; text-decoration-color: #7fbfbf\">                    </span>         <span style=\"color: #008000; text-decoration-color: #008000\">Gothic'</span>, <span style=\"color: #008000; text-decoration-color: #008000\">'Z003'</span>, <span style=\"color: #008000; text-decoration-color: #008000\">'malayalam'</span>, <span style=\"color: #008000; text-decoration-color: #008000\">'orya'</span>, <span style=\"color: #008000; text-decoration-color: #008000\">'padmaa'</span><span style=\"font-weight: bold\">]</span>.                   <span style=\"color: #7f7f7f; text-decoration-color: #7f7f7f\">                   </span>\n",
       "</pre>\n"
      ],
      "text/plain": [
       "\u001b[2;36m[04/18/24 10:51:57]\u001b[0m\u001b[2;36m \u001b[0m\u001b[31mWARNING \u001b[0m Font DigiGroteskBoldCondensedRegular not in \u001b[1m[\u001b[0m\u001b[32m'Akaash'\u001b[0m,             \u001b[2mtext_mobject.py\u001b[0m\u001b[2m:\u001b[0m\u001b[2m440\u001b[0m\n",
       "\u001b[2;36m                    \u001b[0m         \u001b[32m'AkrutiMal1'\u001b[0m, \u001b[32m'AkrutiMal2'\u001b[0m, \u001b[32m'AkrutiTml1'\u001b[0m, \u001b[32m'AkrutiTml2'\u001b[0m, \u001b[32m'C059'\u001b[0m,    \u001b[2m                   \u001b[0m\n",
       "\u001b[2;36m                    \u001b[0m         \u001b[32m'Cantarell'\u001b[0m, \u001b[32m'D050000L'\u001b[0m, \u001b[32m'DejaVu Math TeX Gyre'\u001b[0m, \u001b[32m'DejaVu Sans'\u001b[0m,    \u001b[2m                   \u001b[0m\n",
       "\u001b[2;36m                    \u001b[0m         \u001b[32m'DejaVu Sans Mono'\u001b[0m, \u001b[32m'DejaVu Serif'\u001b[0m, \u001b[32m'Digi Grotesk Bold Condensed'\u001b[0m, \u001b[2m                   \u001b[0m\n",
       "\u001b[2;36m                    \u001b[0m         \u001b[32m'Droid Arabic Kufi'\u001b[0m, \u001b[32m'Droid Naskh Shift Alt'\u001b[0m, \u001b[32m'Droid Sans'\u001b[0m, \u001b[32m'Droid\u001b[0m \u001b[2m                   \u001b[0m\n",
       "\u001b[2;36m                    \u001b[0m         \u001b[32mSans Mono'\u001b[0m, \u001b[32m'Droid Serif'\u001b[0m, \u001b[32m'Gargi-1.2b'\u001b[0m, \u001b[32m'GurbaniBoliLite'\u001b[0m,        \u001b[2m                   \u001b[0m\n",
       "\u001b[2;36m                    \u001b[0m         \u001b[32m'Hack'\u001b[0m, \u001b[32m'Inconsolata'\u001b[0m, \u001b[32m'Liberation Mono'\u001b[0m, \u001b[32m'Liberation Sans'\u001b[0m,       \u001b[2m                   \u001b[0m\n",
       "\u001b[2;36m                    \u001b[0m         \u001b[32m'Liberation Serif'\u001b[0m, \u001b[32m'Ligconsolata'\u001b[0m, \u001b[32m'Likhan'\u001b[0m, \u001b[32m'MalOtf'\u001b[0m, \u001b[32m'MesloLGS \u001b[0m \u001b[2m                   \u001b[0m\n",
       "\u001b[2;36m                    \u001b[0m         \u001b[32mNF'\u001b[0m, \u001b[32m'Monospace'\u001b[0m, \u001b[32m'Mukti Narrow'\u001b[0m, \u001b[32m'Nimbus Mono PS'\u001b[0m, \u001b[32m'Nimbus \u001b[0m       \u001b[2m                   \u001b[0m\n",
       "\u001b[2;36m                    \u001b[0m         \u001b[32mRoman'\u001b[0m, \u001b[32m'Nimbus Sans'\u001b[0m, \u001b[32m'Nimbus Sans Narrow'\u001b[0m, \u001b[32m'Noto Color Emoji'\u001b[0m,   \u001b[2m                   \u001b[0m\n",
       "\u001b[2;36m                    \u001b[0m         \u001b[32m'Noto Fangsong KSS Rotated'\u001b[0m, \u001b[32m'Noto Fangsong KSS Vertical'\u001b[0m, \u001b[32m'Noto \u001b[0m  \u001b[2m                   \u001b[0m\n",
       "\u001b[2;36m                    \u001b[0m         \u001b[32mKufi Arabic'\u001b[0m, \u001b[32m'Noto Music'\u001b[0m, \u001b[32m'Noto Naskh Arabic'\u001b[0m, \u001b[32m'Noto Naskh \u001b[0m      \u001b[2m                   \u001b[0m\n",
       "\u001b[2;36m                    \u001b[0m         \u001b[32mArabic UI'\u001b[0m, \u001b[32m'Noto Nastaliq Urdu'\u001b[0m, \u001b[32m'Noto Rashi Hebrew'\u001b[0m, \u001b[32m'Noto \u001b[0m      \u001b[2m                   \u001b[0m\n",
       "\u001b[2;36m                    \u001b[0m         \u001b[32mSans'\u001b[0m, \u001b[32m'Noto Sans Adlam'\u001b[0m, \u001b[32m'Noto Sans Adlam Unjoined'\u001b[0m, \u001b[32m'Noto Sans \u001b[0m  \u001b[2m                   \u001b[0m\n",
       "\u001b[2;36m                    \u001b[0m         \u001b[32mAnatolian Hieroglyphs'\u001b[0m, \u001b[32m'Noto Sans Arabic'\u001b[0m, \u001b[32m'Noto Sans Armenian'\u001b[0m,  \u001b[2m                   \u001b[0m\n",
       "\u001b[2;36m                    \u001b[0m         \u001b[32m'Noto Sans Avestan'\u001b[0m, \u001b[32m'Noto Sans Balinese'\u001b[0m, \u001b[32m'Noto Sans Bamum'\u001b[0m,      \u001b[2m                   \u001b[0m\n",
       "\u001b[2;36m                    \u001b[0m         \u001b[32m'Noto Sans Bassa Vah'\u001b[0m, \u001b[32m'Noto Sans Batak'\u001b[0m, \u001b[32m'Noto Sans Bengali'\u001b[0m,     \u001b[2m                   \u001b[0m\n",
       "\u001b[2;36m                    \u001b[0m         \u001b[32m'Noto Sans Bengali UI'\u001b[0m, \u001b[32m'Noto Sans Bhaiksuki'\u001b[0m, \u001b[32m'Noto Sans Brahmi'\u001b[0m, \u001b[2m                   \u001b[0m\n",
       "\u001b[2;36m                    \u001b[0m         \u001b[32m'Noto Sans Buginese'\u001b[0m, \u001b[32m'Noto Sans Buhid'\u001b[0m, \u001b[32m'Noto Sans Canadian \u001b[0m      \u001b[2m                   \u001b[0m\n",
       "\u001b[2;36m                    \u001b[0m         \u001b[32mAboriginal'\u001b[0m, \u001b[32m'Noto Sans Carian'\u001b[0m, \u001b[32m'Noto Sans Caucasian Albanian'\u001b[0m,   \u001b[2m                   \u001b[0m\n",
       "\u001b[2;36m                    \u001b[0m         \u001b[32m'Noto Sans Chakma'\u001b[0m, \u001b[32m'Noto Sans Cham'\u001b[0m, \u001b[32m'Noto Sans Cherokee'\u001b[0m, \u001b[32m'Noto \u001b[0m \u001b[2m                   \u001b[0m\n",
       "\u001b[2;36m                    \u001b[0m         \u001b[32mSans Chorasmian'\u001b[0m, \u001b[32m'Noto Sans Coptic'\u001b[0m, \u001b[32m'Noto Sans Cuneiform'\u001b[0m, \u001b[32m'Noto\u001b[0m \u001b[2m                   \u001b[0m\n",
       "\u001b[2;36m                    \u001b[0m         \u001b[32mSans Cypriot'\u001b[0m, \u001b[32m'Noto Sans Cypro Minoan'\u001b[0m, \u001b[32m'Noto Sans Deseret'\u001b[0m,      \u001b[2m                   \u001b[0m\n",
       "\u001b[2;36m                    \u001b[0m         \u001b[32m'Noto Sans Devanagari'\u001b[0m, \u001b[32m'Noto Sans Devanagari UI'\u001b[0m, \u001b[32m'Noto Sans \u001b[0m     \u001b[2m                   \u001b[0m\n",
       "\u001b[2;36m                    \u001b[0m         \u001b[32mDuployan'\u001b[0m, \u001b[32m'Noto Sans Egyptian Hieroglyphs'\u001b[0m, \u001b[32m'Noto Sans Elbasan'\u001b[0m,  \u001b[2m                   \u001b[0m\n",
       "\u001b[2;36m                    \u001b[0m         \u001b[32m'Noto Sans Elymaic'\u001b[0m, \u001b[32m'Noto Sans Ethiopic'\u001b[0m, \u001b[32m'Noto Sans Georgian'\u001b[0m,   \u001b[2m                   \u001b[0m\n",
       "\u001b[2;36m                    \u001b[0m         \u001b[32m'Noto Sans Glagolitic'\u001b[0m, \u001b[32m'Noto Sans Gothic'\u001b[0m, \u001b[32m'Noto Sans Grantha'\u001b[0m,   \u001b[2m                   \u001b[0m\n",
       "\u001b[2;36m                    \u001b[0m         \u001b[32m'Noto Sans Gujarati'\u001b[0m, \u001b[32m'Noto Sans Gujarati UI'\u001b[0m, \u001b[32m'Noto Sans Gunjala \u001b[0m \u001b[2m                   \u001b[0m\n",
       "\u001b[2;36m                    \u001b[0m         \u001b[32mGondi'\u001b[0m, \u001b[32m'Noto Sans Gurmukhi'\u001b[0m, \u001b[32m'Noto Sans Gurmukhi UI'\u001b[0m, \u001b[32m'Noto Sans \u001b[0m \u001b[2m                   \u001b[0m\n",
       "\u001b[2;36m                    \u001b[0m         \u001b[32mHanifi Rohingya'\u001b[0m, \u001b[32m'Noto Sans Hanunoo'\u001b[0m, \u001b[32m'Noto Sans Hatran'\u001b[0m, \u001b[32m'Noto \u001b[0m  \u001b[2m                   \u001b[0m\n",
       "\u001b[2;36m                    \u001b[0m         \u001b[32mSans Hebrew'\u001b[0m, \u001b[32m'Noto Sans Imperial Aramaic'\u001b[0m, \u001b[32m'Noto Sans Indic Siyaq\u001b[0m \u001b[2m                   \u001b[0m\n",
       "\u001b[2;36m                    \u001b[0m         \u001b[32mNumbers'\u001b[0m, \u001b[32m'Noto Sans In\u001b[0m\u001b[1;33mscript\u001b[0m\u001b[32mional Pahlavi'\u001b[0m, \u001b[32m'Noto Sans \u001b[0m           \u001b[2m                   \u001b[0m\n",
       "\u001b[2;36m                    \u001b[0m         \u001b[32mIn\u001b[0m\u001b[1;33mscript\u001b[0m\u001b[32mional Parthian'\u001b[0m, \u001b[32m'Noto Sans Javanese'\u001b[0m, \u001b[32m'Noto Sans Kaithi'\u001b[0m, \u001b[2m                   \u001b[0m\n",
       "\u001b[2;36m                    \u001b[0m         \u001b[32m'Noto Sans Kannada'\u001b[0m, \u001b[32m'Noto Sans Kannada UI'\u001b[0m, \u001b[32m'Noto Sans Kawi'\u001b[0m,     \u001b[2m                   \u001b[0m\n",
       "\u001b[2;36m                    \u001b[0m         \u001b[32m'Noto Sans Kayah Li'\u001b[0m, \u001b[32m'Noto Sans Kharoshthi'\u001b[0m, \u001b[32m'Noto Sans Khmer'\u001b[0m,   \u001b[2m                   \u001b[0m\n",
       "\u001b[2;36m                    \u001b[0m         \u001b[32m'Noto Sans Khojki'\u001b[0m, \u001b[32m'Noto Sans Khudawadi'\u001b[0m, \u001b[32m'Noto Sans Lao'\u001b[0m, \u001b[32m'Noto \u001b[0m \u001b[2m                   \u001b[0m\n",
       "\u001b[2;36m                    \u001b[0m         \u001b[32mSans Lao Looped'\u001b[0m, \u001b[32m'Noto Sans Lepcha'\u001b[0m, \u001b[32m'Noto Sans Limbu'\u001b[0m, \u001b[32m'Noto \u001b[0m    \u001b[2m                   \u001b[0m\n",
       "\u001b[2;36m                    \u001b[0m         \u001b[32mSans Linear A'\u001b[0m, \u001b[32m'Noto Sans Linear B'\u001b[0m, \u001b[32m'Noto Sans Lisu'\u001b[0m, \u001b[32m'Noto Sans\u001b[0m \u001b[2m                   \u001b[0m\n",
       "\u001b[2;36m                    \u001b[0m         \u001b[32mLycian'\u001b[0m, \u001b[32m'Noto Sans Lydian'\u001b[0m, \u001b[32m'Noto Sans Mahajani'\u001b[0m, \u001b[32m'Noto Sans \u001b[0m     \u001b[2m                   \u001b[0m\n",
       "\u001b[2;36m                    \u001b[0m         \u001b[32mMalayalam'\u001b[0m, \u001b[32m'Noto Sans Malayalam UI'\u001b[0m, \u001b[32m'Noto Sans Mandaic'\u001b[0m, \u001b[32m'Noto \u001b[0m  \u001b[2m                   \u001b[0m\n",
       "\u001b[2;36m                    \u001b[0m         \u001b[32mSans Manichaean'\u001b[0m, \u001b[32m'Noto Sans Marchen'\u001b[0m, \u001b[32m'Noto Sans Masaram Gondi'\u001b[0m,  \u001b[2m                   \u001b[0m\n",
       "\u001b[2;36m                    \u001b[0m         \u001b[32m'Noto Sans Math'\u001b[0m, \u001b[32m'Noto Sans Mayan Numerals'\u001b[0m, \u001b[32m'Noto Sans \u001b[0m          \u001b[2m                   \u001b[0m\n",
       "\u001b[2;36m                    \u001b[0m         \u001b[32mMedefaidrin'\u001b[0m, \u001b[32m'Noto Sans Meetei Mayek'\u001b[0m, \u001b[32m'Noto Sans Mende Kikakui'\u001b[0m, \u001b[2m                   \u001b[0m\n",
       "\u001b[2;36m                    \u001b[0m         \u001b[32m'Noto Sans Meroitic'\u001b[0m, \u001b[32m'Noto Sans Miao'\u001b[0m, \u001b[32m'Noto Sans Modi'\u001b[0m, \u001b[32m'Noto \u001b[0m   \u001b[2m                   \u001b[0m\n",
       "\u001b[2;36m                    \u001b[0m         \u001b[32mSans Mongolian'\u001b[0m, \u001b[32m'Noto Sans Mono'\u001b[0m, \u001b[32m'Noto Sans Mro'\u001b[0m, \u001b[32m'Noto Sans \u001b[0m    \u001b[2m                   \u001b[0m\n",
       "\u001b[2;36m                    \u001b[0m         \u001b[32mMultani'\u001b[0m, \u001b[32m'Noto Sans Myanmar'\u001b[0m, \u001b[32m'Noto Sans NKo'\u001b[0m, \u001b[32m'Noto Sans NKo \u001b[0m    \u001b[2m                   \u001b[0m\n",
       "\u001b[2;36m                    \u001b[0m         \u001b[32mUnjoined'\u001b[0m, \u001b[32m'Noto Sans Nabataean'\u001b[0m, \u001b[32m'Noto Sans Nag Mundari'\u001b[0m, \u001b[32m'Noto \u001b[0m  \u001b[2m                   \u001b[0m\n",
       "\u001b[2;36m                    \u001b[0m         \u001b[32mSans Nandinagari'\u001b[0m, \u001b[32m'Noto Sans New Tai Lue'\u001b[0m, \u001b[32m'Noto Sans Newa'\u001b[0m,      \u001b[2m                   \u001b[0m\n",
       "\u001b[2;36m                    \u001b[0m         \u001b[32m'Noto Sans Nushu'\u001b[0m, \u001b[32m'Noto Sans Ogham'\u001b[0m, \u001b[32m'Noto Sans Ol Chiki'\u001b[0m, \u001b[32m'Noto \u001b[0m \u001b[2m                   \u001b[0m\n",
       "\u001b[2;36m                    \u001b[0m         \u001b[32mSans Old Hungarian'\u001b[0m, \u001b[32m'Noto Sans Old Italic'\u001b[0m, \u001b[32m'Noto Sans Old North \u001b[0m \u001b[2m                   \u001b[0m\n",
       "\u001b[2;36m                    \u001b[0m         \u001b[32mArabian'\u001b[0m, \u001b[32m'Noto Sans Old Permic'\u001b[0m, \u001b[32m'Noto Sans Old Persian'\u001b[0m, \u001b[32m'Noto \u001b[0m  \u001b[2m                   \u001b[0m\n",
       "\u001b[2;36m                    \u001b[0m         \u001b[32mSans Old Sogdian'\u001b[0m, \u001b[32m'Noto Sans Old South Arabian'\u001b[0m, \u001b[32m'Noto Sans Old \u001b[0m  \u001b[2m                   \u001b[0m\n",
       "\u001b[2;36m                    \u001b[0m         \u001b[32mTurkic'\u001b[0m, \u001b[32m'Noto Sans Oriya'\u001b[0m, \u001b[32m'Noto Sans Osage'\u001b[0m, \u001b[32m'Noto Sans \u001b[0m         \u001b[2m                   \u001b[0m\n",
       "\u001b[2;36m                    \u001b[0m         \u001b[32mOsmanya'\u001b[0m, \u001b[32m'Noto Sans Pahawh Hmong'\u001b[0m, \u001b[32m'Noto Sans Palmyrene'\u001b[0m, \u001b[32m'Noto \u001b[0m  \u001b[2m                   \u001b[0m\n",
       "\u001b[2;36m                    \u001b[0m         \u001b[32mSans Pau Cin Hau'\u001b[0m, \u001b[32m'Noto Sans Phags-Pa'\u001b[0m, \u001b[32m'Noto Sans PhagsPa'\u001b[0m,      \u001b[2m                   \u001b[0m\n",
       "\u001b[2;36m                    \u001b[0m         \u001b[32m'Noto Sans Phoenician'\u001b[0m, \u001b[32m'Noto Sans Psalter Pahlavi'\u001b[0m, \u001b[32m'Noto Sans \u001b[0m   \u001b[2m                   \u001b[0m\n",
       "\u001b[2;36m                    \u001b[0m         \u001b[32mRejang'\u001b[0m, \u001b[32m'Noto Sans Runic'\u001b[0m, \u001b[32m'Noto Sans Samaritan'\u001b[0m, \u001b[32m'Noto Sans \u001b[0m     \u001b[2m                   \u001b[0m\n",
       "\u001b[2;36m                    \u001b[0m         \u001b[32mSaurashtra'\u001b[0m, \u001b[32m'Noto Sans Sharada'\u001b[0m, \u001b[32m'Noto Sans Shavian'\u001b[0m, \u001b[32m'Noto Sans \u001b[0m \u001b[2m                   \u001b[0m\n",
       "\u001b[2;36m                    \u001b[0m         \u001b[32mSiddham'\u001b[0m, \u001b[32m'Noto Sans Sign\u001b[0m\u001b[1;33mWriting\u001b[0m\u001b[32m'\u001b[0m, \u001b[32m'Noto Sans Sinhala'\u001b[0m, \u001b[32m'Noto Sans\u001b[0m \u001b[2m                   \u001b[0m\n",
       "\u001b[2;36m                    \u001b[0m         \u001b[32mSinhala UI'\u001b[0m, \u001b[32m'Noto Sans Sogdian'\u001b[0m, \u001b[32m'Noto Sans Sora Sompeng'\u001b[0m, \u001b[32m'Noto \u001b[0m \u001b[2m                   \u001b[0m\n",
       "\u001b[2;36m                    \u001b[0m         \u001b[32mSans Soyombo'\u001b[0m, \u001b[32m'Noto Sans Sundanese'\u001b[0m, \u001b[32m'Noto Sans Syloti Nagri'\u001b[0m,    \u001b[2m                   \u001b[0m\n",
       "\u001b[2;36m                    \u001b[0m         \u001b[32m'Noto Sans Symbols'\u001b[0m, \u001b[32m'Noto Sans Symbols 2'\u001b[0m, \u001b[32m'Noto Sans Syriac'\u001b[0m,    \u001b[2m                   \u001b[0m\n",
       "\u001b[2;36m                    \u001b[0m         \u001b[32m'Noto Sans Syriac Eastern'\u001b[0m, \u001b[32m'Noto Sans Syriac Western'\u001b[0m, \u001b[32m'Noto Sans\u001b[0m \u001b[2m                   \u001b[0m\n",
       "\u001b[2;36m                    \u001b[0m         \u001b[32mTagalog'\u001b[0m, \u001b[32m'Noto Sans Tagbanwa'\u001b[0m, \u001b[32m'Noto Sans Tai Le'\u001b[0m, \u001b[32m'Noto Sans Tai\u001b[0m \u001b[2m                   \u001b[0m\n",
       "\u001b[2;36m                    \u001b[0m         \u001b[32mTham'\u001b[0m, \u001b[32m'Noto Sans Tai Viet'\u001b[0m, \u001b[32m'Noto Sans Takri'\u001b[0m, \u001b[32m'Noto Sans Tamil'\u001b[0m, \u001b[2m                   \u001b[0m\n",
       "\u001b[2;36m                    \u001b[0m         \u001b[32m'Noto Sans Tamil Supplement'\u001b[0m, \u001b[32m'Noto Sans Tamil UI'\u001b[0m, \u001b[32m'Noto Sans \u001b[0m    \u001b[2m                   \u001b[0m\n",
       "\u001b[2;36m                    \u001b[0m         \u001b[32mTangsa'\u001b[0m, \u001b[32m'Noto Sans Telugu'\u001b[0m, \u001b[32m'Noto Sans Telugu UI'\u001b[0m, \u001b[32m'Noto Sans \u001b[0m    \u001b[2m                   \u001b[0m\n",
       "\u001b[2;36m                    \u001b[0m         \u001b[32mTest'\u001b[0m, \u001b[32m'Noto Sans Thaana'\u001b[0m, \u001b[32m'Noto Sans Thai'\u001b[0m, \u001b[32m'Noto Sans Thai \u001b[0m      \u001b[2m                   \u001b[0m\n",
       "\u001b[2;36m                    \u001b[0m         \u001b[32mLooped'\u001b[0m, \u001b[32m'Noto Sans Tifinagh'\u001b[0m, \u001b[32m'Noto Sans Tifinagh APT'\u001b[0m, \u001b[32m'Noto \u001b[0m    \u001b[2m                   \u001b[0m\n",
       "\u001b[2;36m                    \u001b[0m         \u001b[32mSans Tifinagh Adrar'\u001b[0m, \u001b[32m'Noto Sans Tifinagh Agraw Imazighen'\u001b[0m, \u001b[32m'Noto \u001b[0m \u001b[2m                   \u001b[0m\n",
       "\u001b[2;36m                    \u001b[0m         \u001b[32mSans Tifinagh Ahaggar'\u001b[0m, \u001b[32m'Noto Sans Tifinagh Air'\u001b[0m, \u001b[32m'Noto Sans \u001b[0m      \u001b[2m                   \u001b[0m\n",
       "\u001b[2;36m                    \u001b[0m         \u001b[32mTifinagh Azawagh'\u001b[0m, \u001b[32m'Noto Sans Tifinagh Ghat'\u001b[0m, \u001b[32m'Noto Sans Tifinagh \u001b[0m \u001b[2m                   \u001b[0m\n",
       "\u001b[2;36m                    \u001b[0m         \u001b[32mHawad'\u001b[0m, \u001b[32m'Noto Sans Tifinagh Rhissa Ixa'\u001b[0m, \u001b[32m'Noto Sans Tifinagh SIL'\u001b[0m, \u001b[2m                   \u001b[0m\n",
       "\u001b[2;36m                    \u001b[0m         \u001b[32m'Noto Sans Tifinagh Tawellemmet'\u001b[0m, \u001b[32m'Noto Sans Tirhuta'\u001b[0m, \u001b[32m'Noto Sans \u001b[0m \u001b[2m                   \u001b[0m\n",
       "\u001b[2;36m                    \u001b[0m         \u001b[32mUgaritic'\u001b[0m, \u001b[32m'Noto Sans Vai'\u001b[0m, \u001b[32m'Noto Sans Vithkuqi'\u001b[0m, \u001b[32m'Noto Sans \u001b[0m      \u001b[2m                   \u001b[0m\n",
       "\u001b[2;36m                    \u001b[0m         \u001b[32mWancho'\u001b[0m, \u001b[32m'Noto Sans Warang Citi'\u001b[0m, \u001b[32m'Noto Sans Yi'\u001b[0m, \u001b[32m'Noto Sans \u001b[0m      \u001b[2m                   \u001b[0m\n",
       "\u001b[2;36m                    \u001b[0m         \u001b[32mZanabazar Square'\u001b[0m, \u001b[32m'Noto Serif'\u001b[0m, \u001b[32m'Noto Serif Ahom'\u001b[0m, \u001b[32m'Noto Serif \u001b[0m   \u001b[2m                   \u001b[0m\n",
       "\u001b[2;36m                    \u001b[0m         \u001b[32mArmenian'\u001b[0m, \u001b[32m'Noto Serif Balinese'\u001b[0m, \u001b[32m'Noto Serif Bengali'\u001b[0m, \u001b[32m'Noto \u001b[0m     \u001b[2m                   \u001b[0m\n",
       "\u001b[2;36m                    \u001b[0m         \u001b[32mSerif Devanagari'\u001b[0m, \u001b[32m'Noto Serif Display'\u001b[0m, \u001b[32m'Noto Serif Dives Akuru'\u001b[0m, \u001b[2m                   \u001b[0m\n",
       "\u001b[2;36m                    \u001b[0m         \u001b[32m'Noto Serif Dogra'\u001b[0m, \u001b[32m'Noto Serif Ethiopic'\u001b[0m, \u001b[32m'Noto Serif Georgian'\u001b[0m,  \u001b[2m                   \u001b[0m\n",
       "\u001b[2;36m                    \u001b[0m         \u001b[32m'Noto Serif Grantha'\u001b[0m, \u001b[32m'Noto Serif Gujarati'\u001b[0m, \u001b[32m'Noto Serif \u001b[0m          \u001b[2m                   \u001b[0m\n",
       "\u001b[2;36m                    \u001b[0m         \u001b[32mGurmukhi'\u001b[0m, \u001b[32m'Noto Serif Hebrew'\u001b[0m, \u001b[32m'Noto Serif Kannada'\u001b[0m, \u001b[32m'Noto Serif \u001b[0m \u001b[2m                   \u001b[0m\n",
       "\u001b[2;36m                    \u001b[0m         \u001b[32mKhitan Small Script'\u001b[0m, \u001b[32m'Noto Serif Khmer'\u001b[0m, \u001b[32m'Noto Serif Khojki'\u001b[0m,     \u001b[2m                   \u001b[0m\n",
       "\u001b[2;36m                    \u001b[0m         \u001b[32m'Noto Serif Lao'\u001b[0m, \u001b[32m'Noto Serif Makasar'\u001b[0m, \u001b[32m'Noto Serif Malayalam'\u001b[0m,    \u001b[2m                   \u001b[0m\n",
       "\u001b[2;36m                    \u001b[0m         \u001b[32m'Noto Serif Myanmar'\u001b[0m, \u001b[32m'Noto Serif NP Hmong'\u001b[0m, \u001b[32m'Noto Serif Old \u001b[0m      \u001b[2m                   \u001b[0m\n",
       "\u001b[2;36m                    \u001b[0m         \u001b[32mUyghur'\u001b[0m, \u001b[32m'Noto Serif Oriya'\u001b[0m, \u001b[32m'Noto Serif Ottoman Siyaq'\u001b[0m, \u001b[32m'Noto \u001b[0m    \u001b[2m                   \u001b[0m\n",
       "\u001b[2;36m                    \u001b[0m         \u001b[32mSerif Sinhala'\u001b[0m, \u001b[32m'Noto Serif Tamil'\u001b[0m, \u001b[32m'Noto Serif Tangut'\u001b[0m, \u001b[32m'Noto \u001b[0m    \u001b[2m                   \u001b[0m\n",
       "\u001b[2;36m                    \u001b[0m         \u001b[32mSerif Telugu'\u001b[0m, \u001b[32m'Noto Serif Test'\u001b[0m, \u001b[32m'Noto Serif Thai'\u001b[0m, \u001b[32m'Noto Serif \u001b[0m  \u001b[2m                   \u001b[0m\n",
       "\u001b[2;36m                    \u001b[0m         \u001b[32mTibetan'\u001b[0m, \u001b[32m'Noto Serif Toto'\u001b[0m, \u001b[32m'Noto Serif Vithkuqi'\u001b[0m, \u001b[32m'Noto Serif \u001b[0m   \u001b[2m                   \u001b[0m\n",
       "\u001b[2;36m                    \u001b[0m         \u001b[32mYezidi'\u001b[0m, \u001b[32m'Noto Traditional Nushu'\u001b[0m, \u001b[32m'P052'\u001b[0m, \u001b[32m'Pothana2000'\u001b[0m, \u001b[32m'Sagar'\u001b[0m, \u001b[2m                   \u001b[0m\n",
       "\u001b[2;36m                    \u001b[0m         \u001b[32m'Sampige'\u001b[0m, \u001b[32m'Sans'\u001b[0m, \u001b[32m'Serif'\u001b[0m, \u001b[32m'Source Code Pro'\u001b[0m, \u001b[32m'Source Han Sans \u001b[0m   \u001b[2m                   \u001b[0m\n",
       "\u001b[2;36m                    \u001b[0m         \u001b[32mCN'\u001b[0m, \u001b[32m'Source Han Sans JP'\u001b[0m, \u001b[32m'Source Han Sans KR'\u001b[0m, \u001b[32m'Source Sans 3'\u001b[0m,  \u001b[2m                   \u001b[0m\n",
       "\u001b[2;36m                    \u001b[0m         \u001b[32m'Source Sans Pro'\u001b[0m, \u001b[32m'Source Sans Variable'\u001b[0m, \u001b[32m'SourceCodeVF'\u001b[0m,         \u001b[2m                   \u001b[0m\n",
       "\u001b[2;36m                    \u001b[0m         \u001b[32m'SourceSans3VF'\u001b[0m, \u001b[32m'Standard Symbols PS'\u001b[0m, \u001b[32m'System-ui'\u001b[0m,               \u001b[2m                   \u001b[0m\n",
       "\u001b[2;36m                    \u001b[0m         \u001b[32m'TAMu_Kadambri'\u001b[0m, \u001b[32m'TAMu_Kalyani'\u001b[0m, \u001b[32m'TAMu_Maduram'\u001b[0m, \u001b[32m'TSCu_Comic'\u001b[0m,     \u001b[2m                   \u001b[0m\n",
       "\u001b[2;36m                    \u001b[0m         \u001b[32m'TSCu_Paranar'\u001b[0m, \u001b[32m'TSCu_Times'\u001b[0m, \u001b[32m'Terminus'\u001b[0m, \u001b[32m'URW Bookman'\u001b[0m, \u001b[32m'URW \u001b[0m     \u001b[2m                   \u001b[0m\n",
       "\u001b[2;36m                    \u001b[0m         \u001b[32mGothic'\u001b[0m, \u001b[32m'Z003'\u001b[0m, \u001b[32m'malayalam'\u001b[0m, \u001b[32m'orya'\u001b[0m, \u001b[32m'padmaa'\u001b[0m\u001b[1m]\u001b[0m.                   \u001b[2m                   \u001b[0m\n"
      ]
     },
     "metadata": {},
     "output_type": "display_data"
    },
    {
     "name": "stderr",
     "output_type": "stream",
     "text": [
      "                                                                                \r"
     ]
    },
    {
     "data": {
      "text/html": [
       "<pre style=\"white-space:pre;overflow-x:auto;line-height:normal;font-family:Menlo,'DejaVu Sans Mono',consolas,'Courier New',monospace\"><span style=\"color: #7fbfbf; text-decoration-color: #7fbfbf\">[04/18/24 10:52:14] </span><span style=\"color: #008000; text-decoration-color: #008000\">INFO    </span> Animation <span style=\"color: #008000; text-decoration-color: #008000\">0</span> : Partial movie file written in <span style=\"color: #008000; text-decoration-color: #008000\">'/home/ah/Dev </span>    <span style=\"color: #7f7f7f; text-decoration-color: #7f7f7f\">scene_file_writer.py:527</span>\n",
       "<span style=\"color: #7fbfbf; text-decoration-color: #7fbfbf\">                    </span>         <span style=\"color: #008000; text-decoration-color: #008000\">Tools/Manim/NJS/Intro/Logo </span>                                   <span style=\"color: #7f7f7f; text-decoration-color: #7f7f7f\">                        </span>\n",
       "<span style=\"color: #7fbfbf; text-decoration-color: #7fbfbf\">                    </span>         <span style=\"color: #008000; text-decoration-color: #008000\">animation/media/videos/1080p60/partial_movie_files/HelloText/</span> <span style=\"color: #7f7f7f; text-decoration-color: #7f7f7f\">                        </span>\n",
       "<span style=\"color: #7fbfbf; text-decoration-color: #7fbfbf\">                    </span>         <span style=\"color: #008000; text-decoration-color: #008000\">3977891868_3398518352_223132457.mp4'</span>                          <span style=\"color: #7f7f7f; text-decoration-color: #7f7f7f\">                        </span>\n",
       "</pre>\n"
      ],
      "text/plain": [
       "\u001b[2;36m[04/18/24 10:52:14]\u001b[0m\u001b[2;36m \u001b[0m\u001b[32mINFO    \u001b[0m Animation \u001b[32m0\u001b[0m : Partial movie file written in \u001b[32m'/home/ah/Dev \u001b[0m    \u001b[2mscene_file_writer.py\u001b[0m\u001b[2m:\u001b[0m\u001b[2m527\u001b[0m\n",
       "\u001b[2;36m                    \u001b[0m         \u001b[32mTools/Manim/NJS/Intro/Logo \u001b[0m                                   \u001b[2m                        \u001b[0m\n",
       "\u001b[2;36m                    \u001b[0m         \u001b[32manimation/media/videos/1080p60/partial_movie_files/HelloText/\u001b[0m \u001b[2m                        \u001b[0m\n",
       "\u001b[2;36m                    \u001b[0m         \u001b[32m3977891868_3398518352_223132457.mp4'\u001b[0m                          \u001b[2m                        \u001b[0m\n"
      ]
     },
     "metadata": {},
     "output_type": "display_data"
    },
    {
     "data": {
      "text/html": [
       "<pre style=\"white-space:pre;overflow-x:auto;line-height:normal;font-family:Menlo,'DejaVu Sans Mono',consolas,'Courier New',monospace\"><span style=\"color: #7fbfbf; text-decoration-color: #7fbfbf\">[04/18/24 10:52:24] </span><span style=\"color: #008000; text-decoration-color: #008000\">INFO    </span> Animation <span style=\"color: #008000; text-decoration-color: #008000\">1</span> : Partial movie file written in <span style=\"color: #008000; text-decoration-color: #008000\">'/home/ah/Dev </span>    <span style=\"color: #7f7f7f; text-decoration-color: #7f7f7f\">scene_file_writer.py:527</span>\n",
       "<span style=\"color: #7fbfbf; text-decoration-color: #7fbfbf\">                    </span>         <span style=\"color: #008000; text-decoration-color: #008000\">Tools/Manim/NJS/Intro/Logo </span>                                   <span style=\"color: #7f7f7f; text-decoration-color: #7f7f7f\">                        </span>\n",
       "<span style=\"color: #7fbfbf; text-decoration-color: #7fbfbf\">                    </span>         <span style=\"color: #008000; text-decoration-color: #008000\">animation/media/videos/1080p60/partial_movie_files/HelloText/</span> <span style=\"color: #7f7f7f; text-decoration-color: #7f7f7f\">                        </span>\n",
       "<span style=\"color: #7fbfbf; text-decoration-color: #7fbfbf\">                    </span>         <span style=\"color: #008000; text-decoration-color: #008000\">2852726489_634017564_3609949602.mp4'</span>                          <span style=\"color: #7f7f7f; text-decoration-color: #7f7f7f\">                        </span>\n",
       "</pre>\n"
      ],
      "text/plain": [
       "\u001b[2;36m[04/18/24 10:52:24]\u001b[0m\u001b[2;36m \u001b[0m\u001b[32mINFO    \u001b[0m Animation \u001b[32m1\u001b[0m : Partial movie file written in \u001b[32m'/home/ah/Dev \u001b[0m    \u001b[2mscene_file_writer.py\u001b[0m\u001b[2m:\u001b[0m\u001b[2m527\u001b[0m\n",
       "\u001b[2;36m                    \u001b[0m         \u001b[32mTools/Manim/NJS/Intro/Logo \u001b[0m                                   \u001b[2m                        \u001b[0m\n",
       "\u001b[2;36m                    \u001b[0m         \u001b[32manimation/media/videos/1080p60/partial_movie_files/HelloText/\u001b[0m \u001b[2m                        \u001b[0m\n",
       "\u001b[2;36m                    \u001b[0m         \u001b[32m2852726489_634017564_3609949602.mp4'\u001b[0m                          \u001b[2m                        \u001b[0m\n"
      ]
     },
     "metadata": {},
     "output_type": "display_data"
    },
    {
     "name": "stderr",
     "output_type": "stream",
     "text": [
      "                                                                                 \r"
     ]
    },
    {
     "data": {
      "text/html": [
       "<pre style=\"white-space:pre;overflow-x:auto;line-height:normal;font-family:Menlo,'DejaVu Sans Mono',consolas,'Courier New',monospace\"><span style=\"color: #7fbfbf; text-decoration-color: #7fbfbf\">[04/18/24 10:52:34] </span><span style=\"color: #008000; text-decoration-color: #008000\">INFO    </span> Animation <span style=\"color: #008000; text-decoration-color: #008000\">2</span> : Partial movie file written in <span style=\"color: #008000; text-decoration-color: #008000\">'/home/ah/Dev </span>    <span style=\"color: #7f7f7f; text-decoration-color: #7f7f7f\">scene_file_writer.py:527</span>\n",
       "<span style=\"color: #7fbfbf; text-decoration-color: #7fbfbf\">                    </span>         <span style=\"color: #008000; text-decoration-color: #008000\">Tools/Manim/NJS/Intro/Logo </span>                                   <span style=\"color: #7f7f7f; text-decoration-color: #7f7f7f\">                        </span>\n",
       "<span style=\"color: #7fbfbf; text-decoration-color: #7fbfbf\">                    </span>         <span style=\"color: #008000; text-decoration-color: #008000\">animation/media/videos/1080p60/partial_movie_files/HelloText/</span> <span style=\"color: #7f7f7f; text-decoration-color: #7f7f7f\">                        </span>\n",
       "<span style=\"color: #7fbfbf; text-decoration-color: #7fbfbf\">                    </span>         <span style=\"color: #008000; text-decoration-color: #008000\">2852726489_500588929_236114374.mp4'</span>                           <span style=\"color: #7f7f7f; text-decoration-color: #7f7f7f\">                        </span>\n",
       "</pre>\n"
      ],
      "text/plain": [
       "\u001b[2;36m[04/18/24 10:52:34]\u001b[0m\u001b[2;36m \u001b[0m\u001b[32mINFO    \u001b[0m Animation \u001b[32m2\u001b[0m : Partial movie file written in \u001b[32m'/home/ah/Dev \u001b[0m    \u001b[2mscene_file_writer.py\u001b[0m\u001b[2m:\u001b[0m\u001b[2m527\u001b[0m\n",
       "\u001b[2;36m                    \u001b[0m         \u001b[32mTools/Manim/NJS/Intro/Logo \u001b[0m                                   \u001b[2m                        \u001b[0m\n",
       "\u001b[2;36m                    \u001b[0m         \u001b[32manimation/media/videos/1080p60/partial_movie_files/HelloText/\u001b[0m \u001b[2m                        \u001b[0m\n",
       "\u001b[2;36m                    \u001b[0m         \u001b[32m2852726489_500588929_236114374.mp4'\u001b[0m                           \u001b[2m                        \u001b[0m\n"
      ]
     },
     "metadata": {},
     "output_type": "display_data"
    },
    {
     "data": {
      "text/html": [
       "<pre style=\"white-space:pre;overflow-x:auto;line-height:normal;font-family:Menlo,'DejaVu Sans Mono',consolas,'Courier New',monospace\"><span style=\"color: #7fbfbf; text-decoration-color: #7fbfbf\">                    </span><span style=\"color: #008000; text-decoration-color: #008000\">INFO    </span> Combining to Movie file.                                      <span style=\"color: #7f7f7f; text-decoration-color: #7f7f7f\">scene_file_writer.py:617</span>\n",
       "</pre>\n"
      ],
      "text/plain": [
       "\u001b[2;36m                   \u001b[0m\u001b[2;36m \u001b[0m\u001b[32mINFO    \u001b[0m Combining to Movie file.                                      \u001b[2mscene_file_writer.py\u001b[0m\u001b[2m:\u001b[0m\u001b[2m617\u001b[0m\n"
      ]
     },
     "metadata": {},
     "output_type": "display_data"
    },
    {
     "data": {
      "text/html": [
       "<pre style=\"white-space:pre;overflow-x:auto;line-height:normal;font-family:Menlo,'DejaVu Sans Mono',consolas,'Courier New',monospace\"><span style=\"color: #7fbfbf; text-decoration-color: #7fbfbf\">[04/18/24 10:52:35] </span><span style=\"color: #008000; text-decoration-color: #008000\">INFO    </span>                                                               <span style=\"color: #7f7f7f; text-decoration-color: #7f7f7f\">scene_file_writer.py:735</span>\n",
       "<span style=\"color: #7fbfbf; text-decoration-color: #7fbfbf\">                    </span>         <span style=\"color: #808000; text-decoration-color: #808000; font-weight: bold\">File</span> ready at <span style=\"color: #008000; text-decoration-color: #008000\">'/home/ah/Dev Tools/Manim/NJS/Intro/Logo </span>       <span style=\"color: #7f7f7f; text-decoration-color: #7f7f7f\">                        </span>\n",
       "<span style=\"color: #7fbfbf; text-decoration-color: #7fbfbf\">                    </span>         <span style=\"color: #008000; text-decoration-color: #008000\">animation/media/videos/1080p60/HelloText.mp4'</span>                 <span style=\"color: #7f7f7f; text-decoration-color: #7f7f7f\">                        </span>\n",
       "<span style=\"color: #7fbfbf; text-decoration-color: #7fbfbf\">                    </span>                                                                       <span style=\"color: #7f7f7f; text-decoration-color: #7f7f7f\">                        </span>\n",
       "</pre>\n"
      ],
      "text/plain": [
       "\u001b[2;36m[04/18/24 10:52:35]\u001b[0m\u001b[2;36m \u001b[0m\u001b[32mINFO    \u001b[0m                                                               \u001b[2mscene_file_writer.py\u001b[0m\u001b[2m:\u001b[0m\u001b[2m735\u001b[0m\n",
       "\u001b[2;36m                    \u001b[0m         \u001b[1;33mFile\u001b[0m ready at \u001b[32m'/home/ah/Dev Tools/Manim/NJS/Intro/Logo \u001b[0m       \u001b[2m                        \u001b[0m\n",
       "\u001b[2;36m                    \u001b[0m         \u001b[32manimation/media/videos/1080p60/HelloText.mp4'\u001b[0m                 \u001b[2m                        \u001b[0m\n",
       "\u001b[2;36m                    \u001b[0m                                                                       \u001b[2m                        \u001b[0m\n"
      ]
     },
     "metadata": {},
     "output_type": "display_data"
    },
    {
     "data": {
      "text/html": [
       "<pre style=\"white-space:pre;overflow-x:auto;line-height:normal;font-family:Menlo,'DejaVu Sans Mono',consolas,'Courier New',monospace\"><span style=\"color: #7fbfbf; text-decoration-color: #7fbfbf\">                    </span><span style=\"color: #008000; text-decoration-color: #008000\">INFO    </span> <span style=\"color: #808000; text-decoration-color: #808000; font-weight: bold\">Rendered</span> HelloText                                                        <span style=\"color: #7f7f7f; text-decoration-color: #7f7f7f\">scene.py:241</span>\n",
       "<span style=\"color: #7fbfbf; text-decoration-color: #7fbfbf\">                    </span>         <span style=\"color: #808000; text-decoration-color: #808000; font-weight: bold\">Played</span> <span style=\"color: #008000; text-decoration-color: #008000\">3</span> <span style=\"color: #808000; text-decoration-color: #808000; font-weight: bold\">animations</span>                                                       <span style=\"color: #7f7f7f; text-decoration-color: #7f7f7f\">            </span>\n",
       "</pre>\n"
      ],
      "text/plain": [
       "\u001b[2;36m                   \u001b[0m\u001b[2;36m \u001b[0m\u001b[32mINFO    \u001b[0m \u001b[1;33mRendered\u001b[0m HelloText                                                        \u001b[2mscene.py\u001b[0m\u001b[2m:\u001b[0m\u001b[2m241\u001b[0m\n",
       "\u001b[2;36m                    \u001b[0m         \u001b[1;33mPlayed\u001b[0m \u001b[32m3\u001b[0m \u001b[1;33manimations\u001b[0m                                                       \u001b[2m            \u001b[0m\n"
      ]
     },
     "metadata": {},
     "output_type": "display_data"
    }
   ],
   "source": [
    "from manim import *\n",
    "\n",
    "# Assuming your font file is in the same directory as your script\n",
    "font_file = \"Digi Grotesk Bold Condensed Regular.ttf\" \n",
    "\n",
    "class HelloText(Scene):\n",
    "    def construct(self):\n",
    "        # Register the font within a with statement\n",
    "        with register_font(font_file):\n",
    "            # Create the text object with custom font\n",
    "            text = Text(\"JS\", font=\"DigiGroteskBoldCondensedRegular\")\n",
    "            text.scale(2)  # Adjust the scale if needed\n",
    "\n",
    "            # Animate the text appearing on screen\n",
    "            self.play(FadeIn(text))\n",
    "            self.wait(2)  # Wait for 2 seconds\n",
    "\n",
    "            # Animate the text fading out\n",
    "            self.play(FadeOut(text))\n",
    "\n",
    "# Run the animation\n",
    "if __name__ == \"__main__\":\n",
    "    my_scene = HelloText()\n",
    "    my_scene.render()\n",
    "\n"
   ]
  }
 ],
 "metadata": {
  "kernelspec": {
   "display_name": "manDE",
   "language": "python",
   "name": "python3"
  },
  "language_info": {
   "codemirror_mode": {
    "name": "ipython",
    "version": 3
   },
   "file_extension": ".py",
   "mimetype": "text/x-python",
   "name": "python",
   "nbconvert_exporter": "python",
   "pygments_lexer": "ipython3",
   "version": "3.11.8"
  }
 },
 "nbformat": 4,
 "nbformat_minor": 2
}
