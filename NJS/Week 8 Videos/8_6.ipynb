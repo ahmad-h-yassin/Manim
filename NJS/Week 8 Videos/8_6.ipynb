{
 "cells": [
  {
   "cell_type": "code",
   "execution_count": 1,
   "metadata": {},
   "outputs": [
    {
     "data": {
      "text/html": [
       "<pre style=\"white-space:pre;overflow-x:auto;line-height:normal;font-family:Menlo,'DejaVu Sans Mono',consolas,'Courier New',monospace\">Manim Community <span style=\"color: #008000; text-decoration-color: #008000\">v0.18.1</span>\n",
       "\n",
       "</pre>\n"
      ],
      "text/plain": [
       "Manim Community \u001b[32mv0.\u001b[0m\u001b[32m18.1\u001b[0m\n",
       "\n"
      ]
     },
     "metadata": {},
     "output_type": "display_data"
    },
    {
     "name": "stderr",
     "output_type": "stream",
     "text": [
      "                                                                                                                                          \r"
     ]
    },
    {
     "data": {
      "text/html": [
       "<video src=\"media/jupyter/ExpressBodyParserCorsSkeleton@2024-10-23@23-14-38.mp4\" controls autoplay loop style=\"max-width: 60%;\"  >\n",
       "      Your browser does not support the <code>video</code> element.\n",
       "    </video>"
      ],
      "text/plain": [
       "<IPython.core.display.Video object>"
      ]
     },
     "metadata": {},
     "output_type": "display_data"
    }
   ],
   "source": [
    "from manim import *\n",
    "\n",
    "class ExpressBodyParserCorsSkeleton(Scene):\n",
    "    def construct(self):\n",
    "        # Title\n",
    "        title = Text(\"Express with bodyParser and CORS API Skeleton\", font_size=32, color=WHITE)\n",
    "        self.play(Write(title))\n",
    "        self.play(title.animate.to_edge(UP))\n",
    "\n",
    "        # JavaScript code for the new skeleton without empty lines\n",
    "        code = '''\n",
    "const express = require('express');\n",
    "const bodyParser = require('body-parser');\n",
    "const cors = require('cors');\n",
    "const app = express();\n",
    "app.use(bodyParser.json());\n",
    "app.use(cors());\n",
    "const users = [];\n",
    "app.post('/signup', (req, res) => {});\n",
    "app.post('/signin', (req, res) => {});\n",
    "app.get('/users', (req, res) => {});\n",
    "app.put('/users/:email', (req, res) => {});\n",
    "app.delete('/users/:email', (req, res) => {});\n",
    "const PORT = 3000;\n",
    "app.listen(PORT, () => console.log(`Server is running on http://localhost:${PORT}`));\n",
    "        '''.strip()\n",
    "\n",
    "        # Render the JavaScript code\n",
    "        rendered_code = Code(code=code, tab_width=4, background=\"window\",\n",
    "                             language=\"javascript\", font=\"Monospace\",\n",
    "                             line_spacing=0.4, style=\"monokai\")  # Reduce line spacing\n",
    "\n",
    "        # Position the code below the title and align to the left\n",
    "        rendered_code.scale(0.7).next_to(title, DOWN, buff=0.5).shift(UP*0.5)\n",
    "        rendered_code.code = remove_invisible_chars(rendered_code.code)\n",
    "\n",
    "        # Add the code to the scene\n",
    "        self.play(Create(rendered_code))\n",
    "        self.wait(1)\n",
    "\n",
    "        # Explanation text for each step\n",
    "        explanations = [\n",
    "            \"Initialize Express and middleware for JSON parsing and CORS\",\n",
    "            \"Set up the user store as an empty array\",\n",
    "            \"Define POST /signup route\",\n",
    "            \"Define POST /signin route\",\n",
    "            \"Define GET /users route\",\n",
    "            \"Define PUT /users/:email route\",\n",
    "            \"Define DELETE /users/:email route\",\n",
    "            \"Start the server on port 3000\"\n",
    "        ]\n",
    "\n",
    "        # Create and position explanation text objects\n",
    "        explanation_texts = [\n",
    "            Text(exp, font_size=24, color=WHITE).next_to(rendered_code, DOWN)\n",
    "            for i, exp in enumerate(explanations)\n",
    "        ]\n",
    "\n",
    "        # Define which lines to highlight for each explanation\n",
    "        highlight_lines = [\n",
    "            [0, 1, 2, 3, 4, 5],  # Initialize Express and middleware\n",
    "            [6],  # User store\n",
    "            [7],  # POST /signup route\n",
    "            [8],  # POST /signin route\n",
    "            [9],  # GET /users route\n",
    "            [10],  # PUT /users/:email route\n",
    "            [11],  # DELETE /users/:email route\n",
    "            [12,13]  # Start server\n",
    "        ]\n",
    "\n",
    "        # Create highlight rectangles\n",
    "        margin = 0.1\n",
    "        highlight_rects = [\n",
    "            Rectangle(\n",
    "                width=rendered_code.width,\n",
    "                height=0.27 * len(lines),\n",
    "                color=YELLOW,\n",
    "                fill_opacity=0.3\n",
    "            ).align_to(rendered_code.code[lines[0]], UL).align_to(rendered_code, LEFT).shift(UP * margin / 2)\n",
    "            for lines in highlight_lines\n",
    "        ]\n",
    "\n",
    "        # Animate highlights and explanations\n",
    "        for rect, text in zip(highlight_rects, explanation_texts):\n",
    "            self.play(\n",
    "                FadeIn(rect),\n",
    "                Write(text)\n",
    "            )\n",
    "            self.wait(2)\n",
    "            self.play(FadeOut(rect))\n",
    "            self.play(FadeOut(text))\n",
    "            self.wait(1)\n",
    "\n",
    "        # Wait before finishing\n",
    "        self.wait(2)\n",
    "        self.play(FadeOut(title), FadeOut(rendered_code))\n",
    "\n",
    "# Render the scene\n",
    "%manim -qh -v CRITICAL ExpressBodyParserCorsSkeleton\n"
   ]
  },
  {
   "cell_type": "code",
   "execution_count": null,
   "metadata": {},
   "outputs": [],
   "source": []
  }
 ],
 "metadata": {
  "kernelspec": {
   "display_name": "manDE",
   "language": "python",
   "name": "python3"
  },
  "language_info": {
   "codemirror_mode": {
    "name": "ipython",
    "version": 3
   },
   "file_extension": ".py",
   "mimetype": "text/x-python",
   "name": "python",
   "nbconvert_exporter": "python",
   "pygments_lexer": "ipython3",
   "version": "3.12.4"
  }
 },
 "nbformat": 4,
 "nbformat_minor": 2
}
