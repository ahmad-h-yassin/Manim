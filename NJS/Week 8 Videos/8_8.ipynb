{
 "cells": [
  {
   "cell_type": "code",
   "execution_count": 2,
   "metadata": {},
   "outputs": [
    {
     "data": {
      "text/html": [
       "<pre style=\"white-space:pre;overflow-x:auto;line-height:normal;font-family:Menlo,'DejaVu Sans Mono',consolas,'Courier New',monospace\">Manim Community <span style=\"color: #008000; text-decoration-color: #008000\">v0.18.1</span>\n",
       "\n",
       "</pre>\n"
      ],
      "text/plain": [
       "Manim Community \u001b[32mv0.\u001b[0m\u001b[32m18.1\u001b[0m\n",
       "\n"
      ]
     },
     "metadata": {},
     "output_type": "display_data"
    },
    {
     "name": "stderr",
     "output_type": "stream",
     "text": [
      "                                                                                                              \r"
     ]
    },
    {
     "data": {
      "text/html": [
       "<video src=\"media/jupyter/PostSigninEndpoint@2024-10-15@00-24-36.mp4\" controls autoplay loop style=\"max-width: 60%;\"  >\n",
       "      Your browser does not support the <code>video</code> element.\n",
       "    </video>"
      ],
      "text/plain": [
       "<IPython.core.display.Video object>"
      ]
     },
     "metadata": {},
     "output_type": "display_data"
    }
   ],
   "source": [
    "from manim import *\n",
    "\n",
    "class PostSigninEndpoint(Scene):\n",
    "    def construct(self):\n",
    "        # Title\n",
    "        title = Text(\"POST /signin: User Login\", font_size=36, color=WHITE)\n",
    "        self.play(Write(title))\n",
    "        self.play(title.animate.to_edge(UP))\n",
    "\n",
    "        # JavaScript code for the POST /signin endpoint\n",
    "        code = '''\n",
    "app.post('/signin', (req, res) => {\n",
    "    const { email, password } = req.body;\n",
    "    const user = users.find(user => user.email === email && user.password === password);\n",
    "    if (!user) {\n",
    "        return res.status(400).json({ message: 'Invalid email or password' });\n",
    "    }\n",
    "    res.json({ message: 'Login successful', user });\n",
    "});\n",
    "        '''.strip()\n",
    "\n",
    "        # Render the JavaScript code\n",
    "        rendered_code = Code(code=code, tab_width=4, background=\"window\",\n",
    "                             language=\"javascript\", font=\"Monospace\",\n",
    "                             line_spacing=0.5, style=\"monokai\")\n",
    "\n",
    "        # Position the code below the title and align to the left\n",
    "        rendered_code.scale(0.6).next_to(title, DOWN, buff=0.5)\n",
    "        rendered_code.code = remove_invisible_chars(rendered_code.code)\n",
    "\n",
    "        # Add the code to the scene\n",
    "        self.play(Create(rendered_code))\n",
    "        self.wait(1)\n",
    "\n",
    "        # Explanation text for each step\n",
    "        explanations = [\n",
    "            \"Define the endpoint for POST /signin\",\n",
    "            \"Extract the email and password from the request body\",\n",
    "            \"Find a user whose email and password match the input\",\n",
    "            \"If no user is found, return a 400 error with an error message\",\n",
    "            \"If the user is found, return a success message with the user details\"\n",
    "        ]\n",
    "\n",
    "        # Create and position explanation text objects\n",
    "        explanation_texts = [\n",
    "            Text(exp, font_size=23, color=WHITE).next_to(rendered_code, DOWN).shift(DOWN * (i) * 0.7)\n",
    "            for i, exp in enumerate(explanations)\n",
    "        ]\n",
    "\n",
    "        # Define which lines to highlight for each explanation\n",
    "        highlight_lines = [\n",
    "            [0],       # Define the route\n",
    "            [1],       # Extract email and password\n",
    "            [2],       # Find user by email and password\n",
    "            [3, 4],    # If user not found, return 400 error\n",
    "            [6]     # Return success response with user details\n",
    "        ]\n",
    "\n",
    "        # Create highlight rectangles\n",
    "        margin = 0.1\n",
    "        highlight_rects = [\n",
    "            Rectangle(\n",
    "                width=rendered_code.width,\n",
    "                height=0.26 * len(lines),\n",
    "                color=YELLOW,\n",
    "                fill_opacity=0.3\n",
    "            ).align_to(rendered_code.code[lines[0]], UL).align_to(rendered_code, LEFT).shift(UP * margin / 2)\n",
    "            for lines in highlight_lines\n",
    "        ]\n",
    "\n",
    "        # Animate highlights and explanations\n",
    "        for rect, text in zip(highlight_rects, explanation_texts):\n",
    "            self.play(\n",
    "                FadeIn(rect),\n",
    "                Write(text)\n",
    "            )\n",
    "            self.wait(2)\n",
    "            self.play(\n",
    "                FadeOut(rect),\n",
    "            )\n",
    "            self.wait(1)\n",
    "\n",
    "        # Wait before finishing\n",
    "        self.wait(2)\n",
    "        self.play(FadeOut(title), FadeOut(rendered_code), *[FadeOut(text) for text in explanation_texts])\n",
    "\n",
    "# Render the scene\n",
    "%manim -ql -v CRITICAL PostSigninEndpoint\n"
   ]
  }
 ],
 "metadata": {
  "kernelspec": {
   "display_name": "manDE",
   "language": "python",
   "name": "python3"
  },
  "language_info": {
   "codemirror_mode": {
    "name": "ipython",
    "version": 3
   },
   "file_extension": ".py",
   "mimetype": "text/x-python",
   "name": "python",
   "nbconvert_exporter": "python",
   "pygments_lexer": "ipython3",
   "version": "3.12.5"
  }
 },
 "nbformat": 4,
 "nbformat_minor": 2
}
