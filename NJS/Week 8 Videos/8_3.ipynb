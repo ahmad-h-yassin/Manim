{
 "cells": [
  {
   "cell_type": "code",
   "execution_count": 5,
   "metadata": {},
   "outputs": [
    {
     "data": {
      "text/html": [
       "<pre style=\"white-space:pre;overflow-x:auto;line-height:normal;font-family:Menlo,'DejaVu Sans Mono',consolas,'Courier New',monospace\">Manim Community <span style=\"color: #008000; text-decoration-color: #008000\">v0.18.1</span>\n",
       "\n",
       "</pre>\n"
      ],
      "text/plain": [
       "Manim Community \u001b[32mv0.\u001b[0m\u001b[32m18.1\u001b[0m\n",
       "\n"
      ]
     },
     "metadata": {},
     "output_type": "display_data"
    },
    {
     "name": "stderr",
     "output_type": "stream",
     "text": [
      "                                                                                                                                     \r"
     ]
    },
    {
     "data": {
      "text/html": [
       "<video src=\"media/jupyter/ShowLoginExplainer@2024-10-02@11-45-54.mp4\" controls autoplay loop style=\"max-width: 60%;\"  >\n",
       "      Your browser does not support the <code>video</code> element.\n",
       "    </video>"
      ],
      "text/plain": [
       "<IPython.core.display.Video object>"
      ]
     },
     "metadata": {},
     "output_type": "display_data"
    }
   ],
   "source": [
    "from manim import *\n",
    "\n",
    "class ShowLoginExplainer(Scene):\n",
    "    def construct(self):\n",
    "        # Title\n",
    "        title = Text(\"showLogin() Function Explained\", font_size=30, color=WHITE)\n",
    "        self.play(Write(title))\n",
    "        self.play(title.animate.to_edge(UP))\n",
    "\n",
    "        # JavaScript code for the showLogin function\n",
    "        code = '''\n",
    "function showLogin() {\n",
    "    document.getElementById('signup-container').style.display = 'none';\n",
    "    document.getElementById('signin-container').style.display = 'block';\n",
    "}\n",
    "        '''.strip()\n",
    "\n",
    "        # Render the JavaScript code\n",
    "        rendered_code = Code(code=code, tab_width=4, background=\"window\",\n",
    "                             language=\"javascript\", font=\"Monospace\",\n",
    "                             line_spacing=0.5, style=\"monokai\")\n",
    "        \n",
    "        # Position the code below the title and align to the left\n",
    "        rendered_code.scale(0.8).next_to(title, DOWN, buff=0.5).to_edge(LEFT)\n",
    "        rendered_code.code = remove_invisible_chars(rendered_code.code)\n",
    "        \n",
    "        # Add the code to the scene\n",
    "        self.play(Create(rendered_code))\n",
    "        self.wait(1)\n",
    "\n",
    "        # Explanation text for each step\n",
    "        explanations = [\n",
    "            \"Function declaration\",\n",
    "            \"Hide signup container\",\n",
    "            \"Show signin container\"\n",
    "        ]\n",
    "\n",
    "        # Create and position explanation text objects\n",
    "        explanation_texts = [\n",
    "            Text(exp, font_size=28, color=WHITE).next_to(rendered_code, DOWN, buff=0.5).shift(DOWN * i * 0.7)\n",
    "            for i, exp in enumerate(explanations)\n",
    "        ]\n",
    "\n",
    "        # Define which lines to highlight for each explanation\n",
    "        highlight_lines = [\n",
    "            [0],    # Function declaration\n",
    "            [1],    # Hide signup container\n",
    "            [2]     # Show signin container\n",
    "        ]\n",
    "\n",
    "        # Create highlight rectangles\n",
    "        margin = 0.1\n",
    "        highlight_rects = [\n",
    "            Rectangle(\n",
    "                width=rendered_code.width,\n",
    "                height=0.28 * len(lines),\n",
    "                color=YELLOW,\n",
    "                fill_opacity=0.3\n",
    "            ).align_to(rendered_code.code[lines[0]], UL).align_to(rendered_code, LEFT).shift(UP * margin / 2)\n",
    "            for lines in highlight_lines\n",
    "        ]\n",
    "\n",
    "        # Animate highlights and explanations\n",
    "        for rect, text in zip(highlight_rects, explanation_texts):\n",
    "            self.play(\n",
    "                FadeIn(rect),\n",
    "                Write(text)\n",
    "            )\n",
    "            self.wait(2)\n",
    "            \n",
    "            if text == explanation_texts[0]:  # For the function declaration\n",
    "                additional_info = Text(\"Defines a function named showLogin\", font_size=20, color=BLUE).next_to(text, DOWN, buff=0.2)\n",
    "                self.play(Write(additional_info))\n",
    "                self.wait(2)\n",
    "                self.play(FadeOut(additional_info))\n",
    "            elif text == explanation_texts[1]:  # For hiding signup container\n",
    "                additional_info = Text(\"Sets the display style of signup-container to 'none'\", font_size=20, color=BLUE).next_to(text, DOWN, buff=0.2)\n",
    "                self.play(Write(additional_info))\n",
    "                self.wait(2)\n",
    "                self.play(FadeOut(additional_info))\n",
    "            elif text == explanation_texts[2]:  # For showing signin container\n",
    "                additional_info = Text(\"Sets the display style of signin-container to 'block'\", font_size=20, color=BLUE).next_to(text, DOWN, buff=0.2)\n",
    "                self.play(Write(additional_info))\n",
    "                self.wait(2)\n",
    "                self.play(FadeOut(additional_info))\n",
    "\n",
    "            self.play(\n",
    "                FadeOut(rect)\n",
    "            )\n",
    "            self.wait(1)\n",
    "\n",
    "        # Final explanation\n",
    "        final_explanation = Text(\"This function toggles the visibility of signin forms\", font_size=24, color=GREEN).to_edge(DOWN).shift(UP*1)\n",
    "        self.play(Write(final_explanation))\n",
    "        self.wait(2)\n",
    "\n",
    "        # Wait before finishing\n",
    "        self.wait(2)\n",
    "        self.play(FadeOut(title), FadeOut(rendered_code), FadeOut(final_explanation), *[FadeOut(text) for text in explanation_texts])\n",
    "\n",
    "# Render the scene\n",
    "%manim -qh -v CRITICAL ShowLoginExplainer"
   ]
  }
 ],
 "metadata": {
  "kernelspec": {
   "display_name": "manDE",
   "language": "python",
   "name": "python3"
  },
  "language_info": {
   "codemirror_mode": {
    "name": "ipython",
    "version": 3
   },
   "file_extension": ".py",
   "mimetype": "text/x-python",
   "name": "python",
   "nbconvert_exporter": "python",
   "pygments_lexer": "ipython3",
   "version": "3.12.4"
  }
 },
 "nbformat": 4,
 "nbformat_minor": 2
}
