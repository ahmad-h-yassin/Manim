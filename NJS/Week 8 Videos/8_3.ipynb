{
 "cells": [
  {
   "cell_type": "code",
   "execution_count": 4,
   "metadata": {},
   "outputs": [
    {
     "data": {
      "text/html": [
       "<pre style=\"white-space:pre;overflow-x:auto;line-height:normal;font-family:Menlo,'DejaVu Sans Mono',consolas,'Courier New',monospace\">Manim Community <span style=\"color: #008000; text-decoration-color: #008000\">v0.18.1</span>\n",
       "\n",
       "</pre>\n"
      ],
      "text/plain": [
       "Manim Community \u001b[32mv0.\u001b[0m\u001b[32m18.1\u001b[0m\n",
       "\n"
      ]
     },
     "metadata": {},
     "output_type": "display_data"
    },
    {
     "name": "stderr",
     "output_type": "stream",
     "text": [
      "                                                                                                                                  \r"
     ]
    },
    {
     "data": {
      "text/html": [
       "<video src=\"media/jupyter/ShowLoginFunctionExplainer@2024-09-30@15-16-34.mp4\" controls autoplay loop style=\"max-width: 60%;\"  >\n",
       "      Your browser does not support the <code>video</code> element.\n",
       "    </video>"
      ],
      "text/plain": [
       "<IPython.core.display.Video object>"
      ]
     },
     "metadata": {},
     "output_type": "display_data"
    }
   ],
   "source": [
    "from manim import *\n",
    "\n",
    "class ShowLoginFunctionExplainer(Scene):\n",
    "    def construct(self):\n",
    "        # Title\n",
    "        title = Text(\"showLogin Function Explanation\", font_size=40, color=WHITE)\n",
    "        self.play(Write(title))\n",
    "        self.play(title.animate.to_edge(UP))\n",
    "\n",
    "        # JavaScript code for the showLogin function\n",
    "        code = '''\n",
    "function showLogin() {\n",
    "    document.getElementById('signup-container').style.display = 'none';\n",
    "    document.getElementById('signin-container').style.display = 'block';\n",
    "}\n",
    "        '''.strip()\n",
    "\n",
    "        # Render the JavaScript code\n",
    "        rendered_code = Code(code=code, tab_width=4, background=\"window\",\n",
    "                             language=\"javascript\", font=\"Monospace\",\n",
    "                             line_spacing=0.5, style=\"monokai\")\n",
    "        \n",
    "        # Position the code below the title and center it\n",
    "        rendered_code.next_to(title, DOWN, buff=0.5)\n",
    "        self.play(Create(rendered_code))\n",
    "        self.wait(1)\n",
    "\n",
    "        # Explanations\n",
    "        explanations = [\n",
    "            \"Function declaration\",\n",
    "            \"Hide signup container\",\n",
    "            \"Show signin container\"\n",
    "        ]\n",
    "\n",
    "        # Create explanation text objects\n",
    "        explanation_texts = [\n",
    "            Text(exp, font_size=24, color=WHITE).to_edge(LEFT).shift(RIGHT * 0.5 + DOWN * (i + 2) * 0.7)\n",
    "            for i, exp in enumerate(explanations)\n",
    "        ]\n",
    "\n",
    "        # Define which lines to highlight for each explanation\n",
    "        highlight_lines = [\n",
    "            [0],  # Function declaration\n",
    "            [1],  # Hide signup container\n",
    "            [2],  # Show signin container\n",
    "        ]\n",
    "\n",
    "        # Create highlight rectangles\n",
    "        highlight_rects = [\n",
    "            Rectangle(\n",
    "                width=rendered_code.width,\n",
    "                height=rendered_code.code[line[0]].height,\n",
    "                color=YELLOW,\n",
    "                fill_opacity=0.3\n",
    "            ).align_to(rendered_code.code[line[0]], UP).align_to(rendered_code, LEFT)\n",
    "            for line in highlight_lines\n",
    "        ]\n",
    "\n",
    "        # Animate highlights and explanations\n",
    "        for rect, text in zip(highlight_rects, explanation_texts):\n",
    "            self.play(\n",
    "                FadeIn(rect),\n",
    "                Write(text)\n",
    "            )\n",
    "            self.wait(2)\n",
    "\n",
    "        # Additional explanation for DOM manipulation\n",
    "        dom_explanation = Text(\"This function uses DOM manipulation to switch views:\", \n",
    "                               font_size=24, color=YELLOW).next_to(explanation_texts[-1], DOWN, buff=0.5)\n",
    "        self.play(Write(dom_explanation))\n",
    "        self.wait(1)\n",
    "\n",
    "        dom_points = [\n",
    "            \"• It hides the signup form\",\n",
    "            \"• It shows the signin form\",\n",
    "            \"• This creates a toggle effect between forms\"\n",
    "        ]\n",
    "        dom_point_texts = VGroup(*[Text(point, font_size=20, color=WHITE) for point in dom_points])\n",
    "        dom_point_texts.arrange(DOWN, aligned_edge=LEFT).next_to(dom_explanation, DOWN, buff=0.3)\n",
    "\n",
    "        for point in dom_point_texts:\n",
    "            self.play(Write(point))\n",
    "            self.wait(0.5)\n",
    "\n",
    "        # Final pause before ending the scene\n",
    "        self.wait(2)\n",
    "\n",
    "# Render the scene\n",
    "%manim -ql -v CRITICAL ShowLoginFunctionExplainer"
   ]
  }
 ],
 "metadata": {
  "kernelspec": {
   "display_name": "manDE",
   "language": "python",
   "name": "python3"
  },
  "language_info": {
   "codemirror_mode": {
    "name": "ipython",
    "version": 3
   },
   "file_extension": ".py",
   "mimetype": "text/x-python",
   "name": "python",
   "nbconvert_exporter": "python",
   "pygments_lexer": "ipython3",
   "version": "3.12.5"
  }
 },
 "nbformat": 4,
 "nbformat_minor": 2
}
