{
 "cells": [
  {
   "cell_type": "code",
   "execution_count": 1,
   "metadata": {},
   "outputs": [
    {
     "data": {
      "text/html": [
       "<pre style=\"white-space:pre;overflow-x:auto;line-height:normal;font-family:Menlo,'DejaVu Sans Mono',consolas,'Courier New',monospace\">Manim Community <span style=\"color: #008000; text-decoration-color: #008000\">v0.18.1</span>\n",
       "\n",
       "</pre>\n"
      ],
      "text/plain": [
       "Manim Community \u001b[32mv0.\u001b[0m\u001b[32m18.1\u001b[0m\n",
       "\n"
      ]
     },
     "metadata": {},
     "output_type": "display_data"
    },
    {
     "name": "stderr",
     "output_type": "stream",
     "text": [
      "                                                                                                                                 \r"
     ]
    },
    {
     "data": {
      "text/html": [
       "<video src=\"media/jupyter/ExpressJWTRoutes@2024-12-03@16-39-41.mp4\" controls autoplay loop style=\"max-width: 60%;\"  >\n",
       "      Your browser does not support the <code>video</code> element.\n",
       "    </video>"
      ],
      "text/plain": [
       "<IPython.core.display.Video object>"
      ]
     },
     "metadata": {},
     "output_type": "display_data"
    }
   ],
   "source": [
    "from manim import *\n",
    "\n",
    "class ExpressJWTRoutes(Scene):\n",
    "    def construct(self):\n",
    "        # Title\n",
    "        title = Text(\"Express JWT Routes and Authentication\", font_size=32, color=WHITE)\n",
    "        self.play(Write(title))\n",
    "        self.play(title.animate.to_edge(UP))\n",
    "        \n",
    "        # JavaScript code for the routes\n",
    "        code = '''\n",
    "// Add a new user (Sign Up)\n",
    "app.post('/signup', (req, res) => {});\n",
    "// Login (Sign In)\n",
    "app.post('/signin', (req, res) => {});\n",
    "// Middleware to verify JWT\n",
    "const authenticateJWT = (req, res, next) => {};\n",
    "// Protected route\n",
    "app.get('/protected', authenticateJWT, (req, res) => {});\n",
    "// Get all users (for testing purposes)\n",
    "app.get('/users', authenticateJWT, (req, res) => {});\n",
    "// Update user details (this would be part of a more advanced feature)\n",
    "app.put('/users/:email', (req, res) => {});\n",
    "// Delete a user (this would be part of a more advanced feature)\n",
    "app.delete('/users/:email', (req, res) => {});\n",
    "app.listen(3000, () => {});\n",
    "        '''.strip()\n",
    "        \n",
    "        # Render the JavaScript code\n",
    "        rendered_code = Code(\n",
    "            code=code, \n",
    "            tab_width=4, \n",
    "            background=\"window\",\n",
    "            language=\"javascript\", \n",
    "            font=\"Monospace\",\n",
    "            line_spacing=0.4, \n",
    "            style=\"monokai\"\n",
    "        )\n",
    "        \n",
    "        # Position the code below the title and align to the left\n",
    "        rendered_code.scale(0.8).next_to(title, DOWN, buff=0.5).shift(UP*0.5)\n",
    "        \n",
    "        # Add the code to the scene\n",
    "        self.play(Create(rendered_code))\n",
    "        self.wait(1)\n",
    "        \n",
    "        # Explanation text for each step\n",
    "        explanations = [\n",
    "            \"Create a signup route for user registration\",\n",
    "            \"Implement a signin route for user authentication\",\n",
    "            \"Define JWT authentication middleware\",\n",
    "            \"Create a protected route requiring authentication\",\n",
    "            \"Add a route to retrieve all users (authenticated)\",\n",
    "            \"Add route to update user details\",\n",
    "            \"Add route to delete a user\",\n",
    "            \"Start the server on port 3000\"\n",
    "        ]\n",
    "        \n",
    "        # Create and position explanation text objects\n",
    "        explanation_texts = [\n",
    "            Text(exp, font_size=24, color=WHITE).next_to(rendered_code, DOWN)\n",
    "            for i, exp in enumerate(explanations)\n",
    "        ]\n",
    "        \n",
    "        # Define which lines to highlight for each explanation\n",
    "        highlight_lines = [\n",
    "            [0, 1], # Signup route\n",
    "            [2, 3], # Signin route\n",
    "            [4, 5], # JWT middleware\n",
    "            [6, 7], # Protected route\n",
    "            [8, 9], # Users route\n",
    "            [10, 11], # Update user route\n",
    "            [12, 13], # Delete user route\n",
    "            [14] # Listen\n",
    "        ]\n",
    "        \n",
    "        # Create highlight rectangles\n",
    "        margin = 0.1\n",
    "        highlight_rects = [\n",
    "            Rectangle(\n",
    "                width=rendered_code.width,\n",
    "                height=0.3 * len(lines),\n",
    "                color=YELLOW,\n",
    "                fill_opacity=0.3\n",
    "            ).align_to(rendered_code.code[lines[0]], UL).align_to(rendered_code, LEFT).shift(UP * margin / 2)\n",
    "            for lines in highlight_lines\n",
    "        ]\n",
    "        \n",
    "        # Animate highlights and explanations\n",
    "        for rect, text in zip(highlight_rects, explanation_texts):\n",
    "            self.play(\n",
    "                FadeIn(rect),\n",
    "                Write(text)\n",
    "            )\n",
    "            self.wait(2)\n",
    "            self.play(FadeOut(rect))\n",
    "            self.play(FadeOut(text))\n",
    "            self.wait(1)\n",
    "        \n",
    "        # Wait before finishing\n",
    "        self.wait(2)\n",
    "        self.play(FadeOut(title), FadeOut(rendered_code))\n",
    "\n",
    "# Render the scene\n",
    "%manim -qh -v CRITICAL ExpressJWTRoutes"
   ]
  }
 ],
 "metadata": {
  "kernelspec": {
   "display_name": "manDE",
   "language": "python",
   "name": "python3"
  },
  "language_info": {
   "codemirror_mode": {
    "name": "ipython",
    "version": 3
   },
   "file_extension": ".py",
   "mimetype": "text/x-python",
   "name": "python",
   "nbconvert_exporter": "python",
   "pygments_lexer": "ipython3",
   "version": "3.12.5"
  }
 },
 "nbformat": 4,
 "nbformat_minor": 2
}
