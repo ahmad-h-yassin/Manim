{
 "cells": [
  {
   "cell_type": "code",
   "execution_count": 1,
   "metadata": {},
   "outputs": [
    {
     "data": {
      "text/html": [
       "<pre style=\"white-space:pre;overflow-x:auto;line-height:normal;font-family:Menlo,'DejaVu Sans Mono',consolas,'Courier New',monospace\">Manim Community <span style=\"color: #008000; text-decoration-color: #008000\">v0.18.1</span>\n",
       "\n",
       "</pre>\n"
      ],
      "text/plain": [
       "Manim Community \u001b[32mv0.\u001b[0m\u001b[32m18.1\u001b[0m\n",
       "\n"
      ]
     },
     "metadata": {},
     "output_type": "display_data"
    },
    {
     "name": "stderr",
     "output_type": "stream",
     "text": [
      "                                                                                                                                                  \r"
     ]
    },
    {
     "data": {
      "text/html": [
       "<video src=\"media/jupyter/ExpressJWTAuthMiddleware@2024-12-03@16-39-27.mp4\" controls autoplay loop style=\"max-width: 60%;\"  >\n",
       "      Your browser does not support the <code>video</code> element.\n",
       "    </video>"
      ],
      "text/plain": [
       "<IPython.core.display.Video object>"
      ]
     },
     "metadata": {},
     "output_type": "display_data"
    }
   ],
   "source": [
    "from manim import *\n",
    "\n",
    "class ExpressJWTAuthMiddleware(Scene):\n",
    "    def construct(self):\n",
    "        # Title\n",
    "        title = Text(\"Express JWT Authentication Middleware and Protected Routes\", font_size=28, color=WHITE)\n",
    "        self.play(Write(title))\n",
    "        self.play(title.animate.to_edge(UP))\n",
    "        \n",
    "        # JavaScript code for the authentication middleware and routes\n",
    "        code = '''\n",
    "const authenticateJWT = (req, res, next) => {\n",
    "    const token = req.headers.authorization?.split(' ')[1];\n",
    "    if (token) {\n",
    "      jwt.verify(token, SECRET_KEY, (err, user) => {\n",
    "        if (err) {\n",
    "          return res.status(403).json({ message: 'Forbidden' });\n",
    "        }\n",
    "        req.user = user;\n",
    "        next();\n",
    "      });\n",
    "    } else {\n",
    "      res.status(401).json({ message: 'Unauthorized' });\n",
    "    }\n",
    "  };\n",
    "app.get('/protected', authenticateJWT, (req, res) => {\n",
    "    res.json({ message: 'You have accessed a protected route!', user: req.user });\n",
    "  });\n",
    "        '''.strip()\n",
    "        \n",
    "        # Render the JavaScript code\n",
    "        rendered_code = Code(\n",
    "            code=code, \n",
    "            tab_width=4, \n",
    "            background=\"window\",\n",
    "            language=\"javascript\", \n",
    "            font=\"Monospace\",\n",
    "            line_spacing=0.4, \n",
    "            style=\"monokai\"\n",
    "        )\n",
    "        \n",
    "        # Position the code below the title and align to the left\n",
    "        rendered_code.scale(0.65).next_to(title, DOWN, buff=0.5).shift(UP*0.5)\n",
    "        \n",
    "        # Add the code to the scene\n",
    "        self.play(Create(rendered_code))\n",
    "        self.wait(1)\n",
    "        \n",
    "        # Explanation text for each step\n",
    "        explanations = [\n",
    "            \"Extract JWT token from Authorization header\",\n",
    "            \"Check if token exists\",\n",
    "            \"Verify token using secret key\",\n",
    "            \"Handle verification errors (Forbidden)\",\n",
    "            \"Attach user info to request if token is valid\",\n",
    "            \"Create a protected route with authentication middleware\",\n",
    "        ]\n",
    "        \n",
    "        # Create and position explanation text objects\n",
    "        explanation_texts = [\n",
    "            Text(exp, font_size=24, color=WHITE).next_to(rendered_code, DOWN)\n",
    "            for i, exp in enumerate(explanations)\n",
    "        ]\n",
    "        \n",
    "        # Define which lines to highlight for each explanation\n",
    "        highlight_lines = [\n",
    "            [1], # Extract token\n",
    "            [2], # Check token existence\n",
    "            [3], # Verify token\n",
    "            [4, 5, 6], # Handle verification errors\n",
    "            [7], # Attach user info\n",
    "            [14, 15], # Protected route\n",
    "        ]\n",
    "        \n",
    "        # Create highlight rectangles\n",
    "        margin = 0.1\n",
    "        highlight_rects = [\n",
    "            Rectangle(\n",
    "                width=rendered_code.width,\n",
    "                height=0.25 * len(lines) + margin,\n",
    "                color=YELLOW,\n",
    "                fill_opacity=0.3\n",
    "            ).align_to(rendered_code.code[lines[0]], UL).align_to(rendered_code, LEFT)#.shift(UP * margin / 2)\n",
    "            for lines in highlight_lines\n",
    "        ]\n",
    "        \n",
    "        # Animate highlights and explanations\n",
    "        for rect, text in zip(highlight_rects, explanation_texts):\n",
    "            self.play(\n",
    "                FadeIn(rect),\n",
    "                Write(text)\n",
    "            )\n",
    "            self.wait(2)\n",
    "            self.play(FadeOut(rect))\n",
    "            self.play(FadeOut(text))\n",
    "            self.wait(1)\n",
    "        \n",
    "        # Wait before finishing\n",
    "        self.wait(2)\n",
    "        self.play(FadeOut(title), FadeOut(rendered_code))\n",
    "\n",
    "# Render the scene\n",
    "%manim -qh -v CRITICAL ExpressJWTAuthMiddleware"
   ]
  }
 ],
 "metadata": {
  "kernelspec": {
   "display_name": "manDE",
   "language": "python",
   "name": "python3"
  },
  "language_info": {
   "codemirror_mode": {
    "name": "ipython",
    "version": 3
   },
   "file_extension": ".py",
   "mimetype": "text/x-python",
   "name": "python",
   "nbconvert_exporter": "python",
   "pygments_lexer": "ipython3",
   "version": "3.12.5"
  }
 },
 "nbformat": 4,
 "nbformat_minor": 2
}
