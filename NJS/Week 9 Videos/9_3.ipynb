{
 "cells": [
  {
   "cell_type": "code",
   "execution_count": 1,
   "metadata": {},
   "outputs": [
    {
     "data": {
      "text/html": [
       "<pre style=\"white-space:pre;overflow-x:auto;line-height:normal;font-family:Menlo,'DejaVu Sans Mono',consolas,'Courier New',monospace\">Manim Community <span style=\"color: #008000; text-decoration-color: #008000\">v0.18.1</span>\n",
       "\n",
       "</pre>\n"
      ],
      "text/plain": [
       "Manim Community \u001b[32mv0.\u001b[0m\u001b[32m18.1\u001b[0m\n",
       "\n"
      ]
     },
     "metadata": {},
     "output_type": "display_data"
    },
    {
     "name": "stderr",
     "output_type": "stream",
     "text": [
      "                                                                                                                                          \r"
     ]
    },
    {
     "data": {
      "text/html": [
       "<video src=\"media/jupyter/ExpressJWTSignupRoute@2024-12-03@16-39-06.mp4\" controls autoplay loop style=\"max-width: 60%;\"  >\n",
       "      Your browser does not support the <code>video</code> element.\n",
       "    </video>"
      ],
      "text/plain": [
       "<IPython.core.display.Video object>"
      ]
     },
     "metadata": {},
     "output_type": "display_data"
    }
   ],
   "source": [
    "from manim import *\n",
    "\n",
    "class ExpressJWTSignupRoute(Scene):\n",
    "    def construct(self):\n",
    "        # Title\n",
    "        title = Text(\"Express JWT Signup Route Implementation\", font_size=32, color=WHITE)\n",
    "        self.play(Write(title))\n",
    "        self.play(title.animate.to_edge(UP))\n",
    "        \n",
    "        # JavaScript code for the signup route\n",
    "        code = '''\n",
    "app.post('/signup', (req, res) => {\n",
    "    const { username, email, password } = req.body;\n",
    "    const existingUser = users.find(user => user.email === email);\n",
    "    if (existingUser) {\n",
    "        return res.status(400).json({ message: 'User already exists' });\n",
    "    }\n",
    "    const newUser = { username, email, password };\n",
    "    users.push(newUser);\n",
    "    res.status(201).json({ message: 'User registered successfully', user: newUser });\n",
    "});\n",
    "        '''.strip()\n",
    "        \n",
    "        # Render the JavaScript code\n",
    "        rendered_code = Code(\n",
    "            code=code, \n",
    "            tab_width=4, \n",
    "            background=\"window\",\n",
    "            language=\"javascript\", \n",
    "            font=\"Monospace\",\n",
    "            line_spacing=0.4, \n",
    "            style=\"monokai\"\n",
    "        )\n",
    "        \n",
    "        # Position the code below the title and align to the left\n",
    "        rendered_code.scale(0.7).next_to(title, DOWN, buff=0.5).shift(UP*0.5)\n",
    "        \n",
    "        # Add the code to the scene\n",
    "        self.play(Create(rendered_code))\n",
    "        self.wait(1)\n",
    "        \n",
    "        # Explanation text for each step\n",
    "        explanations = [\n",
    "            \"Destructure username, email, and password from request body\",\n",
    "            \"Check if user with the same email already exists\",\n",
    "            \"If user exists, return a 400 Bad Request error\",\n",
    "            \"Create a new user object with provided details\",\n",
    "            \"Add new user to the in-memory users array\",\n",
    "            \"Send a 201 Created response with user registration success\"\n",
    "        ]\n",
    "        \n",
    "        # Create and position explanation text objects\n",
    "        explanation_texts = [\n",
    "            Text(exp, font_size=24, color=WHITE).next_to(rendered_code, DOWN)\n",
    "            for i, exp in enumerate(explanations)\n",
    "        ]\n",
    "        \n",
    "        # Define which lines to highlight for each explanation\n",
    "        highlight_lines = [\n",
    "            [1], # Destructure request body\n",
    "            [2], # Check existing user\n",
    "            [3, 4, 5], # Existing user error handling\n",
    "            [6], # Create new user\n",
    "            [7], # Push to users array\n",
    "            [8] # Send response\n",
    "        ]\n",
    "        \n",
    "        # Create highlight rectangles\n",
    "        margin = 0.12\n",
    "        highlight_rects = [\n",
    "            Rectangle(\n",
    "                width=rendered_code.width,\n",
    "                height=0.3 * len(lines),\n",
    "                color=YELLOW,\n",
    "                fill_opacity=0.3\n",
    "            ).align_to(rendered_code.code[lines[0]], UL).align_to(rendered_code, LEFT).shift(DOWN * margin / 2)\n",
    "            for lines in highlight_lines\n",
    "        ]\n",
    "        \n",
    "        # Animate highlights and explanations\n",
    "        for rect, text in zip(highlight_rects, explanation_texts):\n",
    "            self.play(\n",
    "                FadeIn(rect),\n",
    "                Write(text)\n",
    "            )\n",
    "            self.wait(2)\n",
    "            self.play(FadeOut(rect))\n",
    "            self.play(FadeOut(text))\n",
    "            self.wait(1)\n",
    "        \n",
    "        # Wait before finishing\n",
    "        self.wait(2)\n",
    "        self.play(FadeOut(title), FadeOut(rendered_code))\n",
    "\n",
    "# Render the scene\n",
    "%manim -qh -v CRITICAL ExpressJWTSignupRoute"
   ]
  }
 ],
 "metadata": {
  "kernelspec": {
   "display_name": "manDE",
   "language": "python",
   "name": "python3"
  },
  "language_info": {
   "codemirror_mode": {
    "name": "ipython",
    "version": 3
   },
   "file_extension": ".py",
   "mimetype": "text/x-python",
   "name": "python",
   "nbconvert_exporter": "python",
   "pygments_lexer": "ipython3",
   "version": "3.12.5"
  }
 },
 "nbformat": 4,
 "nbformat_minor": 2
}
