{
 "cells": [
  {
   "cell_type": "code",
   "execution_count": 1,
   "metadata": {},
   "outputs": [
    {
     "data": {
      "text/html": [
       "<pre style=\"white-space:pre;overflow-x:auto;line-height:normal;font-family:Menlo,'DejaVu Sans Mono',consolas,'Courier New',monospace\">Manim Community <span style=\"color: #008000; text-decoration-color: #008000\">v0.18.1</span>\n",
       "\n",
       "</pre>\n"
      ],
      "text/plain": [
       "Manim Community \u001b[32mv0.\u001b[0m\u001b[32m18.1\u001b[0m\n",
       "\n"
      ]
     },
     "metadata": {},
     "output_type": "display_data"
    },
    {
     "name": "stderr",
     "output_type": "stream",
     "text": [
      "                                                                                                                                                    \r"
     ]
    },
    {
     "data": {
      "text/html": [
       "<video src=\"media/jupyter/ExpressJWTUserManagement@2024-12-03@16-40-49.mp4\" controls autoplay loop style=\"max-width: 60%;\"  >\n",
       "      Your browser does not support the <code>video</code> element.\n",
       "    </video>"
      ],
      "text/plain": [
       "<IPython.core.display.Video object>"
      ]
     },
     "metadata": {},
     "output_type": "display_data"
    }
   ],
   "source": [
    "from manim import *\n",
    "\n",
    "class ExpressJWTUserManagement(Scene):\n",
    "    def construct(self):\n",
    "        # Title\n",
    "        title = Text(\"Express JWT User Management and Server Startup\", font_size=28, color=WHITE)\n",
    "        self.play(Write(title))\n",
    "        self.play(title.animate.to_edge(UP))\n",
    "        \n",
    "        # JavaScript code for user management and server startup\n",
    "        code = '''\n",
    "app.put('/users/:email', (req, res) => {\n",
    "    const { email } = req.params;\n",
    "    const { username, password } = req.body;\n",
    "    const user = users.find(user => user.email === email);\n",
    "    if (!user) {\n",
    "        return res.status(404).json({ message: 'User not found' });\n",
    "    }\n",
    "    user.username = username || user.username;\n",
    "    user.password = password || user.password;\n",
    "    res.json({ message: 'User updated successfully', user });\n",
    "});\n",
    "app.delete('/users/:email', (req, res) => {\n",
    "    const { email } = req.params;\n",
    "    const index = users.findIndex(user => user.email === email);\n",
    "    if (index === -1) {\n",
    "        return res.status(404).json({ message: 'User not found' });\n",
    "    }\n",
    "    users.splice(index, 1);\n",
    "    res.json({ message: 'User deleted successfully' });\n",
    "});\n",
    "const PORT = 3000;\n",
    "app.listen(PORT, () => {\n",
    "    console.log(`Server is running on http://localhost:${PORT}`);\n",
    "});\n",
    "        '''.strip()\n",
    "        \n",
    "        # Render the JavaScript code\n",
    "        rendered_code = Code(\n",
    "            code=code, \n",
    "            tab_width=4, \n",
    "            background=\"window\",\n",
    "            language=\"javascript\", \n",
    "            font=\"Monospace\",\n",
    "            line_spacing=0.4, \n",
    "            style=\"monokai\"\n",
    "        )\n",
    "        \n",
    "        # Position the code below the title and align to the left\n",
    "        rendered_code.scale(0.65).next_to(title, DOWN, buff=0.5).shift(UP*0.5)\n",
    "        \n",
    "        # Add the code to the scene\n",
    "        self.play(Create(rendered_code))\n",
    "        self.wait(1)\n",
    "        \n",
    "        # Explanation text for each step\n",
    "        explanations = [\n",
    "            \"Create PUT route to update user details by email\",\n",
    "            \"Find user by email in users array\",\n",
    "            \"Handle case when user is not found\",\n",
    "            \"Update username and password (preserve existing if not provided)\",\n",
    "            \"Create DELETE route to remove user by email\",\n",
    "            \"Find user index in users array\",\n",
    "            \"Handle case when user is not found\",\n",
    "            \"Remove user from array using splice\",\n",
    "            \"Set up server to listen on port 3000 and\\nLog server startup message\"\n",
    "        ]\n",
    "        \n",
    "        # Create and position explanation text objects\n",
    "        explanation_texts = [\n",
    "            Text(exp, font_size=24, color=WHITE).next_to(rendered_code, DOWN)\n",
    "            for i, exp in enumerate(explanations)\n",
    "        ]\n",
    "        \n",
    "        # Define which lines to highlight for each explanation\n",
    "        highlight_lines = [\n",
    "            [0, 1, 2], # PUT route start\n",
    "            [3], # Find user\n",
    "            [4, 5], # User not found handling\n",
    "            [7,8], # Update user details\n",
    "            [11], # DELETE route start\n",
    "            [13], # Find user index\n",
    "            [15], # User not found handling\n",
    "            [17], # Remove user\n",
    "            [20, 21], # Port definition\n",
    "        ]\n",
    "        \n",
    "        # Create highlight rectangles\n",
    "        margin = 0.1\n",
    "        highlight_rects = [\n",
    "            Rectangle(\n",
    "                width=rendered_code.width,\n",
    "                height=0.25 * len(lines)+ margin,\n",
    "                color=YELLOW,\n",
    "                fill_opacity=0.3\n",
    "            ).align_to(rendered_code.code[lines[0]], UL).align_to(rendered_code, LEFT).shift(DOWN * margin / 3)\n",
    "            for lines in highlight_lines\n",
    "        ]\n",
    "        \n",
    "        # Animate highlights and explanations\n",
    "        for rect, text in zip(highlight_rects, explanation_texts):\n",
    "            self.play(\n",
    "                FadeIn(rect),\n",
    "                Write(text)\n",
    "            )\n",
    "            self.wait(2)\n",
    "            self.play(FadeOut(rect))\n",
    "            self.play(FadeOut(text))\n",
    "            self.wait(1)\n",
    "        \n",
    "        # Wait before finishing\n",
    "        self.wait(2)\n",
    "        self.play(FadeOut(title), FadeOut(rendered_code))\n",
    "\n",
    "# Render the scene\n",
    "%manim -qh -v CRITICAL ExpressJWTUserManagement"
   ]
  }
 ],
 "metadata": {
  "kernelspec": {
   "display_name": "manDE",
   "language": "python",
   "name": "python3"
  },
  "language_info": {
   "codemirror_mode": {
    "name": "ipython",
    "version": 3
   },
   "file_extension": ".py",
   "mimetype": "text/x-python",
   "name": "python",
   "nbconvert_exporter": "python",
   "pygments_lexer": "ipython3",
   "version": "3.12.5"
  }
 },
 "nbformat": 4,
 "nbformat_minor": 2
}
