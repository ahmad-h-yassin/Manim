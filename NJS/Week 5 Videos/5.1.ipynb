{
 "cells": [
  {
   "cell_type": "code",
   "execution_count": 7,
   "metadata": {},
   "outputs": [
    {
     "data": {
      "text/html": [
       "<pre style=\"white-space:pre;overflow-x:auto;line-height:normal;font-family:Menlo,'DejaVu Sans Mono',consolas,'Courier New',monospace\">Manim Community <span style=\"color: #008000; text-decoration-color: #008000\">v0.18.1</span>\n",
       "\n",
       "</pre>\n"
      ],
      "text/plain": [
       "Manim Community \u001b[32mv0.\u001b[0m\u001b[32m18.1\u001b[0m\n",
       "\n"
      ]
     },
     "metadata": {},
     "output_type": "display_data"
    },
    {
     "name": "stderr",
     "output_type": "stream",
     "text": [
      "                                                                                              \r"
     ]
    },
    {
     "data": {
      "text/html": [
       "<video src=\"media/jupyter/ArrayOperations@2024-08-12@21-30-43.mp4\" controls autoplay loop style=\"max-width: 60%;\"  >\n",
       "      Your browser does not support the <code>video</code> element.\n",
       "    </video>"
      ],
      "text/plain": [
       "<IPython.core.display.Video object>"
      ]
     },
     "metadata": {},
     "output_type": "display_data"
    }
   ],
   "source": [
    "from manim import *\n",
    "\n",
    "class ArrayOperations(Scene):\n",
    "    def construct(self):\n",
    "        # Array Push\n",
    "        push_title = Text(\"Array Push\").to_edge(UP)\n",
    "        self.play(Write(push_title))\n",
    "        \n",
    "        # Create initial array\n",
    "        array = VGroup(*[Square(side_length=0.8).add(Text(str(i))) for i in range(1, 6)])\n",
    "        array.arrange(RIGHT, buff=0.1)\n",
    "        self.play(Create(array))\n",
    "        self.wait()\n",
    "        new_element = Square(side_length=0.8).add(Text(\"6\"))\n",
    "        new_element.next_to(array, RIGHT, buff=0.1)\n",
    "        \n",
    "        self.play(Create(new_element))\n",
    "        self.play(new_element.animate.next_to(array[-1], RIGHT, buff=0.1))\n",
    "        array.add(new_element)\n",
    "        \n",
    "        self.wait()\n",
    "\n",
    "        # Clear push animation\n",
    "        self.play(FadeOut(push_title)) #, array.animate.to_edge(LEFT))\n",
    "        self.wait()\n",
    "\n",
    "        # Array Splice\n",
    "        splice_title = Text(\"Array Splice\").to_edge(UP)\n",
    "        self.play(Write(splice_title))\n",
    "        \n",
    "        # Highlight elements to be spliced\n",
    "        highlight = SurroundingRectangle(VGroup(array[2], array[3]), color=YELLOW)\n",
    "        self.play(Create(highlight))\n",
    "        \n",
    "        # Move spliced elements out\n",
    "        spliced_elements = VGroup(array[2], array[3])\n",
    "        self.play(spliced_elements.animate.shift(UP))\n",
    "        \n",
    "        # Close the gap\n",
    "        self.play(array[4:].animate.shift(LEFT*1.8))\n",
    "        \n",
    "        # Remove spliced elements from the array\n",
    "        # array.remove(*spliced_elements)\n",
    "        self.play(FadeOut(spliced_elements))\n",
    "        self.wait()\n",
    "\n",
    "        # Show final array\n",
    "        final_array_title = Text(\"Final Array\").next_to(array, UP)\n",
    "        self.play(Write(final_array_title))\n",
    "        self.wait(2)\n",
    "\n",
    "%manim -ql -v CRITICAL ArrayOperations"
   ]
  },
  {
   "cell_type": "code",
   "execution_count": 1,
   "metadata": {},
   "outputs": [
    {
     "data": {
      "text/html": [
       "<pre style=\"white-space:pre;overflow-x:auto;line-height:normal;font-family:Menlo,'DejaVu Sans Mono',consolas,'Courier New',monospace\">Manim Community <span style=\"color: #008000; text-decoration-color: #008000\">v0.18.1</span>\n",
       "\n",
       "</pre>\n"
      ],
      "text/plain": [
       "Manim Community \u001b[32mv0.\u001b[0m\u001b[32m18.1\u001b[0m\n",
       "\n"
      ]
     },
     "metadata": {},
     "output_type": "display_data"
    },
    {
     "name": "stderr",
     "output_type": "stream",
     "text": [
      "                                                                                                        \r"
     ]
    },
    {
     "data": {
      "text/html": [
       "<video src=\"media/jupyter/ArrayOperations@2024-08-14@00-42-22.mp4\" controls autoplay loop style=\"max-width: 60%;\"  >\n",
       "      Your browser does not support the <code>video</code> element.\n",
       "    </video>"
      ],
      "text/plain": [
       "<IPython.core.display.Video object>"
      ]
     },
     "metadata": {},
     "output_type": "display_data"
    }
   ],
   "source": [
    "from manim import *\n",
    "\n",
    "class ArrayOperations(Scene):\n",
    "    def construct(self):\n",
    "        # Array Push\n",
    "        push_title = Text(\"Array Push\").to_edge(UP)\n",
    "        self.play(Write(push_title))\n",
    "\n",
    "        # Create initial array\n",
    "        array = VGroup(*[Square(side_length=0.8).add(Text(str(i))) for i in range(1, 6)])\n",
    "        array.arrange(RIGHT, buff=0.1)\n",
    "        array.to_edge(LEFT)\n",
    "        self.play(Create(array))\n",
    "        self.wait()\n",
    "\n",
    "        # Initial JS code\n",
    "        initial_code = Code(\n",
    "            code='''\n",
    "let arr = [1, 2, 3, 4, 5];\n",
    "arr.push(6);\n",
    "'''.strip(),\n",
    "            language=\"javascript\",\n",
    "            style=\"monokai\",\n",
    "            font=\"Monospace\",\n",
    "            background=\"window\",\n",
    "            font_size=24,\n",
    "            line_spacing=0.5\n",
    "        )\n",
    "        initial_code.next_to(array, RIGHT, buff=0.5).to_edge(RIGHT).shift(LEFT)\n",
    "        self.play(Write(initial_code))\n",
    "        self.wait()\n",
    "\n",
    "        \n",
    "     \n",
    "        new_element = Square(side_length=0.8).add(Text(\"6\"))\n",
    "        new_element.next_to(array, RIGHT, buff=0.1)\n",
    "        \n",
    "        self.play(Create(new_element))\n",
    "        self.play(new_element.animate.next_to(array[-1], RIGHT, buff=0.1))\n",
    "        array.add(new_element)\n",
    "        \n",
    "        self.wait()\n",
    "\n",
    "        # Clear push animation\n",
    "        self.play(FadeOut(push_title), FadeOut(initial_code))\n",
    "        self.wait()\n",
    "\n",
    "        # Array Splice\n",
    "        splice_title = Text(\"Array Splice\").to_edge(UP)\n",
    "        self.play(Write(splice_title))\n",
    "        \n",
    "        splice_code = Code(\n",
    "            code=\"arr.splice(1, 2);\",\n",
    "            language=\"javascript\",\n",
    "            style=\"monokai\",\n",
    "            font=\"Monospace\",\n",
    "            background=\"window\",\n",
    "            font_size=24,\n",
    "            line_spacing=0.5\n",
    "        )\n",
    "        splice_code.next_to(array, RIGHT, buff=0.5).to_edge(RIGHT).shift(LEFT*2)\n",
    "        self.play(Write(splice_code))\n",
    "        \n",
    "        # Highlight elements to be spliced\n",
    "        highlight = SurroundingRectangle(VGroup(array[1], array[2]), color=YELLOW)\n",
    "        self.play(Create(highlight))\n",
    "        \n",
    "        # Move spliced elements out\n",
    "        spliced_elements = VGroup(array[1], array[2])\n",
    "        self.play(spliced_elements.animate.shift(UP))\n",
    "        \n",
    "        # Close the gap\n",
    "        self.play(array[3:].animate.shift(LEFT*1.8))\n",
    "        \n",
    "        # Remove spliced elements from the array\n",
    "        self.play(FadeOut(spliced_elements))\n",
    "        \n",
    "        self.wait()\n",
    "\n",
    "\n",
    "%manim -qh -v CRITICAL ArrayOperations"
   ]
  },
  {
   "cell_type": "code",
   "execution_count": null,
   "metadata": {},
   "outputs": [],
   "source": []
  }
 ],
 "metadata": {
  "kernelspec": {
   "display_name": "manDE",
   "language": "python",
   "name": "python3"
  },
  "language_info": {
   "codemirror_mode": {
    "name": "ipython",
    "version": 3
   },
   "file_extension": ".py",
   "mimetype": "text/x-python",
   "name": "python",
   "nbconvert_exporter": "python",
   "pygments_lexer": "ipython3",
   "version": "3.12.4"
  }
 },
 "nbformat": 4,
 "nbformat_minor": 2
}
