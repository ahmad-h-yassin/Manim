{
 "cells": [
  {
   "cell_type": "code",
   "execution_count": 13,
   "metadata": {},
   "outputs": [
    {
     "data": {
      "text/html": [
       "<pre style=\"white-space:pre;overflow-x:auto;line-height:normal;font-family:Menlo,'DejaVu Sans Mono',consolas,'Courier New',monospace\">Manim Community <span style=\"color: #008000; text-decoration-color: #008000\">v0.18.1</span>\n",
       "\n",
       "</pre>\n"
      ],
      "text/plain": [
       "Manim Community \u001b[32mv0.\u001b[0m\u001b[32m18.1\u001b[0m\n",
       "\n"
      ]
     },
     "metadata": {},
     "output_type": "display_data"
    },
    {
     "name": "stderr",
     "output_type": "stream",
     "text": [
      "                                                                                        \r"
     ]
    },
    {
     "data": {
      "text/html": [
       "<video src=\"media/jupyter/ES5vsES6FunctionSyntax@2024-08-18@01-49-08.mp4\" controls autoplay loop style=\"max-width: 60%;\"  >\n",
       "      Your browser does not support the <code>video</code> element.\n",
       "    </video>"
      ],
      "text/plain": [
       "<IPython.core.display.Video object>"
      ]
     },
     "metadata": {},
     "output_type": "display_data"
    }
   ],
   "source": [
    "from manim import *\n",
    "\n",
    "class ES5vsES6FunctionSyntax(Scene):\n",
    "    def construct(self):\n",
    "        # Define the JavaScript code\n",
    "        code = '''\n",
    "app.delete('/users/:id', (req, res) => {\n",
    "    const { id } = req.params;\n",
    "    const userIndex = users.findIndex(user => user.id == id);\n",
    "    if (userIndex === -1) {\n",
    "        return res.status(404).send(\"User not found!\");\n",
    "    }\n",
    "    users.splice(userIndex, 1);\n",
    "    res.send(\"User deleted successfully!\");\n",
    "});\n",
    "        '''.strip()\n",
    "\n",
    "        # Create a Code object\n",
    "        rendered_code = Code(code=code, tab_width=4, background=\"window\",\n",
    "                             language=\"javascript\", font=\"Monospace\",\n",
    "                             line_spacing=0.5, style=\"monokai\")\n",
    "\n",
    "        # Position the code on the screen\n",
    "        rendered_code.to_edge(UP).scale(0.6).shift(UP*0.6)\n",
    "        rendered_code.code = remove_invisible_chars(rendered_code.code)\n",
    "\n",
    "        # Add the code to the scene\n",
    "        self.play(Create(rendered_code))\n",
    "        self.wait(1)\n",
    "\n",
    "        # Create explanations\n",
    "        explanations = [\n",
    "            \"Define DELETE route for /users/:id\",\n",
    "            \"Extract 'id' from request parameters\",\n",
    "            \"Find index of user with matching id\",\n",
    "            \"Check if user exists\",\n",
    "            \"Remove user from array\",\n",
    "            \"Send success response\"\n",
    "        ]\n",
    "\n",
    "        # Create and position explanation text objects\n",
    "        explanation_texts = [\n",
    "            Text(exp, font_size=24).next_to(rendered_code, DOWN).shift(DOWN * (i) * 0.7)\n",
    "            for i, exp in enumerate(explanations)\n",
    "        ]\n",
    "\n",
    "        # Define which lines to highlight for each explanation\n",
    "        highlight_lines = [\n",
    "            [0],\n",
    "            [1],\n",
    "            [2],\n",
    "            [3, 4, 5],\n",
    "            [6],\n",
    "            [7]\n",
    "        ]\n",
    "\n",
    "        # Create highlight rectangles\n",
    "        margin = 0.1\n",
    "# Uncomment one of these lines to run the animation\n",
    "        highlight_rects = [\n",
    "            Rectangle(\n",
    "                width=max([rendered_code.code[lines[i]].width for i in range(len(lines))])+margin,\n",
    "                height=0.25*len(lines)+margin,\n",
    "                color=YELLOW,\n",
    "                fill_opacity=0.3\n",
    "            ).align_to(rendered_code.code[lines[0]], UL).shift(UP*margin/2 + LEFT*margin/2)\n",
    "            for lines in highlight_lines\n",
    "        ]\n",
    "\n",
    "        # Animate highlights and explanations\n",
    "        for rect, text in zip(highlight_rects, explanation_texts):\n",
    "            self.play(\n",
    "                FadeIn(rect),\n",
    "                Write(text)\n",
    "            )\n",
    "            self.wait(2)\n",
    "            self.play(\n",
    "                FadeOut(rect),\n",
    "                # FadeOut(text)\n",
    "            )\n",
    "            self.wait(1)\n",
    "\n",
    "# %manim -ql -v CRITICAL --save_last_frame ES5vsES6FunctionSyntax\n",
    "%manim -qh -v CRITICAL ES5vsES6FunctionSyntax"
   ]
  }
 ],
 "metadata": {
  "kernelspec": {
   "display_name": "manDE",
   "language": "python",
   "name": "python3"
  },
  "language_info": {
   "codemirror_mode": {
    "name": "ipython",
    "version": 3
   },
   "file_extension": ".py",
   "mimetype": "text/x-python",
   "name": "python",
   "nbconvert_exporter": "python",
   "pygments_lexer": "ipython3",
   "version": "3.12.4"
  }
 },
 "nbformat": 4,
 "nbformat_minor": 2
}
