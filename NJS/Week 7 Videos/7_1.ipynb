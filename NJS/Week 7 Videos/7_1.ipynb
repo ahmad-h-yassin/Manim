{
 "cells": [
  {
   "cell_type": "code",
   "execution_count": 18,
   "metadata": {},
   "outputs": [
    {
     "data": {
      "text/html": [
       "<pre style=\"white-space:pre;overflow-x:auto;line-height:normal;font-family:Menlo,'DejaVu Sans Mono',consolas,'Courier New',monospace\">Manim Community <span style=\"color: #008000; text-decoration-color: #008000\">v0.18.1</span>\n",
       "\n",
       "</pre>\n"
      ],
      "text/plain": [
       "Manim Community \u001b[32mv0.\u001b[0m\u001b[32m18.1\u001b[0m\n",
       "\n"
      ]
     },
     "metadata": {},
     "output_type": "display_data"
    },
    {
     "name": "stderr",
     "output_type": "stream",
     "text": [
      "                                                                                                                                             \r"
     ]
    },
    {
     "data": {
      "text/html": [
       "<video src=\"media/jupyter/ExpressMongooseSkeleton@2024-09-19@17-59-16.mp4\" controls autoplay loop style=\"max-width: 60%;\"  >\n",
       "      Your browser does not support the <code>video</code> element.\n",
       "    </video>"
      ],
      "text/plain": [
       "<IPython.core.display.Video object>"
      ]
     },
     "metadata": {},
     "output_type": "display_data"
    }
   ],
   "source": [
    "from manim import *\n",
    "\n",
    "class ExpressMongooseSkeleton(Scene):\n",
    "    def construct(self):\n",
    "        # Title\n",
    "        title = Text(\"Express and Mongoose API Skeleton\", font_size=32, color=WHITE)\n",
    "        self.play(Write(title))\n",
    "        self.play(title.animate.to_edge(UP))\n",
    "\n",
    "        # JavaScript code for the skeleton without empty lines\n",
    "        code = '''\n",
    "const express = require(\"express\");\n",
    "const mongoose = require(\"mongoose\");\n",
    "const Article = require(\"./models/Article\");\n",
    "const app = express();\n",
    "mongoose.connect(\"mongodb://localhost:27017/firstDatabase\")\n",
    ".then(() => console.log(\"Connected to the database\"))\n",
    ".catch((error) => console.error(\"Error connecting to the database:\", error));\n",
    "app.use(express.json());\n",
    "app.get(\"/articles\", async (req, res) => {});\n",
    "app.get(\"/articles/:articleId\", async (req, res) => {});\n",
    "app.delete(\"/articles/:articleId\", async (req, res) => {});\n",
    "app.put(\"/articles/:articleId\", async (req, res) => {});\n",
    "app.patch(\"/articles/:articleId\", async (req, res) => {});\n",
    "app.post(\"/articles\", async (req, res) => {});\n",
    "app.listen(3000, () => console.log(\"Server listening on port 3000\"));\n",
    "        '''.strip()\n",
    "\n",
    "        # Render the JavaScript code\n",
    "        rendered_code = Code(code=code, tab_width=4, background=\"window\",\n",
    "                             language=\"javascript\", font=\"Monospace\",\n",
    "                             line_spacing=0.4, style=\"monokai\")  # Reduce line spacing\n",
    "\n",
    "        # Position the code below the title and align to the left\n",
    "        rendered_code.scale(0.8).next_to(title, DOWN, buff=0.5).shift(UP*0.5)\n",
    "        rendered_code.code = remove_invisible_chars(rendered_code.code)\n",
    "\n",
    "        # Add the code to the scene\n",
    "        self.play(Create(rendered_code))\n",
    "        self.wait(1)\n",
    "\n",
    "        # Explanation text for each step\n",
    "        explanations = [\n",
    "            \"Initialize Express and Mongoose, then import the article model\",\n",
    "            \"Connect to MongoDB database\",\n",
    "            \"Use middleware to parse JSON\",\n",
    "            \"Define GET /articles route\",\n",
    "            \"Define GET /articles/:articleId route\",\n",
    "            \"Define DELETE /articles/:articleId route\",\n",
    "            \"Define PUT /articles/:articleId route\",\n",
    "            \"Define PATCH /articles/:articleId route\",\n",
    "            \"Define POST /articles route\",\n",
    "            \"Start the server on port 3000\"\n",
    "        ]\n",
    "\n",
    "        # Create and position explanation text objects\n",
    "        explanation_texts = [\n",
    "            Text(exp, font_size=24, color=WHITE).next_to(rendered_code, DOWN)#.shift(DOWN * (i) * 0.5)\n",
    "            for i, exp in enumerate(explanations)\n",
    "        ]\n",
    "\n",
    "        # Define which lines to highlight for each explanation\n",
    "        highlight_lines = [\n",
    "            [0, 1, 2, 3],  # Initialize Express and Mongoose\n",
    "            [4, 5, 6],  # Connect to MongoDB\n",
    "            [7],     #middleware    \n",
    "            [8], #get       \n",
    "            [9],        \n",
    "            [10],       \n",
    "            [11],       \n",
    "            [12],       \n",
    "            [13],        \n",
    "            [14]\n",
    "        ]\n",
    "\n",
    "        # Create highlight rectangles\n",
    "        margin = 0.1\n",
    "        highlight_rects = [\n",
    "            Rectangle(\n",
    "                width=rendered_code.width,\n",
    "                height=0.3 * len(lines),\n",
    "                color=YELLOW,\n",
    "                fill_opacity=0.3\n",
    "            ).align_to(rendered_code.code[lines[0]], UL).align_to(rendered_code, LEFT).shift(UP * margin / 2)\n",
    "            for lines in highlight_lines\n",
    "        ]\n",
    "\n",
    "        # Animate highlights and explanations\n",
    "        for rect, text in zip(highlight_rects, explanation_texts):\n",
    "            self.play(\n",
    "                FadeIn(rect),\n",
    "                Write(text)\n",
    "            )\n",
    "            self.wait(2)\n",
    "            self.play(FadeOut(rect))\n",
    "            self.play(FadeOut(text))\n",
    "            self.wait(1)\n",
    "\n",
    "        # Wait before finishing\n",
    "        self.wait(2)\n",
    "        self.play(FadeOut(title), FadeOut(rendered_code))\n",
    "\n",
    "# Render the scene\n",
    "%manim -qh -v CRITICAL ExpressMongooseSkeleton\n"
   ]
  }
 ],
 "metadata": {
  "kernelspec": {
   "display_name": "manDE",
   "language": "python",
   "name": "python3"
  },
  "language_info": {
   "codemirror_mode": {
    "name": "ipython",
    "version": 3
   },
   "file_extension": ".py",
   "mimetype": "text/x-python",
   "name": "python",
   "nbconvert_exporter": "python",
   "pygments_lexer": "ipython3",
   "version": "3.12.4"
  }
 },
 "nbformat": 4,
 "nbformat_minor": 2
}
