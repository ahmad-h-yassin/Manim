{
 "cells": [
  {
   "cell_type": "code",
   "execution_count": 1,
   "metadata": {},
   "outputs": [
    {
     "data": {
      "text/html": [
       "<pre style=\"white-space:pre;overflow-x:auto;line-height:normal;font-family:Menlo,'DejaVu Sans Mono',consolas,'Courier New',monospace\">Manim Community <span style=\"color: #008000; text-decoration-color: #008000\">v0.18.1</span>\n",
       "\n",
       "</pre>\n"
      ],
      "text/plain": [
       "Manim Community \u001b[32mv0.\u001b[0m\u001b[32m18.1\u001b[0m\n",
       "\n"
      ]
     },
     "metadata": {},
     "output_type": "display_data"
    },
    {
     "name": "stderr",
     "output_type": "stream",
     "text": [
      "                                                                                                                                 \r"
     ]
    },
    {
     "data": {
      "text/html": [
       "<video src=\"media/jupyter/PutUpdateArticle@2024-09-16@15-55-19.mp4\" controls autoplay loop style=\"max-width: 60%;\"  >\n",
       "      Your browser does not support the <code>video</code> element.\n",
       "    </video>"
      ],
      "text/plain": [
       "<IPython.core.display.Video object>"
      ]
     },
     "metadata": {},
     "output_type": "display_data"
    }
   ],
   "source": [
    "from manim import *\n",
    "\n",
    "class PutUpdateArticle(Scene):\n",
    "    def construct(self):\n",
    "        # Title\n",
    "        title = Text(\"PUT /articles/: Update the Entire Article\", font_size=36, color=WHITE)\n",
    "        self.play(Write(title))\n",
    "        self.play(title.animate.to_edge(UP))\n",
    "        \n",
    "        # JavaScript code for the PUT /articles/:id endpoint\n",
    "        code = '''\n",
    "app.put(\"/articles/:id\", async (req, res) => {\n",
    "    try {\n",
    "        const updatedArticle = await Article.findByIdAndUpdate(\n",
    "            req.params.id,\n",
    "            {\n",
    "                title: req.body.title,\n",
    "                body: req.body.body,\n",
    "                likes: req.body.likes\n",
    "            },\n",
    "            { new: true }\n",
    "        );\n",
    "\n",
    "        if (!updatedArticle) {\n",
    "            return res.status(404).send(\"Article not found\");\n",
    "        }\n",
    "\n",
    "        res.status(200).json(updatedArticle);\n",
    "    } catch (error) {\n",
    "        res.status(500).send(\"Error updating article\");\n",
    "    }\n",
    "});\n",
    "        '''.strip()\n",
    "\n",
    "        # Render the JavaScript code\n",
    "        rendered_code = Code(code=code, tab_width=4, background=\"window\",\n",
    "                             language=\"javascript\", font=\"Monospace\",\n",
    "                             line_spacing=0.5, style=\"monokai\")\n",
    "\n",
    "        # Position the code below the title and align to the left\n",
    "        rendered_code.scale(0.6).next_to(title, DOWN, buff=0.5).to_edge(LEFT)\n",
    "        rendered_code.code = remove_invisible_chars(rendered_code.code)\n",
    "\n",
    "        # Add the code to the scene\n",
    "        self.play(Create(rendered_code))\n",
    "        self.wait(1)\n",
    "\n",
    "        # Explanation text for each step\n",
    "        explanations = [\n",
    "            \"Define PUT endpoint\\nfor /articles/:id\",\n",
    "            \"Find the article by ID\\nand update with new data\",\n",
    "            \"Handle article not found\",\n",
    "            \"Return the updated article\\nwith a 200 status code\\n\\n\",\n",
    "            \"Catch any errors \\nand return a 500 status code\"\n",
    "        ]\n",
    "\n",
    "        # Create and position explanation text objects\n",
    "        explanation_texts = [\n",
    "            Text(exp, font_size=23, color=WHITE).next_to(rendered_code, RIGHT).shift(DOWN * (i) * 0.7).shift(UP*1.5)\n",
    "            for i, exp in enumerate(explanations)\n",
    "        ]\n",
    "\n",
    "        # Define which lines to highlight for each explanation\n",
    "        highlight_lines = [\n",
    "            [0],       # Define PUT endpoint\n",
    "            [1, 2, 3, 4, 5, 6, 7, 8, 9], # Find article and update\n",
    "            [12, 13],    # Handle article not found\n",
    "            [16],       # Return updated article\n",
    "            [17, 18]   # Catch errors\n",
    "        ]\n",
    "\n",
    "        # Create highlight rectangles\n",
    "        margin = 0.1\n",
    "        highlight_rects = [\n",
    "            Rectangle(\n",
    "                width=rendered_code.width,\n",
    "                height=0.26 * len(lines),\n",
    "                color=YELLOW,\n",
    "                fill_opacity=0.3\n",
    "            ).align_to(rendered_code.code[lines[0]], UL).align_to(rendered_code, LEFT).shift(UP * margin / 2)\n",
    "            for lines in highlight_lines\n",
    "        ]\n",
    "\n",
    "        # Animate highlights and explanations\n",
    "        for rect, text in zip(highlight_rects, explanation_texts):\n",
    "            self.play(\n",
    "                FadeIn(rect),\n",
    "                Write(text)\n",
    "            )\n",
    "            self.wait(2)\n",
    "            self.play(\n",
    "                FadeOut(rect),\n",
    "            )\n",
    "            self.wait(1)\n",
    "\n",
    "        # Wait before finishing\n",
    "        self.wait(2)\n",
    "        self.play(FadeOut(title), FadeOut(rendered_code), *[FadeOut(text) for text in explanation_texts])\n",
    "\n",
    "# Render the scene\n",
    "%manim -qh -v CRITICAL PutUpdateArticle\n"
   ]
  },
  {
   "cell_type": "code",
   "execution_count": 9,
   "metadata": {},
   "outputs": [
    {
     "data": {
      "text/html": [
       "<pre style=\"white-space:pre;overflow-x:auto;line-height:normal;font-family:Menlo,'DejaVu Sans Mono',consolas,'Courier New',monospace\">Manim Community <span style=\"color: #008000; text-decoration-color: #008000\">v0.18.1</span>\n",
       "\n",
       "</pre>\n"
      ],
      "text/plain": [
       "Manim Community \u001b[32mv0.\u001b[0m\u001b[32m18.1\u001b[0m\n",
       "\n"
      ]
     },
     "metadata": {},
     "output_type": "display_data"
    },
    {
     "name": "stderr",
     "output_type": "stream",
     "text": [
      "                                                                                                    \r"
     ]
    },
    {
     "data": {
      "text/html": [
       "<video src=\"media/jupyter/PatchVsPut@2024-09-19@17-23-10.mp4\" controls autoplay loop style=\"max-width: 60%;\"  >\n",
       "      Your browser does not support the <code>video</code> element.\n",
       "    </video>"
      ],
      "text/plain": [
       "<IPython.core.display.Video object>"
      ]
     },
     "metadata": {},
     "output_type": "display_data"
    }
   ],
   "source": [
    "from manim import *\n",
    "\n",
    "class PatchVsPut(Scene):\n",
    "    def construct(self):\n",
    "        # Title\n",
    "        title = Text(\"PATCH vs PUT\", font_size=48, color=YELLOW)\n",
    "        self.play(FadeIn(title))\n",
    "        self.play(title.animate.to_edge(UP))  # Animate title to the top\n",
    "        self.wait(1)\n",
    "        \n",
    "        # First: PATCH\n",
    "        patch_text = Text(\"PATCH:\", font_size=36, color=GREEN)\n",
    "        patch_description = Text(\"Updates a part of a resource\", font_size=28, color=WHITE)\n",
    "        patch_group = VGroup(patch_text, patch_description).arrange(DOWN).next_to(title, DOWN, buff=1)  \n",
    "        # Arrange PATCH text and description below the title\n",
    "        self.play(FadeIn(patch_group))\n",
    "        self.wait(2)\n",
    "\n",
    "        # Second: PUT\n",
    "        put_text = Text(\"PUT:\", font_size=36, color=BLUE)\n",
    "        put_description = Text(\"Replaces the entire resource\", font_size=28, color=WHITE)\n",
    "        put_group = VGroup(put_text, put_description).arrange(DOWN).next_to(patch_group, DOWN, buff=1)  \n",
    "        # Align PUT text and description below PATCH\n",
    "        self.play(FadeIn(put_group))\n",
    "        self.wait(2)\n",
    "\n",
    "        # Remove the last part, no conclusion\n",
    "        self.play(FadeOut(title), FadeOut(patch_group), FadeOut(put_group))\n",
    "\n",
    "# Rendering in Jupyter Notebook (this line is required to run in Jupyter)\n",
    "%manim -qH -v CRITICAL PatchVsPut\n"
   ]
  },
  {
   "cell_type": "code",
   "execution_count": null,
   "metadata": {},
   "outputs": [],
   "source": []
  }
 ],
 "metadata": {
  "kernelspec": {
   "display_name": "manDE",
   "language": "python",
   "name": "python3"
  },
  "language_info": {
   "codemirror_mode": {
    "name": "ipython",
    "version": 3
   },
   "file_extension": ".py",
   "mimetype": "text/x-python",
   "name": "python",
   "nbconvert_exporter": "python",
   "pygments_lexer": "ipython3",
   "version": "3.12.4"
  }
 },
 "nbformat": 4,
 "nbformat_minor": 2
}
