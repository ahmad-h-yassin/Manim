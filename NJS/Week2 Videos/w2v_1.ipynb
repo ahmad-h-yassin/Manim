{
 "cells": [
  {
   "cell_type": "code",
   "execution_count": 1,
   "metadata": {},
   "outputs": [
    {
     "data": {
      "text/html": [
       "<pre style=\"white-space:pre;overflow-x:auto;line-height:normal;font-family:Menlo,'DejaVu Sans Mono',consolas,'Courier New',monospace\">Manim Community <span style=\"color: #008000; text-decoration-color: #008000\">v0.18.1</span>\n",
       "\n",
       "</pre>\n"
      ],
      "text/plain": [
       "Manim Community \u001b[32mv0.\u001b[0m\u001b[32m18.1\u001b[0m\n",
       "\n"
      ]
     },
     "metadata": {},
     "output_type": "display_data"
    },
    {
     "name": "stderr",
     "output_type": "stream",
     "text": [
      "                                                                                                   \r"
     ]
    },
    {
     "data": {
      "text/html": [
       "<pre style=\"white-space:pre;overflow-x:auto;line-height:normal;font-family:Menlo,'DejaVu Sans Mono',consolas,'Courier New',monospace\"><span style=\"color: #7fbfbf; text-decoration-color: #7fbfbf\">[07/03/24 10:34:55] </span><span style=\"color: #008000; text-decoration-color: #008000\">INFO    </span> Animation <span style=\"color: #008000; text-decoration-color: #008000\">0</span> : Partial movie file written in <span style=\"color: #008000; text-decoration-color: #008000\">'/home/ah/Dev </span>    <span style=\"color: #7f7f7f; text-decoration-color: #7f7f7f\">scene_file_writer.py:527</span>\n",
       "<span style=\"color: #7fbfbf; text-decoration-color: #7fbfbf\">                    </span>         <span style=\"color: #008000; text-decoration-color: #008000\">Tools/Manim/NJS/Week2 Videos/media/videos/Week2 </span>              <span style=\"color: #7f7f7f; text-decoration-color: #7f7f7f\">                        </span>\n",
       "<span style=\"color: #7fbfbf; text-decoration-color: #7fbfbf\">                    </span>         <span style=\"color: #008000; text-decoration-color: #008000\">Videos/1080p60/partial_movie_files/slide1/3529212410_68105020</span> <span style=\"color: #7f7f7f; text-decoration-color: #7f7f7f\">                        </span>\n",
       "<span style=\"color: #7fbfbf; text-decoration-color: #7fbfbf\">                    </span>         <span style=\"color: #008000; text-decoration-color: #008000\">0_223132457.mp4'</span>                                              <span style=\"color: #7f7f7f; text-decoration-color: #7f7f7f\">                        </span>\n",
       "</pre>\n"
      ],
      "text/plain": [
       "\u001b[2;36m[07/03/24 10:34:55]\u001b[0m\u001b[2;36m \u001b[0m\u001b[32mINFO    \u001b[0m Animation \u001b[32m0\u001b[0m : Partial movie file written in \u001b[32m'/home/ah/Dev \u001b[0m    \u001b[2mscene_file_writer.py\u001b[0m\u001b[2m:\u001b[0m\u001b[2m527\u001b[0m\n",
       "\u001b[2;36m                    \u001b[0m         \u001b[32mTools/Manim/NJS/Week2 Videos/media/videos/Week2 \u001b[0m              \u001b[2m                        \u001b[0m\n",
       "\u001b[2;36m                    \u001b[0m         \u001b[32mVideos/1080p60/partial_movie_files/slide1/3529212410_68105020\u001b[0m \u001b[2m                        \u001b[0m\n",
       "\u001b[2;36m                    \u001b[0m         \u001b[32m0_223132457.mp4'\u001b[0m                                              \u001b[2m                        \u001b[0m\n"
      ]
     },
     "metadata": {},
     "output_type": "display_data"
    },
    {
     "name": "stderr",
     "output_type": "stream",
     "text": [
      "                                                                                \r"
     ]
    },
    {
     "data": {
      "text/html": [
       "<pre style=\"white-space:pre;overflow-x:auto;line-height:normal;font-family:Menlo,'DejaVu Sans Mono',consolas,'Courier New',monospace\"><span style=\"color: #7fbfbf; text-decoration-color: #7fbfbf\">[07/03/24 10:35:00] </span><span style=\"color: #008000; text-decoration-color: #008000\">INFO    </span> Animation <span style=\"color: #008000; text-decoration-color: #008000\">1</span> : Partial movie file written in <span style=\"color: #008000; text-decoration-color: #008000\">'/home/ah/Dev </span>    <span style=\"color: #7f7f7f; text-decoration-color: #7f7f7f\">scene_file_writer.py:527</span>\n",
       "<span style=\"color: #7fbfbf; text-decoration-color: #7fbfbf\">                    </span>         <span style=\"color: #008000; text-decoration-color: #008000\">Tools/Manim/NJS/Week2 Videos/media/videos/Week2 </span>              <span style=\"color: #7f7f7f; text-decoration-color: #7f7f7f\">                        </span>\n",
       "<span style=\"color: #7fbfbf; text-decoration-color: #7fbfbf\">                    </span>         <span style=\"color: #008000; text-decoration-color: #008000\">Videos/1080p60/partial_movie_files/slide1/3040924799_23424713</span> <span style=\"color: #7f7f7f; text-decoration-color: #7f7f7f\">                        </span>\n",
       "<span style=\"color: #7fbfbf; text-decoration-color: #7fbfbf\">                    </span>         <span style=\"color: #008000; text-decoration-color: #008000\">22_2772251692.mp4'</span>                                            <span style=\"color: #7f7f7f; text-decoration-color: #7f7f7f\">                        </span>\n",
       "</pre>\n"
      ],
      "text/plain": [
       "\u001b[2;36m[07/03/24 10:35:00]\u001b[0m\u001b[2;36m \u001b[0m\u001b[32mINFO    \u001b[0m Animation \u001b[32m1\u001b[0m : Partial movie file written in \u001b[32m'/home/ah/Dev \u001b[0m    \u001b[2mscene_file_writer.py\u001b[0m\u001b[2m:\u001b[0m\u001b[2m527\u001b[0m\n",
       "\u001b[2;36m                    \u001b[0m         \u001b[32mTools/Manim/NJS/Week2 Videos/media/videos/Week2 \u001b[0m              \u001b[2m                        \u001b[0m\n",
       "\u001b[2;36m                    \u001b[0m         \u001b[32mVideos/1080p60/partial_movie_files/slide1/3040924799_23424713\u001b[0m \u001b[2m                        \u001b[0m\n",
       "\u001b[2;36m                    \u001b[0m         \u001b[32m22_2772251692.mp4'\u001b[0m                                            \u001b[2m                        \u001b[0m\n"
      ]
     },
     "metadata": {},
     "output_type": "display_data"
    },
    {
     "name": "stderr",
     "output_type": "stream",
     "text": [
      "                                                                           \r"
     ]
    },
    {
     "data": {
      "text/html": [
       "<pre style=\"white-space:pre;overflow-x:auto;line-height:normal;font-family:Menlo,'DejaVu Sans Mono',consolas,'Courier New',monospace\"><span style=\"color: #7fbfbf; text-decoration-color: #7fbfbf\">[07/03/24 10:35:06] </span><span style=\"color: #008000; text-decoration-color: #008000\">INFO    </span> Animation <span style=\"color: #008000; text-decoration-color: #008000\">2</span> : Partial movie file written in <span style=\"color: #008000; text-decoration-color: #008000\">'/home/ah/Dev </span>    <span style=\"color: #7f7f7f; text-decoration-color: #7f7f7f\">scene_file_writer.py:527</span>\n",
       "<span style=\"color: #7fbfbf; text-decoration-color: #7fbfbf\">                    </span>         <span style=\"color: #008000; text-decoration-color: #008000\">Tools/Manim/NJS/Week2 Videos/media/videos/Week2 </span>              <span style=\"color: #7f7f7f; text-decoration-color: #7f7f7f\">                        </span>\n",
       "<span style=\"color: #7fbfbf; text-decoration-color: #7fbfbf\">                    </span>         <span style=\"color: #008000; text-decoration-color: #008000\">Videos/1080p60/partial_movie_files/slide1/3040924799_40876762</span> <span style=\"color: #7f7f7f; text-decoration-color: #7f7f7f\">                        </span>\n",
       "<span style=\"color: #7fbfbf; text-decoration-color: #7fbfbf\">                    </span>         <span style=\"color: #008000; text-decoration-color: #008000\">04_441812569.mp4'</span>                                             <span style=\"color: #7f7f7f; text-decoration-color: #7f7f7f\">                        </span>\n",
       "</pre>\n"
      ],
      "text/plain": [
       "\u001b[2;36m[07/03/24 10:35:06]\u001b[0m\u001b[2;36m \u001b[0m\u001b[32mINFO    \u001b[0m Animation \u001b[32m2\u001b[0m : Partial movie file written in \u001b[32m'/home/ah/Dev \u001b[0m    \u001b[2mscene_file_writer.py\u001b[0m\u001b[2m:\u001b[0m\u001b[2m527\u001b[0m\n",
       "\u001b[2;36m                    \u001b[0m         \u001b[32mTools/Manim/NJS/Week2 Videos/media/videos/Week2 \u001b[0m              \u001b[2m                        \u001b[0m\n",
       "\u001b[2;36m                    \u001b[0m         \u001b[32mVideos/1080p60/partial_movie_files/slide1/3040924799_40876762\u001b[0m \u001b[2m                        \u001b[0m\n",
       "\u001b[2;36m                    \u001b[0m         \u001b[32m04_441812569.mp4'\u001b[0m                                             \u001b[2m                        \u001b[0m\n"
      ]
     },
     "metadata": {},
     "output_type": "display_data"
    },
    {
     "name": "stderr",
     "output_type": "stream",
     "text": [
      "                                                                                                \r"
     ]
    },
    {
     "data": {
      "text/html": [
       "<pre style=\"white-space:pre;overflow-x:auto;line-height:normal;font-family:Menlo,'DejaVu Sans Mono',consolas,'Courier New',monospace\"><span style=\"color: #7fbfbf; text-decoration-color: #7fbfbf\">[07/03/24 10:35:12] </span><span style=\"color: #008000; text-decoration-color: #008000\">INFO    </span> Animation <span style=\"color: #008000; text-decoration-color: #008000\">3</span> : Partial movie file written in <span style=\"color: #008000; text-decoration-color: #008000\">'/home/ah/Dev </span>    <span style=\"color: #7f7f7f; text-decoration-color: #7f7f7f\">scene_file_writer.py:527</span>\n",
       "<span style=\"color: #7fbfbf; text-decoration-color: #7fbfbf\">                    </span>         <span style=\"color: #008000; text-decoration-color: #008000\">Tools/Manim/NJS/Week2 Videos/media/videos/Week2 </span>              <span style=\"color: #7f7f7f; text-decoration-color: #7f7f7f\">                        </span>\n",
       "<span style=\"color: #7fbfbf; text-decoration-color: #7fbfbf\">                    </span>         <span style=\"color: #008000; text-decoration-color: #008000\">Videos/1080p60/partial_movie_files/slide1/3040924799_17778447</span> <span style=\"color: #7f7f7f; text-decoration-color: #7f7f7f\">                        </span>\n",
       "<span style=\"color: #7fbfbf; text-decoration-color: #7fbfbf\">                    </span>         <span style=\"color: #008000; text-decoration-color: #008000\">71_2522787387.mp4'</span>                                            <span style=\"color: #7f7f7f; text-decoration-color: #7f7f7f\">                        </span>\n",
       "</pre>\n"
      ],
      "text/plain": [
       "\u001b[2;36m[07/03/24 10:35:12]\u001b[0m\u001b[2;36m \u001b[0m\u001b[32mINFO    \u001b[0m Animation \u001b[32m3\u001b[0m : Partial movie file written in \u001b[32m'/home/ah/Dev \u001b[0m    \u001b[2mscene_file_writer.py\u001b[0m\u001b[2m:\u001b[0m\u001b[2m527\u001b[0m\n",
       "\u001b[2;36m                    \u001b[0m         \u001b[32mTools/Manim/NJS/Week2 Videos/media/videos/Week2 \u001b[0m              \u001b[2m                        \u001b[0m\n",
       "\u001b[2;36m                    \u001b[0m         \u001b[32mVideos/1080p60/partial_movie_files/slide1/3040924799_17778447\u001b[0m \u001b[2m                        \u001b[0m\n",
       "\u001b[2;36m                    \u001b[0m         \u001b[32m71_2522787387.mp4'\u001b[0m                                            \u001b[2m                        \u001b[0m\n"
      ]
     },
     "metadata": {},
     "output_type": "display_data"
    },
    {
     "name": "stderr",
     "output_type": "stream",
     "text": [
      "                                                                           \r"
     ]
    },
    {
     "data": {
      "text/html": [
       "<pre style=\"white-space:pre;overflow-x:auto;line-height:normal;font-family:Menlo,'DejaVu Sans Mono',consolas,'Courier New',monospace\"><span style=\"color: #7fbfbf; text-decoration-color: #7fbfbf\">[07/03/24 10:35:19] </span><span style=\"color: #008000; text-decoration-color: #008000\">INFO    </span> Animation <span style=\"color: #008000; text-decoration-color: #008000\">4</span> : Partial movie file written in <span style=\"color: #008000; text-decoration-color: #008000\">'/home/ah/Dev </span>    <span style=\"color: #7f7f7f; text-decoration-color: #7f7f7f\">scene_file_writer.py:527</span>\n",
       "<span style=\"color: #7fbfbf; text-decoration-color: #7fbfbf\">                    </span>         <span style=\"color: #008000; text-decoration-color: #008000\">Tools/Manim/NJS/Week2 Videos/media/videos/Week2 </span>              <span style=\"color: #7f7f7f; text-decoration-color: #7f7f7f\">                        </span>\n",
       "<span style=\"color: #7fbfbf; text-decoration-color: #7fbfbf\">                    </span>         <span style=\"color: #008000; text-decoration-color: #008000\">Videos/1080p60/partial_movie_files/slide1/3040924799_32024731</span> <span style=\"color: #7f7f7f; text-decoration-color: #7f7f7f\">                        </span>\n",
       "<span style=\"color: #7fbfbf; text-decoration-color: #7fbfbf\">                    </span>         <span style=\"color: #008000; text-decoration-color: #008000\">50_1207802885.mp4'</span>                                            <span style=\"color: #7f7f7f; text-decoration-color: #7f7f7f\">                        </span>\n",
       "</pre>\n"
      ],
      "text/plain": [
       "\u001b[2;36m[07/03/24 10:35:19]\u001b[0m\u001b[2;36m \u001b[0m\u001b[32mINFO    \u001b[0m Animation \u001b[32m4\u001b[0m : Partial movie file written in \u001b[32m'/home/ah/Dev \u001b[0m    \u001b[2mscene_file_writer.py\u001b[0m\u001b[2m:\u001b[0m\u001b[2m527\u001b[0m\n",
       "\u001b[2;36m                    \u001b[0m         \u001b[32mTools/Manim/NJS/Week2 Videos/media/videos/Week2 \u001b[0m              \u001b[2m                        \u001b[0m\n",
       "\u001b[2;36m                    \u001b[0m         \u001b[32mVideos/1080p60/partial_movie_files/slide1/3040924799_32024731\u001b[0m \u001b[2m                        \u001b[0m\n",
       "\u001b[2;36m                    \u001b[0m         \u001b[32m50_1207802885.mp4'\u001b[0m                                            \u001b[2m                        \u001b[0m\n"
      ]
     },
     "metadata": {},
     "output_type": "display_data"
    },
    {
     "name": "stderr",
     "output_type": "stream",
     "text": [
      "                                                                                    \r"
     ]
    },
    {
     "data": {
      "text/html": [
       "<pre style=\"white-space:pre;overflow-x:auto;line-height:normal;font-family:Menlo,'DejaVu Sans Mono',consolas,'Courier New',monospace\"><span style=\"color: #7fbfbf; text-decoration-color: #7fbfbf\">[07/03/24 10:35:25] </span><span style=\"color: #008000; text-decoration-color: #008000\">INFO    </span> Animation <span style=\"color: #008000; text-decoration-color: #008000\">5</span> : Partial movie file written in <span style=\"color: #008000; text-decoration-color: #008000\">'/home/ah/Dev </span>    <span style=\"color: #7f7f7f; text-decoration-color: #7f7f7f\">scene_file_writer.py:527</span>\n",
       "<span style=\"color: #7fbfbf; text-decoration-color: #7fbfbf\">                    </span>         <span style=\"color: #008000; text-decoration-color: #008000\">Tools/Manim/NJS/Week2 Videos/media/videos/Week2 </span>              <span style=\"color: #7f7f7f; text-decoration-color: #7f7f7f\">                        </span>\n",
       "<span style=\"color: #7fbfbf; text-decoration-color: #7fbfbf\">                    </span>         <span style=\"color: #008000; text-decoration-color: #008000\">Videos/1080p60/partial_movie_files/slide1/3040924799_25955405</span> <span style=\"color: #7f7f7f; text-decoration-color: #7f7f7f\">                        </span>\n",
       "<span style=\"color: #7fbfbf; text-decoration-color: #7fbfbf\">                    </span>         <span style=\"color: #008000; text-decoration-color: #008000\">46_2565909337.mp4'</span>                                            <span style=\"color: #7f7f7f; text-decoration-color: #7f7f7f\">                        </span>\n",
       "</pre>\n"
      ],
      "text/plain": [
       "\u001b[2;36m[07/03/24 10:35:25]\u001b[0m\u001b[2;36m \u001b[0m\u001b[32mINFO    \u001b[0m Animation \u001b[32m5\u001b[0m : Partial movie file written in \u001b[32m'/home/ah/Dev \u001b[0m    \u001b[2mscene_file_writer.py\u001b[0m\u001b[2m:\u001b[0m\u001b[2m527\u001b[0m\n",
       "\u001b[2;36m                    \u001b[0m         \u001b[32mTools/Manim/NJS/Week2 Videos/media/videos/Week2 \u001b[0m              \u001b[2m                        \u001b[0m\n",
       "\u001b[2;36m                    \u001b[0m         \u001b[32mVideos/1080p60/partial_movie_files/slide1/3040924799_25955405\u001b[0m \u001b[2m                        \u001b[0m\n",
       "\u001b[2;36m                    \u001b[0m         \u001b[32m46_2565909337.mp4'\u001b[0m                                            \u001b[2m                        \u001b[0m\n"
      ]
     },
     "metadata": {},
     "output_type": "display_data"
    },
    {
     "name": "stderr",
     "output_type": "stream",
     "text": [
      "                                                                           \r"
     ]
    },
    {
     "data": {
      "text/html": [
       "<pre style=\"white-space:pre;overflow-x:auto;line-height:normal;font-family:Menlo,'DejaVu Sans Mono',consolas,'Courier New',monospace\"><span style=\"color: #7fbfbf; text-decoration-color: #7fbfbf\">[07/03/24 10:35:31] </span><span style=\"color: #008000; text-decoration-color: #008000\">INFO    </span> Animation <span style=\"color: #008000; text-decoration-color: #008000\">6</span> : Partial movie file written in <span style=\"color: #008000; text-decoration-color: #008000\">'/home/ah/Dev </span>    <span style=\"color: #7f7f7f; text-decoration-color: #7f7f7f\">scene_file_writer.py:527</span>\n",
       "<span style=\"color: #7fbfbf; text-decoration-color: #7fbfbf\">                    </span>         <span style=\"color: #008000; text-decoration-color: #008000\">Tools/Manim/NJS/Week2 Videos/media/videos/Week2 </span>              <span style=\"color: #7f7f7f; text-decoration-color: #7f7f7f\">                        </span>\n",
       "<span style=\"color: #7fbfbf; text-decoration-color: #7fbfbf\">                    </span>         <span style=\"color: #008000; text-decoration-color: #008000\">Videos/1080p60/partial_movie_files/slide1/3040924799_40321866</span> <span style=\"color: #7f7f7f; text-decoration-color: #7f7f7f\">                        </span>\n",
       "<span style=\"color: #7fbfbf; text-decoration-color: #7fbfbf\">                    </span>         <span style=\"color: #008000; text-decoration-color: #008000\">38_657530825.mp4'</span>                                             <span style=\"color: #7f7f7f; text-decoration-color: #7f7f7f\">                        </span>\n",
       "</pre>\n"
      ],
      "text/plain": [
       "\u001b[2;36m[07/03/24 10:35:31]\u001b[0m\u001b[2;36m \u001b[0m\u001b[32mINFO    \u001b[0m Animation \u001b[32m6\u001b[0m : Partial movie file written in \u001b[32m'/home/ah/Dev \u001b[0m    \u001b[2mscene_file_writer.py\u001b[0m\u001b[2m:\u001b[0m\u001b[2m527\u001b[0m\n",
       "\u001b[2;36m                    \u001b[0m         \u001b[32mTools/Manim/NJS/Week2 Videos/media/videos/Week2 \u001b[0m              \u001b[2m                        \u001b[0m\n",
       "\u001b[2;36m                    \u001b[0m         \u001b[32mVideos/1080p60/partial_movie_files/slide1/3040924799_40321866\u001b[0m \u001b[2m                        \u001b[0m\n",
       "\u001b[2;36m                    \u001b[0m         \u001b[32m38_657530825.mp4'\u001b[0m                                             \u001b[2m                        \u001b[0m\n"
      ]
     },
     "metadata": {},
     "output_type": "display_data"
    },
    {
     "name": "stderr",
     "output_type": "stream",
     "text": [
      "                                                                                                \r"
     ]
    },
    {
     "data": {
      "text/html": [
       "<pre style=\"white-space:pre;overflow-x:auto;line-height:normal;font-family:Menlo,'DejaVu Sans Mono',consolas,'Courier New',monospace\"><span style=\"color: #7fbfbf; text-decoration-color: #7fbfbf\">[07/03/24 10:35:37] </span><span style=\"color: #008000; text-decoration-color: #008000\">INFO    </span> Animation <span style=\"color: #008000; text-decoration-color: #008000\">7</span> : Partial movie file written in <span style=\"color: #008000; text-decoration-color: #008000\">'/home/ah/Dev </span>    <span style=\"color: #7f7f7f; text-decoration-color: #7f7f7f\">scene_file_writer.py:527</span>\n",
       "<span style=\"color: #7fbfbf; text-decoration-color: #7fbfbf\">                    </span>         <span style=\"color: #008000; text-decoration-color: #008000\">Tools/Manim/NJS/Week2 Videos/media/videos/Week2 </span>              <span style=\"color: #7f7f7f; text-decoration-color: #7f7f7f\">                        </span>\n",
       "<span style=\"color: #7fbfbf; text-decoration-color: #7fbfbf\">                    </span>         <span style=\"color: #008000; text-decoration-color: #008000\">Videos/1080p60/partial_movie_files/slide1/3040924799_61161521</span> <span style=\"color: #7f7f7f; text-decoration-color: #7f7f7f\">                        </span>\n",
       "<span style=\"color: #7fbfbf; text-decoration-color: #7fbfbf\">                    </span>         <span style=\"color: #008000; text-decoration-color: #008000\">3_1392670455.mp4'</span>                                             <span style=\"color: #7f7f7f; text-decoration-color: #7f7f7f\">                        </span>\n",
       "</pre>\n"
      ],
      "text/plain": [
       "\u001b[2;36m[07/03/24 10:35:37]\u001b[0m\u001b[2;36m \u001b[0m\u001b[32mINFO    \u001b[0m Animation \u001b[32m7\u001b[0m : Partial movie file written in \u001b[32m'/home/ah/Dev \u001b[0m    \u001b[2mscene_file_writer.py\u001b[0m\u001b[2m:\u001b[0m\u001b[2m527\u001b[0m\n",
       "\u001b[2;36m                    \u001b[0m         \u001b[32mTools/Manim/NJS/Week2 Videos/media/videos/Week2 \u001b[0m              \u001b[2m                        \u001b[0m\n",
       "\u001b[2;36m                    \u001b[0m         \u001b[32mVideos/1080p60/partial_movie_files/slide1/3040924799_61161521\u001b[0m \u001b[2m                        \u001b[0m\n",
       "\u001b[2;36m                    \u001b[0m         \u001b[32m3_1392670455.mp4'\u001b[0m                                             \u001b[2m                        \u001b[0m\n"
      ]
     },
     "metadata": {},
     "output_type": "display_data"
    },
    {
     "name": "stderr",
     "output_type": "stream",
     "text": [
      "                                                                                              \r"
     ]
    },
    {
     "data": {
      "text/html": [
       "<pre style=\"white-space:pre;overflow-x:auto;line-height:normal;font-family:Menlo,'DejaVu Sans Mono',consolas,'Courier New',monospace\"><span style=\"color: #7fbfbf; text-decoration-color: #7fbfbf\">[07/03/24 10:35:45] </span><span style=\"color: #008000; text-decoration-color: #008000\">INFO    </span> Animation <span style=\"color: #008000; text-decoration-color: #008000\">8</span> : Partial movie file written in <span style=\"color: #008000; text-decoration-color: #008000\">'/home/ah/Dev </span>    <span style=\"color: #7f7f7f; text-decoration-color: #7f7f7f\">scene_file_writer.py:527</span>\n",
       "<span style=\"color: #7fbfbf; text-decoration-color: #7fbfbf\">                    </span>         <span style=\"color: #008000; text-decoration-color: #008000\">Tools/Manim/NJS/Week2 Videos/media/videos/Week2 </span>              <span style=\"color: #7f7f7f; text-decoration-color: #7f7f7f\">                        </span>\n",
       "<span style=\"color: #7fbfbf; text-decoration-color: #7fbfbf\">                    </span>         <span style=\"color: #008000; text-decoration-color: #008000\">Videos/1080p60/partial_movie_files/slide1/3040924799_65691815</span> <span style=\"color: #7f7f7f; text-decoration-color: #7f7f7f\">                        </span>\n",
       "<span style=\"color: #7fbfbf; text-decoration-color: #7fbfbf\">                    </span>         <span style=\"color: #008000; text-decoration-color: #008000\">9_1495002005.mp4'</span>                                             <span style=\"color: #7f7f7f; text-decoration-color: #7f7f7f\">                        </span>\n",
       "</pre>\n"
      ],
      "text/plain": [
       "\u001b[2;36m[07/03/24 10:35:45]\u001b[0m\u001b[2;36m \u001b[0m\u001b[32mINFO    \u001b[0m Animation \u001b[32m8\u001b[0m : Partial movie file written in \u001b[32m'/home/ah/Dev \u001b[0m    \u001b[2mscene_file_writer.py\u001b[0m\u001b[2m:\u001b[0m\u001b[2m527\u001b[0m\n",
       "\u001b[2;36m                    \u001b[0m         \u001b[32mTools/Manim/NJS/Week2 Videos/media/videos/Week2 \u001b[0m              \u001b[2m                        \u001b[0m\n",
       "\u001b[2;36m                    \u001b[0m         \u001b[32mVideos/1080p60/partial_movie_files/slide1/3040924799_65691815\u001b[0m \u001b[2m                        \u001b[0m\n",
       "\u001b[2;36m                    \u001b[0m         \u001b[32m9_1495002005.mp4'\u001b[0m                                             \u001b[2m                        \u001b[0m\n"
      ]
     },
     "metadata": {},
     "output_type": "display_data"
    },
    {
     "name": "stderr",
     "output_type": "stream",
     "text": [
      "                                                                                                                                                            \r"
     ]
    },
    {
     "data": {
      "text/html": [
       "<pre style=\"white-space:pre;overflow-x:auto;line-height:normal;font-family:Menlo,'DejaVu Sans Mono',consolas,'Courier New',monospace\"><span style=\"color: #7fbfbf; text-decoration-color: #7fbfbf\">[07/03/24 10:36:03] </span><span style=\"color: #008000; text-decoration-color: #008000\">INFO    </span> Animation <span style=\"color: #008000; text-decoration-color: #008000\">9</span> : Partial movie file written in <span style=\"color: #008000; text-decoration-color: #008000\">'/home/ah/Dev </span>    <span style=\"color: #7f7f7f; text-decoration-color: #7f7f7f\">scene_file_writer.py:527</span>\n",
       "<span style=\"color: #7fbfbf; text-decoration-color: #7fbfbf\">                    </span>         <span style=\"color: #008000; text-decoration-color: #008000\">Tools/Manim/NJS/Week2 Videos/media/videos/Week2 </span>              <span style=\"color: #7f7f7f; text-decoration-color: #7f7f7f\">                        </span>\n",
       "<span style=\"color: #7fbfbf; text-decoration-color: #7fbfbf\">                    </span>         <span style=\"color: #008000; text-decoration-color: #008000\">Videos/1080p60/partial_movie_files/slide1/3040924799_18060239</span> <span style=\"color: #7f7f7f; text-decoration-color: #7f7f7f\">                        </span>\n",
       "<span style=\"color: #7fbfbf; text-decoration-color: #7fbfbf\">                    </span>         <span style=\"color: #008000; text-decoration-color: #008000\">7_3802005302.mp4'</span>                                             <span style=\"color: #7f7f7f; text-decoration-color: #7f7f7f\">                        </span>\n",
       "</pre>\n"
      ],
      "text/plain": [
       "\u001b[2;36m[07/03/24 10:36:03]\u001b[0m\u001b[2;36m \u001b[0m\u001b[32mINFO    \u001b[0m Animation \u001b[32m9\u001b[0m : Partial movie file written in \u001b[32m'/home/ah/Dev \u001b[0m    \u001b[2mscene_file_writer.py\u001b[0m\u001b[2m:\u001b[0m\u001b[2m527\u001b[0m\n",
       "\u001b[2;36m                    \u001b[0m         \u001b[32mTools/Manim/NJS/Week2 Videos/media/videos/Week2 \u001b[0m              \u001b[2m                        \u001b[0m\n",
       "\u001b[2;36m                    \u001b[0m         \u001b[32mVideos/1080p60/partial_movie_files/slide1/3040924799_18060239\u001b[0m \u001b[2m                        \u001b[0m\n",
       "\u001b[2;36m                    \u001b[0m         \u001b[32m7_3802005302.mp4'\u001b[0m                                             \u001b[2m                        \u001b[0m\n"
      ]
     },
     "metadata": {},
     "output_type": "display_data"
    },
    {
     "data": {
      "text/html": [
       "<pre style=\"white-space:pre;overflow-x:auto;line-height:normal;font-family:Menlo,'DejaVu Sans Mono',consolas,'Courier New',monospace\"><span style=\"color: #7fbfbf; text-decoration-color: #7fbfbf\">                    </span><span style=\"color: #008000; text-decoration-color: #008000\">INFO    </span> Combining to Movie file.                                      <span style=\"color: #7f7f7f; text-decoration-color: #7f7f7f\">scene_file_writer.py:617</span>\n",
       "</pre>\n"
      ],
      "text/plain": [
       "\u001b[2;36m                   \u001b[0m\u001b[2;36m \u001b[0m\u001b[32mINFO    \u001b[0m Combining to Movie file.                                      \u001b[2mscene_file_writer.py\u001b[0m\u001b[2m:\u001b[0m\u001b[2m617\u001b[0m\n"
      ]
     },
     "metadata": {},
     "output_type": "display_data"
    },
    {
     "data": {
      "text/html": [
       "<pre style=\"white-space:pre;overflow-x:auto;line-height:normal;font-family:Menlo,'DejaVu Sans Mono',consolas,'Courier New',monospace\"><span style=\"color: #7fbfbf; text-decoration-color: #7fbfbf\">[07/03/24 10:36:04] </span><span style=\"color: #008000; text-decoration-color: #008000\">INFO    </span>                                                               <span style=\"color: #7f7f7f; text-decoration-color: #7f7f7f\">scene_file_writer.py:737</span>\n",
       "<span style=\"color: #7fbfbf; text-decoration-color: #7fbfbf\">                    </span>         <span style=\"color: #808000; text-decoration-color: #808000; font-weight: bold\">File</span> ready at <span style=\"color: #008000; text-decoration-color: #008000\">'/home/ah/Dev Tools/Manim/NJS/Week2 </span>            <span style=\"color: #7f7f7f; text-decoration-color: #7f7f7f\">                        </span>\n",
       "<span style=\"color: #7fbfbf; text-decoration-color: #7fbfbf\">                    </span>         <span style=\"color: #008000; text-decoration-color: #008000\">Videos/media/videos/Week2 Videos/1080p60/slide1.mp4'</span>          <span style=\"color: #7f7f7f; text-decoration-color: #7f7f7f\">                        </span>\n",
       "<span style=\"color: #7fbfbf; text-decoration-color: #7fbfbf\">                    </span>                                                                       <span style=\"color: #7f7f7f; text-decoration-color: #7f7f7f\">                        </span>\n",
       "</pre>\n"
      ],
      "text/plain": [
       "\u001b[2;36m[07/03/24 10:36:04]\u001b[0m\u001b[2;36m \u001b[0m\u001b[32mINFO    \u001b[0m                                                               \u001b[2mscene_file_writer.py\u001b[0m\u001b[2m:\u001b[0m\u001b[2m737\u001b[0m\n",
       "\u001b[2;36m                    \u001b[0m         \u001b[1;33mFile\u001b[0m ready at \u001b[32m'/home/ah/Dev Tools/Manim/NJS/Week2 \u001b[0m            \u001b[2m                        \u001b[0m\n",
       "\u001b[2;36m                    \u001b[0m         \u001b[32mVideos/media/videos/Week2 Videos/1080p60/slide1.mp4'\u001b[0m          \u001b[2m                        \u001b[0m\n",
       "\u001b[2;36m                    \u001b[0m                                                                       \u001b[2m                        \u001b[0m\n"
      ]
     },
     "metadata": {},
     "output_type": "display_data"
    },
    {
     "data": {
      "text/html": [
       "<pre style=\"white-space:pre;overflow-x:auto;line-height:normal;font-family:Menlo,'DejaVu Sans Mono',consolas,'Courier New',monospace\"><span style=\"color: #7fbfbf; text-decoration-color: #7fbfbf\">                    </span><span style=\"color: #008000; text-decoration-color: #008000\">INFO    </span> <span style=\"color: #808000; text-decoration-color: #808000; font-weight: bold\">Rendered</span> slide1                                                           <span style=\"color: #7f7f7f; text-decoration-color: #7f7f7f\">scene.py:247</span>\n",
       "<span style=\"color: #7fbfbf; text-decoration-color: #7fbfbf\">                    </span>         <span style=\"color: #808000; text-decoration-color: #808000; font-weight: bold\">Played</span> <span style=\"color: #008000; text-decoration-color: #008000\">10</span> <span style=\"color: #808000; text-decoration-color: #808000; font-weight: bold\">animations</span>                                                      <span style=\"color: #7f7f7f; text-decoration-color: #7f7f7f\">            </span>\n",
       "</pre>\n"
      ],
      "text/plain": [
       "\u001b[2;36m                   \u001b[0m\u001b[2;36m \u001b[0m\u001b[32mINFO    \u001b[0m \u001b[1;33mRendered\u001b[0m slide1                                                           \u001b[2mscene.py\u001b[0m\u001b[2m:\u001b[0m\u001b[2m247\u001b[0m\n",
       "\u001b[2;36m                    \u001b[0m         \u001b[1;33mPlayed\u001b[0m \u001b[32m10\u001b[0m \u001b[1;33manimations\u001b[0m                                                      \u001b[2m            \u001b[0m\n"
      ]
     },
     "metadata": {},
     "output_type": "display_data"
    },
    {
     "data": {
      "text/html": [
       "<video src=\"media/jupyter/slide1@2024-07-03@10-36-04.mp4\" controls autoplay loop style=\"max-width: 60%;\"  >\n",
       "      Your browser does not support the <code>video</code> element.\n",
       "    </video>"
      ],
      "text/plain": [
       "<IPython.core.display.Video object>"
      ]
     },
     "metadata": {},
     "output_type": "display_data"
    }
   ],
   "source": [
    "from manim import *\n",
    "\n",
    "class slide1(Scene):\n",
    "    def construct(self):\n",
    "        grid = NumberPlane()\n",
    "        center_point = Dot(grid.get_center(), color=RED)\n",
    "        # self.add(grid, center_point)\n",
    "\n",
    "        x_shift = 1.45\n",
    "        title = Text(\"Our Journey Starts ...\").shift(UP*2.5)\n",
    "        subTitle1 = Text(\"URL\").shift(LEFT*6 + RIGHT * x_shift).scale(0.7).set_color(ORANGE)\n",
    "        subTitle2 = Text(\"Browser\\nClient\").shift(LEFT*3 + RIGHT * x_shift).scale(0.7).set_color(YELLOW)\n",
    "        subTitle3 = Text(\"Request\").shift(0 + RIGHT * x_shift).scale(0.7).set_color(ORANGE)\n",
    "        subTitle4 = Text(\"Server\").shift(RIGHT*2.75 + RIGHT * x_shift).scale(0.7).set_color(YELLOW)\n",
    "        bottom_line = Text(\"          This Process is called\\nHTTP Request Resopnse Model\"\n",
    "                           ).shift(DOWN*2.5).scale(0.7).set_color(RED)\n",
    "\n",
    "        \n",
    "        arrow1 = Arrow(LEFT * 5 + RIGHT * x_shift, LEFT * 4 + RIGHT * x_shift)\n",
    "        arrow2 = Arrow(LEFT * 2 + RIGHT * x_shift, LEFT * 1 + RIGHT * x_shift)      \n",
    "        arrow3 = Arrow(RIGHT * 1 + RIGHT * x_shift, RIGHT * 2 + RIGHT * x_shift)\n",
    "\n",
    "        # Surrounding rectangles with grey fill at 0.5 opacity\n",
    "        rect2 = SurroundingRectangle(subTitle2, color=WHITE, fill_color=GREY, fill_opacity=0.5)\n",
    "        rect4 = SurroundingRectangle(subTitle4, color=WHITE, fill_color=GREY, fill_opacity=0.5)\n",
    "\n",
    "        self.play(Write(title), run_time=0.75)\n",
    "        self.play(Write(subTitle1), run_time=0.75)\n",
    "        self.play(Create(arrow1))\n",
    "        self.play(Create(rect2), Write(subTitle2), run_time=0.75)\n",
    "        self.play(Create(arrow2))\n",
    "        self.play(Write(subTitle3), run_time=0.75)\n",
    "        self.play(Create(arrow3))\n",
    "        self.play(Create(rect4), Write(subTitle4), run_time=0.75)\n",
    "\n",
    "        # Transform subtitle3 and arrow3 at the same time\n",
    "        new_subTitle3 = Text(\"Response\").move_to(subTitle3).scale(0.7).set_color(BLUE)\n",
    "        new_arrow3 = Arrow(RIGHT * 2 + RIGHT * x_shift, RIGHT * 1 + RIGHT * x_shift)\n",
    "        new_arrow2 = Arrow(LEFT * 1 + RIGHT * x_shift, LEFT * 2 + RIGHT * x_shift)\n",
    "\n",
    "        self.play(Transform(subTitle3, new_subTitle3), Transform(arrow2, new_arrow2), Transform(arrow3, new_arrow3), run_time=1)\n",
    "        self.play(AddTextLetterByLetter(bottom_line), run_time = 2)\n",
    "\n",
    "# %manim -ql -v Warning --save_last_frame slide1\n",
    "# %manim -ql -v Warning slide1\n",
    "%manim -qh slide1\n"
   ]
  },
  {
   "cell_type": "code",
   "execution_count": 2,
   "metadata": {},
   "outputs": [
    {
     "data": {
      "text/html": [
       "<pre style=\"white-space:pre;overflow-x:auto;line-height:normal;font-family:Menlo,'DejaVu Sans Mono',consolas,'Courier New',monospace\">Manim Community <span style=\"color: #008000; text-decoration-color: #008000\">v0.18.1</span>\n",
       "\n",
       "</pre>\n"
      ],
      "text/plain": [
       "Manim Community \u001b[32mv0.\u001b[0m\u001b[32m18.1\u001b[0m\n",
       "\n"
      ]
     },
     "metadata": {},
     "output_type": "display_data"
    },
    {
     "name": "stderr",
     "output_type": "stream",
     "text": [
      "                                                                                                            \r"
     ]
    },
    {
     "data": {
      "text/html": [
       "<pre style=\"white-space:pre;overflow-x:auto;line-height:normal;font-family:Menlo,'DejaVu Sans Mono',consolas,'Courier New',monospace\"><span style=\"color: #7fbfbf; text-decoration-color: #7fbfbf\">[07/03/24 10:36:28] </span><span style=\"color: #008000; text-decoration-color: #008000\">INFO    </span> Animation <span style=\"color: #008000; text-decoration-color: #008000\">0</span> : Partial movie file written in <span style=\"color: #008000; text-decoration-color: #008000\">'/home/ah/Dev </span>    <span style=\"color: #7f7f7f; text-decoration-color: #7f7f7f\">scene_file_writer.py:527</span>\n",
       "<span style=\"color: #7fbfbf; text-decoration-color: #7fbfbf\">                    </span>         <span style=\"color: #008000; text-decoration-color: #008000\">Tools/Manim/NJS/Week2 Videos/media/videos/Week2 </span>              <span style=\"color: #7f7f7f; text-decoration-color: #7f7f7f\">                        </span>\n",
       "<span style=\"color: #7fbfbf; text-decoration-color: #7fbfbf\">                    </span>         <span style=\"color: #008000; text-decoration-color: #008000\">Videos/1080p60/partial_movie_files/slide2/3529212410_28170627</span> <span style=\"color: #7f7f7f; text-decoration-color: #7f7f7f\">                        </span>\n",
       "<span style=\"color: #7fbfbf; text-decoration-color: #7fbfbf\">                    </span>         <span style=\"color: #008000; text-decoration-color: #008000\">12_223132457.mp4'</span>                                             <span style=\"color: #7f7f7f; text-decoration-color: #7f7f7f\">                        </span>\n",
       "</pre>\n"
      ],
      "text/plain": [
       "\u001b[2;36m[07/03/24 10:36:28]\u001b[0m\u001b[2;36m \u001b[0m\u001b[32mINFO    \u001b[0m Animation \u001b[32m0\u001b[0m : Partial movie file written in \u001b[32m'/home/ah/Dev \u001b[0m    \u001b[2mscene_file_writer.py\u001b[0m\u001b[2m:\u001b[0m\u001b[2m527\u001b[0m\n",
       "\u001b[2;36m                    \u001b[0m         \u001b[32mTools/Manim/NJS/Week2 Videos/media/videos/Week2 \u001b[0m              \u001b[2m                        \u001b[0m\n",
       "\u001b[2;36m                    \u001b[0m         \u001b[32mVideos/1080p60/partial_movie_files/slide2/3529212410_28170627\u001b[0m \u001b[2m                        \u001b[0m\n",
       "\u001b[2;36m                    \u001b[0m         \u001b[32m12_223132457.mp4'\u001b[0m                                             \u001b[2m                        \u001b[0m\n"
      ]
     },
     "metadata": {},
     "output_type": "display_data"
    },
    {
     "name": "stderr",
     "output_type": "stream",
     "text": [
      "                                                                                          \r"
     ]
    },
    {
     "data": {
      "text/html": [
       "<pre style=\"white-space:pre;overflow-x:auto;line-height:normal;font-family:Menlo,'DejaVu Sans Mono',consolas,'Courier New',monospace\"><span style=\"color: #7fbfbf; text-decoration-color: #7fbfbf\">[07/03/24 10:36:35] </span><span style=\"color: #008000; text-decoration-color: #008000\">INFO    </span> Animation <span style=\"color: #008000; text-decoration-color: #008000\">1</span> : Partial movie file written in <span style=\"color: #008000; text-decoration-color: #008000\">'/home/ah/Dev </span>    <span style=\"color: #7f7f7f; text-decoration-color: #7f7f7f\">scene_file_writer.py:527</span>\n",
       "<span style=\"color: #7fbfbf; text-decoration-color: #7fbfbf\">                    </span>         <span style=\"color: #008000; text-decoration-color: #008000\">Tools/Manim/NJS/Week2 Videos/media/videos/Week2 </span>              <span style=\"color: #7f7f7f; text-decoration-color: #7f7f7f\">                        </span>\n",
       "<span style=\"color: #7fbfbf; text-decoration-color: #7fbfbf\">                    </span>         <span style=\"color: #008000; text-decoration-color: #008000\">Videos/1080p60/partial_movie_files/slide2/3040924799_22164893</span> <span style=\"color: #7f7f7f; text-decoration-color: #7f7f7f\">                        </span>\n",
       "<span style=\"color: #7fbfbf; text-decoration-color: #7fbfbf\">                    </span>         <span style=\"color: #008000; text-decoration-color: #008000\">8_3326974365.mp4'</span>                                             <span style=\"color: #7f7f7f; text-decoration-color: #7f7f7f\">                        </span>\n",
       "</pre>\n"
      ],
      "text/plain": [
       "\u001b[2;36m[07/03/24 10:36:35]\u001b[0m\u001b[2;36m \u001b[0m\u001b[32mINFO    \u001b[0m Animation \u001b[32m1\u001b[0m : Partial movie file written in \u001b[32m'/home/ah/Dev \u001b[0m    \u001b[2mscene_file_writer.py\u001b[0m\u001b[2m:\u001b[0m\u001b[2m527\u001b[0m\n",
       "\u001b[2;36m                    \u001b[0m         \u001b[32mTools/Manim/NJS/Week2 Videos/media/videos/Week2 \u001b[0m              \u001b[2m                        \u001b[0m\n",
       "\u001b[2;36m                    \u001b[0m         \u001b[32mVideos/1080p60/partial_movie_files/slide2/3040924799_22164893\u001b[0m \u001b[2m                        \u001b[0m\n",
       "\u001b[2;36m                    \u001b[0m         \u001b[32m8_3326974365.mp4'\u001b[0m                                             \u001b[2m                        \u001b[0m\n"
      ]
     },
     "metadata": {},
     "output_type": "display_data"
    },
    {
     "name": "stderr",
     "output_type": "stream",
     "text": [
      "                                                                                    \r"
     ]
    },
    {
     "data": {
      "text/html": [
       "<pre style=\"white-space:pre;overflow-x:auto;line-height:normal;font-family:Menlo,'DejaVu Sans Mono',consolas,'Courier New',monospace\"><span style=\"color: #7fbfbf; text-decoration-color: #7fbfbf\">[07/03/24 10:36:42] </span><span style=\"color: #008000; text-decoration-color: #008000\">INFO    </span> Animation <span style=\"color: #008000; text-decoration-color: #008000\">2</span> : Partial movie file written in <span style=\"color: #008000; text-decoration-color: #008000\">'/home/ah/Dev </span>    <span style=\"color: #7f7f7f; text-decoration-color: #7f7f7f\">scene_file_writer.py:527</span>\n",
       "<span style=\"color: #7fbfbf; text-decoration-color: #7fbfbf\">                    </span>         <span style=\"color: #008000; text-decoration-color: #008000\">Tools/Manim/NJS/Week2 Videos/media/videos/Week2 </span>              <span style=\"color: #7f7f7f; text-decoration-color: #7f7f7f\">                        </span>\n",
       "<span style=\"color: #7fbfbf; text-decoration-color: #7fbfbf\">                    </span>         <span style=\"color: #008000; text-decoration-color: #008000\">Videos/1080p60/partial_movie_files/slide2/3040924799_25566248</span> <span style=\"color: #7f7f7f; text-decoration-color: #7f7f7f\">                        </span>\n",
       "<span style=\"color: #7fbfbf; text-decoration-color: #7fbfbf\">                    </span>         <span style=\"color: #008000; text-decoration-color: #008000\">75_2992080399.mp4'</span>                                            <span style=\"color: #7f7f7f; text-decoration-color: #7f7f7f\">                        </span>\n",
       "</pre>\n"
      ],
      "text/plain": [
       "\u001b[2;36m[07/03/24 10:36:42]\u001b[0m\u001b[2;36m \u001b[0m\u001b[32mINFO    \u001b[0m Animation \u001b[32m2\u001b[0m : Partial movie file written in \u001b[32m'/home/ah/Dev \u001b[0m    \u001b[2mscene_file_writer.py\u001b[0m\u001b[2m:\u001b[0m\u001b[2m527\u001b[0m\n",
       "\u001b[2;36m                    \u001b[0m         \u001b[32mTools/Manim/NJS/Week2 Videos/media/videos/Week2 \u001b[0m              \u001b[2m                        \u001b[0m\n",
       "\u001b[2;36m                    \u001b[0m         \u001b[32mVideos/1080p60/partial_movie_files/slide2/3040924799_25566248\u001b[0m \u001b[2m                        \u001b[0m\n",
       "\u001b[2;36m                    \u001b[0m         \u001b[32m75_2992080399.mp4'\u001b[0m                                            \u001b[2m                        \u001b[0m\n"
      ]
     },
     "metadata": {},
     "output_type": "display_data"
    },
    {
     "name": "stderr",
     "output_type": "stream",
     "text": [
      "                                                                                             \r"
     ]
    },
    {
     "data": {
      "text/html": [
       "<pre style=\"white-space:pre;overflow-x:auto;line-height:normal;font-family:Menlo,'DejaVu Sans Mono',consolas,'Courier New',monospace\"><span style=\"color: #7fbfbf; text-decoration-color: #7fbfbf\">[07/03/24 10:36:49] </span><span style=\"color: #008000; text-decoration-color: #008000\">INFO    </span> Animation <span style=\"color: #008000; text-decoration-color: #008000\">3</span> : Partial movie file written in <span style=\"color: #008000; text-decoration-color: #008000\">'/home/ah/Dev </span>    <span style=\"color: #7f7f7f; text-decoration-color: #7f7f7f\">scene_file_writer.py:527</span>\n",
       "<span style=\"color: #7fbfbf; text-decoration-color: #7fbfbf\">                    </span>         <span style=\"color: #008000; text-decoration-color: #008000\">Tools/Manim/NJS/Week2 Videos/media/videos/Week2 </span>              <span style=\"color: #7f7f7f; text-decoration-color: #7f7f7f\">                        </span>\n",
       "<span style=\"color: #7fbfbf; text-decoration-color: #7fbfbf\">                    </span>         <span style=\"color: #008000; text-decoration-color: #008000\">Videos/1080p60/partial_movie_files/slide2/3040924799_18922241</span> <span style=\"color: #7f7f7f; text-decoration-color: #7f7f7f\">                        </span>\n",
       "<span style=\"color: #7fbfbf; text-decoration-color: #7fbfbf\">                    </span>         <span style=\"color: #008000; text-decoration-color: #008000\">88_3698201618.mp4'</span>                                            <span style=\"color: #7f7f7f; text-decoration-color: #7f7f7f\">                        </span>\n",
       "</pre>\n"
      ],
      "text/plain": [
       "\u001b[2;36m[07/03/24 10:36:49]\u001b[0m\u001b[2;36m \u001b[0m\u001b[32mINFO    \u001b[0m Animation \u001b[32m3\u001b[0m : Partial movie file written in \u001b[32m'/home/ah/Dev \u001b[0m    \u001b[2mscene_file_writer.py\u001b[0m\u001b[2m:\u001b[0m\u001b[2m527\u001b[0m\n",
       "\u001b[2;36m                    \u001b[0m         \u001b[32mTools/Manim/NJS/Week2 Videos/media/videos/Week2 \u001b[0m              \u001b[2m                        \u001b[0m\n",
       "\u001b[2;36m                    \u001b[0m         \u001b[32mVideos/1080p60/partial_movie_files/slide2/3040924799_18922241\u001b[0m \u001b[2m                        \u001b[0m\n",
       "\u001b[2;36m                    \u001b[0m         \u001b[32m88_3698201618.mp4'\u001b[0m                                            \u001b[2m                        \u001b[0m\n"
      ]
     },
     "metadata": {},
     "output_type": "display_data"
    },
    {
     "name": "stderr",
     "output_type": "stream",
     "text": [
      "                                                                                         \r"
     ]
    },
    {
     "data": {
      "text/html": [
       "<pre style=\"white-space:pre;overflow-x:auto;line-height:normal;font-family:Menlo,'DejaVu Sans Mono',consolas,'Courier New',monospace\"><span style=\"color: #7fbfbf; text-decoration-color: #7fbfbf\">[07/03/24 10:36:56] </span><span style=\"color: #008000; text-decoration-color: #008000\">INFO    </span> Animation <span style=\"color: #008000; text-decoration-color: #008000\">4</span> : Partial movie file written in <span style=\"color: #008000; text-decoration-color: #008000\">'/home/ah/Dev </span>    <span style=\"color: #7f7f7f; text-decoration-color: #7f7f7f\">scene_file_writer.py:527</span>\n",
       "<span style=\"color: #7fbfbf; text-decoration-color: #7fbfbf\">                    </span>         <span style=\"color: #008000; text-decoration-color: #008000\">Tools/Manim/NJS/Week2 Videos/media/videos/Week2 </span>              <span style=\"color: #7f7f7f; text-decoration-color: #7f7f7f\">                        </span>\n",
       "<span style=\"color: #7fbfbf; text-decoration-color: #7fbfbf\">                    </span>         <span style=\"color: #008000; text-decoration-color: #008000\">Videos/1080p60/partial_movie_files/slide2/3040924799_59981938</span> <span style=\"color: #7f7f7f; text-decoration-color: #7f7f7f\">                        </span>\n",
       "<span style=\"color: #7fbfbf; text-decoration-color: #7fbfbf\">                    </span>         <span style=\"color: #008000; text-decoration-color: #008000\">9_2583183930.mp4'</span>                                             <span style=\"color: #7f7f7f; text-decoration-color: #7f7f7f\">                        </span>\n",
       "</pre>\n"
      ],
      "text/plain": [
       "\u001b[2;36m[07/03/24 10:36:56]\u001b[0m\u001b[2;36m \u001b[0m\u001b[32mINFO    \u001b[0m Animation \u001b[32m4\u001b[0m : Partial movie file written in \u001b[32m'/home/ah/Dev \u001b[0m    \u001b[2mscene_file_writer.py\u001b[0m\u001b[2m:\u001b[0m\u001b[2m527\u001b[0m\n",
       "\u001b[2;36m                    \u001b[0m         \u001b[32mTools/Manim/NJS/Week2 Videos/media/videos/Week2 \u001b[0m              \u001b[2m                        \u001b[0m\n",
       "\u001b[2;36m                    \u001b[0m         \u001b[32mVideos/1080p60/partial_movie_files/slide2/3040924799_59981938\u001b[0m \u001b[2m                        \u001b[0m\n",
       "\u001b[2;36m                    \u001b[0m         \u001b[32m9_2583183930.mp4'\u001b[0m                                             \u001b[2m                        \u001b[0m\n"
      ]
     },
     "metadata": {},
     "output_type": "display_data"
    },
    {
     "name": "stderr",
     "output_type": "stream",
     "text": [
      "                                                                                             \r"
     ]
    },
    {
     "data": {
      "text/html": [
       "<pre style=\"white-space:pre;overflow-x:auto;line-height:normal;font-family:Menlo,'DejaVu Sans Mono',consolas,'Courier New',monospace\"><span style=\"color: #7fbfbf; text-decoration-color: #7fbfbf\">[07/03/24 10:37:03] </span><span style=\"color: #008000; text-decoration-color: #008000\">INFO    </span> Animation <span style=\"color: #008000; text-decoration-color: #008000\">5</span> : Partial movie file written in <span style=\"color: #008000; text-decoration-color: #008000\">'/home/ah/Dev </span>    <span style=\"color: #7f7f7f; text-decoration-color: #7f7f7f\">scene_file_writer.py:527</span>\n",
       "<span style=\"color: #7fbfbf; text-decoration-color: #7fbfbf\">                    </span>         <span style=\"color: #008000; text-decoration-color: #008000\">Tools/Manim/NJS/Week2 Videos/media/videos/Week2 </span>              <span style=\"color: #7f7f7f; text-decoration-color: #7f7f7f\">                        </span>\n",
       "<span style=\"color: #7fbfbf; text-decoration-color: #7fbfbf\">                    </span>         <span style=\"color: #008000; text-decoration-color: #008000\">Videos/1080p60/partial_movie_files/slide2/3040924799_31844206</span> <span style=\"color: #7f7f7f; text-decoration-color: #7f7f7f\">                        </span>\n",
       "<span style=\"color: #7fbfbf; text-decoration-color: #7fbfbf\">                    </span>         <span style=\"color: #008000; text-decoration-color: #008000\">97_4191302804.mp4'</span>                                            <span style=\"color: #7f7f7f; text-decoration-color: #7f7f7f\">                        </span>\n",
       "</pre>\n"
      ],
      "text/plain": [
       "\u001b[2;36m[07/03/24 10:37:03]\u001b[0m\u001b[2;36m \u001b[0m\u001b[32mINFO    \u001b[0m Animation \u001b[32m5\u001b[0m : Partial movie file written in \u001b[32m'/home/ah/Dev \u001b[0m    \u001b[2mscene_file_writer.py\u001b[0m\u001b[2m:\u001b[0m\u001b[2m527\u001b[0m\n",
       "\u001b[2;36m                    \u001b[0m         \u001b[32mTools/Manim/NJS/Week2 Videos/media/videos/Week2 \u001b[0m              \u001b[2m                        \u001b[0m\n",
       "\u001b[2;36m                    \u001b[0m         \u001b[32mVideos/1080p60/partial_movie_files/slide2/3040924799_31844206\u001b[0m \u001b[2m                        \u001b[0m\n",
       "\u001b[2;36m                    \u001b[0m         \u001b[32m97_4191302804.mp4'\u001b[0m                                            \u001b[2m                        \u001b[0m\n"
      ]
     },
     "metadata": {},
     "output_type": "display_data"
    },
    {
     "name": "stderr",
     "output_type": "stream",
     "text": [
      "                                                                                              \r"
     ]
    },
    {
     "data": {
      "text/html": [
       "<pre style=\"white-space:pre;overflow-x:auto;line-height:normal;font-family:Menlo,'DejaVu Sans Mono',consolas,'Courier New',monospace\"><span style=\"color: #7fbfbf; text-decoration-color: #7fbfbf\">[07/03/24 10:37:10] </span><span style=\"color: #008000; text-decoration-color: #008000\">INFO    </span> Animation <span style=\"color: #008000; text-decoration-color: #008000\">6</span> : Partial movie file written in <span style=\"color: #008000; text-decoration-color: #008000\">'/home/ah/Dev </span>    <span style=\"color: #7f7f7f; text-decoration-color: #7f7f7f\">scene_file_writer.py:527</span>\n",
       "<span style=\"color: #7fbfbf; text-decoration-color: #7fbfbf\">                    </span>         <span style=\"color: #008000; text-decoration-color: #008000\">Tools/Manim/NJS/Week2 Videos/media/videos/Week2 </span>              <span style=\"color: #7f7f7f; text-decoration-color: #7f7f7f\">                        </span>\n",
       "<span style=\"color: #7fbfbf; text-decoration-color: #7fbfbf\">                    </span>         <span style=\"color: #008000; text-decoration-color: #008000\">Videos/1080p60/partial_movie_files/slide2/3040924799_11366401</span> <span style=\"color: #7f7f7f; text-decoration-color: #7f7f7f\">                        </span>\n",
       "<span style=\"color: #7fbfbf; text-decoration-color: #7fbfbf\">                    </span>         <span style=\"color: #008000; text-decoration-color: #008000\">18_3334829970.mp4'</span>                                            <span style=\"color: #7f7f7f; text-decoration-color: #7f7f7f\">                        </span>\n",
       "</pre>\n"
      ],
      "text/plain": [
       "\u001b[2;36m[07/03/24 10:37:10]\u001b[0m\u001b[2;36m \u001b[0m\u001b[32mINFO    \u001b[0m Animation \u001b[32m6\u001b[0m : Partial movie file written in \u001b[32m'/home/ah/Dev \u001b[0m    \u001b[2mscene_file_writer.py\u001b[0m\u001b[2m:\u001b[0m\u001b[2m527\u001b[0m\n",
       "\u001b[2;36m                    \u001b[0m         \u001b[32mTools/Manim/NJS/Week2 Videos/media/videos/Week2 \u001b[0m              \u001b[2m                        \u001b[0m\n",
       "\u001b[2;36m                    \u001b[0m         \u001b[32mVideos/1080p60/partial_movie_files/slide2/3040924799_11366401\u001b[0m \u001b[2m                        \u001b[0m\n",
       "\u001b[2;36m                    \u001b[0m         \u001b[32m18_3334829970.mp4'\u001b[0m                                            \u001b[2m                        \u001b[0m\n"
      ]
     },
     "metadata": {},
     "output_type": "display_data"
    },
    {
     "name": "stderr",
     "output_type": "stream",
     "text": [
      "                                                                                             \r"
     ]
    },
    {
     "data": {
      "text/html": [
       "<pre style=\"white-space:pre;overflow-x:auto;line-height:normal;font-family:Menlo,'DejaVu Sans Mono',consolas,'Courier New',monospace\"><span style=\"color: #7fbfbf; text-decoration-color: #7fbfbf\">[07/03/24 10:37:18] </span><span style=\"color: #008000; text-decoration-color: #008000\">INFO    </span> Animation <span style=\"color: #008000; text-decoration-color: #008000\">7</span> : Partial movie file written in <span style=\"color: #008000; text-decoration-color: #008000\">'/home/ah/Dev </span>    <span style=\"color: #7f7f7f; text-decoration-color: #7f7f7f\">scene_file_writer.py:527</span>\n",
       "<span style=\"color: #7fbfbf; text-decoration-color: #7fbfbf\">                    </span>         <span style=\"color: #008000; text-decoration-color: #008000\">Tools/Manim/NJS/Week2 Videos/media/videos/Week2 </span>              <span style=\"color: #7f7f7f; text-decoration-color: #7f7f7f\">                        </span>\n",
       "<span style=\"color: #7fbfbf; text-decoration-color: #7fbfbf\">                    </span>         <span style=\"color: #008000; text-decoration-color: #008000\">Videos/1080p60/partial_movie_files/slide2/3040924799_42009442</span> <span style=\"color: #7f7f7f; text-decoration-color: #7f7f7f\">                        </span>\n",
       "<span style=\"color: #7fbfbf; text-decoration-color: #7fbfbf\">                    </span>         <span style=\"color: #008000; text-decoration-color: #008000\">57_1384830016.mp4'</span>                                            <span style=\"color: #7f7f7f; text-decoration-color: #7f7f7f\">                        </span>\n",
       "</pre>\n"
      ],
      "text/plain": [
       "\u001b[2;36m[07/03/24 10:37:18]\u001b[0m\u001b[2;36m \u001b[0m\u001b[32mINFO    \u001b[0m Animation \u001b[32m7\u001b[0m : Partial movie file written in \u001b[32m'/home/ah/Dev \u001b[0m    \u001b[2mscene_file_writer.py\u001b[0m\u001b[2m:\u001b[0m\u001b[2m527\u001b[0m\n",
       "\u001b[2;36m                    \u001b[0m         \u001b[32mTools/Manim/NJS/Week2 Videos/media/videos/Week2 \u001b[0m              \u001b[2m                        \u001b[0m\n",
       "\u001b[2;36m                    \u001b[0m         \u001b[32mVideos/1080p60/partial_movie_files/slide2/3040924799_42009442\u001b[0m \u001b[2m                        \u001b[0m\n",
       "\u001b[2;36m                    \u001b[0m         \u001b[32m57_1384830016.mp4'\u001b[0m                                            \u001b[2m                        \u001b[0m\n"
      ]
     },
     "metadata": {},
     "output_type": "display_data"
    },
    {
     "name": "stderr",
     "output_type": "stream",
     "text": [
      "                                                                                            \r"
     ]
    },
    {
     "data": {
      "text/html": [
       "<pre style=\"white-space:pre;overflow-x:auto;line-height:normal;font-family:Menlo,'DejaVu Sans Mono',consolas,'Courier New',monospace\"><span style=\"color: #7fbfbf; text-decoration-color: #7fbfbf\">[07/03/24 10:37:25] </span><span style=\"color: #008000; text-decoration-color: #008000\">INFO    </span> Animation <span style=\"color: #008000; text-decoration-color: #008000\">8</span> : Partial movie file written in <span style=\"color: #008000; text-decoration-color: #008000\">'/home/ah/Dev </span>    <span style=\"color: #7f7f7f; text-decoration-color: #7f7f7f\">scene_file_writer.py:527</span>\n",
       "<span style=\"color: #7fbfbf; text-decoration-color: #7fbfbf\">                    </span>         <span style=\"color: #008000; text-decoration-color: #008000\">Tools/Manim/NJS/Week2 Videos/media/videos/Week2 </span>              <span style=\"color: #7f7f7f; text-decoration-color: #7f7f7f\">                        </span>\n",
       "<span style=\"color: #7fbfbf; text-decoration-color: #7fbfbf\">                    </span>         <span style=\"color: #008000; text-decoration-color: #008000\">Videos/1080p60/partial_movie_files/slide2/3040924799_21395386</span> <span style=\"color: #7f7f7f; text-decoration-color: #7f7f7f\">                        </span>\n",
       "<span style=\"color: #7fbfbf; text-decoration-color: #7fbfbf\">                    </span>         <span style=\"color: #008000; text-decoration-color: #008000\">76_173832444.mp4'</span>                                             <span style=\"color: #7f7f7f; text-decoration-color: #7f7f7f\">                        </span>\n",
       "</pre>\n"
      ],
      "text/plain": [
       "\u001b[2;36m[07/03/24 10:37:25]\u001b[0m\u001b[2;36m \u001b[0m\u001b[32mINFO    \u001b[0m Animation \u001b[32m8\u001b[0m : Partial movie file written in \u001b[32m'/home/ah/Dev \u001b[0m    \u001b[2mscene_file_writer.py\u001b[0m\u001b[2m:\u001b[0m\u001b[2m527\u001b[0m\n",
       "\u001b[2;36m                    \u001b[0m         \u001b[32mTools/Manim/NJS/Week2 Videos/media/videos/Week2 \u001b[0m              \u001b[2m                        \u001b[0m\n",
       "\u001b[2;36m                    \u001b[0m         \u001b[32mVideos/1080p60/partial_movie_files/slide2/3040924799_21395386\u001b[0m \u001b[2m                        \u001b[0m\n",
       "\u001b[2;36m                    \u001b[0m         \u001b[32m76_173832444.mp4'\u001b[0m                                             \u001b[2m                        \u001b[0m\n"
      ]
     },
     "metadata": {},
     "output_type": "display_data"
    },
    {
     "data": {
      "text/html": [
       "<pre style=\"white-space:pre;overflow-x:auto;line-height:normal;font-family:Menlo,'DejaVu Sans Mono',consolas,'Courier New',monospace\"><span style=\"color: #7fbfbf; text-decoration-color: #7fbfbf\">                    </span><span style=\"color: #008000; text-decoration-color: #008000\">INFO    </span> Combining to Movie file.                                      <span style=\"color: #7f7f7f; text-decoration-color: #7f7f7f\">scene_file_writer.py:617</span>\n",
       "</pre>\n"
      ],
      "text/plain": [
       "\u001b[2;36m                   \u001b[0m\u001b[2;36m \u001b[0m\u001b[32mINFO    \u001b[0m Combining to Movie file.                                      \u001b[2mscene_file_writer.py\u001b[0m\u001b[2m:\u001b[0m\u001b[2m617\u001b[0m\n"
      ]
     },
     "metadata": {},
     "output_type": "display_data"
    },
    {
     "data": {
      "text/html": [
       "<pre style=\"white-space:pre;overflow-x:auto;line-height:normal;font-family:Menlo,'DejaVu Sans Mono',consolas,'Courier New',monospace\"><span style=\"color: #7fbfbf; text-decoration-color: #7fbfbf\">                    </span><span style=\"color: #008000; text-decoration-color: #008000\">INFO    </span>                                                               <span style=\"color: #7f7f7f; text-decoration-color: #7f7f7f\">scene_file_writer.py:737</span>\n",
       "<span style=\"color: #7fbfbf; text-decoration-color: #7fbfbf\">                    </span>         <span style=\"color: #808000; text-decoration-color: #808000; font-weight: bold\">File</span> ready at <span style=\"color: #008000; text-decoration-color: #008000\">'/home/ah/Dev Tools/Manim/NJS/Week2 </span>            <span style=\"color: #7f7f7f; text-decoration-color: #7f7f7f\">                        </span>\n",
       "<span style=\"color: #7fbfbf; text-decoration-color: #7fbfbf\">                    </span>         <span style=\"color: #008000; text-decoration-color: #008000\">Videos/media/videos/Week2 Videos/1080p60/slide2.mp4'</span>          <span style=\"color: #7f7f7f; text-decoration-color: #7f7f7f\">                        </span>\n",
       "<span style=\"color: #7fbfbf; text-decoration-color: #7fbfbf\">                    </span>                                                                       <span style=\"color: #7f7f7f; text-decoration-color: #7f7f7f\">                        </span>\n",
       "</pre>\n"
      ],
      "text/plain": [
       "\u001b[2;36m                   \u001b[0m\u001b[2;36m \u001b[0m\u001b[32mINFO    \u001b[0m                                                               \u001b[2mscene_file_writer.py\u001b[0m\u001b[2m:\u001b[0m\u001b[2m737\u001b[0m\n",
       "\u001b[2;36m                    \u001b[0m         \u001b[1;33mFile\u001b[0m ready at \u001b[32m'/home/ah/Dev Tools/Manim/NJS/Week2 \u001b[0m            \u001b[2m                        \u001b[0m\n",
       "\u001b[2;36m                    \u001b[0m         \u001b[32mVideos/media/videos/Week2 Videos/1080p60/slide2.mp4'\u001b[0m          \u001b[2m                        \u001b[0m\n",
       "\u001b[2;36m                    \u001b[0m                                                                       \u001b[2m                        \u001b[0m\n"
      ]
     },
     "metadata": {},
     "output_type": "display_data"
    },
    {
     "data": {
      "text/html": [
       "<pre style=\"white-space:pre;overflow-x:auto;line-height:normal;font-family:Menlo,'DejaVu Sans Mono',consolas,'Courier New',monospace\"><span style=\"color: #7fbfbf; text-decoration-color: #7fbfbf\">                    </span><span style=\"color: #008000; text-decoration-color: #008000\">INFO    </span> <span style=\"color: #808000; text-decoration-color: #808000; font-weight: bold\">Rendered</span> slide2                                                           <span style=\"color: #7f7f7f; text-decoration-color: #7f7f7f\">scene.py:247</span>\n",
       "<span style=\"color: #7fbfbf; text-decoration-color: #7fbfbf\">                    </span>         <span style=\"color: #808000; text-decoration-color: #808000; font-weight: bold\">Played</span> <span style=\"color: #008000; text-decoration-color: #008000\">9</span> <span style=\"color: #808000; text-decoration-color: #808000; font-weight: bold\">animations</span>                                                       <span style=\"color: #7f7f7f; text-decoration-color: #7f7f7f\">            </span>\n",
       "</pre>\n"
      ],
      "text/plain": [
       "\u001b[2;36m                   \u001b[0m\u001b[2;36m \u001b[0m\u001b[32mINFO    \u001b[0m \u001b[1;33mRendered\u001b[0m slide2                                                           \u001b[2mscene.py\u001b[0m\u001b[2m:\u001b[0m\u001b[2m247\u001b[0m\n",
       "\u001b[2;36m                    \u001b[0m         \u001b[1;33mPlayed\u001b[0m \u001b[32m9\u001b[0m \u001b[1;33manimations\u001b[0m                                                       \u001b[2m            \u001b[0m\n"
      ]
     },
     "metadata": {},
     "output_type": "display_data"
    },
    {
     "data": {
      "text/html": [
       "<video src=\"media/jupyter/slide2@2024-07-03@10-37-25.mp4\" controls autoplay loop style=\"max-width: 60%;\"  >\n",
       "      Your browser does not support the <code>video</code> element.\n",
       "    </video>"
      ],
      "text/plain": [
       "<IPython.core.display.Video object>"
      ]
     },
     "metadata": {},
     "output_type": "display_data"
    }
   ],
   "source": [
    "from manim import *\n",
    "\n",
    "class slide2(Scene):\n",
    "    def construct(self):\n",
    "        url = Text(\"https:// gkc-online .com /my/\").shift(UP * 1)\n",
    "\n",
    "        self.play(Write(url))\n",
    "\n",
    "        scheme_part = url[:8]  # \"https://\"\n",
    "        domain_part = url[8:18]  # \"gkc-online\"\n",
    "        tld_part = url[18:22]  # \".com\"\n",
    "        path_part = url[22:]  # \"/my/\"\n",
    "\n",
    "        box_scheme = SurroundingRectangle(scheme_part, buff=0.1)\n",
    "        box_domain = SurroundingRectangle(domain_part, buff=0.1)\n",
    "        box_tld = SurroundingRectangle(tld_part, buff=0.1)\n",
    "        box_path = SurroundingRectangle(path_part, buff=0.1)\n",
    "\n",
    "        scheme_text = Text(\"Scheme\").scale(0.7).next_to(url, DOWN * 2).shift(LEFT * 5)\n",
    "        domain_text = Text(\"Domain Name\").scale(0.7).next_to(url, DOWN * 2).shift(LEFT * 2)\n",
    "        tld_text = Text(\"Top Level Domain\").scale(0.7).next_to(url, DOWN * 2).shift(LEFT * -2)\n",
    "        path_text = Text(\"Path\\nResource\").scale(0.7).next_to(url, DOWN * 2).shift(LEFT * -5.5)\n",
    "\n",
    "        self.play(Create(box_scheme))\n",
    "        self.play(FadeIn(scheme_text))\n",
    "\n",
    "        self.play(Transform(box_scheme, box_domain))\n",
    "        self.play(FadeIn(domain_text))\n",
    "\n",
    "        self.play(Transform(box_scheme, box_tld))\n",
    "        self.play(FadeIn(tld_text))\n",
    "\n",
    "        self.play(Transform(box_scheme, box_path))\n",
    "        self.play(FadeIn(path_text))\n",
    "\n",
    "# %manim -ql -v Warning --save_last_frame slide3\n",
    "# %manim -ql -v Warning slide3\n",
    "%manim -qh slide2\n"
   ]
  },
  {
   "cell_type": "code",
   "execution_count": 3,
   "metadata": {},
   "outputs": [
    {
     "data": {
      "text/html": [
       "<pre style=\"white-space:pre;overflow-x:auto;line-height:normal;font-family:Menlo,'DejaVu Sans Mono',consolas,'Courier New',monospace\">Manim Community <span style=\"color: #008000; text-decoration-color: #008000\">v0.18.1</span>\n",
       "\n",
       "</pre>\n"
      ],
      "text/plain": [
       "Manim Community \u001b[32mv0.\u001b[0m\u001b[32m18.1\u001b[0m\n",
       "\n"
      ]
     },
     "metadata": {},
     "output_type": "display_data"
    },
    {
     "name": "stderr",
     "output_type": "stream",
     "text": [
      "                                                                                                             \r"
     ]
    },
    {
     "data": {
      "text/html": [
       "<pre style=\"white-space:pre;overflow-x:auto;line-height:normal;font-family:Menlo,'DejaVu Sans Mono',consolas,'Courier New',monospace\"><span style=\"color: #7fbfbf; text-decoration-color: #7fbfbf\">[07/03/24 10:37:37] </span><span style=\"color: #008000; text-decoration-color: #008000\">INFO    </span> Animation <span style=\"color: #008000; text-decoration-color: #008000\">0</span> : Partial movie file written in <span style=\"color: #008000; text-decoration-color: #008000\">'/home/ah/Dev </span>    <span style=\"color: #7f7f7f; text-decoration-color: #7f7f7f\">scene_file_writer.py:527</span>\n",
       "<span style=\"color: #7fbfbf; text-decoration-color: #7fbfbf\">                    </span>         <span style=\"color: #008000; text-decoration-color: #008000\">Tools/Manim/NJS/Week2 Videos/media/videos/Week2 </span>              <span style=\"color: #7f7f7f; text-decoration-color: #7f7f7f\">                        </span>\n",
       "<span style=\"color: #7fbfbf; text-decoration-color: #7fbfbf\">                    </span>         <span style=\"color: #008000; text-decoration-color: #008000\">Videos/1080p60/partial_movie_files/slide3/3529212410_23874482</span> <span style=\"color: #7f7f7f; text-decoration-color: #7f7f7f\">                        </span>\n",
       "<span style=\"color: #7fbfbf; text-decoration-color: #7fbfbf\">                    </span>         <span style=\"color: #008000; text-decoration-color: #008000\">9_223132457.mp4'</span>                                              <span style=\"color: #7f7f7f; text-decoration-color: #7f7f7f\">                        </span>\n",
       "</pre>\n"
      ],
      "text/plain": [
       "\u001b[2;36m[07/03/24 10:37:37]\u001b[0m\u001b[2;36m \u001b[0m\u001b[32mINFO    \u001b[0m Animation \u001b[32m0\u001b[0m : Partial movie file written in \u001b[32m'/home/ah/Dev \u001b[0m    \u001b[2mscene_file_writer.py\u001b[0m\u001b[2m:\u001b[0m\u001b[2m527\u001b[0m\n",
       "\u001b[2;36m                    \u001b[0m         \u001b[32mTools/Manim/NJS/Week2 Videos/media/videos/Week2 \u001b[0m              \u001b[2m                        \u001b[0m\n",
       "\u001b[2;36m                    \u001b[0m         \u001b[32mVideos/1080p60/partial_movie_files/slide3/3529212410_23874482\u001b[0m \u001b[2m                        \u001b[0m\n",
       "\u001b[2;36m                    \u001b[0m         \u001b[32m9_223132457.mp4'\u001b[0m                                              \u001b[2m                        \u001b[0m\n"
      ]
     },
     "metadata": {},
     "output_type": "display_data"
    },
    {
     "name": "stderr",
     "output_type": "stream",
     "text": [
      "                                                                                                                                         \r"
     ]
    },
    {
     "data": {
      "text/html": [
       "<pre style=\"white-space:pre;overflow-x:auto;line-height:normal;font-family:Menlo,'DejaVu Sans Mono',consolas,'Courier New',monospace\"><span style=\"color: #7fbfbf; text-decoration-color: #7fbfbf\">[07/03/24 10:37:42] </span><span style=\"color: #008000; text-decoration-color: #008000\">INFO    </span> Animation <span style=\"color: #008000; text-decoration-color: #008000\">1</span> : Partial movie file written in <span style=\"color: #008000; text-decoration-color: #008000\">'/home/ah/Dev </span>    <span style=\"color: #7f7f7f; text-decoration-color: #7f7f7f\">scene_file_writer.py:527</span>\n",
       "<span style=\"color: #7fbfbf; text-decoration-color: #7fbfbf\">                    </span>         <span style=\"color: #008000; text-decoration-color: #008000\">Tools/Manim/NJS/Week2 Videos/media/videos/Week2 </span>              <span style=\"color: #7f7f7f; text-decoration-color: #7f7f7f\">                        </span>\n",
       "<span style=\"color: #7fbfbf; text-decoration-color: #7fbfbf\">                    </span>         <span style=\"color: #008000; text-decoration-color: #008000\">Videos/1080p60/partial_movie_files/slide3/3040924799_94798152</span> <span style=\"color: #7f7f7f; text-decoration-color: #7f7f7f\">                        </span>\n",
       "<span style=\"color: #7fbfbf; text-decoration-color: #7fbfbf\">                    </span>         <span style=\"color: #008000; text-decoration-color: #008000\">2_2534057127.mp4'</span>                                             <span style=\"color: #7f7f7f; text-decoration-color: #7f7f7f\">                        </span>\n",
       "</pre>\n"
      ],
      "text/plain": [
       "\u001b[2;36m[07/03/24 10:37:42]\u001b[0m\u001b[2;36m \u001b[0m\u001b[32mINFO    \u001b[0m Animation \u001b[32m1\u001b[0m : Partial movie file written in \u001b[32m'/home/ah/Dev \u001b[0m    \u001b[2mscene_file_writer.py\u001b[0m\u001b[2m:\u001b[0m\u001b[2m527\u001b[0m\n",
       "\u001b[2;36m                    \u001b[0m         \u001b[32mTools/Manim/NJS/Week2 Videos/media/videos/Week2 \u001b[0m              \u001b[2m                        \u001b[0m\n",
       "\u001b[2;36m                    \u001b[0m         \u001b[32mVideos/1080p60/partial_movie_files/slide3/3040924799_94798152\u001b[0m \u001b[2m                        \u001b[0m\n",
       "\u001b[2;36m                    \u001b[0m         \u001b[32m2_2534057127.mp4'\u001b[0m                                             \u001b[2m                        \u001b[0m\n"
      ]
     },
     "metadata": {},
     "output_type": "display_data"
    },
    {
     "name": "stderr",
     "output_type": "stream",
     "text": [
      "                                                                                \r"
     ]
    },
    {
     "data": {
      "text/html": [
       "<pre style=\"white-space:pre;overflow-x:auto;line-height:normal;font-family:Menlo,'DejaVu Sans Mono',consolas,'Courier New',monospace\"><span style=\"color: #7fbfbf; text-decoration-color: #7fbfbf\">[07/03/24 10:37:47] </span><span style=\"color: #008000; text-decoration-color: #008000\">INFO    </span> Animation <span style=\"color: #008000; text-decoration-color: #008000\">2</span> : Partial movie file written in <span style=\"color: #008000; text-decoration-color: #008000\">'/home/ah/Dev </span>    <span style=\"color: #7f7f7f; text-decoration-color: #7f7f7f\">scene_file_writer.py:527</span>\n",
       "<span style=\"color: #7fbfbf; text-decoration-color: #7fbfbf\">                    </span>         <span style=\"color: #008000; text-decoration-color: #008000\">Tools/Manim/NJS/Week2 Videos/media/videos/Week2 </span>              <span style=\"color: #7f7f7f; text-decoration-color: #7f7f7f\">                        </span>\n",
       "<span style=\"color: #7fbfbf; text-decoration-color: #7fbfbf\">                    </span>         <span style=\"color: #008000; text-decoration-color: #008000\">Videos/1080p60/partial_movie_files/slide3/3040924799_42131523</span> <span style=\"color: #7f7f7f; text-decoration-color: #7f7f7f\">                        </span>\n",
       "<span style=\"color: #7fbfbf; text-decoration-color: #7fbfbf\">                    </span>         <span style=\"color: #008000; text-decoration-color: #008000\">95_1577441305.mp4'</span>                                            <span style=\"color: #7f7f7f; text-decoration-color: #7f7f7f\">                        </span>\n",
       "</pre>\n"
      ],
      "text/plain": [
       "\u001b[2;36m[07/03/24 10:37:47]\u001b[0m\u001b[2;36m \u001b[0m\u001b[32mINFO    \u001b[0m Animation \u001b[32m2\u001b[0m : Partial movie file written in \u001b[32m'/home/ah/Dev \u001b[0m    \u001b[2mscene_file_writer.py\u001b[0m\u001b[2m:\u001b[0m\u001b[2m527\u001b[0m\n",
       "\u001b[2;36m                    \u001b[0m         \u001b[32mTools/Manim/NJS/Week2 Videos/media/videos/Week2 \u001b[0m              \u001b[2m                        \u001b[0m\n",
       "\u001b[2;36m                    \u001b[0m         \u001b[32mVideos/1080p60/partial_movie_files/slide3/3040924799_42131523\u001b[0m \u001b[2m                        \u001b[0m\n",
       "\u001b[2;36m                    \u001b[0m         \u001b[32m95_1577441305.mp4'\u001b[0m                                            \u001b[2m                        \u001b[0m\n"
      ]
     },
     "metadata": {},
     "output_type": "display_data"
    },
    {
     "name": "stderr",
     "output_type": "stream",
     "text": [
      "                                                                                           \r"
     ]
    },
    {
     "data": {
      "text/html": [
       "<pre style=\"white-space:pre;overflow-x:auto;line-height:normal;font-family:Menlo,'DejaVu Sans Mono',consolas,'Courier New',monospace\"><span style=\"color: #7fbfbf; text-decoration-color: #7fbfbf\">[07/03/24 10:37:49] </span><span style=\"color: #008000; text-decoration-color: #008000\">INFO    </span> Animation <span style=\"color: #008000; text-decoration-color: #008000\">3</span> : Partial movie file written in <span style=\"color: #008000; text-decoration-color: #008000\">'/home/ah/Dev </span>    <span style=\"color: #7f7f7f; text-decoration-color: #7f7f7f\">scene_file_writer.py:527</span>\n",
       "<span style=\"color: #7fbfbf; text-decoration-color: #7fbfbf\">                    </span>         <span style=\"color: #008000; text-decoration-color: #008000\">Tools/Manim/NJS/Week2 Videos/media/videos/Week2 </span>              <span style=\"color: #7f7f7f; text-decoration-color: #7f7f7f\">                        </span>\n",
       "<span style=\"color: #7fbfbf; text-decoration-color: #7fbfbf\">                    </span>         <span style=\"color: #008000; text-decoration-color: #008000\">Videos/1080p60/partial_movie_files/slide3/3040924799_38876091</span> <span style=\"color: #7f7f7f; text-decoration-color: #7f7f7f\">                        </span>\n",
       "<span style=\"color: #7fbfbf; text-decoration-color: #7fbfbf\">                    </span>         <span style=\"color: #008000; text-decoration-color: #008000\">51_2825702653.mp4'</span>                                            <span style=\"color: #7f7f7f; text-decoration-color: #7f7f7f\">                        </span>\n",
       "</pre>\n"
      ],
      "text/plain": [
       "\u001b[2;36m[07/03/24 10:37:49]\u001b[0m\u001b[2;36m \u001b[0m\u001b[32mINFO    \u001b[0m Animation \u001b[32m3\u001b[0m : Partial movie file written in \u001b[32m'/home/ah/Dev \u001b[0m    \u001b[2mscene_file_writer.py\u001b[0m\u001b[2m:\u001b[0m\u001b[2m527\u001b[0m\n",
       "\u001b[2;36m                    \u001b[0m         \u001b[32mTools/Manim/NJS/Week2 Videos/media/videos/Week2 \u001b[0m              \u001b[2m                        \u001b[0m\n",
       "\u001b[2;36m                    \u001b[0m         \u001b[32mVideos/1080p60/partial_movie_files/slide3/3040924799_38876091\u001b[0m \u001b[2m                        \u001b[0m\n",
       "\u001b[2;36m                    \u001b[0m         \u001b[32m51_2825702653.mp4'\u001b[0m                                            \u001b[2m                        \u001b[0m\n"
      ]
     },
     "metadata": {},
     "output_type": "display_data"
    },
    {
     "name": "stderr",
     "output_type": "stream",
     "text": [
      "                                                                                           \r"
     ]
    },
    {
     "data": {
      "text/html": [
       "<pre style=\"white-space:pre;overflow-x:auto;line-height:normal;font-family:Menlo,'DejaVu Sans Mono',consolas,'Courier New',monospace\"><span style=\"color: #7fbfbf; text-decoration-color: #7fbfbf\">[07/03/24 10:37:52] </span><span style=\"color: #008000; text-decoration-color: #008000\">INFO    </span> Animation <span style=\"color: #008000; text-decoration-color: #008000\">4</span> : Partial movie file written in <span style=\"color: #008000; text-decoration-color: #008000\">'/home/ah/Dev </span>    <span style=\"color: #7f7f7f; text-decoration-color: #7f7f7f\">scene_file_writer.py:527</span>\n",
       "<span style=\"color: #7fbfbf; text-decoration-color: #7fbfbf\">                    </span>         <span style=\"color: #008000; text-decoration-color: #008000\">Tools/Manim/NJS/Week2 Videos/media/videos/Week2 </span>              <span style=\"color: #7f7f7f; text-decoration-color: #7f7f7f\">                        </span>\n",
       "<span style=\"color: #7fbfbf; text-decoration-color: #7fbfbf\">                    </span>         <span style=\"color: #008000; text-decoration-color: #008000\">Videos/1080p60/partial_movie_files/slide3/3040924799_34081080</span> <span style=\"color: #7f7f7f; text-decoration-color: #7f7f7f\">                        </span>\n",
       "<span style=\"color: #7fbfbf; text-decoration-color: #7fbfbf\">                    </span>         <span style=\"color: #008000; text-decoration-color: #008000\">78_2825702653.mp4'</span>                                            <span style=\"color: #7f7f7f; text-decoration-color: #7f7f7f\">                        </span>\n",
       "</pre>\n"
      ],
      "text/plain": [
       "\u001b[2;36m[07/03/24 10:37:52]\u001b[0m\u001b[2;36m \u001b[0m\u001b[32mINFO    \u001b[0m Animation \u001b[32m4\u001b[0m : Partial movie file written in \u001b[32m'/home/ah/Dev \u001b[0m    \u001b[2mscene_file_writer.py\u001b[0m\u001b[2m:\u001b[0m\u001b[2m527\u001b[0m\n",
       "\u001b[2;36m                    \u001b[0m         \u001b[32mTools/Manim/NJS/Week2 Videos/media/videos/Week2 \u001b[0m              \u001b[2m                        \u001b[0m\n",
       "\u001b[2;36m                    \u001b[0m         \u001b[32mVideos/1080p60/partial_movie_files/slide3/3040924799_34081080\u001b[0m \u001b[2m                        \u001b[0m\n",
       "\u001b[2;36m                    \u001b[0m         \u001b[32m78_2825702653.mp4'\u001b[0m                                            \u001b[2m                        \u001b[0m\n"
      ]
     },
     "metadata": {},
     "output_type": "display_data"
    },
    {
     "name": "stderr",
     "output_type": "stream",
     "text": [
      "                                                                               \r"
     ]
    },
    {
     "data": {
      "text/html": [
       "<pre style=\"white-space:pre;overflow-x:auto;line-height:normal;font-family:Menlo,'DejaVu Sans Mono',consolas,'Courier New',monospace\"><span style=\"color: #7fbfbf; text-decoration-color: #7fbfbf\">[07/03/24 10:37:57] </span><span style=\"color: #008000; text-decoration-color: #008000\">INFO    </span> Animation <span style=\"color: #008000; text-decoration-color: #008000\">5</span> : Partial movie file written in <span style=\"color: #008000; text-decoration-color: #008000\">'/home/ah/Dev </span>    <span style=\"color: #7f7f7f; text-decoration-color: #7f7f7f\">scene_file_writer.py:527</span>\n",
       "<span style=\"color: #7fbfbf; text-decoration-color: #7fbfbf\">                    </span>         <span style=\"color: #008000; text-decoration-color: #008000\">Tools/Manim/NJS/Week2 Videos/media/videos/Week2 </span>              <span style=\"color: #7f7f7f; text-decoration-color: #7f7f7f\">                        </span>\n",
       "<span style=\"color: #7fbfbf; text-decoration-color: #7fbfbf\">                    </span>         <span style=\"color: #008000; text-decoration-color: #008000\">Videos/1080p60/partial_movie_files/slide3/3040924799_30008773</span> <span style=\"color: #7f7f7f; text-decoration-color: #7f7f7f\">                        </span>\n",
       "<span style=\"color: #7fbfbf; text-decoration-color: #7fbfbf\">                    </span>         <span style=\"color: #008000; text-decoration-color: #008000\">75_2945487170.mp4'</span>                                            <span style=\"color: #7f7f7f; text-decoration-color: #7f7f7f\">                        </span>\n",
       "</pre>\n"
      ],
      "text/plain": [
       "\u001b[2;36m[07/03/24 10:37:57]\u001b[0m\u001b[2;36m \u001b[0m\u001b[32mINFO    \u001b[0m Animation \u001b[32m5\u001b[0m : Partial movie file written in \u001b[32m'/home/ah/Dev \u001b[0m    \u001b[2mscene_file_writer.py\u001b[0m\u001b[2m:\u001b[0m\u001b[2m527\u001b[0m\n",
       "\u001b[2;36m                    \u001b[0m         \u001b[32mTools/Manim/NJS/Week2 Videos/media/videos/Week2 \u001b[0m              \u001b[2m                        \u001b[0m\n",
       "\u001b[2;36m                    \u001b[0m         \u001b[32mVideos/1080p60/partial_movie_files/slide3/3040924799_30008773\u001b[0m \u001b[2m                        \u001b[0m\n",
       "\u001b[2;36m                    \u001b[0m         \u001b[32m75_2945487170.mp4'\u001b[0m                                            \u001b[2m                        \u001b[0m\n"
      ]
     },
     "metadata": {},
     "output_type": "display_data"
    },
    {
     "name": "stderr",
     "output_type": "stream",
     "text": [
      "                                                                                          \r"
     ]
    },
    {
     "data": {
      "text/html": [
       "<pre style=\"white-space:pre;overflow-x:auto;line-height:normal;font-family:Menlo,'DejaVu Sans Mono',consolas,'Courier New',monospace\"><span style=\"color: #7fbfbf; text-decoration-color: #7fbfbf\">[07/03/24 10:37:59] </span><span style=\"color: #008000; text-decoration-color: #008000\">INFO    </span> Animation <span style=\"color: #008000; text-decoration-color: #008000\">6</span> : Partial movie file written in <span style=\"color: #008000; text-decoration-color: #008000\">'/home/ah/Dev </span>    <span style=\"color: #7f7f7f; text-decoration-color: #7f7f7f\">scene_file_writer.py:527</span>\n",
       "<span style=\"color: #7fbfbf; text-decoration-color: #7fbfbf\">                    </span>         <span style=\"color: #008000; text-decoration-color: #008000\">Tools/Manim/NJS/Week2 Videos/media/videos/Week2 </span>              <span style=\"color: #7f7f7f; text-decoration-color: #7f7f7f\">                        </span>\n",
       "<span style=\"color: #7fbfbf; text-decoration-color: #7fbfbf\">                    </span>         <span style=\"color: #008000; text-decoration-color: #008000\">Videos/1080p60/partial_movie_files/slide3/3040924799_40803989</span> <span style=\"color: #7f7f7f; text-decoration-color: #7f7f7f\">                        </span>\n",
       "<span style=\"color: #7fbfbf; text-decoration-color: #7fbfbf\">                    </span>         <span style=\"color: #008000; text-decoration-color: #008000\">62_4054239900.mp4'</span>                                            <span style=\"color: #7f7f7f; text-decoration-color: #7f7f7f\">                        </span>\n",
       "</pre>\n"
      ],
      "text/plain": [
       "\u001b[2;36m[07/03/24 10:37:59]\u001b[0m\u001b[2;36m \u001b[0m\u001b[32mINFO    \u001b[0m Animation \u001b[32m6\u001b[0m : Partial movie file written in \u001b[32m'/home/ah/Dev \u001b[0m    \u001b[2mscene_file_writer.py\u001b[0m\u001b[2m:\u001b[0m\u001b[2m527\u001b[0m\n",
       "\u001b[2;36m                    \u001b[0m         \u001b[32mTools/Manim/NJS/Week2 Videos/media/videos/Week2 \u001b[0m              \u001b[2m                        \u001b[0m\n",
       "\u001b[2;36m                    \u001b[0m         \u001b[32mVideos/1080p60/partial_movie_files/slide3/3040924799_40803989\u001b[0m \u001b[2m                        \u001b[0m\n",
       "\u001b[2;36m                    \u001b[0m         \u001b[32m62_4054239900.mp4'\u001b[0m                                            \u001b[2m                        \u001b[0m\n"
      ]
     },
     "metadata": {},
     "output_type": "display_data"
    },
    {
     "name": "stderr",
     "output_type": "stream",
     "text": [
      "                                                                                          \r"
     ]
    },
    {
     "data": {
      "text/html": [
       "<pre style=\"white-space:pre;overflow-x:auto;line-height:normal;font-family:Menlo,'DejaVu Sans Mono',consolas,'Courier New',monospace\"><span style=\"color: #7fbfbf; text-decoration-color: #7fbfbf\">[07/03/24 10:38:02] </span><span style=\"color: #008000; text-decoration-color: #008000\">INFO    </span> Animation <span style=\"color: #008000; text-decoration-color: #008000\">7</span> : Partial movie file written in <span style=\"color: #008000; text-decoration-color: #008000\">'/home/ah/Dev </span>    <span style=\"color: #7f7f7f; text-decoration-color: #7f7f7f\">scene_file_writer.py:527</span>\n",
       "<span style=\"color: #7fbfbf; text-decoration-color: #7fbfbf\">                    </span>         <span style=\"color: #008000; text-decoration-color: #008000\">Tools/Manim/NJS/Week2 Videos/media/videos/Week2 </span>              <span style=\"color: #7f7f7f; text-decoration-color: #7f7f7f\">                        </span>\n",
       "<span style=\"color: #7fbfbf; text-decoration-color: #7fbfbf\">                    </span>         <span style=\"color: #008000; text-decoration-color: #008000\">Videos/1080p60/partial_movie_files/slide3/3040924799_39477585</span> <span style=\"color: #7f7f7f; text-decoration-color: #7f7f7f\">                        </span>\n",
       "<span style=\"color: #7fbfbf; text-decoration-color: #7fbfbf\">                    </span>         <span style=\"color: #008000; text-decoration-color: #008000\">93_4054239900.mp4'</span>                                            <span style=\"color: #7f7f7f; text-decoration-color: #7f7f7f\">                        </span>\n",
       "</pre>\n"
      ],
      "text/plain": [
       "\u001b[2;36m[07/03/24 10:38:02]\u001b[0m\u001b[2;36m \u001b[0m\u001b[32mINFO    \u001b[0m Animation \u001b[32m7\u001b[0m : Partial movie file written in \u001b[32m'/home/ah/Dev \u001b[0m    \u001b[2mscene_file_writer.py\u001b[0m\u001b[2m:\u001b[0m\u001b[2m527\u001b[0m\n",
       "\u001b[2;36m                    \u001b[0m         \u001b[32mTools/Manim/NJS/Week2 Videos/media/videos/Week2 \u001b[0m              \u001b[2m                        \u001b[0m\n",
       "\u001b[2;36m                    \u001b[0m         \u001b[32mVideos/1080p60/partial_movie_files/slide3/3040924799_39477585\u001b[0m \u001b[2m                        \u001b[0m\n",
       "\u001b[2;36m                    \u001b[0m         \u001b[32m93_4054239900.mp4'\u001b[0m                                            \u001b[2m                        \u001b[0m\n"
      ]
     },
     "metadata": {},
     "output_type": "display_data"
    },
    {
     "name": "stderr",
     "output_type": "stream",
     "text": [
      "                                                                                     \r"
     ]
    },
    {
     "data": {
      "text/html": [
       "<pre style=\"white-space:pre;overflow-x:auto;line-height:normal;font-family:Menlo,'DejaVu Sans Mono',consolas,'Courier New',monospace\"><span style=\"color: #7fbfbf; text-decoration-color: #7fbfbf\">[07/03/24 10:38:07] </span><span style=\"color: #008000; text-decoration-color: #008000\">INFO    </span> Animation <span style=\"color: #008000; text-decoration-color: #008000\">8</span> : Partial movie file written in <span style=\"color: #008000; text-decoration-color: #008000\">'/home/ah/Dev </span>    <span style=\"color: #7f7f7f; text-decoration-color: #7f7f7f\">scene_file_writer.py:527</span>\n",
       "<span style=\"color: #7fbfbf; text-decoration-color: #7fbfbf\">                    </span>         <span style=\"color: #008000; text-decoration-color: #008000\">Tools/Manim/NJS/Week2 Videos/media/videos/Week2 </span>              <span style=\"color: #7f7f7f; text-decoration-color: #7f7f7f\">                        </span>\n",
       "<span style=\"color: #7fbfbf; text-decoration-color: #7fbfbf\">                    </span>         <span style=\"color: #008000; text-decoration-color: #008000\">Videos/1080p60/partial_movie_files/slide3/3040924799_14740007</span> <span style=\"color: #7f7f7f; text-decoration-color: #7f7f7f\">                        </span>\n",
       "<span style=\"color: #7fbfbf; text-decoration-color: #7fbfbf\">                    </span>         <span style=\"color: #008000; text-decoration-color: #008000\">26_2278910308.mp4'</span>                                            <span style=\"color: #7f7f7f; text-decoration-color: #7f7f7f\">                        </span>\n",
       "</pre>\n"
      ],
      "text/plain": [
       "\u001b[2;36m[07/03/24 10:38:07]\u001b[0m\u001b[2;36m \u001b[0m\u001b[32mINFO    \u001b[0m Animation \u001b[32m8\u001b[0m : Partial movie file written in \u001b[32m'/home/ah/Dev \u001b[0m    \u001b[2mscene_file_writer.py\u001b[0m\u001b[2m:\u001b[0m\u001b[2m527\u001b[0m\n",
       "\u001b[2;36m                    \u001b[0m         \u001b[32mTools/Manim/NJS/Week2 Videos/media/videos/Week2 \u001b[0m              \u001b[2m                        \u001b[0m\n",
       "\u001b[2;36m                    \u001b[0m         \u001b[32mVideos/1080p60/partial_movie_files/slide3/3040924799_14740007\u001b[0m \u001b[2m                        \u001b[0m\n",
       "\u001b[2;36m                    \u001b[0m         \u001b[32m26_2278910308.mp4'\u001b[0m                                            \u001b[2m                        \u001b[0m\n"
      ]
     },
     "metadata": {},
     "output_type": "display_data"
    },
    {
     "name": "stderr",
     "output_type": "stream",
     "text": [
      "                                                                                                   \r"
     ]
    },
    {
     "data": {
      "text/html": [
       "<pre style=\"white-space:pre;overflow-x:auto;line-height:normal;font-family:Menlo,'DejaVu Sans Mono',consolas,'Courier New',monospace\"><span style=\"color: #7fbfbf; text-decoration-color: #7fbfbf\">[07/03/24 10:38:16] </span><span style=\"color: #008000; text-decoration-color: #008000\">INFO    </span> Animation <span style=\"color: #008000; text-decoration-color: #008000\">9</span> : Partial movie file written in <span style=\"color: #008000; text-decoration-color: #008000\">'/home/ah/Dev </span>    <span style=\"color: #7f7f7f; text-decoration-color: #7f7f7f\">scene_file_writer.py:527</span>\n",
       "<span style=\"color: #7fbfbf; text-decoration-color: #7fbfbf\">                    </span>         <span style=\"color: #008000; text-decoration-color: #008000\">Tools/Manim/NJS/Week2 Videos/media/videos/Week2 </span>              <span style=\"color: #7f7f7f; text-decoration-color: #7f7f7f\">                        </span>\n",
       "<span style=\"color: #7fbfbf; text-decoration-color: #7fbfbf\">                    </span>         <span style=\"color: #008000; text-decoration-color: #008000\">Videos/1080p60/partial_movie_files/slide3/3040924799_22601285</span> <span style=\"color: #7f7f7f; text-decoration-color: #7f7f7f\">                        </span>\n",
       "<span style=\"color: #7fbfbf; text-decoration-color: #7fbfbf\">                    </span>         <span style=\"color: #008000; text-decoration-color: #008000\">8_2797297091.mp4'</span>                                             <span style=\"color: #7f7f7f; text-decoration-color: #7f7f7f\">                        </span>\n",
       "</pre>\n"
      ],
      "text/plain": [
       "\u001b[2;36m[07/03/24 10:38:16]\u001b[0m\u001b[2;36m \u001b[0m\u001b[32mINFO    \u001b[0m Animation \u001b[32m9\u001b[0m : Partial movie file written in \u001b[32m'/home/ah/Dev \u001b[0m    \u001b[2mscene_file_writer.py\u001b[0m\u001b[2m:\u001b[0m\u001b[2m527\u001b[0m\n",
       "\u001b[2;36m                    \u001b[0m         \u001b[32mTools/Manim/NJS/Week2 Videos/media/videos/Week2 \u001b[0m              \u001b[2m                        \u001b[0m\n",
       "\u001b[2;36m                    \u001b[0m         \u001b[32mVideos/1080p60/partial_movie_files/slide3/3040924799_22601285\u001b[0m \u001b[2m                        \u001b[0m\n",
       "\u001b[2;36m                    \u001b[0m         \u001b[32m8_2797297091.mp4'\u001b[0m                                             \u001b[2m                        \u001b[0m\n"
      ]
     },
     "metadata": {},
     "output_type": "display_data"
    },
    {
     "name": "stderr",
     "output_type": "stream",
     "text": [
      "                                                                                                                                                     \r"
     ]
    },
    {
     "data": {
      "text/html": [
       "<pre style=\"white-space:pre;overflow-x:auto;line-height:normal;font-family:Menlo,'DejaVu Sans Mono',consolas,'Courier New',monospace\"><span style=\"color: #7fbfbf; text-decoration-color: #7fbfbf\">[07/03/24 10:38:27] </span><span style=\"color: #008000; text-decoration-color: #008000\">INFO    </span> Animation <span style=\"color: #008000; text-decoration-color: #008000\">10</span> : Partial movie file written in <span style=\"color: #008000; text-decoration-color: #008000\">'/home/ah/Dev </span>   <span style=\"color: #7f7f7f; text-decoration-color: #7f7f7f\">scene_file_writer.py:527</span>\n",
       "<span style=\"color: #7fbfbf; text-decoration-color: #7fbfbf\">                    </span>         <span style=\"color: #008000; text-decoration-color: #008000\">Tools/Manim/NJS/Week2 Videos/media/videos/Week2 </span>              <span style=\"color: #7f7f7f; text-decoration-color: #7f7f7f\">                        </span>\n",
       "<span style=\"color: #7fbfbf; text-decoration-color: #7fbfbf\">                    </span>         <span style=\"color: #008000; text-decoration-color: #008000\">Videos/1080p60/partial_movie_files/slide3/3040924799_15361231</span> <span style=\"color: #7f7f7f; text-decoration-color: #7f7f7f\">                        </span>\n",
       "<span style=\"color: #7fbfbf; text-decoration-color: #7fbfbf\">                    </span>         <span style=\"color: #008000; text-decoration-color: #008000\">82_3782082570.mp4'</span>                                            <span style=\"color: #7f7f7f; text-decoration-color: #7f7f7f\">                        </span>\n",
       "</pre>\n"
      ],
      "text/plain": [
       "\u001b[2;36m[07/03/24 10:38:27]\u001b[0m\u001b[2;36m \u001b[0m\u001b[32mINFO    \u001b[0m Animation \u001b[32m10\u001b[0m : Partial movie file written in \u001b[32m'/home/ah/Dev \u001b[0m   \u001b[2mscene_file_writer.py\u001b[0m\u001b[2m:\u001b[0m\u001b[2m527\u001b[0m\n",
       "\u001b[2;36m                    \u001b[0m         \u001b[32mTools/Manim/NJS/Week2 Videos/media/videos/Week2 \u001b[0m              \u001b[2m                        \u001b[0m\n",
       "\u001b[2;36m                    \u001b[0m         \u001b[32mVideos/1080p60/partial_movie_files/slide3/3040924799_15361231\u001b[0m \u001b[2m                        \u001b[0m\n",
       "\u001b[2;36m                    \u001b[0m         \u001b[32m82_3782082570.mp4'\u001b[0m                                            \u001b[2m                        \u001b[0m\n"
      ]
     },
     "metadata": {},
     "output_type": "display_data"
    },
    {
     "data": {
      "text/html": [
       "<pre style=\"white-space:pre;overflow-x:auto;line-height:normal;font-family:Menlo,'DejaVu Sans Mono',consolas,'Courier New',monospace\"><span style=\"color: #7fbfbf; text-decoration-color: #7fbfbf\">                    </span><span style=\"color: #008000; text-decoration-color: #008000\">INFO    </span> Combining to Movie file.                                      <span style=\"color: #7f7f7f; text-decoration-color: #7f7f7f\">scene_file_writer.py:617</span>\n",
       "</pre>\n"
      ],
      "text/plain": [
       "\u001b[2;36m                   \u001b[0m\u001b[2;36m \u001b[0m\u001b[32mINFO    \u001b[0m Combining to Movie file.                                      \u001b[2mscene_file_writer.py\u001b[0m\u001b[2m:\u001b[0m\u001b[2m617\u001b[0m\n"
      ]
     },
     "metadata": {},
     "output_type": "display_data"
    },
    {
     "data": {
      "text/html": [
       "<pre style=\"white-space:pre;overflow-x:auto;line-height:normal;font-family:Menlo,'DejaVu Sans Mono',consolas,'Courier New',monospace\"><span style=\"color: #7fbfbf; text-decoration-color: #7fbfbf\">[07/03/24 10:38:28] </span><span style=\"color: #008000; text-decoration-color: #008000\">INFO    </span>                                                               <span style=\"color: #7f7f7f; text-decoration-color: #7f7f7f\">scene_file_writer.py:737</span>\n",
       "<span style=\"color: #7fbfbf; text-decoration-color: #7fbfbf\">                    </span>         <span style=\"color: #808000; text-decoration-color: #808000; font-weight: bold\">File</span> ready at <span style=\"color: #008000; text-decoration-color: #008000\">'/home/ah/Dev Tools/Manim/NJS/Week2 </span>            <span style=\"color: #7f7f7f; text-decoration-color: #7f7f7f\">                        </span>\n",
       "<span style=\"color: #7fbfbf; text-decoration-color: #7fbfbf\">                    </span>         <span style=\"color: #008000; text-decoration-color: #008000\">Videos/media/videos/Week2 Videos/1080p60/slide3.mp4'</span>          <span style=\"color: #7f7f7f; text-decoration-color: #7f7f7f\">                        </span>\n",
       "<span style=\"color: #7fbfbf; text-decoration-color: #7fbfbf\">                    </span>                                                                       <span style=\"color: #7f7f7f; text-decoration-color: #7f7f7f\">                        </span>\n",
       "</pre>\n"
      ],
      "text/plain": [
       "\u001b[2;36m[07/03/24 10:38:28]\u001b[0m\u001b[2;36m \u001b[0m\u001b[32mINFO    \u001b[0m                                                               \u001b[2mscene_file_writer.py\u001b[0m\u001b[2m:\u001b[0m\u001b[2m737\u001b[0m\n",
       "\u001b[2;36m                    \u001b[0m         \u001b[1;33mFile\u001b[0m ready at \u001b[32m'/home/ah/Dev Tools/Manim/NJS/Week2 \u001b[0m            \u001b[2m                        \u001b[0m\n",
       "\u001b[2;36m                    \u001b[0m         \u001b[32mVideos/media/videos/Week2 Videos/1080p60/slide3.mp4'\u001b[0m          \u001b[2m                        \u001b[0m\n",
       "\u001b[2;36m                    \u001b[0m                                                                       \u001b[2m                        \u001b[0m\n"
      ]
     },
     "metadata": {},
     "output_type": "display_data"
    },
    {
     "data": {
      "text/html": [
       "<pre style=\"white-space:pre;overflow-x:auto;line-height:normal;font-family:Menlo,'DejaVu Sans Mono',consolas,'Courier New',monospace\"><span style=\"color: #7fbfbf; text-decoration-color: #7fbfbf\">                    </span><span style=\"color: #008000; text-decoration-color: #008000\">INFO    </span> <span style=\"color: #808000; text-decoration-color: #808000; font-weight: bold\">Rendered</span> slide3                                                           <span style=\"color: #7f7f7f; text-decoration-color: #7f7f7f\">scene.py:247</span>\n",
       "<span style=\"color: #7fbfbf; text-decoration-color: #7fbfbf\">                    </span>         <span style=\"color: #808000; text-decoration-color: #808000; font-weight: bold\">Played</span> <span style=\"color: #008000; text-decoration-color: #008000\">11</span> <span style=\"color: #808000; text-decoration-color: #808000; font-weight: bold\">animations</span>                                                      <span style=\"color: #7f7f7f; text-decoration-color: #7f7f7f\">            </span>\n",
       "</pre>\n"
      ],
      "text/plain": [
       "\u001b[2;36m                   \u001b[0m\u001b[2;36m \u001b[0m\u001b[32mINFO    \u001b[0m \u001b[1;33mRendered\u001b[0m slide3                                                           \u001b[2mscene.py\u001b[0m\u001b[2m:\u001b[0m\u001b[2m247\u001b[0m\n",
       "\u001b[2;36m                    \u001b[0m         \u001b[1;33mPlayed\u001b[0m \u001b[32m11\u001b[0m \u001b[1;33manimations\u001b[0m                                                      \u001b[2m            \u001b[0m\n"
      ]
     },
     "metadata": {},
     "output_type": "display_data"
    },
    {
     "data": {
      "text/html": [
       "<video src=\"media/jupyter/slide3@2024-07-03@10-38-28.mp4\" controls autoplay loop style=\"max-width: 60%;\"  >\n",
       "      Your browser does not support the <code>video</code> element.\n",
       "    </video>"
      ],
      "text/plain": [
       "<IPython.core.display.Video object>"
      ]
     },
     "metadata": {},
     "output_type": "display_data"
    }
   ],
   "source": [
    "from manim import *\n",
    "\n",
    "class slide3(Scene):\n",
    "    def construct(self):\n",
    "        # Title and subtitle\n",
    "        title = Text(\"But URLs are Just an Interface\").shift(UP*3)\n",
    "        subTitle1 = Text(\"The real address is the numerical IP address\").shift(UP*2).scale(0.7).set_color(YELLOW)\n",
    "\n",
    "        # URL label\n",
    "        urlLabel = Text(\"URL\").shift(LEFT*4 + UP*0).scale(0.7)\n",
    "        \n",
    "        # DNS box with label\n",
    "        dnsRect = Rectangle(width=2, height=1).set_fill(GREY, opacity=0.5).shift(ORIGIN)\n",
    "        dnsText = Text(\"DNS\").move_to(dnsRect.get_center()).scale(0.7).set_color(WHITE)\n",
    "        dnsLabel = Text(\"Domain Naming System\").scale(0.5).next_to(dnsRect, DOWN)\n",
    "\n",
    "        # IP label\n",
    "        ipLabel = Text(\"IP\").shift(RIGHT*4 + UP*0).scale(0.7)\n",
    "        \n",
    "        # Arrows\n",
    "        arrowToDNS = Arrow(urlLabel.get_right(), dnsRect.get_left())\n",
    "        arrowToIP = Arrow(dnsRect.get_right(), ipLabel.get_left())\n",
    "        \n",
    "        # Bottom line\n",
    "        bottom_line = Text(\"DNS is a huge record that links URLs to Numerical IPs\").shift(DOWN*3).scale(0.7).set_color(RED)\n",
    "\n",
    "        # Animations\n",
    "        self.play(Write(title))\n",
    "        self.play(AddTextLetterByLetter(subTitle1), run_time=0.75)\n",
    "        \n",
    "        # URL label pop-up animation\n",
    "        self.play(Write(urlLabel))\n",
    "        self.play(urlLabel.animate.scale(1.2),run_time = 0.3)\n",
    "        self.play(urlLabel.animate.scale(1/1.2),run_time = 0.3)\n",
    "        \n",
    "        # IP label pop-up animation\n",
    "        self.play(Write(ipLabel))\n",
    "        self.play(ipLabel.animate.scale(1.2),run_time = 0.3)\n",
    "        self.play(ipLabel.animate.scale(1/1.2),run_time = 0.3)\n",
    "\n",
    "        self.play(Create(dnsRect), Write(dnsText), Create(arrowToDNS), Create(arrowToIP))\n",
    "        self.play(Write(dnsLabel))\n",
    "        self.play(AddTextLetterByLetter(bottom_line), run_time=2)\n",
    "\n",
    "# %manim -ql -v Warning --save_last_frame slide3\n",
    "# %manim -ql -v Warning slide3\n",
    "%manim -qh slide3\n"
   ]
  },
  {
   "cell_type": "code",
   "execution_count": 4,
   "metadata": {},
   "outputs": [
    {
     "data": {
      "text/html": [
       "<pre style=\"white-space:pre;overflow-x:auto;line-height:normal;font-family:Menlo,'DejaVu Sans Mono',consolas,'Courier New',monospace\">Manim Community <span style=\"color: #008000; text-decoration-color: #008000\">v0.18.1</span>\n",
       "\n",
       "</pre>\n"
      ],
      "text/plain": [
       "Manim Community \u001b[32mv0.\u001b[0m\u001b[32m18.1\u001b[0m\n",
       "\n"
      ]
     },
     "metadata": {},
     "output_type": "display_data"
    },
    {
     "name": "stderr",
     "output_type": "stream",
     "text": [
      "                                                                                            \r"
     ]
    },
    {
     "data": {
      "text/html": [
       "<pre style=\"white-space:pre;overflow-x:auto;line-height:normal;font-family:Menlo,'DejaVu Sans Mono',consolas,'Courier New',monospace\"><span style=\"color: #7fbfbf; text-decoration-color: #7fbfbf\">[07/03/24 10:38:47] </span><span style=\"color: #008000; text-decoration-color: #008000\">INFO    </span> Animation <span style=\"color: #008000; text-decoration-color: #008000\">0</span> : Partial movie file written in <span style=\"color: #008000; text-decoration-color: #008000\">'/home/ah/Dev </span>    <span style=\"color: #7f7f7f; text-decoration-color: #7f7f7f\">scene_file_writer.py:527</span>\n",
       "<span style=\"color: #7fbfbf; text-decoration-color: #7fbfbf\">                    </span>         <span style=\"color: #008000; text-decoration-color: #008000\">Tools/Manim/NJS/Week2 Videos/media/videos/Week2 </span>              <span style=\"color: #7f7f7f; text-decoration-color: #7f7f7f\">                        </span>\n",
       "<span style=\"color: #7fbfbf; text-decoration-color: #7fbfbf\">                    </span>         <span style=\"color: #008000; text-decoration-color: #008000\">Videos/1080p60/partial_movie_files/slide4/3529212410_22899077</span> <span style=\"color: #7f7f7f; text-decoration-color: #7f7f7f\">                        </span>\n",
       "<span style=\"color: #7fbfbf; text-decoration-color: #7fbfbf\">                    </span>         <span style=\"color: #008000; text-decoration-color: #008000\">41_223132457.mp4'</span>                                             <span style=\"color: #7f7f7f; text-decoration-color: #7f7f7f\">                        </span>\n",
       "</pre>\n"
      ],
      "text/plain": [
       "\u001b[2;36m[07/03/24 10:38:47]\u001b[0m\u001b[2;36m \u001b[0m\u001b[32mINFO    \u001b[0m Animation \u001b[32m0\u001b[0m : Partial movie file written in \u001b[32m'/home/ah/Dev \u001b[0m    \u001b[2mscene_file_writer.py\u001b[0m\u001b[2m:\u001b[0m\u001b[2m527\u001b[0m\n",
       "\u001b[2;36m                    \u001b[0m         \u001b[32mTools/Manim/NJS/Week2 Videos/media/videos/Week2 \u001b[0m              \u001b[2m                        \u001b[0m\n",
       "\u001b[2;36m                    \u001b[0m         \u001b[32mVideos/1080p60/partial_movie_files/slide4/3529212410_22899077\u001b[0m \u001b[2m                        \u001b[0m\n",
       "\u001b[2;36m                    \u001b[0m         \u001b[32m41_223132457.mp4'\u001b[0m                                             \u001b[2m                        \u001b[0m\n"
      ]
     },
     "metadata": {},
     "output_type": "display_data"
    },
    {
     "name": "stderr",
     "output_type": "stream",
     "text": [
      "                                                                           \r"
     ]
    },
    {
     "data": {
      "text/html": [
       "<pre style=\"white-space:pre;overflow-x:auto;line-height:normal;font-family:Menlo,'DejaVu Sans Mono',consolas,'Courier New',monospace\"><span style=\"color: #7fbfbf; text-decoration-color: #7fbfbf\">[07/03/24 10:38:49] </span><span style=\"color: #008000; text-decoration-color: #008000\">INFO    </span> Animation <span style=\"color: #008000; text-decoration-color: #008000\">1</span> : Partial movie file written in <span style=\"color: #008000; text-decoration-color: #008000\">'/home/ah/Dev </span>    <span style=\"color: #7f7f7f; text-decoration-color: #7f7f7f\">scene_file_writer.py:527</span>\n",
       "<span style=\"color: #7fbfbf; text-decoration-color: #7fbfbf\">                    </span>         <span style=\"color: #008000; text-decoration-color: #008000\">Tools/Manim/NJS/Week2 Videos/media/videos/Week2 </span>              <span style=\"color: #7f7f7f; text-decoration-color: #7f7f7f\">                        </span>\n",
       "<span style=\"color: #7fbfbf; text-decoration-color: #7fbfbf\">                    </span>         <span style=\"color: #008000; text-decoration-color: #008000\">Videos/1080p60/partial_movie_files/slide4/3040924799_28326302</span> <span style=\"color: #7f7f7f; text-decoration-color: #7f7f7f\">                        </span>\n",
       "<span style=\"color: #7fbfbf; text-decoration-color: #7fbfbf\">                    </span>         <span style=\"color: #008000; text-decoration-color: #008000\">3_1286083208.mp4'</span>                                             <span style=\"color: #7f7f7f; text-decoration-color: #7f7f7f\">                        </span>\n",
       "</pre>\n"
      ],
      "text/plain": [
       "\u001b[2;36m[07/03/24 10:38:49]\u001b[0m\u001b[2;36m \u001b[0m\u001b[32mINFO    \u001b[0m Animation \u001b[32m1\u001b[0m : Partial movie file written in \u001b[32m'/home/ah/Dev \u001b[0m    \u001b[2mscene_file_writer.py\u001b[0m\u001b[2m:\u001b[0m\u001b[2m527\u001b[0m\n",
       "\u001b[2;36m                    \u001b[0m         \u001b[32mTools/Manim/NJS/Week2 Videos/media/videos/Week2 \u001b[0m              \u001b[2m                        \u001b[0m\n",
       "\u001b[2;36m                    \u001b[0m         \u001b[32mVideos/1080p60/partial_movie_files/slide4/3040924799_28326302\u001b[0m \u001b[2m                        \u001b[0m\n",
       "\u001b[2;36m                    \u001b[0m         \u001b[32m3_1286083208.mp4'\u001b[0m                                             \u001b[2m                        \u001b[0m\n"
      ]
     },
     "metadata": {},
     "output_type": "display_data"
    },
    {
     "name": "stderr",
     "output_type": "stream",
     "text": [
      "                                                                                          \r"
     ]
    },
    {
     "data": {
      "text/html": [
       "<pre style=\"white-space:pre;overflow-x:auto;line-height:normal;font-family:Menlo,'DejaVu Sans Mono',consolas,'Courier New',monospace\"><span style=\"color: #7fbfbf; text-decoration-color: #7fbfbf\">[07/03/24 10:38:59] </span><span style=\"color: #008000; text-decoration-color: #008000\">INFO    </span> Animation <span style=\"color: #008000; text-decoration-color: #008000\">2</span> : Partial movie file written in <span style=\"color: #008000; text-decoration-color: #008000\">'/home/ah/Dev </span>    <span style=\"color: #7f7f7f; text-decoration-color: #7f7f7f\">scene_file_writer.py:527</span>\n",
       "<span style=\"color: #7fbfbf; text-decoration-color: #7fbfbf\">                    </span>         <span style=\"color: #008000; text-decoration-color: #008000\">Tools/Manim/NJS/Week2 Videos/media/videos/Week2 </span>              <span style=\"color: #7f7f7f; text-decoration-color: #7f7f7f\">                        </span>\n",
       "<span style=\"color: #7fbfbf; text-decoration-color: #7fbfbf\">                    </span>         <span style=\"color: #008000; text-decoration-color: #008000\">Videos/1080p60/partial_movie_files/slide4/3040924799_30503459</span> <span style=\"color: #7f7f7f; text-decoration-color: #7f7f7f\">                        </span>\n",
       "<span style=\"color: #7fbfbf; text-decoration-color: #7fbfbf\">                    </span>         <span style=\"color: #008000; text-decoration-color: #008000\">23_3891750826.mp4'</span>                                            <span style=\"color: #7f7f7f; text-decoration-color: #7f7f7f\">                        </span>\n",
       "</pre>\n"
      ],
      "text/plain": [
       "\u001b[2;36m[07/03/24 10:38:59]\u001b[0m\u001b[2;36m \u001b[0m\u001b[32mINFO    \u001b[0m Animation \u001b[32m2\u001b[0m : Partial movie file written in \u001b[32m'/home/ah/Dev \u001b[0m    \u001b[2mscene_file_writer.py\u001b[0m\u001b[2m:\u001b[0m\u001b[2m527\u001b[0m\n",
       "\u001b[2;36m                    \u001b[0m         \u001b[32mTools/Manim/NJS/Week2 Videos/media/videos/Week2 \u001b[0m              \u001b[2m                        \u001b[0m\n",
       "\u001b[2;36m                    \u001b[0m         \u001b[32mVideos/1080p60/partial_movie_files/slide4/3040924799_30503459\u001b[0m \u001b[2m                        \u001b[0m\n",
       "\u001b[2;36m                    \u001b[0m         \u001b[32m23_3891750826.mp4'\u001b[0m                                            \u001b[2m                        \u001b[0m\n"
      ]
     },
     "metadata": {},
     "output_type": "display_data"
    },
    {
     "name": "stderr",
     "output_type": "stream",
     "text": [
      "                                                                                                                                                            \r"
     ]
    },
    {
     "data": {
      "text/html": [
       "<pre style=\"white-space:pre;overflow-x:auto;line-height:normal;font-family:Menlo,'DejaVu Sans Mono',consolas,'Courier New',monospace\"><span style=\"color: #7fbfbf; text-decoration-color: #7fbfbf\">[07/03/24 10:39:32] </span><span style=\"color: #008000; text-decoration-color: #008000\">INFO    </span> Animation <span style=\"color: #008000; text-decoration-color: #008000\">3</span> : Partial movie file written in <span style=\"color: #008000; text-decoration-color: #008000\">'/home/ah/Dev </span>    <span style=\"color: #7f7f7f; text-decoration-color: #7f7f7f\">scene_file_writer.py:527</span>\n",
       "<span style=\"color: #7fbfbf; text-decoration-color: #7fbfbf\">                    </span>         <span style=\"color: #008000; text-decoration-color: #008000\">Tools/Manim/NJS/Week2 Videos/media/videos/Week2 </span>              <span style=\"color: #7f7f7f; text-decoration-color: #7f7f7f\">                        </span>\n",
       "<span style=\"color: #7fbfbf; text-decoration-color: #7fbfbf\">                    </span>         <span style=\"color: #008000; text-decoration-color: #008000\">Videos/1080p60/partial_movie_files/slide4/3040924799_15301561</span> <span style=\"color: #7f7f7f; text-decoration-color: #7f7f7f\">                        </span>\n",
       "<span style=\"color: #7fbfbf; text-decoration-color: #7fbfbf\">                    </span>         <span style=\"color: #008000; text-decoration-color: #008000\">94_204631874.mp4'</span>                                             <span style=\"color: #7f7f7f; text-decoration-color: #7f7f7f\">                        </span>\n",
       "</pre>\n"
      ],
      "text/plain": [
       "\u001b[2;36m[07/03/24 10:39:32]\u001b[0m\u001b[2;36m \u001b[0m\u001b[32mINFO    \u001b[0m Animation \u001b[32m3\u001b[0m : Partial movie file written in \u001b[32m'/home/ah/Dev \u001b[0m    \u001b[2mscene_file_writer.py\u001b[0m\u001b[2m:\u001b[0m\u001b[2m527\u001b[0m\n",
       "\u001b[2;36m                    \u001b[0m         \u001b[32mTools/Manim/NJS/Week2 Videos/media/videos/Week2 \u001b[0m              \u001b[2m                        \u001b[0m\n",
       "\u001b[2;36m                    \u001b[0m         \u001b[32mVideos/1080p60/partial_movie_files/slide4/3040924799_15301561\u001b[0m \u001b[2m                        \u001b[0m\n",
       "\u001b[2;36m                    \u001b[0m         \u001b[32m94_204631874.mp4'\u001b[0m                                             \u001b[2m                        \u001b[0m\n"
      ]
     },
     "metadata": {},
     "output_type": "display_data"
    },
    {
     "data": {
      "text/html": [
       "<pre style=\"white-space:pre;overflow-x:auto;line-height:normal;font-family:Menlo,'DejaVu Sans Mono',consolas,'Courier New',monospace\"><span style=\"color: #7fbfbf; text-decoration-color: #7fbfbf\">                    </span><span style=\"color: #008000; text-decoration-color: #008000\">INFO    </span> Combining to Movie file.                                      <span style=\"color: #7f7f7f; text-decoration-color: #7f7f7f\">scene_file_writer.py:617</span>\n",
       "</pre>\n"
      ],
      "text/plain": [
       "\u001b[2;36m                   \u001b[0m\u001b[2;36m \u001b[0m\u001b[32mINFO    \u001b[0m Combining to Movie file.                                      \u001b[2mscene_file_writer.py\u001b[0m\u001b[2m:\u001b[0m\u001b[2m617\u001b[0m\n"
      ]
     },
     "metadata": {},
     "output_type": "display_data"
    },
    {
     "data": {
      "text/html": [
       "<pre style=\"white-space:pre;overflow-x:auto;line-height:normal;font-family:Menlo,'DejaVu Sans Mono',consolas,'Courier New',monospace\"><span style=\"color: #7fbfbf; text-decoration-color: #7fbfbf\">[07/03/24 10:39:33] </span><span style=\"color: #008000; text-decoration-color: #008000\">INFO    </span>                                                               <span style=\"color: #7f7f7f; text-decoration-color: #7f7f7f\">scene_file_writer.py:737</span>\n",
       "<span style=\"color: #7fbfbf; text-decoration-color: #7fbfbf\">                    </span>         <span style=\"color: #808000; text-decoration-color: #808000; font-weight: bold\">File</span> ready at <span style=\"color: #008000; text-decoration-color: #008000\">'/home/ah/Dev Tools/Manim/NJS/Week2 </span>            <span style=\"color: #7f7f7f; text-decoration-color: #7f7f7f\">                        </span>\n",
       "<span style=\"color: #7fbfbf; text-decoration-color: #7fbfbf\">                    </span>         <span style=\"color: #008000; text-decoration-color: #008000\">Videos/media/videos/Week2 Videos/1080p60/slide4.mp4'</span>          <span style=\"color: #7f7f7f; text-decoration-color: #7f7f7f\">                        </span>\n",
       "<span style=\"color: #7fbfbf; text-decoration-color: #7fbfbf\">                    </span>                                                                       <span style=\"color: #7f7f7f; text-decoration-color: #7f7f7f\">                        </span>\n",
       "</pre>\n"
      ],
      "text/plain": [
       "\u001b[2;36m[07/03/24 10:39:33]\u001b[0m\u001b[2;36m \u001b[0m\u001b[32mINFO    \u001b[0m                                                               \u001b[2mscene_file_writer.py\u001b[0m\u001b[2m:\u001b[0m\u001b[2m737\u001b[0m\n",
       "\u001b[2;36m                    \u001b[0m         \u001b[1;33mFile\u001b[0m ready at \u001b[32m'/home/ah/Dev Tools/Manim/NJS/Week2 \u001b[0m            \u001b[2m                        \u001b[0m\n",
       "\u001b[2;36m                    \u001b[0m         \u001b[32mVideos/media/videos/Week2 Videos/1080p60/slide4.mp4'\u001b[0m          \u001b[2m                        \u001b[0m\n",
       "\u001b[2;36m                    \u001b[0m                                                                       \u001b[2m                        \u001b[0m\n"
      ]
     },
     "metadata": {},
     "output_type": "display_data"
    },
    {
     "data": {
      "text/html": [
       "<pre style=\"white-space:pre;overflow-x:auto;line-height:normal;font-family:Menlo,'DejaVu Sans Mono',consolas,'Courier New',monospace\"><span style=\"color: #7fbfbf; text-decoration-color: #7fbfbf\">                    </span><span style=\"color: #008000; text-decoration-color: #008000\">INFO    </span> <span style=\"color: #808000; text-decoration-color: #808000; font-weight: bold\">Rendered</span> slide4                                                           <span style=\"color: #7f7f7f; text-decoration-color: #7f7f7f\">scene.py:247</span>\n",
       "<span style=\"color: #7fbfbf; text-decoration-color: #7fbfbf\">                    </span>         <span style=\"color: #808000; text-decoration-color: #808000; font-weight: bold\">Played</span> <span style=\"color: #008000; text-decoration-color: #008000\">4</span> <span style=\"color: #808000; text-decoration-color: #808000; font-weight: bold\">animations</span>                                                       <span style=\"color: #7f7f7f; text-decoration-color: #7f7f7f\">            </span>\n",
       "</pre>\n"
      ],
      "text/plain": [
       "\u001b[2;36m                   \u001b[0m\u001b[2;36m \u001b[0m\u001b[32mINFO    \u001b[0m \u001b[1;33mRendered\u001b[0m slide4                                                           \u001b[2mscene.py\u001b[0m\u001b[2m:\u001b[0m\u001b[2m247\u001b[0m\n",
       "\u001b[2;36m                    \u001b[0m         \u001b[1;33mPlayed\u001b[0m \u001b[32m4\u001b[0m \u001b[1;33manimations\u001b[0m                                                       \u001b[2m            \u001b[0m\n"
      ]
     },
     "metadata": {},
     "output_type": "display_data"
    },
    {
     "data": {
      "text/html": [
       "<video src=\"media/jupyter/slide4@2024-07-03@10-39-33.mp4\" controls autoplay loop style=\"max-width: 60%;\"  >\n",
       "      Your browser does not support the <code>video</code> element.\n",
       "    </video>"
      ],
      "text/plain": [
       "<IPython.core.display.Video object>"
      ]
     },
     "metadata": {},
     "output_type": "display_data"
    }
   ],
   "source": [
    "from manim import *\n",
    "\n",
    "class slide4(Scene):\n",
    "    def construct(self):\n",
    "        # Code text and output text\n",
    "        code_text = Code(code=\"ping www.gkc-online.com\", language=\"bash\", background=\"window\", font=\"Monospace\").move_to(ORIGIN + 2*UP)\n",
    "        output_text = Text(\"PING www.gkc-online.com (104.21.48.216) 56(84) bytes of data.\").scale(0.7).move_to(ORIGIN - 0.5*UP)\n",
    "\n",
    "        # Surrounding blue square for the output text\n",
    "        output_box = SurroundingRectangle(output_text, color=BLUE, fill_opacity=0.5)\n",
    "\n",
    "        # Arrow\n",
    "        arrow = Arrow(code_text.get_bottom(), output_text.get_top())\n",
    "\n",
    "        # Animations\n",
    "        self.play(Write(code_text))\n",
    "        self.play(Create(arrow), run_time = 0.25)\n",
    "        self.play(Create(output_box))\n",
    "        self.play(AddTextLetterByLetter(output_text), run_time=3)\n",
    "\n",
    "# %manim -ql -v Warning --save_last_frame slide4\n",
    "# %manim -ql -v Warning slide4\n",
    "%manim -qh slide4\n"
   ]
  }
 ],
 "metadata": {
  "kernelspec": {
   "display_name": "manDE",
   "language": "python",
   "name": "python3"
  },
  "language_info": {
   "codemirror_mode": {
    "name": "ipython",
    "version": 3
   },
   "file_extension": ".py",
   "mimetype": "text/x-python",
   "name": "python",
   "nbconvert_exporter": "python",
   "pygments_lexer": "ipython3",
   "version": "3.12.3"
  }
 },
 "nbformat": 4,
 "nbformat_minor": 2
}
