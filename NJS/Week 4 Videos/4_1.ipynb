{
 "cells": [
  {
   "cell_type": "code",
   "execution_count": 1,
   "metadata": {},
   "outputs": [
    {
     "data": {
      "text/html": [
       "<pre style=\"white-space:pre;overflow-x:auto;line-height:normal;font-family:Menlo,'DejaVu Sans Mono',consolas,'Courier New',monospace\">Manim Community <span style=\"color: #008000; text-decoration-color: #008000\">v0.18.1</span>\n",
       "\n",
       "</pre>\n"
      ],
      "text/plain": [
       "Manim Community \u001b[32mv0.\u001b[0m\u001b[32m18.1\u001b[0m\n",
       "\n"
      ]
     },
     "metadata": {},
     "output_type": "display_data"
    },
    {
     "name": "stderr",
     "output_type": "stream",
     "text": [
      "                                                                                                                                 \r"
     ]
    },
    {
     "data": {
      "text/html": [
       "<video src=\"media/jupyter/ClientServerDatabase@2024-08-02@11-48-38.mp4\" controls autoplay loop style=\"max-width: 60%;\"  >\n",
       "      Your browser does not support the <code>video</code> element.\n",
       "    </video>"
      ],
      "text/plain": [
       "<IPython.core.display.Video object>"
      ]
     },
     "metadata": {},
     "output_type": "display_data"
    }
   ],
   "source": [
    "from manim import *\n",
    "\n",
    "class ClientServerDatabase(Scene):\n",
    "    def construct(self):\n",
    "        # Create title\n",
    "        title = Text(\"Request Response Model\").to_edge(UP)\n",
    "        self.play(Write(title))\n",
    "\n",
    "        # Create shapes for client, server, and database\n",
    "        client = Circle(radius=1, color=BLUE).shift(LEFT * 4)\n",
    "        server = Square(side_length=2, color=GREEN)\n",
    "        database = Circle(radius=1, color=RED).shift(RIGHT * 4)\n",
    "        \n",
    "        # Add labels\n",
    "        client_label = Text(\"Client\").scale(0.5).move_to(client)\n",
    "        server_label = Text(\"Server\").scale(0.5).move_to(server)\n",
    "        database_label = Text(\"Database\").scale(0.5).move_to(database)\n",
    "        \n",
    "        # Add shapes and labels to the scene with animation\n",
    "        self.play(FadeIn(client), Write(client_label))\n",
    "        self.play(FadeIn(server), Write(server_label))\n",
    "        self.play(FadeIn(database), Write(database_label))\n",
    "        \n",
    "        # Add arrows between client and server\n",
    "        arrow_client_to_server, label_request = self.add_horizontal_arrow(client, server, \"Request\", shift_up=0.5)\n",
    "        arrow_server_to_client, label_response = self.add_horizontal_arrow(server, client, \"Response\", shift_up=-0.5, text_buff=-0.3)\n",
    "        \n",
    "        # Add arrows between server and database\n",
    "        arrow_server_to_db, label_query = self.add_horizontal_arrow(server, database, \"Query\", shift_up=0.5)\n",
    "        arrow_db_to_server, label_data = self.add_horizontal_arrow(database, server, \"Data\", shift_up=-0.5, text_buff=-0.3)\n",
    "        \n",
    "        # Animate the additions\n",
    "        self.play(Write(arrow_client_to_server), Write(label_request))\n",
    "        self.play(Write(arrow_server_to_db), Write(label_query))\n",
    "        self.play(Write(arrow_db_to_server), Write(label_data))\n",
    "        self.play(Write(arrow_server_to_client), Write(label_response))\n",
    "        \n",
    "        # Create yellow dashed rectangles around client and server + database\n",
    "        client_rect = DashedVMobject(Rectangle(width=2.5, height=2.5, color=YELLOW).move_to(client), num_dashes=30)\n",
    "        backend_rect = DashedVMobject(Rectangle(width=8, height=3, color=YELLOW).move_to(server.get_center() + RIGHT * 2), num_dashes=60)\n",
    "        \n",
    "        # Add labels \"Frontend\" and \"Backend\" under the rectangles\n",
    "        frontend_label = Text(\"Frontend\").scale(0.5).next_to(client_rect, DOWN)\n",
    "        backend_label = Text(\"Backend\").scale(0.5).next_to(backend_rect, DOWN)\n",
    "        \n",
    "        # Add rectangles and labels to the scene at the end\n",
    "        self.play(FadeIn(client_rect), Write(frontend_label))\n",
    "        self.play(FadeIn(backend_rect), Write(backend_label))\n",
    "\n",
    "        # Add the red text at the bottom\n",
    "        bottom_text = Text(\"We will use Node JS for the backend in our course\", color=RED, font_size=24)\n",
    "        bottom_text.to_edge(DOWN)\n",
    "        self.play(Write(bottom_text))\n",
    "\n",
    "    def add_horizontal_arrow(self, mobject1, mobject2, label_text, shift_up=0.0, text_buff=0.3, **kwargs):\n",
    "        # Get the edge centers of the mobjects\n",
    "        if mobject1.get_center()[0] < mobject2.get_center()[0]:\n",
    "            start = mobject1.get_edge_center(RIGHT)\n",
    "            end = mobject2.get_edge_center(LEFT)\n",
    "        else:\n",
    "            start = mobject1.get_edge_center(LEFT)\n",
    "            end = mobject2.get_edge_center(RIGHT)\n",
    "        \n",
    "        # Shift the arrow up or down\n",
    "        start[1] += shift_up\n",
    "        end[1] += shift_up\n",
    "        \n",
    "        # Create the arrow\n",
    "        arrow = Arrow(start=start, end=end, **kwargs)\n",
    "        \n",
    "        # Create the label\n",
    "        label = Text(label_text).scale(0.5)\n",
    "        label.move_to(arrow.get_center() + np.array([0, text_buff, 0]))\n",
    "        return arrow, label\n",
    "\n",
    "# Run the scene\n",
    "%manim -qh -v CRITICAL ClientServerDatabase\n"
   ]
  },
  {
   "cell_type": "markdown",
   "metadata": {},
   "source": []
  }
 ],
 "metadata": {
  "kernelspec": {
   "display_name": "manDE",
   "language": "python",
   "name": "python3"
  },
  "language_info": {
   "codemirror_mode": {
    "name": "ipython",
    "version": 3
   },
   "file_extension": ".py",
   "mimetype": "text/x-python",
   "name": "python",
   "nbconvert_exporter": "python",
   "pygments_lexer": "ipython3",
   "version": "3.12.4"
  }
 },
 "nbformat": 4,
 "nbformat_minor": 2
}
