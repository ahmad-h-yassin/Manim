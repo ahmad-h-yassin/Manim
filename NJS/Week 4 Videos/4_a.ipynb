{
 "cells": [
  {
   "cell_type": "code",
   "execution_count": 2,
   "metadata": {},
   "outputs": [
    {
     "data": {
      "text/html": [
       "<pre style=\"white-space:pre;overflow-x:auto;line-height:normal;font-family:Menlo,'DejaVu Sans Mono',consolas,'Courier New',monospace\">Manim Community <span style=\"color: #008000; text-decoration-color: #008000\">v0.18.1</span>\n",
       "\n",
       "</pre>\n"
      ],
      "text/plain": [
       "Manim Community \u001b[32mv0.\u001b[0m\u001b[32m18.1\u001b[0m\n",
       "\n"
      ]
     },
     "metadata": {},
     "output_type": "display_data"
    },
    {
     "name": "stderr",
     "output_type": "stream",
     "text": [
      "                                                                                                               \r"
     ]
    },
    {
     "data": {
      "text/html": [
       "<video src=\"media/jupyter/WebsiteBuilding@2024-07-31@18-12-06.mp4\" controls autoplay loop style=\"max-width: 60%;\"  >\n",
       "      Your browser does not support the <code>video</code> element.\n",
       "    </video>"
      ],
      "text/plain": [
       "<IPython.core.display.Video object>"
      ]
     },
     "metadata": {},
     "output_type": "display_data"
    }
   ],
   "source": [
    "from manim import *\n",
    "\n",
    "class WebsiteBuilding(Scene):\n",
    "    def construct(self):\n",
    "        # Scene 1: Building a House\n",
    "        bricks = Text(\"Bricks, Wood, Nails\").scale(0.7)\n",
    "        house_outline = Rectangle(width=6, height=4, color=WHITE).shift(DOWN)\n",
    "        site = VGroup(bricks, house_outline)\n",
    "        self.play(Write(bricks))\n",
    "        self.play(Create(house_outline))\n",
    "        self.wait(2)\n",
    "        \n",
    "        # Scene 2: The Big Job\n",
    "        builder = Text(\"Building a house is a big job\").shift(DOWN * 2)\n",
    "        self.play(Transform(bricks, builder))\n",
    "        self.wait(2)\n",
    "        \n",
    "        # Scene 3: Introduction of Express.js\n",
    "        toolbox = Text(\"Express.js\", color=BLUE).scale(1.5).shift(UP)\n",
    "        tools = Text(\"Pre-built Tools\", color=YELLOW).shift(DOWN)\n",
    "        self.play(Transform(builder, toolbox))\n",
    "        self.play(Write(tools))\n",
    "        self.wait(2)\n",
    "        \n",
    "        # Scene 4: Simplification\n",
    "        website = Text(\"Website in Progress\", color=GREEN).shift(UP * 2)\n",
    "        self.play(Transform(tools, website))\n",
    "        self.wait(2)\n",
    "        \n",
    "        # Scene 5: Fun Stuff\n",
    "        fun_text = Text(\"Decorate & Add Features\").shift(DOWN)\n",
    "        self.play(Transform(website, fun_text))\n",
    "        self.wait(2)\n",
    "        \n",
    "        # Scene 6: Conclusion\n",
    "        finished_website = Text(\"Completed Website\", color=PURPLE).scale(1.5)\n",
    "        self.play(Transform(fun_text, finished_website))\n",
    "        self.wait(2)\n",
    "%manim -ql -v CRITICAL WebsiteBuilding"
   ]
  },
  {
   "cell_type": "code",
   "execution_count": 24,
   "metadata": {},
   "outputs": [
    {
     "data": {
      "text/html": [
       "<pre style=\"white-space:pre;overflow-x:auto;line-height:normal;font-family:Menlo,'DejaVu Sans Mono',consolas,'Courier New',monospace\">Manim Community <span style=\"color: #008000; text-decoration-color: #008000\">v0.18.1</span>\n",
       "\n",
       "</pre>\n"
      ],
      "text/plain": [
       "Manim Community \u001b[32mv0.\u001b[0m\u001b[32m18.1\u001b[0m\n",
       "\n"
      ]
     },
     "metadata": {},
     "output_type": "display_data"
    },
    {
     "name": "stderr",
     "output_type": "stream",
     "text": [
      "                                                                                              \r"
     ]
    },
    {
     "ename": "AttributeError",
     "evalue": "'Camera' object has no attribute 'frame'",
     "output_type": "error",
     "traceback": [
      "\u001b[0;31m---------------------------------------------------------------------------\u001b[0m",
      "\u001b[0;31mAttributeError\u001b[0m                            Traceback (most recent call last)",
      "Cell \u001b[0;32mIn[24], line 121\u001b[0m\n\u001b[1;32m    113\u001b[0m         \u001b[38;5;28mself\u001b[39m\u001b[38;5;241m.\u001b[39mplay(\n\u001b[1;32m    114\u001b[0m             FadeOut(ordered_components),\n\u001b[1;32m    115\u001b[0m             FadeOut(toolbox),\n\u001b[1;32m    116\u001b[0m             FadeOut(toolbox_text),\n\u001b[1;32m    117\u001b[0m             \u001b[38;5;28mself\u001b[39m\u001b[38;5;241m.\u001b[39mcamera\u001b[38;5;241m.\u001b[39mframe\u001b[38;5;241m.\u001b[39manimate\u001b[38;5;241m.\u001b[39mscale(\u001b[38;5;241m2\u001b[39m)\u001b[38;5;241m.\u001b[39mmove_to(house),\n\u001b[1;32m    118\u001b[0m         )\n\u001b[1;32m    119\u001b[0m         \u001b[38;5;28mself\u001b[39m\u001b[38;5;241m.\u001b[39mwait(\u001b[38;5;241m2\u001b[39m)\n\u001b[0;32m--> 121\u001b[0m \u001b[43mget_ipython\u001b[49m\u001b[43m(\u001b[49m\u001b[43m)\u001b[49m\u001b[38;5;241;43m.\u001b[39;49m\u001b[43mrun_line_magic\u001b[49m\u001b[43m(\u001b[49m\u001b[38;5;124;43m'\u001b[39;49m\u001b[38;5;124;43mmanim\u001b[39;49m\u001b[38;5;124;43m'\u001b[39;49m\u001b[43m,\u001b[49m\u001b[43m \u001b[49m\u001b[38;5;124;43m'\u001b[39;49m\u001b[38;5;124;43m-ql -v CRITICAL ExpressJSExplanation\u001b[39;49m\u001b[38;5;124;43m'\u001b[39;49m\u001b[43m)\u001b[49m\n",
      "File \u001b[0;32m~/DevTools/Manim/manDE/lib/python3.12/site-packages/IPython/core/interactiveshell.py:2480\u001b[0m, in \u001b[0;36mInteractiveShell.run_line_magic\u001b[0;34m(self, magic_name, line, _stack_depth)\u001b[0m\n\u001b[1;32m   2478\u001b[0m     kwargs[\u001b[38;5;124m'\u001b[39m\u001b[38;5;124mlocal_ns\u001b[39m\u001b[38;5;124m'\u001b[39m] \u001b[38;5;241m=\u001b[39m \u001b[38;5;28mself\u001b[39m\u001b[38;5;241m.\u001b[39mget_local_scope(stack_depth)\n\u001b[1;32m   2479\u001b[0m \u001b[38;5;28;01mwith\u001b[39;00m \u001b[38;5;28mself\u001b[39m\u001b[38;5;241m.\u001b[39mbuiltin_trap:\n\u001b[0;32m-> 2480\u001b[0m     result \u001b[38;5;241m=\u001b[39m \u001b[43mfn\u001b[49m\u001b[43m(\u001b[49m\u001b[38;5;241;43m*\u001b[39;49m\u001b[43margs\u001b[49m\u001b[43m,\u001b[49m\u001b[43m \u001b[49m\u001b[38;5;241;43m*\u001b[39;49m\u001b[38;5;241;43m*\u001b[39;49m\u001b[43mkwargs\u001b[49m\u001b[43m)\u001b[49m\n\u001b[1;32m   2482\u001b[0m \u001b[38;5;66;03m# The code below prevents the output from being displayed\u001b[39;00m\n\u001b[1;32m   2483\u001b[0m \u001b[38;5;66;03m# when using magics with decorator @output_can_be_silenced\u001b[39;00m\n\u001b[1;32m   2484\u001b[0m \u001b[38;5;66;03m# when the last Python token in the expression is a ';'.\u001b[39;00m\n\u001b[1;32m   2485\u001b[0m \u001b[38;5;28;01mif\u001b[39;00m \u001b[38;5;28mgetattr\u001b[39m(fn, magic\u001b[38;5;241m.\u001b[39mMAGIC_OUTPUT_CAN_BE_SILENCED, \u001b[38;5;28;01mFalse\u001b[39;00m):\n",
      "File \u001b[0;32m~/DevTools/Manim/manDE/lib/python3.12/site-packages/manim/utils/ipython_magic.py:143\u001b[0m, in \u001b[0;36mManimMagic.manim\u001b[0;34m(self, line, cell, local_ns)\u001b[0m\n\u001b[1;32m    141\u001b[0m     SceneClass \u001b[38;5;241m=\u001b[39m local_ns[config[\u001b[38;5;124m\"\u001b[39m\u001b[38;5;124mscene_names\u001b[39m\u001b[38;5;124m\"\u001b[39m][\u001b[38;5;241m0\u001b[39m]]\n\u001b[1;32m    142\u001b[0m     scene \u001b[38;5;241m=\u001b[39m SceneClass(renderer\u001b[38;5;241m=\u001b[39mrenderer)\n\u001b[0;32m--> 143\u001b[0m     \u001b[43mscene\u001b[49m\u001b[38;5;241;43m.\u001b[39;49m\u001b[43mrender\u001b[49m\u001b[43m(\u001b[49m\u001b[43m)\u001b[49m\n\u001b[1;32m    144\u001b[0m \u001b[38;5;28;01mfinally\u001b[39;00m:\n\u001b[1;32m    145\u001b[0m     \u001b[38;5;66;03m# Shader cache becomes invalid as the context is destroyed\u001b[39;00m\n\u001b[1;32m    146\u001b[0m     shader_program_cache\u001b[38;5;241m.\u001b[39mclear()\n",
      "File \u001b[0;32m~/DevTools/Manim/manDE/lib/python3.12/site-packages/manim/scene/scene.py:229\u001b[0m, in \u001b[0;36mScene.render\u001b[0;34m(self, preview)\u001b[0m\n\u001b[1;32m    227\u001b[0m \u001b[38;5;28mself\u001b[39m\u001b[38;5;241m.\u001b[39msetup()\n\u001b[1;32m    228\u001b[0m \u001b[38;5;28;01mtry\u001b[39;00m:\n\u001b[0;32m--> 229\u001b[0m     \u001b[38;5;28;43mself\u001b[39;49m\u001b[38;5;241;43m.\u001b[39;49m\u001b[43mconstruct\u001b[49m\u001b[43m(\u001b[49m\u001b[43m)\u001b[49m\n\u001b[1;32m    230\u001b[0m \u001b[38;5;28;01mexcept\u001b[39;00m EndSceneEarlyException:\n\u001b[1;32m    231\u001b[0m     \u001b[38;5;28;01mpass\u001b[39;00m\n",
      "Cell \u001b[0;32mIn[24], line 53\u001b[0m, in \u001b[0;36mExpressJSExplanation.construct\u001b[0;34m(self)\u001b[0m\n\u001b[1;32m     51\u001b[0m \u001b[38;5;28mself\u001b[39m\u001b[38;5;241m.\u001b[39mplay(Create(house))\n\u001b[1;32m     52\u001b[0m \u001b[38;5;28mself\u001b[39m\u001b[38;5;241m.\u001b[39mplay(FadeIn(components))\n\u001b[0;32m---> 53\u001b[0m \u001b[38;5;28mself\u001b[39m\u001b[38;5;241m.\u001b[39mplay(\u001b[38;5;28;43mself\u001b[39;49m\u001b[38;5;241;43m.\u001b[39;49m\u001b[43mcamera\u001b[49m\u001b[38;5;241;43m.\u001b[39;49m\u001b[43mframe\u001b[49m\u001b[38;5;241m.\u001b[39manimate\u001b[38;5;241m.\u001b[39mscale(\u001b[38;5;241m0.8\u001b[39m)\u001b[38;5;241m.\u001b[39mmove_to(house))\n\u001b[1;32m     54\u001b[0m \u001b[38;5;28mself\u001b[39m\u001b[38;5;241m.\u001b[39mwait(\u001b[38;5;241m2\u001b[39m)\n\u001b[1;32m     56\u001b[0m \u001b[38;5;66;03m# Introduce Express.js (with animation)\u001b[39;00m\n",
      "\u001b[0;31mAttributeError\u001b[0m: 'Camera' object has no attribute 'frame'"
     ]
    }
   ],
   "source": [
    "from manim import *\n",
    "\n",
    "class ExpressJSExplanation(Scene):\n",
    "    def construct(self):\n",
    "        # Constants for dimensions\n",
    "        house_size = 3\n",
    "        brick_size = 0.5\n",
    "        wood_size = 0.3  # Increased for better visibility\n",
    "        nail_size = 0.15  # Increased for better visibility\n",
    "\n",
    "        # Define colors\n",
    "        BLUE = \"#0000FF\"\n",
    "        RED_A = \"#FF0000\"\n",
    "        BROWN = \"#8B4513\"  # Define BROWN color\n",
    "        GRAY_A = \"#A9A9A9\"\n",
    "\n",
    "        # Create house model (transparent for better component visibility)\n",
    "        house = Cube(side_length=house_size, fill_color=BLUE, fill_opacity=0.7)\n",
    "        house.shift(DOWN)\n",
    "\n",
    "        # Create components with slight variations for visual interest\n",
    "        brick = Cube(side_length=brick_size, fill_color=RED_A)\n",
    "        wood = Cylinder(radius=wood_size, height=brick_size, fill_color=BROWN)\n",
    "        nail = Line(start=ORIGIN, end=UP * nail_size, color=GRAY_A)\n",
    "\n",
    "        # Helper function to generate random points within the box\n",
    "        def random_point_in_box(width, height):\n",
    "            return np.array([\n",
    "                np.random.uniform(-width / 2, width / 2),\n",
    "                np.random.uniform(-height / 2, height / 2),\n",
    "                0\n",
    "            ])\n",
    "\n",
    "        # Create chaotic scene (reduced number for smoother animation)\n",
    "        components = VGroup(\n",
    "            *[\n",
    "                brick.copy().shift(random_point_in_box(width=4, height=2.5))\n",
    "                for _ in range(15)\n",
    "            ],\n",
    "            *[\n",
    "                wood.copy().rotate(PI/4).shift(random_point_in_box(width=4, height=2.5))\n",
    "                for _ in range(10)\n",
    "            ],\n",
    "            *[\n",
    "                nail.copy().rotate(PI/3).shift(random_point_in_box(width=4, height=2.5))\n",
    "                for _ in range(20)\n",
    "            ]\n",
    "        )\n",
    "\n",
    "        # Show initial scene (camera zoom)\n",
    "        self.play(Create(house))\n",
    "        self.play(FadeIn(components))\n",
    "        self.play(self.camera.frame.animate.scale(0.8).move_to(house))\n",
    "        self.wait(2)\n",
    "\n",
    "        # Introduce Express.js (with animation)\n",
    "        toolbox = Rectangle(width=2, height=1.5, fill_color=GREEN)\n",
    "        toolbox.to_corner(RIGHT + UP)\n",
    "        toolbox_text = Text(\"Express.js\", font=\"Times New Roman\").next_to(toolbox, UP)\n",
    "\n",
    "        self.play(FadeIn(toolbox))\n",
    "        self.play(Write(toolbox_text))\n",
    "        self.wait(2)\n",
    "\n",
    "        # Show transformation (with highlighting)\n",
    "        ordered_components = VGroup(\n",
    "            *[brick.copy() for _ in range(15)],\n",
    "            *[wood.copy().rotate(PI/4) for _ in range(10)],\n",
    "            *[nail.copy().rotate(PI/3) for _ in range(20)]\n",
    "        )\n",
    "        ordered_components.arrange_in_grid(rows=4, buff_row=0.5, buff_col=0.5)\n",
    "        ordered_components.next_to(toolbox, LEFT)\n",
    "\n",
    "        highlight = Rectangle(color=YELLOW, fill_opacity=0.5)\n",
    "        highlight.scale(1.1)  # Slightly larger than component\n",
    "\n",
    "        self.play(TransformMatchingShapes(components, ordered_components))\n",
    "        self.play(\n",
    "            FadeIn(highlight.copy().move_to(ordered_components[0])), run_time=0.2\n",
    "        )\n",
    "        for i in range(1, len(ordered_components)):\n",
    "            self.play(\n",
    "                FadeOut(highlight.copy().move_to(ordered_components[i - 1])),\n",
    "                FadeIn(highlight.copy().move_to(ordered_components[i])),\n",
    "                run_time=0.2,\n",
    "            )\n",
    "        self.wait(2)\n",
    "\n",
    "        # Build house (with smoother animation)\n",
    "        building_process = AnimationGroup(\n",
    "            *[\n",
    "                Create(brick.copy().shift(ordered_components[i].get_center()), lag_ratio=0.1)\n",
    "                for i in range(15)\n",
    "            ]\n",
    "        )\n",
    "        wood_process = AnimationGroup(\n",
    "            *[\n",
    "                Create(wood.copy().rotate(PI/4).shift(ordered_components[i + 15].get_center()), lag_ratio=0.2)\n",
    "                for i in range(10)\n",
    "            ]\n",
    "        )\n",
    "        nail_process = AnimationGroup(\n",
    "            *[\n",
    "                Create(nail.copy().rotate(PI/3).shift(ordered_components[i + 25].get_center()), lag_ratio=0.3)\n",
    "                for i in range(20)\n",
    "            ]\n",
    "        )\n",
    "\n",
    "        self.play(building_process, wood_process, nail_process)\n",
    "        self.wait(2)\n",
    "\n",
    "        # Final shot\n",
    "        self.play(\n",
    "            FadeOut(ordered_components),\n",
    "            FadeOut(toolbox),\n",
    "            FadeOut(toolbox_text),\n",
    "            self.camera.frame.animate.scale(2).move_to(house),\n",
    "        )\n",
    "        self.wait(2)\n",
    "\n",
    "%manim -ql -v CRITICAL ExpressJSExplanation"
   ]
  },
  {
   "cell_type": "code",
   "execution_count": null,
   "metadata": {},
   "outputs": [],
   "source": []
  }
 ],
 "metadata": {
  "kernelspec": {
   "display_name": "manDE",
   "language": "python",
   "name": "python3"
  },
  "language_info": {
   "codemirror_mode": {
    "name": "ipython",
    "version": 3
   },
   "file_extension": ".py",
   "mimetype": "text/x-python",
   "name": "python",
   "nbconvert_exporter": "python",
   "pygments_lexer": "ipython3",
   "version": "3.12.4"
  }
 },
 "nbformat": 4,
 "nbformat_minor": 2
}
