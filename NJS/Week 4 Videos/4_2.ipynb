{
 "cells": [
  {
   "cell_type": "code",
   "execution_count": 13,
   "metadata": {},
   "outputs": [
    {
     "data": {
      "text/html": [
       "<pre style=\"white-space:pre;overflow-x:auto;line-height:normal;font-family:Menlo,'DejaVu Sans Mono',consolas,'Courier New',monospace\">Manim Community <span style=\"color: #008000; text-decoration-color: #008000\">v0.18.1</span>\n",
       "\n",
       "</pre>\n"
      ],
      "text/plain": [
       "Manim Community \u001b[32mv0.\u001b[0m\u001b[32m18.1\u001b[0m\n",
       "\n"
      ]
     },
     "metadata": {},
     "output_type": "display_data"
    },
    {
     "name": "stderr",
     "output_type": "stream",
     "text": [
      "                                                                                            \r"
     ]
    },
    {
     "data": {
      "text/html": [
       "<video src=\"media/jupyter/ES5vsES6FunctionSyntax@2024-08-02@11-49-03.mp4\" controls autoplay loop style=\"max-width: 60%;\"  >\n",
       "      Your browser does not support the <code>video</code> element.\n",
       "    </video>"
      ],
      "text/plain": [
       "<IPython.core.display.Video object>"
      ]
     },
     "metadata": {},
     "output_type": "display_data"
    }
   ],
   "source": [
    "from manim import *\n",
    "\n",
    "class ES5vsES6FunctionSyntax(Scene):\n",
    "    def construct(self):\n",
    "        title = Text(\"Arrow Functions\").shift(UP*3.5)\n",
    "        self.play(Write(title))\n",
    "        # Define the JavaScript code\n",
    "        code = '''\n",
    "// ES5\n",
    "var add = function (num1, num2) {\n",
    "    return num1 + num2;\n",
    "}\n",
    "// ES6\n",
    "var add = (num1, num2) => {\n",
    "    return num1 + num2;\n",
    "}\n",
    "//ES6 implicit return\n",
    "var add = (num1, num2) => num1 + num2;\n",
    "\n",
    "'''.strip()\n",
    "\n",
    "\n",
    "        # Create a Code object\n",
    "        rendered_code = Code(code=code, tab_width=4, background=\"window\",\n",
    "                             language=\"javascript\", font=\"Monospace\",\n",
    "                             line_spacing=0.5, style=\"monokai\")\n",
    "\n",
    "        # Position the code on the screen\n",
    "        rendered_code.to_edge(UP).scale(0.7).to_edge(LEFT).shift(DOWN)\n",
    "        rendered_code.code = remove_invisible_chars(rendered_code.code)\n",
    "\n",
    "        # Add the code to the scene\n",
    "        self.play(Create(rendered_code))\n",
    "        self.wait(1)\n",
    "\n",
    "        # Create explanations\n",
    "        explanations = [\n",
    "            \"ES5 function declaration\",\n",
    "            \"Declare a function add with arguments\\nnum1, num2 and an explicit return\",\n",
    "            \"ES6 Arrow function declaration\",\n",
    "            \"We don't use the keyword function\\nwe add the => arrow operator\",\n",
    "            \"\\nWe can remove the return keyword\\nthen use one line only\\nthis is called implicit return\"\n",
    "        ]\n",
    "\n",
    "        # Create and position explanation text objects\n",
    "        explanation_texts = [\n",
    "            Text(exp, font_size=24).next_to(rendered_code, RIGHT).shift(DOWN * (i) * 1).shift(UP*1.5)\n",
    "            for i, exp in enumerate(explanations)\n",
    "        ]\n",
    "\n",
    "        # Define which lines to highlight for each explanation\n",
    "        highlight_lines = [\n",
    "            [0],\n",
    "            [1, 2, 3],\n",
    "            [4],\n",
    "            [5, 6, 7],\n",
    "            [9]\n",
    "        ]\n",
    "\n",
    "        # Create highlight rectangles\n",
    "        margin = 0.1\n",
    "        highlight_rects = [\n",
    "            Rectangle(\n",
    "                width=max([rendered_code.code[lines[i]].width for i in range(len(lines))])+margin,\n",
    "                height=0.25*len(lines)+margin,\n",
    "                color=YELLOW,\n",
    "                fill_opacity=0.3\n",
    "            ).align_to(\n",
    "                # (rendered_code.code[lines[0]].get_top() + rendered_code.code[lines[-1]].get_bottom()) / 2\n",
    "                rendered_code.code[lines[0]], UL\n",
    "            ).shift(UP*margin/2 + LEFT*margin/2)\n",
    "            for lines in highlight_lines\n",
    "        ]\n",
    "\n",
    "        # Animate highlights and explanations\n",
    "        for rect, text in zip(highlight_rects, explanation_texts):\n",
    "            self.play(\n",
    "                FadeIn(rect),\n",
    "                Write(text)\n",
    "            )\n",
    "            self.wait(2)\n",
    "            self.play(\n",
    "                FadeOut(rect),\n",
    "                # FadeOut(text)\n",
    "            )\n",
    "\n",
    "        self.wait(1)\n",
    " \n",
    "%manim -qh -v CRITICAL  ES5vsES6FunctionSyntax"
   ]
  },
  {
   "cell_type": "code",
   "execution_count": 3,
   "metadata": {},
   "outputs": [
    {
     "data": {
      "text/html": [
       "<pre style=\"white-space:pre;overflow-x:auto;line-height:normal;font-family:Menlo,'DejaVu Sans Mono',consolas,'Courier New',monospace\">Manim Community <span style=\"color: #008000; text-decoration-color: #008000\">v0.18.1</span>\n",
       "\n",
       "</pre>\n"
      ],
      "text/plain": [
       "Manim Community \u001b[32mv0.\u001b[0m\u001b[32m18.1\u001b[0m\n",
       "\n"
      ]
     },
     "metadata": {},
     "output_type": "display_data"
    },
    {
     "data": {
      "image/png": "[encoded data removed]",
      "text/plain": [
       "<IPython.core.display.Image object>"
      ]
     },
     "metadata": {},
     "output_type": "display_data"
    }
   ],
   "source": [
    "from manim import * \n",
    "class test(Scene):\n",
    "    def construct(self):\n",
    "        grid = NumberPlane()\n",
    "        center_point = Dot(grid.get_center(), color=RED)\n",
    "        self.add(grid, center_point)\n",
    "\n",
    "        rect1 = Rectangle(width=1, height=1).align_to(UP*2+LEFT*2, UL)\n",
    "        rect2 = Rectangle(width=1, height=1).align_to(rect1, UL)\n",
    "\n",
    "        self.add(rect1, rect2)\n",
    "\n",
    "%manim -ql -v CRITICAL test"
   ]
  }
 ],
 "metadata": {
  "kernelspec": {
   "display_name": "manDE",
   "language": "python",
   "name": "python3"
  },
  "language_info": {
   "codemirror_mode": {
    "name": "ipython",
    "version": 3
   },
   "file_extension": ".py",
   "mimetype": "text/x-python",
   "name": "python",
   "nbconvert_exporter": "python",
   "pygments_lexer": "ipython3",
   "version": "3.12.4"
  }
 },
 "nbformat": 4,
 "nbformat_minor": 2
}
