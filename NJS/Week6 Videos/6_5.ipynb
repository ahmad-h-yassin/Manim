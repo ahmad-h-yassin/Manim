{
 "cells": [
  {
   "cell_type": "code",
   "execution_count": 1,
   "metadata": {},
   "outputs": [
    {
     "data": {
      "text/html": [
       "<pre style=\"white-space:pre;overflow-x:auto;line-height:normal;font-family:Menlo,'DejaVu Sans Mono',consolas,'Courier New',monospace\">Manim Community <span style=\"color: #008000; text-decoration-color: #008000\">v0.18.1</span>\n",
       "\n",
       "</pre>\n"
      ],
      "text/plain": [
       "Manim Community \u001b[32mv0.\u001b[0m\u001b[32m18.1\u001b[0m\n",
       "\n"
      ]
     },
     "metadata": {},
     "output_type": "display_data"
    },
    {
     "name": "stderr",
     "output_type": "stream",
     "text": [
      "                                                                                                             \r"
     ]
    },
    {
     "data": {
      "text/html": [
       "<video src=\"media/jupyter/MongooseSchemaSetup@2024-09-08@11-48-38.mp4\" controls autoplay loop style=\"max-width: 60%;\"  >\n",
       "      Your browser does not support the <code>video</code> element.\n",
       "    </video>"
      ],
      "text/plain": [
       "<IPython.core.display.Video object>"
      ]
     },
     "metadata": {},
     "output_type": "display_data"
    }
   ],
   "source": [
    "from manim import *\n",
    "\n",
    "class MongooseSchemaSetup(Scene):\n",
    "    def construct(self):\n",
    "        # Title\n",
    "        title = Text(\"Mongoose Schema Setup\", font_size=36, color=WHITE)\n",
    "        self.play(Write(title))\n",
    "        self.play(title.animate.to_edge(UP))\n",
    "        \n",
    "        # Define the JavaScript code\n",
    "        code = '''\n",
    "const mongoose = require(\"mongoose\");\n",
    "const Schema = mongoose.Schema;\n",
    "\n",
    "const articleSchema = new Schema({\n",
    "    title: String,\n",
    "    body: String,\n",
    "    numberOfLikes: Number,\n",
    "});\n",
    "\n",
    "const Article = mongoose.model(\"Article\", articleSchema);\n",
    "\n",
    "module.exports = Article;\n",
    "        '''.strip()\n",
    "\n",
    "        # Create a Code object\n",
    "        rendered_code = Code(code=code, tab_width=4, background=\"window\",\n",
    "                             language=\"javascript\", font=\"Monospace\",\n",
    "                             line_spacing=0.5, style=\"monokai\")\n",
    "\n",
    "        # Position the code below the title\n",
    "        rendered_code.scale(0.6).next_to(title, DOWN, buff=0.5).to_edge(LEFT)\n",
    "        rendered_code.code = remove_invisible_chars(rendered_code.code)\n",
    "\n",
    "        # Add the code to the scene\n",
    "        self.play(Create(rendered_code))\n",
    "        self.wait(1)\n",
    "\n",
    "        # Create explanations\n",
    "        explanations = [\n",
    "            \"Import Mongoose and \\nget Schema constructor\",\n",
    "            \"Define Article schema with fields\",\n",
    "            \"Create Mongoose model \\nfrom schema\",\n",
    "            \"Export the Article model\"\n",
    "        ]\n",
    "\n",
    "        # Create and position explanation text objects\n",
    "        explanation_texts = [\n",
    "            Text(exp, font_size=24, color=WHITE).next_to(rendered_code, RIGHT).shift(DOWN * (i) * 0.8).shift(UP*1.5)\n",
    "            for i, exp in enumerate(explanations)\n",
    "        ]\n",
    "\n",
    "        # Define which lines to highlight for each explanation\n",
    "        highlight_lines = [\n",
    "            [0, 1],\n",
    "            [3, 4, 5, 6, 7],\n",
    "            [9],\n",
    "            [11]\n",
    "        ]\n",
    "\n",
    "        margin = 0.1\n",
    "\n",
    "        # Create highlight rectangles\n",
    "        highlight_rects = [\n",
    "            Rectangle(\n",
    "                width=rendered_code.width,\n",
    "                height=0.23*len(lines),\n",
    "                color=YELLOW,\n",
    "                fill_opacity=0.3\n",
    "            ).align_to(rendered_code.code[lines[0]], UL).align_to(rendered_code, LEFT).shift(UP*margin/2)\n",
    "            for lines in highlight_lines\n",
    "        ]\n",
    "\n",
    "        # Animate highlights and explanations\n",
    "        for rect, text in zip(highlight_rects, explanation_texts):\n",
    "            self.play(\n",
    "                FadeIn(rect),\n",
    "                Write(text)\n",
    "            )\n",
    "            self.wait(2)\n",
    "            self.play(\n",
    "                FadeOut(rect),\n",
    "                # FadeOut(text)\n",
    "            )\n",
    "            self.wait(1)\n",
    "        \n",
    "        # Bottom Line\n",
    "        bottom_line = Line(start=LEFT * 3, end=RIGHT * 3, color=WHITE)\n",
    "        bottom_line.to_edge(DOWN, buff=0.5)\n",
    "        self.play(Create(bottom_line))\n",
    "        \n",
    "        # Wait before finishing\n",
    "        self.wait(2)\n",
    "        self.play(FadeOut(title), FadeOut(rendered_code), FadeOut(bottom_line), *[FadeOut(text) for text in explanation_texts])\n",
    "\n",
    "%manim -qh -v CRITICAL MongooseSchemaSetup"
   ]
  }
 ],
 "metadata": {
  "kernelspec": {
   "display_name": "manDE",
   "language": "python",
   "name": "python3"
  },
  "language_info": {
   "codemirror_mode": {
    "name": "ipython",
    "version": 3
   },
   "file_extension": ".py",
   "mimetype": "text/x-python",
   "name": "python",
   "nbconvert_exporter": "python",
   "pygments_lexer": "ipython3",
   "version": "3.12.4"
  }
 },
 "nbformat": 4,
 "nbformat_minor": 2
}
