{
 "cells": [
  {
   "cell_type": "code",
   "execution_count": 13,
   "metadata": {},
   "outputs": [
    {
     "data": {
      "text/html": [
       "<pre style=\"white-space:pre;overflow-x:auto;line-height:normal;font-family:Menlo,'DejaVu Sans Mono',consolas,'Courier New',monospace\">Manim Community <span style=\"color: #008000; text-decoration-color: #008000\">v0.18.1</span>\n",
       "\n",
       "</pre>\n"
      ],
      "text/plain": [
       "Manim Community \u001b[32mv0.\u001b[0m\u001b[32m18.1\u001b[0m\n",
       "\n"
      ]
     },
     "metadata": {},
     "output_type": "display_data"
    },
    {
     "name": "stderr",
     "output_type": "stream",
     "text": [
      "                                                                                                                                            \r"
     ]
    },
    {
     "data": {
      "text/html": [
       "<video src=\"media/jupyter/ORMvsODM@2024-09-01@00-26-27.mp4\" controls autoplay loop style=\"max-width: 60%;\"  >\n",
       "      Your browser does not support the <code>video</code> element.\n",
       "    </video>"
      ],
      "text/plain": [
       "<IPython.core.display.Video object>"
      ]
     },
     "metadata": {},
     "output_type": "display_data"
    }
   ],
   "source": [
    "from manim import *\n",
    "\n",
    "class IntroScene(Scene):\n",
    "    def construct(self):\n",
    "        title = Text(\"ORM vs ODM\", font_size=72)\n",
    "        subtitle = Text(\"Object-Relational Mapping vs Object-Document Mapping\", font_size=36)\n",
    "        subtitle.next_to(title, DOWN)\n",
    "        \n",
    "        self.play(Write(title))\n",
    "        self.play(FadeIn(subtitle))\n",
    "        self.wait(2)\n",
    "        self.play(FadeOut(title), FadeOut(subtitle))\n",
    "\n",
    "class DefinitionScene(Scene):\n",
    "    def construct(self):\n",
    "        orm_title = Text(\"ORM\", color=BLUE, font_size=48)\n",
    "        orm_def = Text(\"Object-Relational Mapping\", font_size=36)\n",
    "        orm_group = VGroup(orm_title, orm_def).arrange(DOWN)\n",
    "        \n",
    "        odm_title = Text(\"ODM\", color=GREEN, font_size=48)\n",
    "        odm_def = Text(\"Object-Document Mapping\", font_size=36)\n",
    "        odm_group = VGroup(odm_title, odm_def).arrange(DOWN)\n",
    "        \n",
    "        definitions = VGroup(orm_group, odm_group).arrange(RIGHT, buff=1)\n",
    "        \n",
    "        self.play(Write(orm_title), Write(odm_title))\n",
    "        self.play(FadeIn(orm_def), FadeIn(odm_def))\n",
    "        self.wait(2)\n",
    "        self.play(FadeOut(definitions))\n",
    "\n",
    "class DatabaseTypesScene(Scene):\n",
    "    def construct(self):\n",
    "        title = Text(\"Database Types\", font_size=48)\n",
    "        self.play(Write(title))\n",
    "        self.play(title.animate.to_edge(UP))\n",
    "        \n",
    "        orm_db = Text(\"Relational Databases\", color=BLUE, font_size=36)\n",
    "        orm_examples = Text(\"MySQL, PostgreSQL, SQLite\", font_size=24)\n",
    "        orm_group = VGroup(orm_db, orm_examples).arrange(DOWN)\n",
    "        \n",
    "        odm_db = Text(\"Document Databases\", color=GREEN, font_size=36)\n",
    "        odm_examples = Text(\"MongoDB, CouchDB\", font_size=24)\n",
    "        odm_group = VGroup(odm_db, odm_examples).arrange(DOWN)\n",
    "        \n",
    "        db_groups = VGroup(orm_group, odm_group).arrange(RIGHT, buff=1)\n",
    "        \n",
    "        self.play(FadeIn(db_groups))\n",
    "        self.wait(3)\n",
    "        self.play(FadeOut(title), FadeOut(db_groups))\n",
    "\n",
    "class MappingExampleScene(Scene):\n",
    "    def construct(self):\n",
    "        # Main title\n",
    "        title = Text(\"Mapping Example\", font_size=48)\n",
    "        self.play(Write(title))\n",
    "        self.play(title.animate.to_edge(UP))\n",
    "\n",
    "        # ORM title and code block\n",
    "        orm_title = Text(\"ORM\", font_size=36)\n",
    "        orm_title.next_to(title, DOWN, buff=0.5)\n",
    "        orm_code = '''\n",
    "class User(Base):\n",
    "    __tablename__ = 'users'\n",
    "    id = Column(Integer, primary_key=True)\n",
    "    name = Column(String)\n",
    "    email = Column(String)\n",
    "        '''\n",
    "        orm_example = Code(\n",
    "            code=orm_code, \n",
    "            language=\"python\", \n",
    "            font_size=24, \n",
    "            background=\"window\", \n",
    "            insert_line_no=False, \n",
    "            style=\"monokai\"\n",
    "        )\n",
    "        orm_example.next_to(orm_title, DOWN, buff=0.1)\n",
    "\n",
    "        # ODM title and code block\n",
    "        odm_title = Text(\"ODM\", font_size=36)\n",
    "        odm_title.next_to(orm_example, DOWN, buff=0.2)\n",
    "        odm_code = '''\n",
    "class User(Document):\n",
    "    name = StringField()\n",
    "    email = StringField()\n",
    "        '''\n",
    "        odm_example = Code(\n",
    "            code=odm_code, \n",
    "            language=\"python\", \n",
    "            font_size=24, \n",
    "            background=\"window\", \n",
    "            insert_line_no=False, \n",
    "            style=\"monokai\"\n",
    "        )\n",
    "        odm_example.next_to(odm_title, DOWN, buff=0.1)\n",
    "        \n",
    "        # Display elements\n",
    "        self.play(Write(orm_title), Create(orm_example))\n",
    "        self.play(Write(odm_title), Create(odm_example))\n",
    "        self.wait(3)\n",
    "        self.play(FadeOut(title), FadeOut(orm_example), FadeOut(odm_example), FadeOut(orm_title), FadeOut(odm_title))\n",
    "\n",
    "class ComparisonScene(Scene):\n",
    "    def construct(self):\n",
    "        title = Text(\"ORM vs ODM Comparison\", font_size=48)\n",
    "        self.play(Write(title))\n",
    "        self.play(title.animate.to_edge(UP))\n",
    "        \n",
    "        comparison = VGroup(\n",
    "            Text(\"ORM\", color=BLUE),\n",
    "            Text(\"ODM\", color=GREEN)\n",
    "        ).arrange(RIGHT, buff=4).next_to(title, DOWN)\n",
    "        \n",
    "        features = [\n",
    "            \"Schema\",\n",
    "            \"Performance\",\n",
    "            \"Flexibility\",\n",
    "            \"Scalability\",\n",
    "            \"Learning Curve\"\n",
    "        ]\n",
    "        \n",
    "        orm_points = VGroup(*[Text(\"• \" + feature, font_size=24) for feature in features]).arrange(DOWN, aligned_edge=LEFT)\n",
    "        odm_points = VGroup(*[Text(\"• \" + feature, font_size=24) for feature in features]).arrange(DOWN, aligned_edge=LEFT)\n",
    "        \n",
    "        orm_points.next_to(comparison[0], DOWN, buff=0.5)\n",
    "        odm_points.next_to(comparison[1], DOWN, buff=0.5)\n",
    "        \n",
    "        self.play(Write(comparison))\n",
    "        self.play(Create(orm_points), Create(odm_points))\n",
    "        \n",
    "        self.wait(3)\n",
    "        self.play(FadeOut(title), FadeOut(comparison), FadeOut(orm_points), FadeOut(odm_points))\n",
    "        \n",
    "class ConclusionScene(Scene):\n",
    "    def construct(self):\n",
    "        # Title\n",
    "        title = Text(\"Choosing Between ORM and ODM\", font_size=48)\n",
    "        self.play(Write(title))\n",
    "        self.play(title.animate.to_edge(UP))\n",
    "        \n",
    "        # ORM Use Cases\n",
    "        orm_use = Text(\"Use ORM when:\", color=BLUE, font_size=36)\n",
    "        orm_cases = BulletedList(\n",
    "            \"Working with relational databases\", \n",
    "            \"Need for complex queries\", \n",
    "            \"ACID compliance is crucial\"\n",
    "        )\n",
    "        orm_group = VGroup(orm_use, orm_cases).arrange(DOWN, aligned_edge=LEFT)\n",
    "        orm_group.next_to(title, DOWN).to_edge(LEFT)\n",
    "        \n",
    "        # ODM Use Cases\n",
    "        odm_use = Text(\"Use ODM when:\", color=GREEN, font_size=36)\n",
    "        odm_cases = BulletedList(\n",
    "            \"Working with document databases\", \n",
    "            \"Need for schema flexibility\", \n",
    "            \"Handling large amounts of unstructured data\"\n",
    "        )\n",
    "        odm_group = VGroup(odm_use, odm_cases).arrange(DOWN, aligned_edge=LEFT)\n",
    "        odm_group.next_to(orm_group, DOWN).to_edge(LEFT)\n",
    "        \n",
    "        # Animate title and headers\n",
    "        self.play(Write(orm_use), Write(odm_use))\n",
    "        \n",
    "        # Animate ORM cases one by one\n",
    "        for case in orm_cases:\n",
    "            self.play(Write(case))\n",
    "        \n",
    "        # Animate ODM cases one by one\n",
    "        for case in odm_cases:\n",
    "            self.play(Write(case))\n",
    "        \n",
    "        # Wait before fading out\n",
    "        self.wait(5)\n",
    "        self.play(FadeOut(title), FadeOut(orm_group), FadeOut(odm_group))\n",
    "\n",
    "class ORMvsODM(Scene):\n",
    "    def construct(self):\n",
    "        IntroScene.construct(self)\n",
    "        DefinitionScene.construct(self)\n",
    "        DatabaseTypesScene.construct(self)\n",
    "        MappingExampleScene.construct(self)\n",
    "        ComparisonScene.construct(self)\n",
    "        ConclusionScene.construct(self)\n",
    "\n",
    "%manim -ql -v CRITICAL ORMvsODM"
   ]
  },
  {
   "cell_type": "code",
   "execution_count": 3,
   "metadata": {},
   "outputs": [
    {
     "data": {
      "text/html": [
       "<pre style=\"white-space:pre;overflow-x:auto;line-height:normal;font-family:Menlo,'DejaVu Sans Mono',consolas,'Courier New',monospace\">Manim Community <span style=\"color: #008000; text-decoration-color: #008000\">v0.18.1</span>\n",
       "\n",
       "</pre>\n"
      ],
      "text/plain": [
       "Manim Community \u001b[32mv0.\u001b[0m\u001b[32m18.1\u001b[0m\n",
       "\n"
      ]
     },
     "metadata": {},
     "output_type": "display_data"
    },
    {
     "name": "stderr",
     "output_type": "stream",
     "text": [
      "                                                                       \r"
     ]
    },
    {
     "data": {
      "text/html": [
       "<pre style=\"white-space:pre;overflow-x:auto;line-height:normal;font-family:Menlo,'DejaVu Sans Mono',consolas,'Courier New',monospace\"><span style=\"color: #7fbfbf; text-decoration-color: #7fbfbf\">[08/30/24 20:43:01] </span><span style=\"color: #008000; text-decoration-color: #008000\">INFO    </span> Animation <span style=\"color: #008000; text-decoration-color: #008000\">0</span> : Partial movie file written in                   <a href=\"file:///home/ah/DevTools/Manim/manDE/lib/python3.12/site-packages/manim/scene/scene_file_writer.py\" target=\"_blank\"><span style=\"color: #7f7f7f; text-decoration-color: #7f7f7f\">scene_file_writer.py</span></a><span style=\"color: #7f7f7f; text-decoration-color: #7f7f7f\">:</span><a href=\"file:///home/ah/DevTools/Manim/manDE/lib/python3.12/site-packages/manim/scene/scene_file_writer.py#527\" target=\"_blank\"><span style=\"color: #7f7f7f; text-decoration-color: #7f7f7f\">527</span></a>\n",
       "<span style=\"color: #7fbfbf; text-decoration-color: #7fbfbf\">                    </span>         <span style=\"color: #008000; text-decoration-color: #008000\">'/home/ah/DevTools/Manim/NJS/Week6 Videos/media/videos/Week6 </span> <span style=\"color: #7f7f7f; text-decoration-color: #7f7f7f\">                        </span>\n",
       "<span style=\"color: #7fbfbf; text-decoration-color: #7fbfbf\">                    </span>         <span style=\"color: #008000; text-decoration-color: #008000\">Videos/480p15/partial_movie_files/ORM/1185818338_2087111555_2</span> <span style=\"color: #7f7f7f; text-decoration-color: #7f7f7f\">                        </span>\n",
       "<span style=\"color: #7fbfbf; text-decoration-color: #7fbfbf\">                    </span>         <span style=\"color: #008000; text-decoration-color: #008000\">23132457.mp4'</span>                                                 <span style=\"color: #7f7f7f; text-decoration-color: #7f7f7f\">                        </span>\n",
       "</pre>\n"
      ],
      "text/plain": [
       "\u001b[2;36m[08/30/24 20:43:01]\u001b[0m\u001b[2;36m \u001b[0m\u001b[32mINFO    \u001b[0m Animation \u001b[32m0\u001b[0m : Partial movie file written in                   \u001b]8;id=471673;file:///home/ah/DevTools/Manim/manDE/lib/python3.12/site-packages/manim/scene/scene_file_writer.py\u001b\\\u001b[2mscene_file_writer.py\u001b[0m\u001b]8;;\u001b\\\u001b[2m:\u001b[0m\u001b]8;id=385858;file:///home/ah/DevTools/Manim/manDE/lib/python3.12/site-packages/manim/scene/scene_file_writer.py#527\u001b\\\u001b[2m527\u001b[0m\u001b]8;;\u001b\\\n",
       "\u001b[2;36m                    \u001b[0m         \u001b[32m'/home/ah/DevTools/Manim/NJS/Week6 Videos/media/videos/Week6 \u001b[0m \u001b[2m                        \u001b[0m\n",
       "\u001b[2;36m                    \u001b[0m         \u001b[32mVideos/480p15/partial_movie_files/ORM/1185818338_2087111555_2\u001b[0m \u001b[2m                        \u001b[0m\n",
       "\u001b[2;36m                    \u001b[0m         \u001b[32m23132457.mp4'\u001b[0m                                                 \u001b[2m                        \u001b[0m\n"
      ]
     },
     "metadata": {},
     "output_type": "display_data"
    },
    {
     "name": "stderr",
     "output_type": "stream",
     "text": [
      "                                                                                           \r"
     ]
    },
    {
     "data": {
      "text/html": [
       "<pre style=\"white-space:pre;overflow-x:auto;line-height:normal;font-family:Menlo,'DejaVu Sans Mono',consolas,'Courier New',monospace\"><span style=\"color: #7fbfbf; text-decoration-color: #7fbfbf\">[08/30/24 20:43:05] </span><span style=\"color: #008000; text-decoration-color: #008000\">INFO    </span> Animation <span style=\"color: #008000; text-decoration-color: #008000\">1</span> : Partial movie file written in                   <a href=\"file:///home/ah/DevTools/Manim/manDE/lib/python3.12/site-packages/manim/scene/scene_file_writer.py\" target=\"_blank\"><span style=\"color: #7f7f7f; text-decoration-color: #7f7f7f\">scene_file_writer.py</span></a><span style=\"color: #7f7f7f; text-decoration-color: #7f7f7f\">:</span><a href=\"file:///home/ah/DevTools/Manim/manDE/lib/python3.12/site-packages/manim/scene/scene_file_writer.py#527\" target=\"_blank\"><span style=\"color: #7f7f7f; text-decoration-color: #7f7f7f\">527</span></a>\n",
       "<span style=\"color: #7fbfbf; text-decoration-color: #7fbfbf\">                    </span>         <span style=\"color: #008000; text-decoration-color: #008000\">'/home/ah/DevTools/Manim/NJS/Week6 Videos/media/videos/Week6 </span> <span style=\"color: #7f7f7f; text-decoration-color: #7f7f7f\">                        </span>\n",
       "<span style=\"color: #7fbfbf; text-decoration-color: #7fbfbf\">                    </span>         <span style=\"color: #008000; text-decoration-color: #008000\">Videos/480p15/partial_movie_files/ORM/624642324_2755964238_32</span> <span style=\"color: #7f7f7f; text-decoration-color: #7f7f7f\">                        </span>\n",
       "<span style=\"color: #7fbfbf; text-decoration-color: #7fbfbf\">                    </span>         <span style=\"color: #008000; text-decoration-color: #008000\">47086517.mp4'</span>                                                 <span style=\"color: #7f7f7f; text-decoration-color: #7f7f7f\">                        </span>\n",
       "</pre>\n"
      ],
      "text/plain": [
       "\u001b[2;36m[08/30/24 20:43:05]\u001b[0m\u001b[2;36m \u001b[0m\u001b[32mINFO    \u001b[0m Animation \u001b[32m1\u001b[0m : Partial movie file written in                   \u001b]8;id=704450;file:///home/ah/DevTools/Manim/manDE/lib/python3.12/site-packages/manim/scene/scene_file_writer.py\u001b\\\u001b[2mscene_file_writer.py\u001b[0m\u001b]8;;\u001b\\\u001b[2m:\u001b[0m\u001b]8;id=741432;file:///home/ah/DevTools/Manim/manDE/lib/python3.12/site-packages/manim/scene/scene_file_writer.py#527\u001b\\\u001b[2m527\u001b[0m\u001b]8;;\u001b\\\n",
       "\u001b[2;36m                    \u001b[0m         \u001b[32m'/home/ah/DevTools/Manim/NJS/Week6 Videos/media/videos/Week6 \u001b[0m \u001b[2m                        \u001b[0m\n",
       "\u001b[2;36m                    \u001b[0m         \u001b[32mVideos/480p15/partial_movie_files/ORM/624642324_2755964238_32\u001b[0m \u001b[2m                        \u001b[0m\n",
       "\u001b[2;36m                    \u001b[0m         \u001b[32m47086517.mp4'\u001b[0m                                                 \u001b[2m                        \u001b[0m\n"
      ]
     },
     "metadata": {},
     "output_type": "display_data"
    },
    {
     "data": {
      "text/html": [
       "<pre style=\"white-space:pre;overflow-x:auto;line-height:normal;font-family:Menlo,'DejaVu Sans Mono',consolas,'Courier New',monospace\"><span style=\"color: #7fbfbf; text-decoration-color: #7fbfbf\">[08/30/24 20:43:07] </span><span style=\"color: #008000; text-decoration-color: #008000\">INFO    </span> Animation <span style=\"color: #008000; text-decoration-color: #008000\">2</span> : Partial movie file written in                   <a href=\"file:///home/ah/DevTools/Manim/manDE/lib/python3.12/site-packages/manim/scene/scene_file_writer.py\" target=\"_blank\"><span style=\"color: #7f7f7f; text-decoration-color: #7f7f7f\">scene_file_writer.py</span></a><span style=\"color: #7f7f7f; text-decoration-color: #7f7f7f\">:</span><a href=\"file:///home/ah/DevTools/Manim/manDE/lib/python3.12/site-packages/manim/scene/scene_file_writer.py#527\" target=\"_blank\"><span style=\"color: #7f7f7f; text-decoration-color: #7f7f7f\">527</span></a>\n",
       "<span style=\"color: #7fbfbf; text-decoration-color: #7fbfbf\">                    </span>         <span style=\"color: #008000; text-decoration-color: #008000\">'/home/ah/DevTools/Manim/NJS/Week6 Videos/media/videos/Week6 </span> <span style=\"color: #7f7f7f; text-decoration-color: #7f7f7f\">                        </span>\n",
       "<span style=\"color: #7fbfbf; text-decoration-color: #7fbfbf\">                    </span>         <span style=\"color: #008000; text-decoration-color: #008000\">Videos/480p15/partial_movie_files/ORM/624642324_634017564_697</span> <span style=\"color: #7f7f7f; text-decoration-color: #7f7f7f\">                        </span>\n",
       "<span style=\"color: #7fbfbf; text-decoration-color: #7fbfbf\">                    </span>         <span style=\"color: #008000; text-decoration-color: #008000\">246936.mp4'</span>                                                   <span style=\"color: #7f7f7f; text-decoration-color: #7f7f7f\">                        </span>\n",
       "</pre>\n"
      ],
      "text/plain": [
       "\u001b[2;36m[08/30/24 20:43:07]\u001b[0m\u001b[2;36m \u001b[0m\u001b[32mINFO    \u001b[0m Animation \u001b[32m2\u001b[0m : Partial movie file written in                   \u001b]8;id=641855;file:///home/ah/DevTools/Manim/manDE/lib/python3.12/site-packages/manim/scene/scene_file_writer.py\u001b\\\u001b[2mscene_file_writer.py\u001b[0m\u001b]8;;\u001b\\\u001b[2m:\u001b[0m\u001b]8;id=814902;file:///home/ah/DevTools/Manim/manDE/lib/python3.12/site-packages/manim/scene/scene_file_writer.py#527\u001b\\\u001b[2m527\u001b[0m\u001b]8;;\u001b\\\n",
       "\u001b[2;36m                    \u001b[0m         \u001b[32m'/home/ah/DevTools/Manim/NJS/Week6 Videos/media/videos/Week6 \u001b[0m \u001b[2m                        \u001b[0m\n",
       "\u001b[2;36m                    \u001b[0m         \u001b[32mVideos/480p15/partial_movie_files/ORM/624642324_634017564_697\u001b[0m \u001b[2m                        \u001b[0m\n",
       "\u001b[2;36m                    \u001b[0m         \u001b[32m246936.mp4'\u001b[0m                                                   \u001b[2m                        \u001b[0m\n"
      ]
     },
     "metadata": {},
     "output_type": "display_data"
    },
    {
     "data": {
      "text/html": [
       "<pre style=\"white-space:pre;overflow-x:auto;line-height:normal;font-family:Menlo,'DejaVu Sans Mono',consolas,'Courier New',monospace\"><span style=\"color: #7fbfbf; text-decoration-color: #7fbfbf\">                    </span><span style=\"color: #008000; text-decoration-color: #008000\">INFO    </span> Combining to Movie file.                                      <a href=\"file:///home/ah/DevTools/Manim/manDE/lib/python3.12/site-packages/manim/scene/scene_file_writer.py\" target=\"_blank\"><span style=\"color: #7f7f7f; text-decoration-color: #7f7f7f\">scene_file_writer.py</span></a><span style=\"color: #7f7f7f; text-decoration-color: #7f7f7f\">:</span><a href=\"file:///home/ah/DevTools/Manim/manDE/lib/python3.12/site-packages/manim/scene/scene_file_writer.py#617\" target=\"_blank\"><span style=\"color: #7f7f7f; text-decoration-color: #7f7f7f\">617</span></a>\n",
       "</pre>\n"
      ],
      "text/plain": [
       "\u001b[2;36m                   \u001b[0m\u001b[2;36m \u001b[0m\u001b[32mINFO    \u001b[0m Combining to Movie file.                                      \u001b]8;id=244584;file:///home/ah/DevTools/Manim/manDE/lib/python3.12/site-packages/manim/scene/scene_file_writer.py\u001b\\\u001b[2mscene_file_writer.py\u001b[0m\u001b]8;;\u001b\\\u001b[2m:\u001b[0m\u001b]8;id=940088;file:///home/ah/DevTools/Manim/manDE/lib/python3.12/site-packages/manim/scene/scene_file_writer.py#617\u001b\\\u001b[2m617\u001b[0m\u001b]8;;\u001b\\\n"
      ]
     },
     "metadata": {},
     "output_type": "display_data"
    },
    {
     "data": {
      "text/html": [
       "<pre style=\"white-space:pre;overflow-x:auto;line-height:normal;font-family:Menlo,'DejaVu Sans Mono',consolas,'Courier New',monospace\"><span style=\"color: #7fbfbf; text-decoration-color: #7fbfbf\">                    </span><span style=\"color: #008000; text-decoration-color: #008000\">INFO    </span>                                                               <a href=\"file:///home/ah/DevTools/Manim/manDE/lib/python3.12/site-packages/manim/scene/scene_file_writer.py\" target=\"_blank\"><span style=\"color: #7f7f7f; text-decoration-color: #7f7f7f\">scene_file_writer.py</span></a><span style=\"color: #7f7f7f; text-decoration-color: #7f7f7f\">:</span><a href=\"file:///home/ah/DevTools/Manim/manDE/lib/python3.12/site-packages/manim/scene/scene_file_writer.py#737\" target=\"_blank\"><span style=\"color: #7f7f7f; text-decoration-color: #7f7f7f\">737</span></a>\n",
       "<span style=\"color: #7fbfbf; text-decoration-color: #7fbfbf\">                    </span>         <span style=\"color: #808000; text-decoration-color: #808000; font-weight: bold\">File</span> ready at <span style=\"color: #008000; text-decoration-color: #008000\">'/home/ah/DevTools/Manim/NJS/Week6 </span>             <span style=\"color: #7f7f7f; text-decoration-color: #7f7f7f\">                        </span>\n",
       "<span style=\"color: #7fbfbf; text-decoration-color: #7fbfbf\">                    </span>         <span style=\"color: #008000; text-decoration-color: #008000\">Videos/media/videos/Week6 Videos/480p15/ORM.mp4'</span>              <span style=\"color: #7f7f7f; text-decoration-color: #7f7f7f\">                        </span>\n",
       "<span style=\"color: #7fbfbf; text-decoration-color: #7fbfbf\">                    </span>                                                                       <span style=\"color: #7f7f7f; text-decoration-color: #7f7f7f\">                        </span>\n",
       "</pre>\n"
      ],
      "text/plain": [
       "\u001b[2;36m                   \u001b[0m\u001b[2;36m \u001b[0m\u001b[32mINFO    \u001b[0m                                                               \u001b]8;id=982070;file:///home/ah/DevTools/Manim/manDE/lib/python3.12/site-packages/manim/scene/scene_file_writer.py\u001b\\\u001b[2mscene_file_writer.py\u001b[0m\u001b]8;;\u001b\\\u001b[2m:\u001b[0m\u001b]8;id=150407;file:///home/ah/DevTools/Manim/manDE/lib/python3.12/site-packages/manim/scene/scene_file_writer.py#737\u001b\\\u001b[2m737\u001b[0m\u001b]8;;\u001b\\\n",
       "\u001b[2;36m                    \u001b[0m         \u001b[1;33mFile\u001b[0m ready at \u001b[32m'/home/ah/DevTools/Manim/NJS/Week6 \u001b[0m             \u001b[2m                        \u001b[0m\n",
       "\u001b[2;36m                    \u001b[0m         \u001b[32mVideos/media/videos/Week6 Videos/480p15/ORM.mp4'\u001b[0m              \u001b[2m                        \u001b[0m\n",
       "\u001b[2;36m                    \u001b[0m                                                                       \u001b[2m                        \u001b[0m\n"
      ]
     },
     "metadata": {},
     "output_type": "display_data"
    },
    {
     "data": {
      "text/html": [
       "<pre style=\"white-space:pre;overflow-x:auto;line-height:normal;font-family:Menlo,'DejaVu Sans Mono',consolas,'Courier New',monospace\"><span style=\"color: #7fbfbf; text-decoration-color: #7fbfbf\">                    </span><span style=\"color: #008000; text-decoration-color: #008000\">INFO    </span> <span style=\"color: #808000; text-decoration-color: #808000; font-weight: bold\">Rendered</span> ORM                                                              <a href=\"file:///home/ah/DevTools/Manim/manDE/lib/python3.12/site-packages/manim/scene/scene.py\" target=\"_blank\"><span style=\"color: #7f7f7f; text-decoration-color: #7f7f7f\">scene.py</span></a><span style=\"color: #7f7f7f; text-decoration-color: #7f7f7f\">:</span><a href=\"file:///home/ah/DevTools/Manim/manDE/lib/python3.12/site-packages/manim/scene/scene.py#247\" target=\"_blank\"><span style=\"color: #7f7f7f; text-decoration-color: #7f7f7f\">247</span></a>\n",
       "<span style=\"color: #7fbfbf; text-decoration-color: #7fbfbf\">                    </span>         <span style=\"color: #808000; text-decoration-color: #808000; font-weight: bold\">Played</span> <span style=\"color: #008000; text-decoration-color: #008000\">3</span> <span style=\"color: #808000; text-decoration-color: #808000; font-weight: bold\">animations</span>                                                       <span style=\"color: #7f7f7f; text-decoration-color: #7f7f7f\">            </span>\n",
       "</pre>\n"
      ],
      "text/plain": [
       "\u001b[2;36m                   \u001b[0m\u001b[2;36m \u001b[0m\u001b[32mINFO    \u001b[0m \u001b[1;33mRendered\u001b[0m ORM                                                              \u001b]8;id=503301;file:///home/ah/DevTools/Manim/manDE/lib/python3.12/site-packages/manim/scene/scene.py\u001b\\\u001b[2mscene.py\u001b[0m\u001b]8;;\u001b\\\u001b[2m:\u001b[0m\u001b]8;id=986164;file:///home/ah/DevTools/Manim/manDE/lib/python3.12/site-packages/manim/scene/scene.py#247\u001b\\\u001b[2m247\u001b[0m\u001b]8;;\u001b\\\n",
       "\u001b[2;36m                    \u001b[0m         \u001b[1;33mPlayed\u001b[0m \u001b[32m3\u001b[0m \u001b[1;33manimations\u001b[0m                                                       \u001b[2m            \u001b[0m\n"
      ]
     },
     "metadata": {},
     "output_type": "display_data"
    },
    {
     "data": {
      "text/html": [
       "<video src=\"media/jupyter/ORM@2024-08-30@20-43-07.mp4\" controls autoplay loop style=\"max-width: 60%;\"  >\n",
       "      Your browser does not support the <code>video</code> element.\n",
       "    </video>"
      ],
      "text/plain": [
       "<IPython.core.display.Video object>"
      ]
     },
     "metadata": {},
     "output_type": "display_data"
    }
   ],
   "source": [
    "from manim import *\n",
    "\n",
    "class ORM(Scene):\n",
    "    def construct(self):\n",
    "        title = Text(\"ORM\").scale(1.5).to_edge(UP)\n",
    "        self.play(Write(title))\n",
    "        \n",
    "        code = Code(\n",
    "            code=\"\"\"from sqlalchemy import create_engine, Column, Integer, String, Sequence\n",
    "from sqlalchemy.ext.declarative import declarative_base\n",
    "from sqlalchemy.orm import sessionmaker\n",
    "\n",
    "Base = declarative_base()\n",
    "\n",
    "class User(Base):\n",
    "    __tablename__ = 'users'\n",
    "    id = Column(Integer, Sequence('user_id_seq'), primary_key=True)\n",
    "    name = Column(String(50))\n",
    "    fullname = Column(String(50))\n",
    "    nickname = Column(String(12))\n",
    "\n",
    "engine = create_engine('sqlite:///:memory:', echo=True)\n",
    "Base.metadata.create_all(engine)\n",
    "\n",
    "Session = sessionmaker(bind=engine)\n",
    "session = Session()\n",
    "\n",
    "new_user = User(name='John', fullname='John Doe', nickname='johnny')\n",
    "session.add(new_user)\n",
    "session.commit()\"\"\",\n",
    "            tab_width=4,\n",
    "            background=\"window\",\n",
    "            language=\"python\",\n",
    "            insert_line_no=False,\n",
    "            style=\"monokai\",\n",
    "        ).scale(0.6).to_edge(DOWN)\n",
    "\n",
    "        self.play(Create(code))\n",
    "        self.wait(2)\n",
    "\n",
    "class ODM(Scene):\n",
    "    def construct(self):\n",
    "        title = Text(\"ODM\").scale(1.5).to_edge(UP)\n",
    "        self.play(Write(title))\n",
    "        \n",
    "        code = Code(\n",
    "            code=\"\"\"from mongoengine import Document, StringField, IntField, connect\n",
    "\n",
    "connect('mongoengine_test')\n",
    "\n",
    "class User(Document):\n",
    "    name = StringField(required=True, max_length=50)\n",
    "    fullname = StringField(max_length=50)\n",
    "    nickname = StringField(max_length=12)\n",
    "\n",
    "new_user = User(name='John', fullname='John Doe', nickname='johnny')\n",
    "new_user.save()\"\"\",\n",
    "            tab_width=4,\n",
    "            background=\"window\",\n",
    "            language=\"python\",\n",
    "            insert_line_no=False,\n",
    "            style=\"monokai\",\n",
    "        ).scale(0.6).to_edge(DOWN)\n",
    "\n",
    "        self.play(Create(code))\n",
    "        self.wait(2)\n",
    "%manim -ql ORM"
   ]
  },
  {
   "cell_type": "code",
   "execution_count": 22,
   "metadata": {},
   "outputs": [
    {
     "data": {
      "text/html": [
       "<pre style=\"white-space:pre;overflow-x:auto;line-height:normal;font-family:Menlo,'DejaVu Sans Mono',consolas,'Courier New',monospace\">Manim Community <span style=\"color: #008000; text-decoration-color: #008000\">v0.18.1</span>\n",
       "\n",
       "</pre>\n"
      ],
      "text/plain": [
       "Manim Community \u001b[32mv0.\u001b[0m\u001b[32m18.1\u001b[0m\n",
       "\n"
      ]
     },
     "metadata": {},
     "output_type": "display_data"
    },
    {
     "name": "stderr",
     "output_type": "stream",
     "text": [
      "                                                                                                                            \r"
     ]
    },
    {
     "data": {
      "text/html": [
       "<video src=\"media/jupyter/OrmVsOdm@2024-09-08@11-48-25.mp4\" controls autoplay loop style=\"max-width: 60%;\"  >\n",
       "      Your browser does not support the <code>video</code> element.\n",
       "    </video>"
      ],
      "text/plain": [
       "<IPython.core.display.Video object>"
      ]
     },
     "metadata": {},
     "output_type": "display_data"
    }
   ],
   "source": [
    "from manim import *\n",
    "\n",
    "class OrmVsOdm(Scene):\n",
    "    def construct(self):\n",
    "        # Title\n",
    "        title = Text(\"ORM vs ODM\", font_size=48)\n",
    "        self.play(Write(title))\n",
    "        self.wait(1)\n",
    "        self.play(FadeOut(title))\n",
    "\n",
    "        # ORM Section\n",
    "        orm_title = Text(\"ORM (Object-Relational Mapping)\", font_size=36).to_edge(UP)\n",
    "        orm_points = VGroup(\n",
    "            Text(\"- Maps objects to relational database tables\", font_size=24),\n",
    "            Text(\"- Uses SQL queries\", font_size=24),\n",
    "            Text(\"- Fixed schema with tables\", font_size=24),\n",
    "            Text(\"- Example: MySQL, PostgreSQL\", font_size=24),\n",
    "        ).arrange(DOWN, aligned_edge=LEFT).next_to(orm_title, DOWN, buff=0.5)\n",
    "\n",
    "        orm_box = SurroundingRectangle(orm_points, color=BLUE)\n",
    "\n",
    "        self.play(Write(orm_title))\n",
    "        self.play(Create(orm_box))\n",
    "        self.play(FadeIn(orm_points))\n",
    "        self.wait(2)\n",
    "\n",
    "        # Transition to ODM Section\n",
    "        self.play(FadeOut(orm_title, orm_box, orm_points))\n",
    "\n",
    "        # ODM Section\n",
    "        odm_title = Text(\"ODM (Object-Document Mapping)\", font_size=36).to_edge(UP)\n",
    "        odm_points = VGroup(\n",
    "            Text(\"- Maps objects to a document database\", font_size=24),\n",
    "            Text(\"- Uses JSON-like database structue\", font_size=24),\n",
    "            Text(\"- Flexible schema with documents\", font_size=24),\n",
    "            Text(\"- Easy Schema evolution\", font_size=24),\n",
    "            Text(\"- Nested data structures\", font_size=24),\n",
    "            Text(\"- Example: MongoDB\", font_size=24),\n",
    "        ).arrange(DOWN, aligned_edge=LEFT).next_to(odm_title, DOWN, buff=0.5)\n",
    "\n",
    "        odm_box = SurroundingRectangle(odm_points, color=GREEN)\n",
    "\n",
    "        self.play(Write(odm_title))\n",
    "        self.play(Create(odm_box))\n",
    "        self.play(FadeIn(odm_points))\n",
    "        self.wait(2)\n",
    "\n",
    "        # Side-by-Side Comparison\n",
    "        comparison_title = Text(\"Conclusion\", font_size=36).to_edge(UP)\n",
    "        self.play(Write(comparison_title))\n",
    "        \n",
    "        self.play(\n",
    "            odm_title.animate.shift(LEFT * 3 + DOWN * 4).scale(0.5),\n",
    "            odm_box.animate.shift(LEFT * 3 + DOWN * 2.75).scale(0.5),\n",
    "            odm_points.animate.shift(LEFT * 3 + DOWN * 2.75).scale(0.5),\n",
    "            orm_title.animate.shift(RIGHT * 3 + DOWN * 4).scale(0.5),\n",
    "            orm_box.animate.shift(RIGHT * 3 + DOWN * 3).scale(0.5),\n",
    "            orm_points.animate.shift(RIGHT * 3 + DOWN * 3).scale(0.5),\n",
    "            FadeIn(comparison_title)\n",
    "        )\n",
    "        self.wait(2)\n",
    "\n",
    "        # Highlight Flexibility\n",
    "        flexibility_highlight = VGroup(\n",
    "            Text(\"ODM Flexibility\", font_size=28, color=YELLOW).to_edge(UP),\n",
    "            Text(\"- Easy Schema Evolution\", font_size=24, color=YELLOW),\n",
    "            Text(\"- Nested Data Structures\", font_size=24, color=YELLOW),\n",
    "        ).arrange(DOWN, aligned_edge=LEFT).next_to(comparison_title, DOWN, buff=0.5)\n",
    "\n",
    "        self.play(Write(flexibility_highlight))\n",
    "        self.wait(3)\n",
    "\n",
    "        # End Scene\n",
    "        self.play(FadeOut(orm_title, orm_box, orm_points, odm_title, odm_box, odm_points, comparison_title, flexibility_highlight))\n",
    "\n",
    "%manim -qh -v CRITICAL OrmVsOdm"
   ]
  }
 ],
 "metadata": {
  "kernelspec": {
   "display_name": "manDE",
   "language": "python",
   "name": "python3"
  },
  "language_info": {
   "codemirror_mode": {
    "name": "ipython",
    "version": 3
   },
   "file_extension": ".py",
   "mimetype": "text/x-python",
   "name": "python",
   "nbconvert_exporter": "python",
   "pygments_lexer": "ipython3",
   "version": "3.12.4"
  }
 },
 "nbformat": 4,
 "nbformat_minor": 2
}
