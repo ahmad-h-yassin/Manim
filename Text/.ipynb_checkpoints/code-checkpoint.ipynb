{
 "cells": [
  {
   "cell_type": "markdown",
   "metadata": {},
   "source": [
    "### inital code"
   ]
  },
  {
   "cell_type": "code",
   "execution_count": 4,
   "metadata": {},
   "outputs": [
    {
     "name": "stderr",
     "output_type": "stream",
     "text": [
      "UsageError: Line magic function `%%manim` not found.\n"
     ]
    }
   ],
   "source": [
    "from manim import *\n",
    "\n",
    "%%manim -ql CodeAnimation\n",
    "\n",
    "class CodeAnimation(Scene):\n",
    "    def construct(self):\n",
    "        # Define the Python code as a string\n",
    "        code = \"\"\"\n",
    "from manim import *\n",
    "\n",
    "class SquareToCircle(Scene):\n",
    "    def construct(self):\n",
    "        square = Square()\n",
    "        circle = Circle()\n",
    "        self.play(Create(square))\n",
    "        self.play(Transform(square, circle))\n",
    "        self.wait(1)\n",
    "\"\"\"\n",
    "        # Create a Code object with the code string\n",
    "        code_text = Code(code, language=\"python\")\n",
    "\n",
    "        # Display the code text with animation\n",
    "        self.play(Write(code_text))\n",
    "\n",
    "        # Wait for a while\n",
    "        self.wait(3)\n"
   ]
  }
 ],
 "metadata": {
  "kernelspec": {
   "display_name": "Python 3 (ipykernel)",
   "language": "python",
   "name": "python3"
  },
  "language_info": {
   "codemirror_mode": {
    "name": "ipython",
    "version": 3
   },
   "file_extension": ".py",
   "mimetype": "text/x-python",
   "name": "python",
   "nbconvert_exporter": "python",
   "pygments_lexer": "ipython3",
   "version": "3.11.8"
  }
 },
 "nbformat": 4,
 "nbformat_minor": 4
}
