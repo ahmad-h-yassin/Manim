{
 "cells": [
  {
   "cell_type": "code",
   "execution_count": 9,
   "metadata": {},
   "outputs": [
    {
     "data": {
      "text/html": [
       "<pre style=\"white-space:pre;overflow-x:auto;line-height:normal;font-family:Menlo,'DejaVu Sans Mono',consolas,'Courier New',monospace\">Manim Community <span style=\"color: #008000; text-decoration-color: #008000\">v0.18.1</span>\n",
       "\n",
       "</pre>\n"
      ],
      "text/plain": [
       "Manim Community \u001b[32mv0.\u001b[0m\u001b[32m18.1\u001b[0m\n",
       "\n"
      ]
     },
     "metadata": {},
     "output_type": "display_data"
    },
    {
     "name": "stderr",
     "output_type": "stream",
     "text": [
      "                                                                                                                                                                        \r"
     ]
    },
    {
     "data": {
      "text/html": [
       "<video src=\"media/jupyter/SoftwareTestingVideo@2024-09-22@03-22-06.mp4\" controls autoplay loop style=\"max-width: 60%;\"  >\n",
       "      Your browser does not support the <code>video</code> element.\n",
       "    </video>"
      ],
      "text/plain": [
       "<IPython.core.display.Video object>"
      ]
     },
     "metadata": {},
     "output_type": "display_data"
    }
   ],
   "source": [
    "from manim import *\n",
    "\n",
    "class SoftwareTestingVideo(Scene):\n",
    "    def construct(self):\n",
    "        self.slide1()\n",
    "        self.wait(0.5)\n",
    "        self.clear()\n",
    "        \n",
    "        self.slide2()\n",
    "        self.wait(0.5)\n",
    "        self.clear()\n",
    "        \n",
    "        self.slide3()\n",
    "        self.wait(0.5)\n",
    "\n",
    "    def slide1(self):\n",
    "        title = Text(\"Software Testing: Definition and Importance\", color=BLUE).scale(0.8)\n",
    "        self.play(Write(title))\n",
    "        self.wait()\n",
    "        self.play(title.animate.to_edge(UP))\n",
    "\n",
    "        definition = Text(\"Software testing is the process of verifying the correctness and performance of a program\", color=YELLOW).scale(0.6)\n",
    "        self.play(FadeIn(definition))\n",
    "        self.wait()\n",
    "\n",
    "        importance = VGroup(\n",
    "            Text(\"Ensures program quality\", color=GREEN),\n",
    "            Text(\"Meets user requirements\", color=GREEN),\n",
    "            Text(\"Identifies issues before release\", color=GREEN)\n",
    "        ).arrange(DOWN, aligned_edge=LEFT).scale(0.5)\n",
    "        \n",
    "        self.play(FadeOut(definition))\n",
    "        for point in importance:\n",
    "            self.play(FadeIn(point))\n",
    "            self.wait(0.5)\n",
    "\n",
    "    def slide2(self):\n",
    "        title = Text(\"The Importance of Testing\", color=BLUE).scale(0.8)\n",
    "        self.play(FadeIn(title))\n",
    "        self.play(title.animate.to_edge(UP))\n",
    "\n",
    "        explanation = Text(\"Even small errors can lead to major problems in performance or security\", color=YELLOW).scale(0.5)\n",
    "        self.play(FadeIn(explanation))\n",
    "        self.wait()\n",
    "        self.play(FadeOut(explanation))\n",
    "\n",
    "        examples = VGroup(\n",
    "            Text(\"Therac-25 (1985-1987)\", color=RED),\n",
    "            Text(\"Ariane 5 (1996)\", color=RED),\n",
    "            Text(\"Knight Capital (2012)\", color=RED),\n",
    "            Text(\"Toyota (2009-2011)\", color=RED)\n",
    "        ).arrange(DOWN, aligned_edge=LEFT).scale(0.6)\n",
    "\n",
    "        for example in examples:\n",
    "            self.play(FadeIn(example))\n",
    "            self.wait(0.5)\n",
    "\n",
    "        self.play(examples.animate.to_edge(LEFT))\n",
    "\n",
    "        details = {\n",
    "            \"Therac-25\": \"Radiation therapy machine software error caused deaths\",\n",
    "            \"Ariane 5\": \"Rocket explosion due to software error, $370 million loss\",\n",
    "            \"Knight Capital\": \"$440 million loss in 45 minutes due to trading software bug\",\n",
    "            \"Toyota\": \"Unintended acceleration issues led to accidents and deaths\"\n",
    "        }\n",
    "\n",
    "        for example, detail in zip(examples, details.values()):\n",
    "            detail_text = Text(detail, font_size=24, color=ORANGE).next_to(example, RIGHT)\n",
    "            self.play(FadeIn(detail_text))\n",
    "            self.wait()\n",
    "            self.play(FadeOut(detail_text))\n",
    "\n",
    "    def slide3(self):\n",
    "        title = Text(\"Conclusion\", color=BLUE).scale(0.8)\n",
    "        self.play(Write(title))\n",
    "        self.play(title.animate.to_edge(UP))\n",
    "\n",
    "        points = VGroup(\n",
    "            Text(\"Comprehensive software testing is crucial\", color=GREEN),\n",
    "            Text(\"Neglecting testing can lead to financial losses or fatalities\", color=YELLOW),\n",
    "            Text(\"Testing is not a luxury, but a fundamental step for success\", color=GREEN)\n",
    "        ).arrange(DOWN, aligned_edge=LEFT).scale(0.5)\n",
    "\n",
    "        for point in points:\n",
    "            self.play(FadeIn(point))\n",
    "            self.wait()\n",
    "%manim -ql -v CRITICAL SoftwareTestingVideo"
   ]
  },
  {
   "cell_type": "code",
   "execution_count": null,
   "metadata": {},
   "outputs": [],
   "source": []
  }
 ],
 "metadata": {
  "kernelspec": {
   "display_name": "manDE",
   "language": "python",
   "name": "python3"
  },
  "language_info": {
   "codemirror_mode": {
    "name": "ipython",
    "version": 3
   },
   "file_extension": ".py",
   "mimetype": "text/x-python",
   "name": "python",
   "nbconvert_exporter": "python",
   "pygments_lexer": "ipython3",
   "version": "3.12.4"
  }
 },
 "nbformat": 4,
 "nbformat_minor": 2
}
