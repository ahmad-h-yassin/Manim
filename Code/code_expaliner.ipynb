{
 "cells": [
  {
   "cell_type": "code",
   "execution_count": 2,
   "metadata": {},
   "outputs": [
    {
     "data": {
      "text/html": [
       "<pre style=\"white-space:pre;overflow-x:auto;line-height:normal;font-family:Menlo,'DejaVu Sans Mono',consolas,'Courier New',monospace\">Manim Community <span style=\"color: #008000; text-decoration-color: #008000\">v0.18.1</span>\n",
       "\n",
       "</pre>\n"
      ],
      "text/plain": [
       "Manim Community \u001b[32mv0.\u001b[0m\u001b[32m18.1\u001b[0m\n",
       "\n"
      ]
     },
     "metadata": {},
     "output_type": "display_data"
    },
    {
     "name": "stderr",
     "output_type": "stream",
     "text": [
      "                                                                                           \r"
     ]
    },
    {
     "data": {
      "text/html": [
       "<video src=\"media/jupyter/NodeJSCodeHighlight@2024-07-22@16-57-12.mp4\" controls autoplay loop style=\"max-width: 60%;\"  >\n",
       "      Your browser does not support the <code>video</code> element.\n",
       "    </video>"
      ],
      "text/plain": [
       "<IPython.core.display.Video object>"
      ]
     },
     "metadata": {},
     "output_type": "display_data"
    }
   ],
   "source": [
    "from manim import *\n",
    "\n",
    "class NodeJSCodeHighlight(Scene):\n",
    "    def construct(self):\n",
    "        # Define the Node.js code\n",
    "        code = '''\n",
    "const http = require('http');\n",
    "\n",
    "const server = http.createServer((req, res) => {\n",
    "  res.statusCode = 200;\n",
    "  res.setHeader('Content-Type', 'text/plain');\n",
    "  res.end('Hello World\\\\n');\n",
    "});\n",
    "\n",
    "server.listen(3000, '127.0.0.1', () => {\n",
    "  console.log('Server running at http://127.0.0.1:3000/');\n",
    "});\n",
    "        '''.strip()\n",
    "\n",
    "        # Create a Code object\n",
    "        rendered_code = Code(code=code, tab_width=4, background=\"window\",\n",
    "                             language=\"javascript\", font=\"Monospace\", line_spacing=0.5)\n",
    "        rendered_code.code = remove_invisible_chars(rendered_code.code)\n",
    "        # Position the code on the screen\n",
    "        rendered_code.to_edge(UP).scale(0.5).to_edge(LEFT)\n",
    "\n",
    "        # Add the code to the scene\n",
    "        self.play(Create(rendered_code))\n",
    "        self.wait(2)\n",
    "\n",
    "        # Highlight each line\n",
    "        for line_no in [0,3,6]:\n",
    "            # Create a yellow rectangle with no fill\n",
    "            highlight = Rectangle(\n",
    "                width=rendered_code.code[line_no].width+0.1,\n",
    "                height= rendered_code.code[line_no].height,\n",
    "                stroke_color=YELLOW,\n",
    "                stroke_width=2,\n",
    "                fill_color=YELLOW,\n",
    "                fill_opacity=0\n",
    "            )\n",
    "            \n",
    "            # Position the highlight rectangle\n",
    "            highlight.move_to(rendered_code.code[line_no])\n",
    "\n",
    "            # Animate the highlight\n",
    "            self.play(Create(highlight))\n",
    "            self.wait(1)\n",
    "            self.play(Uncreate(highlight))\n",
    "\n",
    "        self.wait(2)\n",
    "%manim -ql -v Critical NodeJSCodeHighlight"
   ]
  },
  {
   "cell_type": "code",
   "execution_count": 4,
   "metadata": {},
   "outputs": [
    {
     "data": {
      "text/html": [
       "<pre style=\"white-space:pre;overflow-x:auto;line-height:normal;font-family:Menlo,'DejaVu Sans Mono',consolas,'Courier New',monospace\">Manim Community <span style=\"color: #008000; text-decoration-color: #008000\">v0.18.1</span>\n",
       "\n",
       "</pre>\n"
      ],
      "text/plain": [
       "Manim Community \u001b[32mv0.\u001b[0m\u001b[32m18.1\u001b[0m\n",
       "\n"
      ]
     },
     "metadata": {},
     "output_type": "display_data"
    },
    {
     "name": "stderr",
     "output_type": "stream",
     "text": [
      "                                                                                 \r"
     ]
    },
    {
     "data": {
      "text/html": [
       "<video src=\"media/jupyter/NodeJSCodeHighlight@2024-08-12@14-05-08.mp4\" controls autoplay loop style=\"max-width: 60%;\"  >\n",
       "      Your browser does not support the <code>video</code> element.\n",
       "    </video>"
      ],
      "text/plain": [
       "<IPython.core.display.Video object>"
      ]
     },
     "metadata": {},
     "output_type": "display_data"
    }
   ],
   "source": [
    "from manim import *\n",
    "\n",
    "class NodeJSCodeHighlight(Scene):\n",
    "    def construct(self):\n",
    "        # Define the Node.js code\n",
    "        code = '''\n",
    "const http = require('http');\n",
    "\n",
    "const server = http.createServer((req, res) => {\n",
    "  res.statusCode = 200;\n",
    "  res.setHeader('Content-Type', 'text/plain');\n",
    "  res.end('Hello World\\\\n');\n",
    "});\n",
    "\n",
    "server.listen(3000, '127.0.0.1', () => {\n",
    "  console.log('Server running at http://127.0.0.1:3000/');\n",
    "});\n",
    "        '''.strip()\n",
    "\n",
    "        # Lines to highlight\n",
    "        lines_to_highlight = [0, 3, 6]\n",
    "\n",
    "        # Call the function to highlight code\n",
    "        self.highlight_code(code, lines_to_highlight)\n",
    "\n",
    "    def highlight_code(self, code, lines_to_highlight):\n",
    "        # Create a Code object\n",
    "        rendered_code = Code(code=code, tab_width=4, background=\"window\",\n",
    "                             language=\"javascript\", font=\"Monospace\", line_spacing=0.5)\n",
    "        # Position the code on the screen\n",
    "        rendered_code.to_edge(UP).scale(0.5).to_edge(LEFT)\n",
    "        rendered_code.code = remove_invisible_chars(rendered_code.code)\n",
    "\n",
    "        # Add the code to the scene\n",
    "        self.play(Create(rendered_code))\n",
    "        self.wait(2)\n",
    "\n",
    "        # Highlight each line\n",
    "        for line_no in lines_to_highlight:\n",
    "            # Create a yellow rectangle with no fill\n",
    "            highlight = Rectangle(\n",
    "                width=rendered_code.code[line_no].width + 0.1,\n",
    "                height=rendered_code.code[line_no].height + 0.1,\n",
    "                stroke_color=YELLOW,\n",
    "                stroke_width=2,\n",
    "                fill_color=YELLOW,\n",
    "                fill_opacity=0\n",
    "            )\n",
    "            \n",
    "            # Position the highlight rectangle\n",
    "            highlight.move_to(rendered_code.code[line_no])\n",
    "\n",
    "            # Animate the highlight\n",
    "            self.play(Create(highlight))\n",
    "            self.wait(1)\n",
    "            self.play(Uncreate(highlight))\n",
    "\n",
    "        self.wait(2)\n",
    "\n",
    "# Run the scene\n",
    "%manim -ql -v Critical  NodeJSCodeHighlight\n"
   ]
  },
  {
   "cell_type": "code",
   "execution_count": 2,
   "metadata": {},
   "outputs": [
    {
     "data": {
      "text/html": [
       "<pre style=\"white-space:pre;overflow-x:auto;line-height:normal;font-family:Menlo,'DejaVu Sans Mono',consolas,'Courier New',monospace\">Manim Community <span style=\"color: #008000; text-decoration-color: #008000\">v0.18.1</span>\n",
       "\n",
       "</pre>\n"
      ],
      "text/plain": [
       "Manim Community \u001b[32mv0.\u001b[0m\u001b[32m18.1\u001b[0m\n",
       "\n"
      ]
     },
     "metadata": {},
     "output_type": "display_data"
    },
    {
     "name": "stderr",
     "output_type": "stream",
     "text": [
      "                                                                                           \r"
     ]
    },
    {
     "data": {
      "text/html": [
       "<video src=\"media/jupyter/NodeJSCodeHighlight@2024-07-29@13-32-47.mp4\" controls autoplay loop style=\"max-width: 60%;\"  >\n",
       "      Your browser does not support the <code>video</code> element.\n",
       "    </video>"
      ],
      "text/plain": [
       "<IPython.core.display.Video object>"
      ]
     },
     "metadata": {},
     "output_type": "display_data"
    }
   ],
   "source": [
    "from manim import *\n",
    "\n",
    "class NodeJSCodeHighlight(Scene):\n",
    "    def construct(self):\n",
    "        # Define the Node.js code\n",
    "        code = '''\n",
    "const express = require(\"express\");\n",
    "const app = express();\n",
    "app.get(\"/hello\", function (req, res) {\n",
    "    res.send(\"hello\");\n",
    "    });'''.strip()\n",
    "\n",
    "        # Create a Code object\n",
    "        rendered_code = Code(code=code, tab_width=4, background=\"window\",\n",
    "                             language=\"javascript\", font=\"Monospace\", line_spacing=0.5)\n",
    "        # Position the code on the screen\n",
    "        rendered_code.to_edge(UP).scale(0.5).to_edge(LEFT)\n",
    "        rendered_code.code = remove_invisible_chars(rendered_code.code)\n",
    "\n",
    "\n",
    "        # Add the code to the scene\n",
    "        self.play(Create(rendered_code))\n",
    "        self.wait(2)\n",
    "\n",
    "        # Highlight specific lines\n",
    "        lines_to_highlight = [0, 3, 6]\n",
    "        for line_no in range(4):\n",
    "            self.highlight_line(rendered_code, line_no)\n",
    "\n",
    "    def highlight_line(self, rendered_code, line_no):\n",
    "        # Create a yellow rectangle with no fill\n",
    "        highlight = Rectangle(\n",
    "            width=rendered_code.code[line_no].width + 0.1,\n",
    "            height=rendered_code.code[line_no].height + 0.1,\n",
    "            stroke_color=YELLOW,\n",
    "            stroke_width=2,\n",
    "            fill_color=YELLOW,\n",
    "            fill_opacity=0\n",
    "        )\n",
    "        \n",
    "        # Position the highlight rectangle\n",
    "        highlight.move_to(rendered_code.code[line_no])\n",
    "\n",
    "        # Animate the highlight\n",
    "        self.play(Create(highlight))\n",
    "        self.wait(1)\n",
    "        self.play(Uncreate(highlight))\n",
    "\n",
    "# Run the scene\n",
    "%manim -ql -v Critical NodeJSCodeHighlight\n"
   ]
  },
  {
   "cell_type": "code",
   "execution_count": null,
   "metadata": {},
   "outputs": [],
   "source": [
    "from manim import *\n",
    "\n",
    "class NodeJSCodeHighlight(Scene):\n",
    "    def construct(self):\n",
    "        # Define the Node.js code\n",
    "        code = '''\n",
    "const express = require(\"express\");\n",
    "const app = express();\n",
    "app.get(\"/hello\", function (req, res) {\n",
    "    res.send(\"hello\");\n",
    "});'''.strip()\n",
    "\n",
    "        # Create a Code object\n",
    "        rendered_code = Code(code=code, tab_width=4, background=\"window\",\n",
    "                             language=\"javascript\", font=\"Monospace\", line_spacing=0.5)\n",
    "\n",
    "        # Position the code on the screen\n",
    "        rendered_code.to_edge(UP).scale(0.5).to_edge(LEFT)\n",
    "        rendered_code.code = remove_invisible_chars(rendered_code.code)\n",
    "\n",
    "        # Add the code to the scene\n",
    "        self.play(Create(rendered_code))\n",
    "        self.wait(2)\n",
    "\n",
    "        # Create explanations\n",
    "        explanations = [\n",
    "            \"Import the Express.js framework\",\n",
    "            \"Create an instance of the Express application\",\n",
    "            \"Define a route for GET requests to '/hello'\",\n",
    "            \"Send 'hello' as the response\",\n",
    "            \"Close the route handler and app.get() call\"\n",
    "        ]\n",
    "\n",
    "        # Create and position explanation text objects\n",
    "        explanation_texts = [\n",
    "            Text(exp, font_size=24).to_edge(LEFT).shift(DOWN * (i)).next_to(rendered_code, DOWN)\n",
    "            for i, exp in enumerate(explanations)\n",
    "        ]\n",
    "\n",
    "        # Highlight each line and show its explanation\n",
    "        for i, explanation in enumerate(explanation_texts):\n",
    "            self.highlight_line(rendered_code, i)\n",
    "            self.play(Write(explanation))\n",
    "            self.wait(2)\n",
    "\n",
    "    def highlight_line(self, rendered_code, line_no):\n",
    "        # Create a yellow rectangle with no fill\n",
    "        highlight = Rectangle(\n",
    "            width=rendered_code.code[line_no].width + 0.1,\n",
    "            height=rendered_code.code[line_no].height + 0.1,\n",
    "            stroke_color=YELLOW,\n",
    "            stroke_width=2,\n",
    "            fill_color=YELLOW,\n",
    "            fill_opacity=0\n",
    "        )\n",
    "        # Position the highlight rectangle\n",
    "        highlight.move_to(rendered_code.code[line_no])\n",
    "        # Animate the highlight\n",
    "        self.play(Create(highlight))\n",
    "        self.wait(1)\n",
    "        self.play(Uncreate(highlight))\n",
    "\n",
    "# Run the scene\n",
    "%manim -ql -v Critical NodeJSCodeHighlight"
   ]
  },
  {
   "cell_type": "code",
   "execution_count": null,
   "metadata": {},
   "outputs": [],
   "source": [
    "from manim import *\n",
    "\n",
    "class ES5vsES6FunctionSyntax(Scene):\n",
    "    def construct(self):\n",
    "        # Define the JavaScript code\n",
    "        code = '''\n",
    "// ES5\n",
    "var add = function (num1, num2) {\n",
    "    return num1 + num2;\n",
    "}\n",
    "// ES6\n",
    "var add = (num1, num2) => {\n",
    "    return num1 + num2;\n",
    "}\n",
    "//ES6 implicit return\n",
    "var add = (num1, num2) => num1 + num2;\n",
    "'''.strip()\n",
    "\n",
    "        # Create a Code object\n",
    "        rendered_code = Code(code=code, tab_width=4, background=\"window\",\n",
    "                             language=\"javascript\", font=\"Monospace\",\n",
    "                             line_spacing=0.5, style=\"monokai\")\n",
    "\n",
    "        # Position the code on the screen\n",
    "        rendered_code.to_edge(UP).scale(0.7).to_edge(LEFT)\n",
    "        rendered_code.code = remove_invisible_chars(rendered_code.code)\n",
    "\n",
    "        # Add the code to the scene\n",
    "        self.play(Create(rendered_code))\n",
    "        self.wait(2)\n",
    "\n",
    "        # Create explanations\n",
    "        explanations = [\n",
    "            \"ES5 function declaration\",  # highlight line (1)\n",
    "            \"Declare a function add with arguments num1, num2\\nand an explicit return\",  # highlight lines (2,3,4)\n",
    "            \"ES6 Arrow function declaration\",  # highlight lines (6)\n",
    "            \"We don't use the keyword function and we add the => arrow operator\",  # highlight lines (7,8,9)\n",
    "            \"We can remove the return keyword and use one line only\\nthis is called implicit return\"  # highlight lines (12)\n",
    "        ]\n",
    "\n",
    "        # Create and position explanation text objects\n",
    "        explanation_texts = [\n",
    "            Text(exp, font_size=24).next_to(rendered_code, DOWN).shift(DOWN * (i) * 0.5)\n",
    "            for i, exp in enumerate(explanations)\n",
    "        ]\n",
    "\n",
    "        # Define which lines to highlight for each explanation\n",
    "        highlight_lines = [\n",
    "            [1],\n",
    "            [2, 3, 4],\n",
    "            [6],\n",
    "            [7, 8, 9],\n",
    "            [11]\n",
    "        ]\n",
    "\n",
    "        # Highlight lines and show explanations\n",
    "        for text, lines in zip(explanation_texts, highlight_lines):\n",
    "            self.highlight_lines(rendered_code, lines)\n",
    "            self.play(Write(text))\n",
    "            self.wait(2)\n",
    "            self.play(FadeOut(text))\n",
    "\n",
    "    def highlight_lines(self, rendered_code, line_numbers):\n",
    "        highlights = VGroup()\n",
    "        for line_no in line_numbers:\n",
    "            highlight = Rectangle(\n",
    "                width=rendered_code.width,\n",
    "                height=rendered_code.code[line_no].height + 0.1,\n",
    "                stroke_color=YELLOW,\n",
    "                stroke_width=2,\n",
    "                fill_color=YELLOW,\n",
    "                fill_opacity=0.15\n",
    "            )\n",
    "            highlight.move_to(rendered_code.code[line_no])\n",
    "            highlights.add(highlight)\n",
    "\n",
    "        self.play(Create(highlights))\n",
    "        self.wait(1)\n",
    "        self.play(FadeOut(highlights))\n",
    "\n",
    "# Run the scene\n",
    "%manim -ql -v Critical ES5vsES6FunctionSyntax"
   ]
  }
 ],
 "metadata": {
  "kernelspec": {
   "display_name": "manDE",
   "language": "python",
   "name": "python3"
  },
  "language_info": {
   "codemirror_mode": {
    "name": "ipython",
    "version": 3
   },
   "file_extension": ".py",
   "mimetype": "text/x-python",
   "name": "python",
   "nbconvert_exporter": "python",
   "pygments_lexer": "ipython3",
   "version": "3.12.4"
  }
 },
 "nbformat": 4,
 "nbformat_minor": 2
}
