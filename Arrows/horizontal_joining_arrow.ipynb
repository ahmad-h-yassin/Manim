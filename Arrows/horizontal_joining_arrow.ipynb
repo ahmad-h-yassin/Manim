{
 "cells": [
  {
   "cell_type": "code",
   "execution_count": 2,
   "metadata": {},
   "outputs": [
    {
     "data": {
      "text/html": [
       "<pre style=\"white-space:pre;overflow-x:auto;line-height:normal;font-family:Menlo,'DejaVu Sans Mono',consolas,'Courier New',monospace\">Manim Community <span style=\"color: #008000; text-decoration-color: #008000\">v0.18.1</span>\n",
       "\n",
       "</pre>\n"
      ],
      "text/plain": [
       "Manim Community \u001b[32mv0.\u001b[0m\u001b[32m18.1\u001b[0m\n",
       "\n"
      ]
     },
     "metadata": {},
     "output_type": "display_data"
    },
    {
     "name": "stderr",
     "output_type": "stream",
     "text": [
      "                                                                       \r"
     ]
    },
    {
     "data": {
      "text/html": [
       "<video src=\"media/jupyter/HorizontalArrow@2024-08-12@19-45-35.mp4\" controls autoplay loop style=\"max-width: 60%;\"  >\n",
       "      Your browser does not support the <code>video</code> element.\n",
       "    </video>"
      ],
      "text/plain": [
       "<IPython.core.display.Video object>"
      ]
     },
     "metadata": {},
     "output_type": "display_data"
    }
   ],
   "source": [
    "from manim import *\n",
    "\n",
    "class HorizontalArrow(Scene):\n",
    "    def construct(self):\n",
    "        # Example mobjects\n",
    "        dot1 = Circle(radius=1, color=GREEN).shift(LEFT * 3)\n",
    "        dot2 = Square(side_length=2, color=GREEN).shift(RIGHT * 3)\n",
    "        \n",
    "        self.add(dot1, dot2)\n",
    "        \n",
    "        # Adding the arrow with label and shift\n",
    "        arrow, label = self.add_horizontal_arrow(dot1, dot2, \"Label\", shift_up=0.5)\n",
    "        self.play(Write(arrow), Write(label))\n",
    "\n",
    "        arrow2, label2 = self.add_horizontal_arrow(dot2, dot1, \"Label\", shift_up=-0.5, text_buff=-0.3)\n",
    "        self.play(Write(arrow2), Write(label2))\n",
    "\n",
    "    \n",
    "    def add_horizontal_arrow(self, mobject1, mobject2, label_text, shift_up=0.0, text_buff=0.3,**kwargs):\n",
    "        # Get the edge centers of the mobjects\n",
    "        if mobject1.get_center()[0] < mobject2.get_center()[0]:\n",
    "            start = mobject1.get_edge_center(RIGHT)\n",
    "            end = mobject2.get_edge_center(LEFT)\n",
    "        else:\n",
    "            start = mobject1.get_edge_center(LEFT)\n",
    "            end = mobject2.get_edge_center(RIGHT)\n",
    "        \n",
    "        # Shift the arrow up or down\n",
    "        start[1] += shift_up\n",
    "        end[1] += shift_up\n",
    "        \n",
    "        # Create the arrow\n",
    "        arrow = Arrow(start=start, end=end, **kwargs)\n",
    "        \n",
    "        # Create the label\n",
    "        label = Text(label_text).scale(0.5)\n",
    "        if text_buff >= 0 :\n",
    "            label.move_to(arrow.get_center() + np.array([0, text_buff, 0]))\n",
    "        else : \n",
    "            label.move_to(arrow.get_center() + np.array([0, text_buff, 0]))\n",
    "        return arrow, label\n",
    "\n",
    "%manim -ql -v CRITICAL HorizontalArrow"
   ]
  }
 ],
 "metadata": {
  "kernelspec": {
   "display_name": "manDE",
   "language": "python",
   "name": "python3"
  },
  "language_info": {
   "codemirror_mode": {
    "name": "ipython",
    "version": 3
   },
   "file_extension": ".py",
   "mimetype": "text/x-python",
   "name": "python",
   "nbconvert_exporter": "python",
   "pygments_lexer": "ipython3",
   "version": "3.12.4"
  }
 },
 "nbformat": 4,
 "nbformat_minor": 2
}
