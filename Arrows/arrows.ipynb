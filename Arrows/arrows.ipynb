{
 "cells": [
  {
   "cell_type": "code",
   "execution_count": 1,
   "metadata": {},
   "outputs": [
    {
     "data": {
      "text/html": [
       "<pre style=\"white-space:pre;overflow-x:auto;line-height:normal;font-family:Menlo,'DejaVu Sans Mono',consolas,'Courier New',monospace\">Manim Community <span style=\"color: #008000; text-decoration-color: #008000\">v0.18.0</span>\n",
       "\n",
       "</pre>\n"
      ],
      "text/plain": [
       "Manim Community \u001b[32mv0.\u001b[0m\u001b[32m18.0\u001b[0m\n",
       "\n"
      ]
     },
     "metadata": {},
     "output_type": "display_data"
    },
    {
     "name": "stderr",
     "output_type": "stream",
     "text": [
      "                                                                              \r"
     ]
    },
    {
     "data": {
      "text/html": [
       "<video src=\"media/jupyter/CurvedArrow@2024-04-24@13-42-19.mp4\" controls autoplay loop style=\"max-width: 60%;\"  >\n",
       "      Your browser does not support the <code>video</code> element.\n",
       "    </video>"
      ],
      "text/plain": [
       "<IPython.core.display.Video object>"
      ]
     },
     "metadata": {},
     "output_type": "display_data"
    }
   ],
   "source": [
    "from manim import *\n",
    "\n",
    "class CurvedArrow(Scene):\n",
    "    def construct(self):\n",
    "        # Define the function for the parabola\n",
    "        def parabola(t):\n",
    "            x = t\n",
    "            y = -t**2 + 2\n",
    "            return np.array([x, y, 0])\n",
    "\n",
    "        # Create points along the parabola\n",
    "        points = [parabola(t) for t in np.linspace(0, 2, 100)]\n",
    "\n",
    "        # Create the curve\n",
    "        parabola_curve = VMobject()\n",
    "        parabola_curve.set_points_smoothly(points)\n",
    "        parabola_curve.set_color(BLUE)\n",
    "\n",
    " \n",
    "        # Display the curve, arrow, and labels\n",
    "        self.play(Create(parabola_curve))\n",
    "        self.wait(1)\n",
    "\n",
    "# %manim -ql -v Warning --save_last_frame SplitArrow \n",
    "%manim -ql -v Warning CurvedArrow\n",
    "# %manim -qh SplitArrow\n"
   ]
  }
 ],
 "metadata": {
  "kernelspec": {
   "display_name": "manDE",
   "language": "python",
   "name": "python3"
  },
  "language_info": {
   "codemirror_mode": {
    "name": "ipython",
    "version": 3
   },
   "file_extension": ".py",
   "mimetype": "text/x-python",
   "name": "python",
   "nbconvert_exporter": "python",
   "pygments_lexer": "ipython3",
   "version": "3.11.8"
  }
 },
 "nbformat": 4,
 "nbformat_minor": 2
}
