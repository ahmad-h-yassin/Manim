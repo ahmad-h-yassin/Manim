{
 "cells": [
  {
   "cell_type": "code",
   "execution_count": null,
   "metadata": {},
   "outputs": [],
   "source": [
    "from manim import *\n",
    "\n",
    "class BezierArrow(Scene):\n",
    "    def construct(self):\n",
    "        # Define the function for the Bezier curve\n",
    "        def bezier_curve(t):\n",
    "            P0 = np.array([-3, 0, 0])\n",
    "            P1 = np.array([-1, 3, 0])\n",
    "            P2 = np.array([1, -3, 0])\n",
    "            P3 = np.array([3, 0, 0])\n",
    "\n",
    "            return (1-t)**3*P0 + 3*(1-t)**2*t*P1 + 3*(1-t)*t**2*P2 + t**3*P3\n",
    "\n",
    "        # Create points along the Bezier curve\n",
    "        points = np.array([bezier_curve(t) for t in np.linspace(0, 1, 100)])\n",
    "\n",
    "        # Create the curve\n",
    "        bezier_path = VMobject()\n",
    "        bezier_path.set_points_smoothly(points)\n",
    "        bezier_path.set_color(BLUE)\n",
    "\n",
    "\n",
    "        self.play(Create(bezier_path))\n",
    "        self.wait(1)\n",
    "\n",
    "%manim -ql -v Warning --save_last_frame SplitArrow \n",
    "# %manim -ql -v Warning BezierArrow\n",
    "# %manim -qh SplitArrow\n"
   ]
  },
  {
   "cell_type": "code",
   "execution_count": null,
   "metadata": {},
   "outputs": [],
   "source": [
    "from manim import *\n",
    "\n",
    "\n",
    "def angle_between_points(point1, point2):\n",
    "    \"\"\"\n",
    "    Calculate the angle (in radians) between two points in a 2D plane.\n",
    "    :param point1: A tuple or array representing the coordinates of the first point (x1, y1).\n",
    "    :param point2: A tuple or array representing the coordinates of the second point (x2, y2).\n",
    "    :return: The angle (in radians) between the two points.\n",
    "    \"\"\"\n",
    "    # Calculate the difference between the y-coordinates and the x-coordinates\n",
    "    delta_y = point2[1] - point1[1]\n",
    "    delta_x = point2[0] - point1[0]\n",
    "\n",
    "    # Calculate the angle using the arctangent function (atan2)\n",
    "    angle_radians = np.arctan2(delta_y, delta_x)\n",
    "\n",
    "    return angle_radians\n",
    "\n",
    "class BezierArrow(Scene):\n",
    "    def construct(self):\n",
    "        # Define the function for the Bezier curve\n",
    "        def bezier_curve(t):\n",
    "            P0 = np.array([-3, 0, 0])\n",
    "            P1 = np.array([-1, 3, 0])\n",
    "            P2 = np.array([1, -3, 0])\n",
    "            P3 = np.array([3, 0, 0])\n",
    "\n",
    "            return (1-t)**3*P0 + 3*(1-t)**2*t*P1 + 3*(1-t)*t**2*P2 + t**3*P3\n",
    "\n",
    "        # Create points along the Bezier curve\n",
    "        points = np.array([bezier_curve(t) for t in np.linspace(0, 1, 100)])\n",
    "\n",
    "        # Create the curve\n",
    "        bezier_path = VMobject()\n",
    "        bezier_path.set_points_smoothly(points)\n",
    "        bezier_path.set_color(BLUE)\n",
    "\n",
    "        # Calculate the direction vector of the last segment\n",
    "        direction_vector = points[-1] - points[-2]\n",
    "        direction_unit_vector = direction_vector / np.linalg.norm(direction_vector)\n",
    "\n",
    "        # # Create the triangle\n",
    "        # triangle = Polygon(np.array([0, 0.1, 0]), np.array([-0.2, 0, 0]), np.array([0.2, 0, 0]))\n",
    "        # triangle.rotate(direction_unit_vector[1])\n",
    "        # triangle.move_to(points[-1])\n",
    "        # arrow = Arrow(start=points[-2], end=points[-1], buff=0, color=RED)\n",
    "        # print(points[-2][0])\n",
    "        # print(points[-1])\n",
    "        arrow_angle = angle_between_points(points[-2],points[-1])\n",
    "        print(\"anlge\",)\n",
    "        arrow_tip = Triangle().rotate(arrow_angle)\n",
    "        # Display the curve, arrow, triangle, and labels\n",
    "        self.play(Create(bezier_path))\n",
    "        # self.play(Create(arrow))\n",
    "        self.wait(1)\n",
    "\n",
    "%manim -ql -v Warning --save_last_frame BezierArrow \n",
    "# %manim -ql -v Warning BezierArrow\n",
    "# %manim -qh BezierArrow\n"
   ]
  },
  {
   "cell_type": "code",
   "execution_count": null,
   "metadata": {},
   "outputs": [],
   "source": [
    "from manim import *\n",
    "\n",
    "class BezierArrow(Scene):\n",
    "    def construct(self):\n",
    "            P0 = np.array([-3, 0, 0])\n",
    "            P1 = np.array([-1, 3, 0])\n",
    "            P2 = np.array([1, -3, 0])\n",
    "            P3 = np.array([3, 0, 0])\n",
    "            bezier_curve = bezier([P0,P1,P2,P3])\n",
    "            self.play(Create(bezier_curve))\n",
    "\n",
    "\n",
    "%manim -ql -v Warning --save_last_frame BezierArrow \n",
    "# %manim -ql -v Warning BezierArrow\n",
    "# %manim -qh BezierArrow\n"
   ]
  },
  {
   "cell_type": "code",
   "execution_count": 13,
   "metadata": {},
   "outputs": [
    {
     "name": "stderr",
     "output_type": "stream",
     "text": [
      "                                                                    "
     ]
    },
    {
     "name": "stderr",
     "output_type": "stream",
     "text": [
      "\r"
     ]
    },
    {
     "data": {
      "image/png": "[encoded data removed]",
      "text/plain": [
       "<IPython.core.display.Image object>"
      ]
     },
     "metadata": {},
     "output_type": "display_data"
    }
   ],
   "source": [
    "from manim import *\n",
    "\n",
    "class BezierArrow(Scene):\n",
    "    def construct(self):\n",
    "        # Define the function for the Bezier curve\n",
    "        RectOrigin = (0,0)\n",
    "        RectWidth = 3\n",
    "        RectHeight = 3\n",
    "        def bezier_curve(t):\n",
    "            P0 = np.array([RectOrigin[0], RectOrigin[1], 0])\n",
    "            P1 = np.array([RectWidth, 0, 0])\n",
    "            P2 = np.array([0, RectHeight, 0])\n",
    "            P3 = np.array([RectWidth, RectHeight, 0])\n",
    "\n",
    "            return (1-t)**3*P0 + 3*(1-t)**2*t*P1 + 3*(1-t)*t**2*P2 + t**3*P3\n",
    "\n",
    "        # Create points along the Bezier curve\n",
    "        points = np.array([bezier_curve(t) for t in np.linspace(0, 1, 100)])\n",
    "\n",
    "        # Create the curve\n",
    "        bezier_path = VMobject()\n",
    "        bezier_path.set_points_smoothly(points)\n",
    "        bezier_path.set_color(BLUE).shift(LEFT*5)\n",
    "\n",
    "        self.play(Create(bezier_path))\n",
    "\n",
    "%manim -ql -v Warning --save_last_frame BezierArrow \n",
    "# %manim -ql -v Warning BezierArrow\n",
    "# %manim -qh BezierArrow\n"
   ]
  }
 ],
 "metadata": {
  "kernelspec": {
   "display_name": "manDE",
   "language": "python",
   "name": "python3"
  },
  "language_info": {
   "codemirror_mode": {
    "name": "ipython",
    "version": 3
   },
   "file_extension": ".py",
   "mimetype": "text/x-python",
   "name": "python",
   "nbconvert_exporter": "python",
   "pygments_lexer": "ipython3",
   "version": "3.11.8"
  }
 },
 "nbformat": 4,
 "nbformat_minor": 2
}
